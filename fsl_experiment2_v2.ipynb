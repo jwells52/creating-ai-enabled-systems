{
  "nbformat": 4,
  "nbformat_minor": 0,
  "metadata": {
    "colab": {
      "provenance": [],
      "gpuType": "V100",
      "authorship_tag": "ABX9TyN+dx7dPAlCuej2I2UURN+4",
      "include_colab_link": true
    },
    "kernelspec": {
      "name": "python3",
      "display_name": "Python 3"
    },
    "language_info": {
      "name": "python"
    },
    "accelerator": "GPU"
  },
  "cells": [
    {
      "cell_type": "markdown",
      "metadata": {
        "id": "view-in-github",
        "colab_type": "text"
      },
      "source": [
        "<a href=\"https://colab.research.google.com/github/jwells52/creating-ai-enabled-systems/blob/main/fsl_experiment2_v2.ipynb\" target=\"_parent\"><img src=\"https://colab.research.google.com/assets/colab-badge.svg\" alt=\"Open In Colab\"/></a>"
      ]
    },
    {
      "cell_type": "markdown",
      "source": [
        "### Set up notebook"
      ],
      "metadata": {
        "id": "HhJTLXOMAc1Q"
      }
    },
    {
      "cell_type": "code",
      "execution_count": 1,
      "metadata": {
        "id": "sgikhl_o8cz_",
        "outputId": "8211522d-57b4-4dbd-963e-13ad9122d699",
        "colab": {
          "base_uri": "https://localhost:8080/"
        }
      },
      "outputs": [
        {
          "output_type": "stream",
          "name": "stdout",
          "text": [
            "Collecting easyfsl\n",
            "  Downloading easyfsl-1.4.0-py3-none-any.whl (65 kB)\n",
            "\u001b[2K     \u001b[90m━━━━━━━━━━━━━━━━━━━━━━━━━━━━━━━━━━━━━━━━\u001b[0m \u001b[32m65.2/65.2 kB\u001b[0m \u001b[31m1.0 MB/s\u001b[0m eta \u001b[36m0:00:00\u001b[0m\n",
            "\u001b[?25hRequirement already satisfied: matplotlib>=3.0.0 in /usr/local/lib/python3.10/dist-packages (from easyfsl) (3.7.1)\n",
            "Requirement already satisfied: pandas>=1.4.0 in /usr/local/lib/python3.10/dist-packages (from easyfsl) (1.5.3)\n",
            "Requirement already satisfied: torch>=1.4.0 in /usr/local/lib/python3.10/dist-packages (from easyfsl) (2.0.1+cu118)\n",
            "Requirement already satisfied: torchvision>=0.7.0 in /usr/local/lib/python3.10/dist-packages (from easyfsl) (0.15.2+cu118)\n",
            "Requirement already satisfied: tqdm>=4.1.0 in /usr/local/lib/python3.10/dist-packages (from easyfsl) (4.65.0)\n",
            "Requirement already satisfied: contourpy>=1.0.1 in /usr/local/lib/python3.10/dist-packages (from matplotlib>=3.0.0->easyfsl) (1.1.0)\n",
            "Requirement already satisfied: cycler>=0.10 in /usr/local/lib/python3.10/dist-packages (from matplotlib>=3.0.0->easyfsl) (0.11.0)\n",
            "Requirement already satisfied: fonttools>=4.22.0 in /usr/local/lib/python3.10/dist-packages (from matplotlib>=3.0.0->easyfsl) (4.41.1)\n",
            "Requirement already satisfied: kiwisolver>=1.0.1 in /usr/local/lib/python3.10/dist-packages (from matplotlib>=3.0.0->easyfsl) (1.4.4)\n",
            "Requirement already satisfied: numpy>=1.20 in /usr/local/lib/python3.10/dist-packages (from matplotlib>=3.0.0->easyfsl) (1.22.4)\n",
            "Requirement already satisfied: packaging>=20.0 in /usr/local/lib/python3.10/dist-packages (from matplotlib>=3.0.0->easyfsl) (23.1)\n",
            "Requirement already satisfied: pillow>=6.2.0 in /usr/local/lib/python3.10/dist-packages (from matplotlib>=3.0.0->easyfsl) (9.4.0)\n",
            "Requirement already satisfied: pyparsing>=2.3.1 in /usr/local/lib/python3.10/dist-packages (from matplotlib>=3.0.0->easyfsl) (3.1.0)\n",
            "Requirement already satisfied: python-dateutil>=2.7 in /usr/local/lib/python3.10/dist-packages (from matplotlib>=3.0.0->easyfsl) (2.8.2)\n",
            "Requirement already satisfied: pytz>=2020.1 in /usr/local/lib/python3.10/dist-packages (from pandas>=1.4.0->easyfsl) (2022.7.1)\n",
            "Requirement already satisfied: filelock in /usr/local/lib/python3.10/dist-packages (from torch>=1.4.0->easyfsl) (3.12.2)\n",
            "Requirement already satisfied: typing-extensions in /usr/local/lib/python3.10/dist-packages (from torch>=1.4.0->easyfsl) (4.7.1)\n",
            "Requirement already satisfied: sympy in /usr/local/lib/python3.10/dist-packages (from torch>=1.4.0->easyfsl) (1.11.1)\n",
            "Requirement already satisfied: networkx in /usr/local/lib/python3.10/dist-packages (from torch>=1.4.0->easyfsl) (3.1)\n",
            "Requirement already satisfied: jinja2 in /usr/local/lib/python3.10/dist-packages (from torch>=1.4.0->easyfsl) (3.1.2)\n",
            "Requirement already satisfied: triton==2.0.0 in /usr/local/lib/python3.10/dist-packages (from torch>=1.4.0->easyfsl) (2.0.0)\n",
            "Requirement already satisfied: cmake in /usr/local/lib/python3.10/dist-packages (from triton==2.0.0->torch>=1.4.0->easyfsl) (3.25.2)\n",
            "Requirement already satisfied: lit in /usr/local/lib/python3.10/dist-packages (from triton==2.0.0->torch>=1.4.0->easyfsl) (16.0.6)\n",
            "Requirement already satisfied: requests in /usr/local/lib/python3.10/dist-packages (from torchvision>=0.7.0->easyfsl) (2.27.1)\n",
            "Requirement already satisfied: six>=1.5 in /usr/local/lib/python3.10/dist-packages (from python-dateutil>=2.7->matplotlib>=3.0.0->easyfsl) (1.16.0)\n",
            "Requirement already satisfied: MarkupSafe>=2.0 in /usr/local/lib/python3.10/dist-packages (from jinja2->torch>=1.4.0->easyfsl) (2.1.3)\n",
            "Requirement already satisfied: urllib3<1.27,>=1.21.1 in /usr/local/lib/python3.10/dist-packages (from requests->torchvision>=0.7.0->easyfsl) (1.26.16)\n",
            "Requirement already satisfied: certifi>=2017.4.17 in /usr/local/lib/python3.10/dist-packages (from requests->torchvision>=0.7.0->easyfsl) (2023.7.22)\n",
            "Requirement already satisfied: charset-normalizer~=2.0.0 in /usr/local/lib/python3.10/dist-packages (from requests->torchvision>=0.7.0->easyfsl) (2.0.12)\n",
            "Requirement already satisfied: idna<4,>=2.5 in /usr/local/lib/python3.10/dist-packages (from requests->torchvision>=0.7.0->easyfsl) (3.4)\n",
            "Requirement already satisfied: mpmath>=0.19 in /usr/local/lib/python3.10/dist-packages (from sympy->torch>=1.4.0->easyfsl) (1.3.0)\n",
            "Installing collected packages: easyfsl\n",
            "Successfully installed easyfsl-1.4.0\n"
          ]
        }
      ],
      "source": [
        "%pip install easyfsl"
      ]
    },
    {
      "cell_type": "code",
      "source": [
        "from google.colab import drive\n",
        "drive.mount('/content/drive')"
      ],
      "metadata": {
        "id": "P_XKzBwo8qsh",
        "colab": {
          "base_uri": "https://localhost:8080/"
        },
        "outputId": "6b099e34-459b-4271-f162-c7f4e50c0b4b"
      },
      "execution_count": 2,
      "outputs": [
        {
          "output_type": "stream",
          "name": "stdout",
          "text": [
            "Mounted at /content/drive\n"
          ]
        }
      ]
    },
    {
      "cell_type": "code",
      "source": [
        "!rm -rf /root/.kaggle && mkdir /root/.kaggle && cp /content/drive/MyDrive/Research-Project/kaggle.json /root/.kaggle/kaggle.json && chmod 600 /root/.kaggle/kaggle.json && kaggle competitions download -c humpback-whale-identification\n"
      ],
      "metadata": {
        "colab": {
          "base_uri": "https://localhost:8080/"
        },
        "id": "7pGmJ-4s9G_e",
        "outputId": "dab95e42-2fe7-4361-9814-69e4e4d205b5"
      },
      "execution_count": 3,
      "outputs": [
        {
          "output_type": "stream",
          "name": "stdout",
          "text": [
            "Downloading humpback-whale-identification.zip to /content\n",
            "100% 5.50G/5.51G [02:27<00:00, 35.3MB/s]\n",
            "100% 5.51G/5.51G [02:27<00:00, 40.0MB/s]\n"
          ]
        }
      ]
    },
    {
      "cell_type": "code",
      "source": [
        "%%capture\n",
        "\n",
        "!unzip humpback-whale-identification.zip"
      ],
      "metadata": {
        "id": "66SVav6b9Lhl"
      },
      "execution_count": 4,
      "outputs": []
    },
    {
      "cell_type": "code",
      "source": [
        "import os\n",
        "\n",
        "if os.path.exists('/content/creating-ai-enabled-systems/Research Project') == False:\n",
        "  !git clone https://github.com/jwells52/creating-ai-enabled-systems.git\n",
        "\n",
        "%cd creating-ai-enabled-systems/Research\\ Project"
      ],
      "metadata": {
        "colab": {
          "base_uri": "https://localhost:8080/"
        },
        "id": "TqJkeIwG_Wy2",
        "outputId": "b523d50c-7155-4fb3-8e4a-c7b0a443dbc7"
      },
      "execution_count": 1,
      "outputs": [
        {
          "output_type": "stream",
          "name": "stdout",
          "text": [
            "/content/creating-ai-enabled-systems/Research Project\n"
          ]
        }
      ]
    },
    {
      "cell_type": "markdown",
      "source": [
        "### Experiment 2 - Calculating the similarity between a pretrained FSL and fine-tuned FSL"
      ],
      "metadata": {
        "id": "2yEF12AkAfIC"
      }
    },
    {
      "cell_type": "code",
      "source": [
        "import torch\n",
        "import json\n",
        "\n",
        "\n",
        "import numpy as np\n",
        "import pandas as pd\n",
        "import matplotlib.pyplot as plt\n",
        "\n",
        "from tqdm import tqdm\n",
        "\n",
        "from easyfsl.methods import PrototypicalNetworks, FewShotClassifier, SimpleShot\n",
        "from easyfsl.utils import evaluate\n",
        "from easyfsl.samplers import TaskSampler\n",
        "\n",
        "from torch import Tensor, nn\n",
        "from torch.optim import SGD, Optimizer, Adam\n",
        "from torch.utils.data import Dataset, DataLoader\n",
        "from torchvision import transforms\n",
        "from torchvision.models import resnet18\n",
        "\n",
        "from typing import Callable\n",
        "\n",
        "from modules.data_utils import HumpbackWhaleDataset, remove_new_whale_class, create_loader\n",
        "from modules.train import train_fsl, device, transform\n",
        "from modules.plotting import fsl_plots\n",
        "\n",
        "%load_ext autoreload\n",
        "%autoreload 2"
      ],
      "metadata": {
        "id": "9d1UFT_LAb5r"
      },
      "execution_count": 2,
      "outputs": []
    },
    {
      "cell_type": "code",
      "source": [
        "# Initialize pretained Prototypical Network\n",
        "\n",
        "cnn1 = resnet18(weights='DEFAULT')\n",
        "cnn1.fc = torch.nn.Flatten()\n",
        "proto1 = PrototypicalNetworks(cnn1).to(device)"
      ],
      "metadata": {
        "id": "aivXSJWKAsJ0"
      },
      "execution_count": 3,
      "outputs": []
    },
    {
      "cell_type": "code",
      "source": [
        "# Initialize fine-tuned Prototypical Network\n",
        "cnn2 = resnet18()\n",
        "cnn2.fc = torch.nn.Flatten()\n",
        "proto2 = PrototypicalNetworks(cnn2).to(device)\n",
        "\n",
        "proto2.load_state_dict(\n",
        "  torch.load('/content/drive/MyDrive/prototypical_network_resnet12_last_epoch')()\n",
        ")"
      ],
      "metadata": {
        "colab": {
          "base_uri": "https://localhost:8080/"
        },
        "id": "g-i6T2I2BgUU",
        "outputId": "154cfa95-7898-4f28-c788-1a56ddfbc45e"
      },
      "execution_count": 4,
      "outputs": [
        {
          "output_type": "execute_result",
          "data": {
            "text/plain": [
              "<All keys matched successfully>"
            ]
          },
          "metadata": {},
          "execution_count": 4
        }
      ]
    },
    {
      "cell_type": "code",
      "source": [
        "%%capture\n",
        "\n",
        "proto1.eval()\n",
        "proto2.eval()\n"
      ],
      "metadata": {
        "id": "2oesJ56yIQGi"
      },
      "execution_count": 5,
      "outputs": []
    },
    {
      "cell_type": "code",
      "source": [
        "# Load validation set\n",
        "df = remove_new_whale_class(\n",
        "    pd.read_csv('/content/creating-ai-enabled-systems/Research Project/data/validation_10samples.csv')\n",
        ")"
      ],
      "metadata": {
        "id": "AbkLojuXCD2a"
      },
      "execution_count": 6,
      "outputs": []
    },
    {
      "cell_type": "code",
      "source": [
        "# Create loader\n",
        "\n",
        "dataset = HumpbackWhaleDataset('/content/train', df, transform)\n",
        "loader = create_loader(dataset, n_way=5, n_shot=5, n_query=1, n_tasks=50)"
      ],
      "metadata": {
        "id": "KHih2NU8CYfs"
      },
      "execution_count": 11,
      "outputs": []
    },
    {
      "cell_type": "code",
      "source": [
        "def kl_divergence(p, q):\n",
        "    return np.sum(np.where(p != 0, p * np.log(p / q), 0))"
      ],
      "metadata": {
        "id": "tMwAn-erGh2F"
      },
      "execution_count": 12,
      "outputs": []
    },
    {
      "cell_type": "code",
      "source": [
        "diffs = []\n",
        "kls = []"
      ],
      "metadata": {
        "id": "G9sjCCl5Xr_W"
      },
      "execution_count": 13,
      "outputs": []
    },
    {
      "cell_type": "code",
      "source": [
        "for (\n",
        "    support_images,\n",
        "    support_labels,\n",
        "    query_images,\n",
        "    query_labels,\n",
        "    _\n",
        ") in loader:\n",
        "  torch.cuda.empty_cache()\n",
        "  support_images = support_images.to(device)\n",
        "  support_labels = support_labels.to(device)\n",
        "  query_images = query_images.to(device)\n",
        "  query_labels = query_labels.to(device)\n",
        "\n",
        "\n",
        "  proto1.process_support_set(support_images, support_labels)\n",
        "  proto2.process_support_set(support_images, support_labels)\n",
        "\n",
        "  scores1 = proto1(query_images)\n",
        "  scores2 = proto2(query_images)\n",
        "\n",
        "  diff = (torch.max(scores1, 1)[1] != torch.max(scores2, 1)[1]).sum().item()\n",
        "  kl = kl_divergence(scores1.cpu().detach().numpy(), scores2.cpu().detach().numpy())\n",
        "\n",
        "  diffs += [diff]\n",
        "  kls += [kl]"
      ],
      "metadata": {
        "id": "37NA6ORRLaY2"
      },
      "execution_count": 17,
      "outputs": []
    },
    {
      "cell_type": "code",
      "source": [
        "kls"
      ],
      "metadata": {
        "colab": {
          "base_uri": "https://localhost:8080/"
        },
        "id": "U4ah3PS8YVMU",
        "outputId": "9fc41052-b150-4822-c7ec-bc76baa65324"
      },
      "execution_count": 18,
      "outputs": [
        {
          "output_type": "execute_result",
          "data": {
            "text/plain": [
              "[125.789314,\n",
              " 116.20288,\n",
              " 90.99115,\n",
              " 107.0229,\n",
              " 112.06029,\n",
              " 127.60464,\n",
              " 136.59718,\n",
              " 138.09453,\n",
              " 76.452446,\n",
              " 129.30714,\n",
              " 87.82487,\n",
              " 104.73794,\n",
              " 76.93223,\n",
              " 113.379074,\n",
              " 129.64378,\n",
              " 134.48238,\n",
              " 121.19931,\n",
              " 109.34143,\n",
              " 103.62476,\n",
              " 112.43025,\n",
              " 116.36514,\n",
              " 130.55768,\n",
              " 106.71642,\n",
              " 107.70276,\n",
              " 95.32008,\n",
              " 112.26634,\n",
              " 92.59087,\n",
              " 138.4801,\n",
              " 123.23056,\n",
              " 115.55577,\n",
              " 142.79984,\n",
              " 105.60985,\n",
              " 119.551506,\n",
              " 120.42352,\n",
              " 111.61211,\n",
              " 111.38084,\n",
              " 93.464066,\n",
              " 103.507645,\n",
              " 119.15788,\n",
              " 72.69692,\n",
              " 98.27077,\n",
              " 75.99947,\n",
              " 113.04985,\n",
              " 78.43051,\n",
              " 115.28421,\n",
              " 109.86903,\n",
              " 116.17953,\n",
              " 80.48638,\n",
              " 123.556564,\n",
              " 110.373634,\n",
              " 113.38274,\n",
              " 127.46838,\n",
              " 126.681755,\n",
              " 119.60081,\n",
              " 122.4711,\n",
              " 113.734406,\n",
              " 110.14253,\n",
              " 104.08693,\n",
              " 112.21687,\n",
              " 131.0983,\n",
              " 129.60652,\n",
              " 112.3003,\n",
              " 112.683525,\n",
              " 94.834854,\n",
              " 114.95829,\n",
              " 121.26494,\n",
              " 132.1151,\n",
              " 107.18276,\n",
              " 106.568306,\n",
              " 99.407364,\n",
              " 96.286194,\n",
              " 90.21943,\n",
              " 138.65332,\n",
              " 124.30611,\n",
              " 117.32862,\n",
              " 141.28682,\n",
              " 100.40926,\n",
              " 80.17983,\n",
              " 135.83781,\n",
              " 117.19852,\n",
              " 109.58702,\n",
              " 108.456635,\n",
              " 130.48163,\n",
              " 145.16086,\n",
              " 103.730286,\n",
              " 102.31821,\n",
              " 89.86822,\n",
              " 85.37095,\n",
              " 104.46767,\n",
              " 143.85245,\n",
              " 104.23854,\n",
              " 87.85378,\n",
              " 125.88072,\n",
              " 92.497574,\n",
              " 116.39924,\n",
              " 131.30745,\n",
              " 119.82382,\n",
              " 133.24747,\n",
              " 118.4165,\n",
              " 137.7056]"
            ]
          },
          "metadata": {},
          "execution_count": 18
        }
      ]
    },
    {
      "cell_type": "code",
      "source": [
        "print(f'Average difference = {np.mean(diffs)} {chr(177)} {np.std(diffs)}')"
      ],
      "metadata": {
        "colab": {
          "base_uri": "https://localhost:8080/"
        },
        "id": "arSNt-RkYVgC",
        "outputId": "09e6ad72-c42f-4901-f352-12825c72c22e"
      },
      "execution_count": 22,
      "outputs": [
        {
          "output_type": "stream",
          "name": "stdout",
          "text": [
            "Average difference = 2.54 ± 1.1438531374263043\n"
          ]
        }
      ]
    },
    {
      "cell_type": "code",
      "source": [
        "print(f'Average kl divergence = {np.mean(kls)} {chr(177)} {np.std(kls)}')\n"
      ],
      "metadata": {
        "colab": {
          "base_uri": "https://localhost:8080/"
        },
        "id": "HKNGuOcOYWd6",
        "outputId": "df71a160-b4a3-4bd3-a4d9-1c05bcd36422"
      },
      "execution_count": 23,
      "outputs": [
        {
          "output_type": "stream",
          "name": "stdout",
          "text": [
            "Average kl divergence = 112.58384704589844 ± 16.937910079956055\n"
          ]
        }
      ]
    },
    {
      "cell_type": "code",
      "source": [],
      "metadata": {
        "id": "YTr5DZFlbq38"
      },
      "execution_count": null,
      "outputs": []
    }
  ]
}