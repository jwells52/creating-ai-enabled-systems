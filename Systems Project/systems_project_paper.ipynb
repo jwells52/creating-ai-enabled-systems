{
 "cells": [
  {
   "cell_type": "markdown",
   "metadata": {},
   "source": [
    "# AI System Project Paper\n",
    "---\n",
    "\n",
    "**Author**: James Wells \\\n",
    "**JHU ID**: jwells52 \\\n",
    "**Class**: Creating AI Enabled Systems \\\n",
    "**Date**: 08-18-2023"
   ]
  },
  {
   "cell_type": "markdown",
   "metadata": {},
   "source": [
    "## Introduction\n",
    "---\n",
    "\n",
    "<!-- This AI system automates the identification process of humpback whales using Few Shot Learning [1]. \n",
    "\n",
    "Identification of individual animals is a manual process conducted by scientists and it is a time consuming because scientist are required to manually annotate hundreds of data points. Additionally, each data point is scrutinized heavily because the discriminative features for humpback whales are subtle, making it difficult to accurately discriminate individuals. Lastly, traditional deep learning methodologies are driven by data hungry algorithms that require an extensive amount of data and training steps to obtain high performing results. In the case of animal identification, available data on individuals is limited and insufficient for fully training a deep learning network.\n",
    "\n",
    "This AI system attempts to enhance the identification process of humpback whales by using Few Shot Learning, specifically Prototypical Networks. These networks are simple, yet effective algorithm for use-cases that have very limited data. Furthermore, this system is a web application that allows users to upload images of whales for automatic identification. -->\n",
    "\n",
    "\n",
    "The purpose of this AI system is to automatically identify individual humpback whales from images containing their flukes (i.e tail).\n",
    "\n",
    "Idenitfication of individual humpback whales is a manual process that is time-consuming and mentally exhaustive. Deep learning can be utilized to automate this process, however there are challenges with collecting a sufficient dataset for training a traditional deep learning algorithm such as Convolutional Neural Networks (CNN) [1].\n",
    "\n",
    "Fortunately, a new area of AI/ML called Few Shot Learning [2] is tailored for use-cases where limited data is available. Using these new method, a deep learning algorithm can be trained on the limited amount of data available for individual humpback whales and be deployed in a system for automated identification.\n",
    "\n",
    "The system proposed in this paper is a web application with two components: Web User Interface, REST API for Model Predictions, and a Data Store for storing uploaded images and prediction metadata.\n",
    "\n",
    "![alt text](images/systems-project-architecture-v4.png \"System Architecture\") \\\n",
    "*Figure 1: Architecture of Systems Project.*\n",
    "\n"
   ]
  },
  {
   "cell_type": "markdown",
   "metadata": {},
   "source": [
    "## Decomposition\n",
    "---\n",
    "\n",
    "Identification of individual animals is a manual process that is extremely time-consuming. When images are collected, scientist are required to manually review each image for annotation. Furthermore, accurately identifying a humpback whale in an image is difficult because the discriminative features of these animals are subtle. Another pain point of this process is that it is highly repetitive which can cause mental fatigue and this ultimately leads to a higher rate of incorrect identifications.\n",
    "\n",
    "\n",
    "This system will enhance this process by providing a tool to scientist that can show the most probable identity of humpback whales when given images. Automating this process is of high value because the time saved by this tool allows scientist to focus on the analysis they are conducting for the humpback whales they are observing and tracking."
   ]
  },
  {
   "cell_type": "markdown",
   "metadata": {},
   "source": [
    "## Domain Expertise\n",
    "---\n",
    "\n",
    "Since the AI model that is predicting the identity of humpback whales is a Few Shot Learning algorithm, the user needs to provide images to the system in the form of support and query sets. \n",
    "\n",
    "The support set is required to contain *M* individual whales and for each individual whale *K* images are required. To minimize the chance of incorrect identifications, the suggested values for *M* and *K* are listed below:\n",
    "* M should be $<5$\n",
    "* K should be $>3$\n",
    "\n",
    "It is important to note that identity of *M* whales are provided in the support set.\n",
    "\n",
    "Comparatively, the query set contains the images of humpback whales that are in need of identification. The size of the query set can be whatever the user desires. For each image in the query set, the predicted identity is the identity of a whale in the support set that is *most similar*. Reference *Figure 2* for a visualization of a Few Shot Learning model making a prediction on given images.\n",
    "\n",
    "\n",
    "![alt text](images/fsl.png \"Model Inference\") \\\n",
    "*Figure 2: Example of model inference when M and K both set to 3.*"
   ]
  },
  {
   "cell_type": "markdown",
   "metadata": {},
   "source": [
    "## Data\n",
    "---"
   ]
  },
  {
   "cell_type": "markdown",
   "metadata": {},
   "source": [
    "## Design\n",
    "---"
   ]
  },
  {
   "cell_type": "markdown",
   "metadata": {},
   "source": [
    "## Diagnosis\n",
    "---"
   ]
  },
  {
   "cell_type": "markdown",
   "metadata": {},
   "source": [
    "## Deployment\n",
    "---"
   ]
  },
  {
   "cell_type": "markdown",
   "metadata": {},
   "source": [
    "## References\n",
    "\n",
    "[1] Keiron O'Shea, Ryan Nash. \"*An introduction to convolutional neural networks*\". https://arxiv.org/pdf/1511.08458.pdf.\\\n",
    "[2] Archit Parnami, Minwoo Lee. \"Learning From Few Examples: A summary of approaches to Few Shot Learning.\" 2022. arXiv:2203.04291v1 [cs.LG]"
   ]
  },
  {
   "cell_type": "code",
   "execution_count": null,
   "metadata": {},
   "outputs": [],
   "source": []
  }
 ],
 "metadata": {
  "kernelspec": {
   "display_name": "Python 3",
   "language": "python",
   "name": "python3"
  },
  "language_info": {
   "name": "python",
   "version": "3.10.8"
  },
  "orig_nbformat": 4
 },
 "nbformat": 4,
 "nbformat_minor": 2
}
