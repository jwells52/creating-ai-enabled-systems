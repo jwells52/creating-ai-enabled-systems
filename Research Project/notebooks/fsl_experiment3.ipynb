{
  "nbformat": 4,
  "nbformat_minor": 0,
  "metadata": {
    "colab": {
      "provenance": [],
      "gpuType": "A100",
      "authorship_tag": "ABX9TyM2lVg4xSDFysON6xkGsJEA",
      "include_colab_link": true
    },
    "kernelspec": {
      "name": "python3",
      "display_name": "Python 3"
    },
    "language_info": {
      "name": "python"
    },
    "accelerator": "GPU"
  },
  "cells": [
    {
      "cell_type": "markdown",
      "metadata": {
        "id": "view-in-github",
        "colab_type": "text"
      },
      "source": [
        "<a href=\"https://colab.research.google.com/github/jwells52/creating-ai-enabled-systems/blob/main/Research%20Project/notebooks/fsl_experiment3.ipynb\" target=\"_parent\"><img src=\"https://colab.research.google.com/assets/colab-badge.svg\" alt=\"Open In Colab\"/></a>"
      ]
    },
    {
      "cell_type": "markdown",
      "source": [
        "### Install easyfsl"
      ],
      "metadata": {
        "id": "1aY-Kk8OaKJ7"
      }
    },
    {
      "cell_type": "code",
      "execution_count": 1,
      "metadata": {
        "id": "TDhuvzzpaHRr",
        "outputId": "aa64a470-4565-4682-a49c-a5d53bf84960",
        "colab": {
          "base_uri": "https://localhost:8080/"
        }
      },
      "outputs": [
        {
          "output_type": "stream",
          "name": "stdout",
          "text": [
            "Collecting easyfsl\n",
            "  Downloading easyfsl-1.4.0-py3-none-any.whl (65 kB)\n",
            "\u001b[2K     \u001b[90m━━━━━━━━━━━━━━━━━━━━━━━━━━━━━━━━━━━━━━━\u001b[0m \u001b[32m65.2/65.2 kB\u001b[0m \u001b[31m517.1 kB/s\u001b[0m eta \u001b[36m0:00:00\u001b[0m\n",
            "\u001b[?25hRequirement already satisfied: matplotlib>=3.0.0 in /usr/local/lib/python3.10/dist-packages (from easyfsl) (3.7.1)\n",
            "Requirement already satisfied: pandas>=1.4.0 in /usr/local/lib/python3.10/dist-packages (from easyfsl) (1.5.3)\n",
            "Requirement already satisfied: torch>=1.4.0 in /usr/local/lib/python3.10/dist-packages (from easyfsl) (2.0.1+cu118)\n",
            "Requirement already satisfied: torchvision>=0.7.0 in /usr/local/lib/python3.10/dist-packages (from easyfsl) (0.15.2+cu118)\n",
            "Requirement already satisfied: tqdm>=4.1.0 in /usr/local/lib/python3.10/dist-packages (from easyfsl) (4.65.0)\n",
            "Requirement already satisfied: contourpy>=1.0.1 in /usr/local/lib/python3.10/dist-packages (from matplotlib>=3.0.0->easyfsl) (1.1.0)\n",
            "Requirement already satisfied: cycler>=0.10 in /usr/local/lib/python3.10/dist-packages (from matplotlib>=3.0.0->easyfsl) (0.11.0)\n",
            "Requirement already satisfied: fonttools>=4.22.0 in /usr/local/lib/python3.10/dist-packages (from matplotlib>=3.0.0->easyfsl) (4.41.1)\n",
            "Requirement already satisfied: kiwisolver>=1.0.1 in /usr/local/lib/python3.10/dist-packages (from matplotlib>=3.0.0->easyfsl) (1.4.4)\n",
            "Requirement already satisfied: numpy>=1.20 in /usr/local/lib/python3.10/dist-packages (from matplotlib>=3.0.0->easyfsl) (1.22.4)\n",
            "Requirement already satisfied: packaging>=20.0 in /usr/local/lib/python3.10/dist-packages (from matplotlib>=3.0.0->easyfsl) (23.1)\n",
            "Requirement already satisfied: pillow>=6.2.0 in /usr/local/lib/python3.10/dist-packages (from matplotlib>=3.0.0->easyfsl) (9.4.0)\n",
            "Requirement already satisfied: pyparsing>=2.3.1 in /usr/local/lib/python3.10/dist-packages (from matplotlib>=3.0.0->easyfsl) (3.1.0)\n",
            "Requirement already satisfied: python-dateutil>=2.7 in /usr/local/lib/python3.10/dist-packages (from matplotlib>=3.0.0->easyfsl) (2.8.2)\n",
            "Requirement already satisfied: pytz>=2020.1 in /usr/local/lib/python3.10/dist-packages (from pandas>=1.4.0->easyfsl) (2022.7.1)\n",
            "Requirement already satisfied: filelock in /usr/local/lib/python3.10/dist-packages (from torch>=1.4.0->easyfsl) (3.12.2)\n",
            "Requirement already satisfied: typing-extensions in /usr/local/lib/python3.10/dist-packages (from torch>=1.4.0->easyfsl) (4.7.1)\n",
            "Requirement already satisfied: sympy in /usr/local/lib/python3.10/dist-packages (from torch>=1.4.0->easyfsl) (1.11.1)\n",
            "Requirement already satisfied: networkx in /usr/local/lib/python3.10/dist-packages (from torch>=1.4.0->easyfsl) (3.1)\n",
            "Requirement already satisfied: jinja2 in /usr/local/lib/python3.10/dist-packages (from torch>=1.4.0->easyfsl) (3.1.2)\n",
            "Requirement already satisfied: triton==2.0.0 in /usr/local/lib/python3.10/dist-packages (from torch>=1.4.0->easyfsl) (2.0.0)\n",
            "Requirement already satisfied: cmake in /usr/local/lib/python3.10/dist-packages (from triton==2.0.0->torch>=1.4.0->easyfsl) (3.25.2)\n",
            "Requirement already satisfied: lit in /usr/local/lib/python3.10/dist-packages (from triton==2.0.0->torch>=1.4.0->easyfsl) (16.0.6)\n",
            "Requirement already satisfied: requests in /usr/local/lib/python3.10/dist-packages (from torchvision>=0.7.0->easyfsl) (2.27.1)\n",
            "Requirement already satisfied: six>=1.5 in /usr/local/lib/python3.10/dist-packages (from python-dateutil>=2.7->matplotlib>=3.0.0->easyfsl) (1.16.0)\n",
            "Requirement already satisfied: MarkupSafe>=2.0 in /usr/local/lib/python3.10/dist-packages (from jinja2->torch>=1.4.0->easyfsl) (2.1.3)\n",
            "Requirement already satisfied: urllib3<1.27,>=1.21.1 in /usr/local/lib/python3.10/dist-packages (from requests->torchvision>=0.7.0->easyfsl) (1.26.16)\n",
            "Requirement already satisfied: certifi>=2017.4.17 in /usr/local/lib/python3.10/dist-packages (from requests->torchvision>=0.7.0->easyfsl) (2023.7.22)\n",
            "Requirement already satisfied: charset-normalizer~=2.0.0 in /usr/local/lib/python3.10/dist-packages (from requests->torchvision>=0.7.0->easyfsl) (2.0.12)\n",
            "Requirement already satisfied: idna<4,>=2.5 in /usr/local/lib/python3.10/dist-packages (from requests->torchvision>=0.7.0->easyfsl) (3.4)\n",
            "Requirement already satisfied: mpmath>=0.19 in /usr/local/lib/python3.10/dist-packages (from sympy->torch>=1.4.0->easyfsl) (1.3.0)\n",
            "Installing collected packages: easyfsl\n",
            "Successfully installed easyfsl-1.4.0\n"
          ]
        }
      ],
      "source": [
        "%pip install easyfsl"
      ]
    },
    {
      "cell_type": "markdown",
      "source": [
        "### Download Humpback Whale Dataset"
      ],
      "metadata": {
        "id": "TxckwzwdaNg7"
      }
    },
    {
      "cell_type": "code",
      "source": [
        "from google.colab import drive\n",
        "drive.mount('/content/drive')"
      ],
      "metadata": {
        "colab": {
          "base_uri": "https://localhost:8080/"
        },
        "id": "p6cH7GbKaO5X",
        "outputId": "6f59bdc7-cf6f-4c9a-c44e-6b1644616c10"
      },
      "execution_count": 2,
      "outputs": [
        {
          "output_type": "stream",
          "name": "stdout",
          "text": [
            "Mounted at /content/drive\n"
          ]
        }
      ]
    },
    {
      "cell_type": "code",
      "source": [
        "!rm -rf /root/.kaggle && mkdir /root/.kaggle && cp /content/drive/MyDrive/Research-Project/kaggle.json /root/.kaggle/kaggle.json && chmod 600 /root/.kaggle/kaggle.json && kaggle competitions download -c humpback-whale-identification"
      ],
      "metadata": {
        "id": "IDeyRC_SaRD-",
        "outputId": "db60ffc5-3d11-4f36-c98f-26275909fb1d",
        "colab": {
          "base_uri": "https://localhost:8080/"
        }
      },
      "execution_count": 3,
      "outputs": [
        {
          "output_type": "stream",
          "name": "stdout",
          "text": [
            "Downloading humpback-whale-identification.zip to /content\n",
            "100% 5.50G/5.51G [04:56<00:00, 17.3MB/s]\n",
            "100% 5.51G/5.51G [04:56<00:00, 20.0MB/s]\n"
          ]
        }
      ]
    },
    {
      "cell_type": "code",
      "source": [
        "%%capture\n",
        "\n",
        "!unzip humpback-whale-identification.zip"
      ],
      "metadata": {
        "id": "pPO_yhVuIXAG"
      },
      "execution_count": 4,
      "outputs": []
    },
    {
      "cell_type": "markdown",
      "source": [
        "### Clone GitHub Repo"
      ],
      "metadata": {
        "id": "RFcHZNs5aV4u"
      }
    },
    {
      "cell_type": "code",
      "source": [
        "import os\n",
        "\n",
        "if os.path.exists('/content/creating-ai-enabled-systems/Research Project') == False:\n",
        "  !git clone https://github.com/jwells52/creating-ai-enabled-systems.git\n",
        "\n",
        "%cd creating-ai-enabled-systems/Research\\ Project"
      ],
      "metadata": {
        "colab": {
          "base_uri": "https://localhost:8080/"
        },
        "id": "jN_7CpgbaULS",
        "outputId": "fc43de70-5515-4f47-ce55-ddf65175ad7b"
      },
      "execution_count": 1,
      "outputs": [
        {
          "output_type": "stream",
          "name": "stdout",
          "text": [
            "/content/creating-ai-enabled-systems/Research Project\n"
          ]
        }
      ]
    },
    {
      "cell_type": "markdown",
      "source": [
        "### Imports"
      ],
      "metadata": {
        "id": "7OZh8KbybBxc"
      }
    },
    {
      "cell_type": "code",
      "source": [
        "import os\n",
        "import cv2\n",
        "import torch\n",
        "\n",
        "import numpy as np\n",
        "import pandas as pd\n",
        "import matplotlib.pyplot as plt\n",
        "\n",
        "from tqdm import tqdm\n",
        "\n",
        "from PIL import Image\n",
        "from easyfsl.methods import PrototypicalNetworks, FewShotClassifier, SimpleShot, MatchingNetworks, RelationNetworks, TransductiveFinetuning\n",
        "from easyfsl.utils import evaluate, evaluate_on_one_task\n",
        "from easyfsl.samplers import TaskSampler\n",
        "\n",
        "from torch import Tensor, nn\n",
        "from torch.optim import SGD, Optimizer, Adam\n",
        "from torch.utils.data import Dataset, DataLoader\n",
        "from torchvision import transforms\n",
        "from torchvision.models import resnet18, resnet34, resnet152\n",
        "\n",
        "from typing import Callable\n",
        "\n",
        "from modules.data_utils import HumpbackWhaleDataset, remove_new_whale_class, create_loader, transform\n",
        "from modules.train import train_fsl, device\n",
        "\n",
        "\n",
        "%load_ext autoreload\n",
        "%autoreload 2"
      ],
      "metadata": {
        "id": "981jAgVabC1f"
      },
      "execution_count": 2,
      "outputs": []
    },
    {
      "cell_type": "code",
      "source": [
        "n_way   = 5\n",
        "n_shot  = 5\n",
        "n_query = 5"
      ],
      "metadata": {
        "id": "kUJ91iUHermi"
      },
      "execution_count": 5,
      "outputs": []
    },
    {
      "cell_type": "markdown",
      "source": [
        "### Look at image characteristics for each quartile of accuracy"
      ],
      "metadata": {
        "id": "DIWaIsbfamgW"
      }
    },
    {
      "cell_type": "code",
      "source": [
        "# Load into dataset\n",
        "# For each class, calculate accuracy\n",
        "# Then plot barplot of accuracy for each class\n",
        "# Look at the characteristics of images for the classes that have low performance"
      ],
      "metadata": {
        "id": "ve6THl99amCJ"
      },
      "execution_count": 15,
      "outputs": []
    },
    {
      "cell_type": "code",
      "source": [
        "df = remove_new_whale_class(\n",
        "  pd.read_csv('/content/creating-ai-enabled-systems/Research Project/data/images_and_ids.csv')\n",
        ")\n",
        "\n",
        "df = df[df.class_count >= 10]"
      ],
      "metadata": {
        "id": "ruB03R5daY3R"
      },
      "execution_count": 6,
      "outputs": []
    },
    {
      "cell_type": "code",
      "source": [
        "cnn = resnet18()\n",
        "cnn.fc = torch.nn.Flatten()\n",
        "\n",
        "few_shot_classifier = PrototypicalNetworks(cnn).to(device)\n",
        "few_shot_classifier.load_state_dict(\n",
        "  torch.load('/content/drive/MyDrive/Research-Project/models/prototypical_network_resnet18_prod_last_epoch')()\n",
        ")"
      ],
      "metadata": {
        "colab": {
          "base_uri": "https://localhost:8080/"
        },
        "id": "0e05NPp-XVwA",
        "outputId": "0f163878-faec-4c21-9674-a0f9a79f3634"
      },
      "execution_count": 6,
      "outputs": [
        {
          "output_type": "execute_result",
          "data": {
            "text/plain": [
              "<All keys matched successfully>"
            ]
          },
          "metadata": {},
          "execution_count": 6
        }
      ]
    },
    {
      "cell_type": "code",
      "source": [
        "%%capture\n",
        "\n",
        "few_shot_classifier.eval()"
      ],
      "metadata": {
        "id": "3ZSqL58yXrnq"
      },
      "execution_count": 18,
      "outputs": []
    },
    {
      "cell_type": "code",
      "source": [
        "task_images = {\n",
        "    '<25%':   {'support_set': [], 'query_set': []},\n",
        "    '25-50%': {'support_set': [], 'query_set': []},\n",
        "    '50-75%': {'support_set': [], 'query_set': []},\n",
        "    '>75%':   {'support_set': [], 'query_set': []}\n",
        "}\n",
        "\n",
        "n_tasks = 500\n",
        "for task in tqdm(range(n_tasks)):\n",
        "  ############################################\n",
        "  # Create labels for supoprt & query set\n",
        "  # Sample a random amount of n_way whale_ids\n",
        "  ############################################\n",
        "  whale_ids = np.random.choice(df['Id'].unique(), size=n_way, replace=False)\n",
        "\n",
        "  #################################################################\n",
        "  # Create support set\n",
        "  # Sample n_shot images for each sampled whale_id\n",
        "  #################################################################\n",
        "  task_support_labels = []\n",
        "  task_support_image_paths = []\n",
        "  for i, whale_id in enumerate(whale_ids):\n",
        "    task_support_image_paths.extend(list(np.random.choice(df[df['Id'] == whale_id]['Image'], size=5, replace=False)))\n",
        "    task_support_labels.extend([i for _ in range(n_shot)])\n",
        "\n",
        "  #############################################################\n",
        "  # Create query set\n",
        "  # Sample n_shot images for each sampled whale_id\n",
        "  # These images CANNOT be in the support set already\n",
        "  ##############################################################\n",
        "  task_query_labels = []\n",
        "  task_query_image_paths = []\n",
        "  for i, whale_id in enumerate(whale_ids):\n",
        "    whale_query_images = df[(df['Id'] == whale_id) & ~(df['Image'].isin(task_support_image_paths))]['Image']\n",
        "    task_query_image_paths.extend(list(np.random.choice(whale_query_images, size=n_query, replace=False)))\n",
        "    task_query_labels.extend([i for _ in range(n_query)])\n",
        "\n",
        "  ###################################\n",
        "  # Load images for support set\n",
        "  ###################################\n",
        "  support_images = np.zeros((n_shot*n_way, 3, 256, 512))\n",
        "  for i, image_filename in enumerate(task_support_image_paths):\n",
        "    support_images[i] = transform(Image.open(f'/content/train/{image_filename}')).detach().numpy()\n",
        "\n",
        "  ###################################\n",
        "  # Load images for query set\n",
        "  ###################################\n",
        "  query_images = np.zeros((n_query*n_way, 3, 256, 512))\n",
        "  for i, image_filename in enumerate(task_query_image_paths):\n",
        "    query_images[i] = transform(Image.open(f'/content/train/{image_filename}')).detach().numpy()\n",
        "\n",
        "\n",
        "  # Turn all images and labels into tensors\n",
        "  support_labels = torch.Tensor(task_support_labels)\n",
        "  support_images = torch.Tensor(support_images)\n",
        "  query_labels = torch.Tensor(task_query_labels)\n",
        "  query_images = torch.Tensor(query_images)\n",
        "\n",
        "  ################################################################\n",
        "  # Make predictions on task with fine-tunes Prototypical Network\n",
        "  ################################################################\n",
        "  few_shot_classifier.process_support_set(support_images.to(device), support_labels.to(device))\n",
        "  predictions = few_shot_classifier(query_images.to(device)).detach().data\n",
        "  prediction_labels = torch.max(predictions, 1)[1].cpu().detach().data\n",
        "\n",
        "  # Get classification accuracy for each whale_id in the task\n",
        "  # And separate them into quartiles\n",
        "  for label in torch.unique(query_labels):\n",
        "\n",
        "    label_idxs = torch.argwhere(query_labels == label)\n",
        "    whale_id_acc = (prediction_labels[label_idxs] == query_labels[label_idxs]).sum().item() / n_query\n",
        "    whale_id = whale_ids[int(label.detach().item())]\n",
        "\n",
        "    if whale_id_acc < 0.25:\n",
        "      task_images['<25%']['support_set'] += [task_support_image_paths[i] for i in label_idxs]\n",
        "      task_images['<25%']['query_set'] += [task_query_image_paths[i] for i in label_idxs]\n",
        "\n",
        "    elif whale_id_acc >= 0.25 and whale_id_acc < 0.5:\n",
        "      task_images['25-50%']['support_set'] += [task_support_image_paths[i] for i in label_idxs]\n",
        "      task_images['25-50%']['query_set'] += [task_query_image_paths[i] for i in label_idxs]\n",
        "\n",
        "    elif whale_id_acc >= 0.5 and whale_id_acc < 0.75:\n",
        "      task_images['50-75%']['support_set'] += [task_support_image_paths[i] for i in label_idxs]\n",
        "      task_images['50-75%']['query_set'] += [task_query_image_paths[i] for i in label_idxs]\n",
        "\n",
        "    else:\n",
        "      task_images['>75%']['support_set'] += [task_support_image_paths[i] for i in label_idxs]\n",
        "      task_images['>75%']['query_set'] += [task_query_image_paths[i] for i in label_idxs]"
      ],
      "metadata": {
        "colab": {
          "base_uri": "https://localhost:8080/"
        },
        "id": "Pp8X5xOU6kEB",
        "outputId": "f165e229-d3d6-4b11-9828-c4bc471c0201"
      },
      "execution_count": 26,
      "outputs": [
        {
          "output_type": "stream",
          "name": "stderr",
          "text": [
            "100%|██████████| 500/500 [05:57<00:00,  1.40it/s]\n"
          ]
        }
      ]
    },
    {
      "cell_type": "code",
      "source": [
        "### Calculate the average width and height for images in each percentile\n",
        "def get_image_stats(images, tqdm_desc):\n",
        "  heights, widths = [], []\n",
        "  red, green, blue = [], [], []\n",
        "  for image_filename in tqdm(images, desc=tqdm_desc):\n",
        "    image = cv2.imread(f'/content/train/{image_filename}')\n",
        "    heights += [image.shape[0]]\n",
        "    widths += [image.shape[1]]\n",
        "    red += [np.mean(image[:, :, 2])]\n",
        "    green += [np.mean(image[:, :, 1])]\n",
        "    blue += [np.mean(image[:, :, 0])]\n",
        "\n",
        "  return (\n",
        "      np.mean(heights), np.std(heights),\n",
        "      np.mean(widths), np.std(widths),\n",
        "      np.mean(red), np.std(red),\n",
        "      np.mean(green), np.std(green),\n",
        "      np.mean(blue), np.std(blue)\n",
        "  )"
      ],
      "metadata": {
        "id": "VqXa_0v_W7aF"
      },
      "execution_count": null,
      "outputs": []
    },
    {
      "cell_type": "code",
      "source": [
        "task_stats = {k: {} for k in task_images.keys()}\n",
        "for percentile, sets in task_images.items():\n",
        "  for s in sets.keys():\n",
        "    (\n",
        "      mean_height, std_height,\n",
        "      mean_width, std_width,\n",
        "      mean_red, std_red,\n",
        "      mean_green, std_green,\n",
        "      mean_blue, std_blue\n",
        "    ) = get_image_stats(task_images[percentile][s], tqdm_desc=f'Processing {percentile} {s} images')\n",
        "    task_stats[percentile][s] = {\n",
        "        'height': {'mean': mean_height, 'std': std_height},\n",
        "        'width': {'mean': mean_width, 'std': std_width},\n",
        "        'red': {'mean': mean_red, 'std': std_red},\n",
        "        'green': {'mean': mean_green, 'std': std_green},\n",
        "        'blue': {'mean': mean_blue, 'std': std_blue}\n",
        "    }\n",
        "\n",
        "  print()"
      ],
      "metadata": {
        "colab": {
          "base_uri": "https://localhost:8080/"
        },
        "id": "9lFol-r1uktl",
        "outputId": "9bec6079-4243-4ef2-b12c-7226ab1497c1"
      },
      "execution_count": 79,
      "outputs": [
        {
          "output_type": "stream",
          "name": "stderr",
          "text": [
            "Processing <25% support_set: 100%|██████████| 30/30 [00:00<00:00, 87.47it/s]\n",
            "Processing <25% query_set: 100%|██████████| 30/30 [00:00<00:00, 81.91it/s]\n"
          ]
        },
        {
          "output_type": "stream",
          "name": "stdout",
          "text": [
            "\n"
          ]
        },
        {
          "output_type": "stream",
          "name": "stderr",
          "text": [
            "Processing 25-50% support_set: 100%|██████████| 90/90 [00:00<00:00, 102.55it/s]\n",
            "Processing 25-50% query_set: 100%|██████████| 90/90 [00:01<00:00, 89.11it/s]\n"
          ]
        },
        {
          "output_type": "stream",
          "name": "stdout",
          "text": [
            "\n"
          ]
        },
        {
          "output_type": "stream",
          "name": "stderr",
          "text": [
            "Processing 50-75% support_set: 100%|██████████| 450/450 [00:04<00:00, 103.83it/s]\n",
            "Processing 50-75% query_set: 100%|██████████| 450/450 [00:04<00:00, 104.88it/s]\n"
          ]
        },
        {
          "output_type": "stream",
          "name": "stdout",
          "text": [
            "\n"
          ]
        },
        {
          "output_type": "stream",
          "name": "stderr",
          "text": [
            "Processing >75% support_set: 100%|██████████| 11930/11930 [01:54<00:00, 104.01it/s]\n",
            "Processing >75% query_set: 100%|██████████| 11930/11930 [01:53<00:00, 104.97it/s]"
          ]
        },
        {
          "output_type": "stream",
          "name": "stdout",
          "text": [
            "\n"
          ]
        },
        {
          "output_type": "stream",
          "name": "stderr",
          "text": [
            "\n"
          ]
        }
      ]
    },
    {
      "cell_type": "code",
      "source": [
        "def plot_support_and_query_bars(ax, width, offset, support_info, query_info, support_label=None, query_label=None, support_color='blue', query_color='lightblue'):\n",
        "  support_bar = ax.bar(offset, support_info, width, label=support_label, color=support_color)\n",
        "  query_bar = ax.bar(offset+width, query_info, width, label=query_label, color=query_color)\n",
        "  ax.bar_label(support_bar, padding=3)\n",
        "  ax.bar_label(query_bar, padding=3)\n",
        "\n",
        "def plot_support_and_query_errors(ax, support_x, support_y, support_error, query_x, query_y, query_error, color='lightgray', fmt='-'):\n",
        "  ax.errorbar(support_x, support_y, yerr = support_error, color=color, fmt=fmt)\n",
        "  ax.errorbar(query_x, query_y, yerr = query_error, color=color, fmt=fmt)"
      ],
      "metadata": {
        "id": "s7likotjAibS"
      },
      "execution_count": 167,
      "outputs": []
    },
    {
      "cell_type": "code",
      "source": [
        "x = np.arange(4)\n",
        "width = 0.3"
      ],
      "metadata": {
        "id": "0giyNffxXTc3"
      },
      "execution_count": 165,
      "outputs": []
    },
    {
      "cell_type": "code",
      "source": [
        "fig, ax = plt.subplots(layout='constrained', figsize=(12, 6))\n",
        "\n",
        "support_label_height, query_label_height = 'Average support set image height', 'Average query set image height'\n",
        "support_label_width, query_label_width = 'Average support set image width', 'Average query set image width'\n",
        "\n",
        "offsets = []\n",
        "i = 0\n",
        "for percentile, stats in task_stats.items():\n",
        "  (\n",
        "      support_set_height_mean, query_set_height_mean,\n",
        "      support_set_height_std, query_set_height_std,\n",
        "      support_set_width_mean, query_set_width_mean,\n",
        "      support_set_width_std, query_set_width_std\n",
        "  ) = (\n",
        "      round(stats['support_set']['height']['mean']), round(stats['query_set']['height']['mean']),\n",
        "      round(stats['support_set']['height']['std']), round(stats['query_set']['height']['std']),\n",
        "      round(stats['support_set']['width']['mean']), round(stats['query_set']['width']['mean']),\n",
        "      round(stats['support_set']['width']['std']), round(stats['query_set']['width']['std'])\n",
        "  )\n",
        "  offset = width*i\n",
        "  plot_support_and_query_bars(\n",
        "    ax,\n",
        "    width, offset,\n",
        "    support_set_height_mean, query_set_height_mean,\n",
        "    support_color='blue', query_color='lightblue',\n",
        "    support_label=support_label_height, query_label=query_label_height\n",
        "  )\n",
        "  plot_support_and_query_errors(\n",
        "    ax,\n",
        "    width*i, support_set_height_mean, support_set_height_std,\n",
        "    width*(i+1), query_set_height_mean, query_set_height_std\n",
        "  )\n",
        "\n",
        "  offset = width*(i+2)\n",
        "  plot_support_and_query_bars(\n",
        "    ax,\n",
        "    width, offset,\n",
        "    support_set_width_mean, query_set_width_mean,\n",
        "    support_color='green', query_color='lightgreen',\n",
        "    support_label=support_label_width, query_label=query_label_width\n",
        "  )\n",
        "  plot_support_and_query_errors(\n",
        "    ax,\n",
        "    width*(i+2), support_set_width_mean, support_set_width_std,\n",
        "    width*(i+3), query_set_width_mean, query_set_width_std\n",
        "  )\n",
        "\n",
        "  support_label_height, query_label_height = None, None\n",
        "  support_label_width, query_label_width = None, None\n",
        "\n",
        "  offsets += [width*(i+1.5)]\n",
        "  i += 5\n",
        "\n",
        "\n",
        "ax.set_title('Average height and width for top-1 accuracy quartiles')\n",
        "ax.set_xticks(offsets, list(task_stats.keys()))\n",
        "ax.set_xlabel('Top-1 Accuracy Quartiles')\n",
        "ax.legend(loc='upper right', ncols=2)\n",
        "ax.set_ylim(0, 1800)\n",
        "plt.show()\n",
        "plt.show()"
      ],
      "metadata": {
        "colab": {
          "base_uri": "https://localhost:8080/",
          "height": 545
        },
        "id": "fXui_O5QHLVE",
        "outputId": "3240337f-66b1-431a-859a-23e2b5edf6c8"
      },
      "execution_count": 168,
      "outputs": [
        {
          "output_type": "display_data",
          "data": {
            "text/plain": [
              "<Figure size 1200x600 with 1 Axes>"
            ],
            "image/png": "[encoded data removed]"
          },
          "metadata": {}
        }
      ]
    },
    {
      "cell_type": "code",
      "source": [
        "x = np.arange(4)\n",
        "width = 0.30\n",
        "\n",
        "fig, ax = plt.subplots(layout='constrained', figsize=(12, 6))\n",
        "\n",
        "support_label_red, query_label_red = 'Average support set red pixel values', 'Average query set red pixel values'\n",
        "support_label_green, query_label_green = 'Average support set green pixel values', 'Average query set green pixel values'\n",
        "support_label_blue, query_label_blue = 'Average support set blue pixel values', 'Average query set blue pixel values'\n",
        "\n",
        "offsets = []\n",
        "i = 0\n",
        "for percentile, stats in task_stats.items():\n",
        "  (\n",
        "      support_set_red_mean, query_set_red_mean,\n",
        "      support_set_red_std, query_set_red_std,\n",
        "      support_set_green_mean, query_set_green_mean,\n",
        "      support_set_green_std, query_set_green_std,\n",
        "      support_set_blue_mean, query_set_blue_mean,\n",
        "      support_set_blue_std, query_set_blue_std,\n",
        "  ) = (\n",
        "      round(stats['support_set']['red']['mean']), round(stats['query_set']['red']['mean']),\n",
        "      round(stats['support_set']['red']['std']), round(stats['query_set']['red']['std']),\n",
        "      round(stats['support_set']['green']['mean']), round(stats['query_set']['green']['mean']),\n",
        "      round(stats['support_set']['green']['std']), round(stats['query_set']['green']['std']),\n",
        "      round(stats['support_set']['blue']['mean']), round(stats['query_set']['blue']['mean']),\n",
        "      round(stats['support_set']['blue']['std']), round(stats['query_set']['blue']['std'])\n",
        "  )\n",
        "\n",
        "  offset = width*i\n",
        "  plot_support_and_query_bars(\n",
        "    ax,\n",
        "    width, offset,\n",
        "    support_set_red_mean, query_set_red_mean,\n",
        "    support_color='red', query_color='tomato',\n",
        "    support_label=support_label_red, query_label=query_label_red\n",
        "  )\n",
        "  plot_support_and_query_errors(\n",
        "    ax,\n",
        "    width*(i), support_set_red_mean, support_set_red_std,\n",
        "    width*(i+1), query_set_red_mean, query_set_red_std\n",
        "  )\n",
        "\n",
        "  offset = width*(i+2.2)\n",
        "  plot_support_and_query_bars(\n",
        "    ax,\n",
        "    width, offset,\n",
        "    support_set_green_mean, query_set_green_mean,\n",
        "    support_color='green', query_color='lightgreen',\n",
        "    support_label=support_label_green, query_label=query_label_green\n",
        "  )\n",
        "  plot_support_and_query_errors(\n",
        "    ax,\n",
        "    width*(i+2.2), support_set_green_mean, support_set_green_std,\n",
        "    width*(i+3.2), query_set_green_mean, query_set_green_std\n",
        "  )\n",
        "\n",
        "\n",
        "  offset = width*(i+4.4)\n",
        "  plot_support_and_query_bars(\n",
        "    ax,\n",
        "    width, offset,\n",
        "    support_set_blue_mean, query_set_blue_mean,\n",
        "    support_color='blue', query_color='lightblue',\n",
        "    support_label=support_label_blue, query_label=query_label_blue\n",
        "  )\n",
        "  plot_support_and_query_errors(\n",
        "    ax,\n",
        "    width*(i+4.4), support_set_blue_mean, support_set_blue_std,\n",
        "    width*(i+5.4), query_set_blue_mean, query_set_blue_std\n",
        "  )\n",
        "\n",
        "\n",
        "  support_label_red, query_label_red = None, None\n",
        "  support_label_green, query_label_green = None, None\n",
        "  support_label_blue, query_label_blue = None, None\n",
        "\n",
        "  offsets += [width*(i+2.67)]\n",
        "  i += 8\n",
        "\n",
        "\n",
        "ax.set_title('Average RGB values for support/query set per top-1 accuracy quartile')\n",
        "ax.set_xticks(offsets, list(task_stats.keys()))\n",
        "ax.set_xlabel('Top-1 Accuracy Range')\n",
        "ax.legend(loc='upper right', ncols=3)\n",
        "ax.set_ylim(0, 220)\n",
        "plt.show()\n",
        "plt.show()"
      ],
      "metadata": {
        "colab": {
          "base_uri": "https://localhost:8080/",
          "height": 545
        },
        "id": "cByuoiA4KPA-",
        "outputId": "2b01a0bc-380c-47b4-d647-d77cfc63cfb2"
      },
      "execution_count": 163,
      "outputs": [
        {
          "output_type": "display_data",
          "data": {
            "text/plain": [
              "<Figure size 1200x600 with 1 Axes>"
            ],
            "image/png": "[encoded data removed]"
          },
          "metadata": {}
        }
      ]
    },
    {
      "cell_type": "markdown",
      "source": [
        "# Look at different few shot learning metric-based networks"
      ],
      "metadata": {
        "id": "fT9sdF0H_tpx"
      }
    },
    {
      "cell_type": "code",
      "source": [
        "pretrained_cnn = resnet18(weights='DEFAULT')\n",
        "pretrained_cnn.fc = torch.nn.Flatten()\n",
        "pretrained_cnn = pretrained_cnn.to(device)"
      ],
      "metadata": {
        "id": "5AkBsQJBH7up"
      },
      "execution_count": 3,
      "outputs": []
    },
    {
      "cell_type": "code",
      "source": [
        "from torchvision.models.feature_extraction import create_feature_extractor\n",
        "\n",
        "class FeatureExtractor(torch.nn.Module):\n",
        "  def __init__(self, model, layer_name):\n",
        "    super().__init__()\n",
        "    self.model = model\n",
        "    self.layer_name = layer_name\n",
        "\n",
        "  def forward(self, x):\n",
        "    return self.model(x)[self.layer_name]\n",
        "\n",
        "layer = \"layer4.1.bn2\"\n",
        "resnet_extractor = create_feature_extractor(pretrained_cnn, return_nodes=[layer])\n",
        "feature_extractor = FeatureExtractor(resnet_extractor, layer)\n"
      ],
      "metadata": {
        "id": "3oVY50VjdS7b"
      },
      "execution_count": 4,
      "outputs": []
    },
    {
      "cell_type": "code",
      "source": [
        "dataset = HumpbackWhaleDataset('/content/train', df, transform=transform)"
      ],
      "metadata": {
        "id": "WzQeuGygaw-v"
      },
      "execution_count": 7,
      "outputs": []
    },
    {
      "cell_type": "code",
      "source": [
        "networks = {\n",
        "    'Transductive Finetuning': TransductiveFinetuning(pretrained_cnn).to(device),\n",
        "    'Relation Network': RelationNetworks(feature_extractor, feature_dimension=512).to(device),\n",
        "    'Matching Network': MatchingNetworks(pretrained_cnn, feature_dimension=512).to(device),\n",
        "    'Prototypical Network': PrototypicalNetworks(pretrained_cnn).to(device),\n",
        "    'Simple Shot': SimpleShot(pretrained_cnn).to(device)\n",
        "}"
      ],
      "metadata": {
        "id": "KgsapCN7_xk3"
      },
      "execution_count": 9,
      "outputs": []
    },
    {
      "cell_type": "code",
      "source": [
        "import time"
      ],
      "metadata": {
        "id": "aFgT7eZLmT3w"
      },
      "execution_count": 8,
      "outputs": []
    },
    {
      "cell_type": "code",
      "source": [
        "n_tasks = 100\n",
        "n_query = 5\n",
        "ways = [5, 10, 20]\n",
        "shots = [1, 3, 5]\n",
        "\n",
        "accs = dict()\n",
        "for network in networks:\n",
        "  accs[network] = dict()\n",
        "  for way in ways:\n",
        "    accs[network][way] = {shot: np.nan for shot in shots}\n",
        "\n",
        "\n",
        "for n_way in ways:\n",
        "  for n_shot in shots:\n",
        "    print(f'n_way = {n_way} | n_shot = {n_shot}')\n",
        "\n",
        "    loader = create_loader(dataset, n_way, n_shot, n_query, 100, num_workers=12)\n",
        "    for i, (name, network) in enumerate(networks.items()):\n",
        "      print(f'Evaluating {name}:', end=' ')\n",
        "      accs[name][n_way][n_shot] = evaluate(network, loader, device=device, use_tqdm=True)\n",
        "      time.sleep(0.1)\n",
        "    print()"
      ],
      "metadata": {
        "colab": {
          "base_uri": "https://localhost:8080/"
        },
        "id": "IIF9nVUUbvzP",
        "outputId": "5c25a00c-f59c-4ed0-8e10-31e90aa01e20"
      },
      "execution_count": 10,
      "outputs": [
        {
          "output_type": "stream",
          "name": "stdout",
          "text": [
            "n_way = 5 | n_shot = 1\n",
            "Evaluating Transductive Finetuning: "
          ]
        },
        {
          "output_type": "stream",
          "name": "stderr",
          "text": [
            "100%|██████████| 100/100 [00:11<00:00,  8.82it/s, accuracy=0.39]\n"
          ]
        },
        {
          "output_type": "stream",
          "name": "stdout",
          "text": [
            "Evaluating Relation Network: "
          ]
        },
        {
          "output_type": "stream",
          "name": "stderr",
          "text": [
            "100%|██████████| 100/100 [00:09<00:00, 11.00it/s, accuracy=0.205]\n"
          ]
        },
        {
          "output_type": "stream",
          "name": "stdout",
          "text": [
            "Evaluating Matching Network: "
          ]
        },
        {
          "output_type": "stream",
          "name": "stderr",
          "text": [
            "100%|██████████| 100/100 [00:08<00:00, 11.29it/s, accuracy=0.4]\n"
          ]
        },
        {
          "output_type": "stream",
          "name": "stdout",
          "text": [
            "Evaluating Prototypical Network: "
          ]
        },
        {
          "output_type": "stream",
          "name": "stderr",
          "text": [
            "100%|██████████| 100/100 [00:08<00:00, 11.63it/s, accuracy=0.395]\n"
          ]
        },
        {
          "output_type": "stream",
          "name": "stdout",
          "text": [
            "Evaluating Simple Shot: "
          ]
        },
        {
          "output_type": "stream",
          "name": "stderr",
          "text": [
            "100%|██████████| 100/100 [00:08<00:00, 11.20it/s, accuracy=0.42]\n"
          ]
        },
        {
          "output_type": "stream",
          "name": "stdout",
          "text": [
            "n_way = 5 | n_shot = 3\n",
            "Evaluating Transductive Finetuning: "
          ]
        },
        {
          "output_type": "stream",
          "name": "stderr",
          "text": [
            "100%|██████████| 100/100 [00:11<00:00,  9.03it/s, accuracy=0.546]\n"
          ]
        },
        {
          "output_type": "stream",
          "name": "stdout",
          "text": [
            "Evaluating Relation Network: "
          ]
        },
        {
          "output_type": "stream",
          "name": "stderr",
          "text": [
            "100%|██████████| 100/100 [00:10<00:00,  9.71it/s, accuracy=0.214]\n"
          ]
        },
        {
          "output_type": "stream",
          "name": "stdout",
          "text": [
            "Evaluating Matching Network: "
          ]
        },
        {
          "output_type": "stream",
          "name": "stderr",
          "text": [
            "100%|██████████| 100/100 [00:10<00:00,  9.32it/s, accuracy=0.52]\n"
          ]
        },
        {
          "output_type": "stream",
          "name": "stdout",
          "text": [
            "Evaluating Prototypical Network: "
          ]
        },
        {
          "output_type": "stream",
          "name": "stderr",
          "text": [
            "100%|██████████| 100/100 [00:11<00:00,  8.90it/s, accuracy=0.528]\n"
          ]
        },
        {
          "output_type": "stream",
          "name": "stdout",
          "text": [
            "Evaluating Simple Shot: "
          ]
        },
        {
          "output_type": "stream",
          "name": "stderr",
          "text": [
            "100%|██████████| 100/100 [00:11<00:00,  9.03it/s, accuracy=0.53]\n"
          ]
        },
        {
          "output_type": "stream",
          "name": "stdout",
          "text": [
            "n_way = 5 | n_shot = 5\n",
            "Evaluating Transductive Finetuning: "
          ]
        },
        {
          "output_type": "stream",
          "name": "stderr",
          "text": [
            "100%|██████████| 100/100 [00:13<00:00,  7.28it/s, accuracy=0.614]\n"
          ]
        },
        {
          "output_type": "stream",
          "name": "stdout",
          "text": [
            "Evaluating Relation Network: "
          ]
        },
        {
          "output_type": "stream",
          "name": "stderr",
          "text": [
            "100%|██████████| 100/100 [00:13<00:00,  7.35it/s, accuracy=0.217]\n"
          ]
        },
        {
          "output_type": "stream",
          "name": "stdout",
          "text": [
            "Evaluating Matching Network: "
          ]
        },
        {
          "output_type": "stream",
          "name": "stderr",
          "text": [
            "100%|██████████| 100/100 [00:13<00:00,  7.64it/s, accuracy=0.558]\n"
          ]
        },
        {
          "output_type": "stream",
          "name": "stdout",
          "text": [
            "Evaluating Prototypical Network: "
          ]
        },
        {
          "output_type": "stream",
          "name": "stderr",
          "text": [
            "100%|██████████| 100/100 [00:13<00:00,  7.35it/s, accuracy=0.596]\n"
          ]
        },
        {
          "output_type": "stream",
          "name": "stdout",
          "text": [
            "Evaluating Simple Shot: "
          ]
        },
        {
          "output_type": "stream",
          "name": "stderr",
          "text": [
            "100%|██████████| 100/100 [00:12<00:00,  7.71it/s, accuracy=0.604]\n"
          ]
        },
        {
          "output_type": "stream",
          "name": "stdout",
          "text": [
            "n_way = 10 | n_shot = 1\n",
            "Evaluating Transductive Finetuning: "
          ]
        },
        {
          "output_type": "stream",
          "name": "stderr",
          "text": [
            "100%|██████████| 100/100 [00:18<00:00,  5.54it/s, accuracy=0.284]\n"
          ]
        },
        {
          "output_type": "stream",
          "name": "stdout",
          "text": [
            "Evaluating Relation Network: "
          ]
        },
        {
          "output_type": "stream",
          "name": "stderr",
          "text": [
            "100%|██████████| 100/100 [00:16<00:00,  5.92it/s, accuracy=0.105]\n"
          ]
        },
        {
          "output_type": "stream",
          "name": "stdout",
          "text": [
            "Evaluating Matching Network: "
          ]
        },
        {
          "output_type": "stream",
          "name": "stderr",
          "text": [
            "100%|██████████| 100/100 [00:17<00:00,  5.85it/s, accuracy=0.262]\n"
          ]
        },
        {
          "output_type": "stream",
          "name": "stdout",
          "text": [
            "Evaluating Prototypical Network: "
          ]
        },
        {
          "output_type": "stream",
          "name": "stderr",
          "text": [
            "100%|██████████| 100/100 [00:17<00:00,  5.64it/s, accuracy=0.279]\n"
          ]
        },
        {
          "output_type": "stream",
          "name": "stdout",
          "text": [
            "Evaluating Simple Shot: "
          ]
        },
        {
          "output_type": "stream",
          "name": "stderr",
          "text": [
            "100%|██████████| 100/100 [00:17<00:00,  5.86it/s, accuracy=0.296]\n"
          ]
        },
        {
          "output_type": "stream",
          "name": "stdout",
          "text": [
            "n_way = 10 | n_shot = 3\n",
            "Evaluating Transductive Finetuning: "
          ]
        },
        {
          "output_type": "stream",
          "name": "stderr",
          "text": [
            "100%|██████████| 100/100 [00:21<00:00,  4.55it/s, accuracy=0.417]\n"
          ]
        },
        {
          "output_type": "stream",
          "name": "stdout",
          "text": [
            "Evaluating Relation Network: "
          ]
        },
        {
          "output_type": "stream",
          "name": "stderr",
          "text": [
            "100%|██████████| 100/100 [00:21<00:00,  4.75it/s, accuracy=0.109]\n"
          ]
        },
        {
          "output_type": "stream",
          "name": "stdout",
          "text": [
            "Evaluating Matching Network: "
          ]
        },
        {
          "output_type": "stream",
          "name": "stderr",
          "text": [
            "100%|██████████| 100/100 [00:21<00:00,  4.66it/s, accuracy=0.376]\n"
          ]
        },
        {
          "output_type": "stream",
          "name": "stdout",
          "text": [
            "Evaluating Prototypical Network: "
          ]
        },
        {
          "output_type": "stream",
          "name": "stderr",
          "text": [
            "100%|██████████| 100/100 [00:20<00:00,  4.78it/s, accuracy=0.41]\n"
          ]
        },
        {
          "output_type": "stream",
          "name": "stdout",
          "text": [
            "Evaluating Simple Shot: "
          ]
        },
        {
          "output_type": "stream",
          "name": "stderr",
          "text": [
            "100%|██████████| 100/100 [00:21<00:00,  4.75it/s, accuracy=0.413]\n"
          ]
        },
        {
          "output_type": "stream",
          "name": "stdout",
          "text": [
            "n_way = 10 | n_shot = 5\n",
            "Evaluating Transductive Finetuning: "
          ]
        },
        {
          "output_type": "stream",
          "name": "stderr",
          "text": [
            "100%|██████████| 100/100 [00:26<00:00,  3.80it/s, accuracy=0.48]\n"
          ]
        },
        {
          "output_type": "stream",
          "name": "stdout",
          "text": [
            "Evaluating Relation Network: "
          ]
        },
        {
          "output_type": "stream",
          "name": "stderr",
          "text": [
            "100%|██████████| 100/100 [00:26<00:00,  3.77it/s, accuracy=0.107]\n"
          ]
        },
        {
          "output_type": "stream",
          "name": "stdout",
          "text": [
            "Evaluating Matching Network: "
          ]
        },
        {
          "output_type": "stream",
          "name": "stderr",
          "text": [
            "100%|██████████| 100/100 [00:26<00:00,  3.80it/s, accuracy=0.446]\n"
          ]
        },
        {
          "output_type": "stream",
          "name": "stdout",
          "text": [
            "Evaluating Prototypical Network: "
          ]
        },
        {
          "output_type": "stream",
          "name": "stderr",
          "text": [
            "100%|██████████| 100/100 [00:26<00:00,  3.81it/s, accuracy=0.487]\n"
          ]
        },
        {
          "output_type": "stream",
          "name": "stdout",
          "text": [
            "Evaluating Simple Shot: "
          ]
        },
        {
          "output_type": "stream",
          "name": "stderr",
          "text": [
            "100%|██████████| 100/100 [00:26<00:00,  3.81it/s, accuracy=0.468]\n"
          ]
        },
        {
          "output_type": "stream",
          "name": "stdout",
          "text": [
            "n_way = 20 | n_shot = 1\n",
            "Evaluating Transductive Finetuning: "
          ]
        },
        {
          "output_type": "stream",
          "name": "stderr",
          "text": [
            "100%|██████████| 100/100 [00:35<00:00,  2.85it/s, accuracy=0.203]\n"
          ]
        },
        {
          "output_type": "stream",
          "name": "stdout",
          "text": [
            "Evaluating Relation Network: "
          ]
        },
        {
          "output_type": "stream",
          "name": "stderr",
          "text": [
            "100%|██████████| 100/100 [00:33<00:00,  2.98it/s, accuracy=0.0502]\n"
          ]
        },
        {
          "output_type": "stream",
          "name": "stdout",
          "text": [
            "Evaluating Matching Network: "
          ]
        },
        {
          "output_type": "stream",
          "name": "stderr",
          "text": [
            "100%|██████████| 100/100 [00:34<00:00,  2.93it/s, accuracy=0.196]\n"
          ]
        },
        {
          "output_type": "stream",
          "name": "stdout",
          "text": [
            "Evaluating Prototypical Network: "
          ]
        },
        {
          "output_type": "stream",
          "name": "stderr",
          "text": [
            "100%|██████████| 100/100 [00:33<00:00,  2.99it/s, accuracy=0.194]\n"
          ]
        },
        {
          "output_type": "stream",
          "name": "stdout",
          "text": [
            "Evaluating Simple Shot: "
          ]
        },
        {
          "output_type": "stream",
          "name": "stderr",
          "text": [
            "100%|██████████| 100/100 [00:33<00:00,  3.02it/s, accuracy=0.209]\n"
          ]
        },
        {
          "output_type": "stream",
          "name": "stdout",
          "text": [
            "n_way = 20 | n_shot = 3\n",
            "Evaluating Transductive Finetuning: "
          ]
        },
        {
          "output_type": "stream",
          "name": "stderr",
          "text": [
            "100%|██████████| 100/100 [00:42<00:00,  2.36it/s, accuracy=0.312]\n"
          ]
        },
        {
          "output_type": "stream",
          "name": "stdout",
          "text": [
            "Evaluating Relation Network: "
          ]
        },
        {
          "output_type": "stream",
          "name": "stderr",
          "text": [
            "100%|██████████| 100/100 [00:42<00:00,  2.37it/s, accuracy=0.0548]\n"
          ]
        },
        {
          "output_type": "stream",
          "name": "stdout",
          "text": [
            "Evaluating Matching Network: "
          ]
        },
        {
          "output_type": "stream",
          "name": "stderr",
          "text": [
            "100%|██████████| 100/100 [00:42<00:00,  2.38it/s, accuracy=0.286]"
          ]
        },
        {
          "output_type": "stream",
          "name": "stdout",
          "text": [
            "Evaluating Prototypical Network: "
          ]
        },
        {
          "output_type": "stream",
          "name": "stderr",
          "text": [
            "\n",
            "100%|██████████| 100/100 [00:42<00:00,  2.37it/s, accuracy=0.312]\n"
          ]
        },
        {
          "output_type": "stream",
          "name": "stdout",
          "text": [
            "Evaluating Simple Shot: "
          ]
        },
        {
          "output_type": "stream",
          "name": "stderr",
          "text": [
            "100%|██████████| 100/100 [00:42<00:00,  2.36it/s, accuracy=0.316]\n"
          ]
        },
        {
          "output_type": "stream",
          "name": "stdout",
          "text": [
            "n_way = 20 | n_shot = 5\n",
            "Evaluating Transductive Finetuning: "
          ]
        },
        {
          "output_type": "stream",
          "name": "stderr",
          "text": [
            "100%|██████████| 100/100 [00:53<00:00,  1.86it/s, accuracy=0.365]"
          ]
        },
        {
          "output_type": "stream",
          "name": "stdout",
          "text": [
            "Evaluating Relation Network: "
          ]
        },
        {
          "output_type": "stream",
          "name": "stderr",
          "text": [
            "\n",
            "100%|██████████| 100/100 [00:52<00:00,  1.91it/s, accuracy=0.0544]"
          ]
        },
        {
          "output_type": "stream",
          "name": "stdout",
          "text": [
            "Evaluating Matching Network: "
          ]
        },
        {
          "output_type": "stream",
          "name": "stderr",
          "text": [
            "\n",
            "100%|██████████| 100/100 [00:53<00:00,  1.87it/s, accuracy=0.335]\n"
          ]
        },
        {
          "output_type": "stream",
          "name": "stdout",
          "text": [
            "Evaluating Prototypical Network: "
          ]
        },
        {
          "output_type": "stream",
          "name": "stderr",
          "text": [
            "100%|██████████| 100/100 [00:53<00:00,  1.86it/s, accuracy=0.365]"
          ]
        },
        {
          "output_type": "stream",
          "name": "stdout",
          "text": [
            "Evaluating Simple Shot: "
          ]
        },
        {
          "output_type": "stream",
          "name": "stderr",
          "text": [
            "\n",
            "100%|██████████| 100/100 [00:52<00:00,  1.92it/s, accuracy=0.378]\n"
          ]
        }
      ]
    },
    {
      "cell_type": "code",
      "source": [
        "from copy import deepcopy"
      ],
      "metadata": {
        "id": "qV1jEBzWsBHG"
      },
      "execution_count": 15,
      "outputs": []
    },
    {
      "cell_type": "code",
      "source": [
        "accs"
      ],
      "metadata": {
        "colab": {
          "base_uri": "https://localhost:8080/"
        },
        "id": "gsFyRxtTsHcL",
        "outputId": "8265cb52-80fb-491a-8b88-a103adea12f0"
      },
      "execution_count": 16,
      "outputs": [
        {
          "output_type": "execute_result",
          "data": {
            "text/plain": [
              "{'Transductive Finetuning': {5: {1: 0.3896, 3: 0.546, 5: 0.614},\n",
              "  10: {1: 0.2844, 3: 0.417, 5: 0.48},\n",
              "  20: {1: 0.2025, 3: 0.3118, 5: 0.3649}},\n",
              " 'Relation Network': {5: {1: 0.2052, 3: 0.2144, 5: 0.2172},\n",
              "  10: {1: 0.105, 3: 0.109, 5: 0.1066},\n",
              "  20: {1: 0.0502, 3: 0.0548, 5: 0.0544}},\n",
              " 'Matching Network': {5: {1: 0.4, 3: 0.5196, 5: 0.558},\n",
              "  10: {1: 0.2624, 3: 0.376, 5: 0.4462},\n",
              "  20: {1: 0.1955, 3: 0.2861, 5: 0.3346}},\n",
              " 'Prototypical Network': {5: {1: 0.3948, 3: 0.528, 5: 0.5956},\n",
              "  10: {1: 0.279, 3: 0.4102, 5: 0.487},\n",
              "  20: {1: 0.1941, 3: 0.312, 5: 0.3653}},\n",
              " 'Simple Shot': {5: {1: 0.42, 3: 0.5304, 5: 0.604},\n",
              "  10: {1: 0.2956, 3: 0.4128, 5: 0.4676},\n",
              "  20: {1: 0.2087, 3: 0.3162, 5: 0.3777}}}"
            ]
          },
          "metadata": {},
          "execution_count": 16
        }
      ]
    },
    {
      "cell_type": "code",
      "source": [
        "accs_v2 = dict()\n",
        "\n",
        "for network in accs.keys():\n",
        "  accs_v2[network] = dict()\n",
        "  for way in accs[network].keys():\n",
        "    accs_v2[network][f'{way}-way'] = [acc for acc in accs[network][way].values()]"
      ],
      "metadata": {
        "id": "8xXQZGGar_MU"
      },
      "execution_count": 23,
      "outputs": []
    },
    {
      "cell_type": "code",
      "source": [
        "accs_v2"
      ],
      "metadata": {
        "colab": {
          "base_uri": "https://localhost:8080/"
        },
        "id": "e5ATvFBbspQM",
        "outputId": "419b92e0-785a-4127-db94-0669a3f57a82"
      },
      "execution_count": 24,
      "outputs": [
        {
          "output_type": "execute_result",
          "data": {
            "text/plain": [
              "{'Transductive Finetuning': {'5-way': [0.3896, 0.546, 0.614],\n",
              "  '10-way': [0.2844, 0.417, 0.48],\n",
              "  '20-way': [0.2025, 0.3118, 0.3649]},\n",
              " 'Relation Network': {'5-way': [0.2052, 0.2144, 0.2172],\n",
              "  '10-way': [0.105, 0.109, 0.1066],\n",
              "  '20-way': [0.0502, 0.0548, 0.0544]},\n",
              " 'Matching Network': {'5-way': [0.4, 0.5196, 0.558],\n",
              "  '10-way': [0.2624, 0.376, 0.4462],\n",
              "  '20-way': [0.1955, 0.2861, 0.3346]},\n",
              " 'Prototypical Network': {'5-way': [0.3948, 0.528, 0.5956],\n",
              "  '10-way': [0.279, 0.4102, 0.487],\n",
              "  '20-way': [0.1941, 0.312, 0.3653]},\n",
              " 'Simple Shot': {'5-way': [0.42, 0.5304, 0.604],\n",
              "  '10-way': [0.2956, 0.4128, 0.4676],\n",
              "  '20-way': [0.2087, 0.3162, 0.3777]}}"
            ]
          },
          "metadata": {},
          "execution_count": 24
        }
      ]
    },
    {
      "cell_type": "code",
      "source": [
        "accs_df = pd.DataFrame.from_dict(accs_v2).T\n",
        "accs_df"
      ],
      "metadata": {
        "colab": {
          "base_uri": "https://localhost:8080/",
          "height": 206
        },
        "id": "RybOBK4wdIWy",
        "outputId": "e4963f28-47e7-4146-940a-3076470f8712"
      },
      "execution_count": 28,
      "outputs": [
        {
          "output_type": "execute_result",
          "data": {
            "text/plain": [
              "                                            5-way                    10-way  \\\n",
              "Transductive Finetuning    [0.3896, 0.546, 0.614]     [0.2844, 0.417, 0.48]   \n",
              "Relation Network         [0.2052, 0.2144, 0.2172]    [0.105, 0.109, 0.1066]   \n",
              "Matching Network             [0.4, 0.5196, 0.558]   [0.2624, 0.376, 0.4462]   \n",
              "Prototypical Network      [0.3948, 0.528, 0.5956]    [0.279, 0.4102, 0.487]   \n",
              "Simple Shot                 [0.42, 0.5304, 0.604]  [0.2956, 0.4128, 0.4676]   \n",
              "\n",
              "                                           20-way  \n",
              "Transductive Finetuning  [0.2025, 0.3118, 0.3649]  \n",
              "Relation Network         [0.0502, 0.0548, 0.0544]  \n",
              "Matching Network         [0.1955, 0.2861, 0.3346]  \n",
              "Prototypical Network      [0.1941, 0.312, 0.3653]  \n",
              "Simple Shot              [0.2087, 0.3162, 0.3777]  "
            ],
            "text/html": [
              "\n",
              "\n",
              "  <div id=\"df-c88dc5b7-f05b-4def-a752-f03dffa293a6\">\n",
              "    <div class=\"colab-df-container\">\n",
              "      <div>\n",
              "<style scoped>\n",
              "    .dataframe tbody tr th:only-of-type {\n",
              "        vertical-align: middle;\n",
              "    }\n",
              "\n",
              "    .dataframe tbody tr th {\n",
              "        vertical-align: top;\n",
              "    }\n",
              "\n",
              "    .dataframe thead th {\n",
              "        text-align: right;\n",
              "    }\n",
              "</style>\n",
              "<table border=\"1\" class=\"dataframe\">\n",
              "  <thead>\n",
              "    <tr style=\"text-align: right;\">\n",
              "      <th></th>\n",
              "      <th>5-way</th>\n",
              "      <th>10-way</th>\n",
              "      <th>20-way</th>\n",
              "    </tr>\n",
              "  </thead>\n",
              "  <tbody>\n",
              "    <tr>\n",
              "      <th>Transductive Finetuning</th>\n",
              "      <td>[0.3896, 0.546, 0.614]</td>\n",
              "      <td>[0.2844, 0.417, 0.48]</td>\n",
              "      <td>[0.2025, 0.3118, 0.3649]</td>\n",
              "    </tr>\n",
              "    <tr>\n",
              "      <th>Relation Network</th>\n",
              "      <td>[0.2052, 0.2144, 0.2172]</td>\n",
              "      <td>[0.105, 0.109, 0.1066]</td>\n",
              "      <td>[0.0502, 0.0548, 0.0544]</td>\n",
              "    </tr>\n",
              "    <tr>\n",
              "      <th>Matching Network</th>\n",
              "      <td>[0.4, 0.5196, 0.558]</td>\n",
              "      <td>[0.2624, 0.376, 0.4462]</td>\n",
              "      <td>[0.1955, 0.2861, 0.3346]</td>\n",
              "    </tr>\n",
              "    <tr>\n",
              "      <th>Prototypical Network</th>\n",
              "      <td>[0.3948, 0.528, 0.5956]</td>\n",
              "      <td>[0.279, 0.4102, 0.487]</td>\n",
              "      <td>[0.1941, 0.312, 0.3653]</td>\n",
              "    </tr>\n",
              "    <tr>\n",
              "      <th>Simple Shot</th>\n",
              "      <td>[0.42, 0.5304, 0.604]</td>\n",
              "      <td>[0.2956, 0.4128, 0.4676]</td>\n",
              "      <td>[0.2087, 0.3162, 0.3777]</td>\n",
              "    </tr>\n",
              "  </tbody>\n",
              "</table>\n",
              "</div>\n",
              "      <button class=\"colab-df-convert\" onclick=\"convertToInteractive('df-c88dc5b7-f05b-4def-a752-f03dffa293a6')\"\n",
              "              title=\"Convert this dataframe to an interactive table.\"\n",
              "              style=\"display:none;\">\n",
              "\n",
              "  <svg xmlns=\"http://www.w3.org/2000/svg\" height=\"24px\"viewBox=\"0 0 24 24\"\n",
              "       width=\"24px\">\n",
              "    <path d=\"M0 0h24v24H0V0z\" fill=\"none\"/>\n",
              "    <path d=\"M18.56 5.44l.94 2.06.94-2.06 2.06-.94-2.06-.94-.94-2.06-.94 2.06-2.06.94zm-11 1L8.5 8.5l.94-2.06 2.06-.94-2.06-.94L8.5 2.5l-.94 2.06-2.06.94zm10 10l.94 2.06.94-2.06 2.06-.94-2.06-.94-.94-2.06-.94 2.06-2.06.94z\"/><path d=\"M17.41 7.96l-1.37-1.37c-.4-.4-.92-.59-1.43-.59-.52 0-1.04.2-1.43.59L10.3 9.45l-7.72 7.72c-.78.78-.78 2.05 0 2.83L4 21.41c.39.39.9.59 1.41.59.51 0 1.02-.2 1.41-.59l7.78-7.78 2.81-2.81c.8-.78.8-2.07 0-2.86zM5.41 20L4 18.59l7.72-7.72 1.47 1.35L5.41 20z\"/>\n",
              "  </svg>\n",
              "      </button>\n",
              "\n",
              "\n",
              "\n",
              "    <div id=\"df-4c453d0e-53ce-4201-a580-72d3938b7906\">\n",
              "      <button class=\"colab-df-quickchart\" onclick=\"quickchart('df-4c453d0e-53ce-4201-a580-72d3938b7906')\"\n",
              "              title=\"Suggest charts.\"\n",
              "              style=\"display:none;\">\n",
              "\n",
              "<svg xmlns=\"http://www.w3.org/2000/svg\" height=\"24px\"viewBox=\"0 0 24 24\"\n",
              "     width=\"24px\">\n",
              "    <g>\n",
              "        <path d=\"M19 3H5c-1.1 0-2 .9-2 2v14c0 1.1.9 2 2 2h14c1.1 0 2-.9 2-2V5c0-1.1-.9-2-2-2zM9 17H7v-7h2v7zm4 0h-2V7h2v10zm4 0h-2v-4h2v4z\"/>\n",
              "    </g>\n",
              "</svg>\n",
              "      </button>\n",
              "    </div>\n",
              "\n",
              "<style>\n",
              "  .colab-df-quickchart {\n",
              "    background-color: #E8F0FE;\n",
              "    border: none;\n",
              "    border-radius: 50%;\n",
              "    cursor: pointer;\n",
              "    display: none;\n",
              "    fill: #1967D2;\n",
              "    height: 32px;\n",
              "    padding: 0 0 0 0;\n",
              "    width: 32px;\n",
              "  }\n",
              "\n",
              "  .colab-df-quickchart:hover {\n",
              "    background-color: #E2EBFA;\n",
              "    box-shadow: 0px 1px 2px rgba(60, 64, 67, 0.3), 0px 1px 3px 1px rgba(60, 64, 67, 0.15);\n",
              "    fill: #174EA6;\n",
              "  }\n",
              "\n",
              "  [theme=dark] .colab-df-quickchart {\n",
              "    background-color: #3B4455;\n",
              "    fill: #D2E3FC;\n",
              "  }\n",
              "\n",
              "  [theme=dark] .colab-df-quickchart:hover {\n",
              "    background-color: #434B5C;\n",
              "    box-shadow: 0px 1px 3px 1px rgba(0, 0, 0, 0.15);\n",
              "    filter: drop-shadow(0px 1px 2px rgba(0, 0, 0, 0.3));\n",
              "    fill: #FFFFFF;\n",
              "  }\n",
              "</style>\n",
              "\n",
              "    <script>\n",
              "      async function quickchart(key) {\n",
              "        const containerElement = document.querySelector('#' + key);\n",
              "        const charts = await google.colab.kernel.invokeFunction(\n",
              "            'suggestCharts', [key], {});\n",
              "      }\n",
              "    </script>\n",
              "\n",
              "      <script>\n",
              "\n",
              "function displayQuickchartButton(domScope) {\n",
              "  let quickchartButtonEl =\n",
              "    domScope.querySelector('#df-4c453d0e-53ce-4201-a580-72d3938b7906 button.colab-df-quickchart');\n",
              "  quickchartButtonEl.style.display =\n",
              "    google.colab.kernel.accessAllowed ? 'block' : 'none';\n",
              "}\n",
              "\n",
              "        displayQuickchartButton(document);\n",
              "      </script>\n",
              "      <style>\n",
              "    .colab-df-container {\n",
              "      display:flex;\n",
              "      flex-wrap:wrap;\n",
              "      gap: 12px;\n",
              "    }\n",
              "\n",
              "    .colab-df-convert {\n",
              "      background-color: #E8F0FE;\n",
              "      border: none;\n",
              "      border-radius: 50%;\n",
              "      cursor: pointer;\n",
              "      display: none;\n",
              "      fill: #1967D2;\n",
              "      height: 32px;\n",
              "      padding: 0 0 0 0;\n",
              "      width: 32px;\n",
              "    }\n",
              "\n",
              "    .colab-df-convert:hover {\n",
              "      background-color: #E2EBFA;\n",
              "      box-shadow: 0px 1px 2px rgba(60, 64, 67, 0.3), 0px 1px 3px 1px rgba(60, 64, 67, 0.15);\n",
              "      fill: #174EA6;\n",
              "    }\n",
              "\n",
              "    [theme=dark] .colab-df-convert {\n",
              "      background-color: #3B4455;\n",
              "      fill: #D2E3FC;\n",
              "    }\n",
              "\n",
              "    [theme=dark] .colab-df-convert:hover {\n",
              "      background-color: #434B5C;\n",
              "      box-shadow: 0px 1px 3px 1px rgba(0, 0, 0, 0.15);\n",
              "      filter: drop-shadow(0px 1px 2px rgba(0, 0, 0, 0.3));\n",
              "      fill: #FFFFFF;\n",
              "    }\n",
              "  </style>\n",
              "\n",
              "      <script>\n",
              "        const buttonEl =\n",
              "          document.querySelector('#df-c88dc5b7-f05b-4def-a752-f03dffa293a6 button.colab-df-convert');\n",
              "        buttonEl.style.display =\n",
              "          google.colab.kernel.accessAllowed ? 'block' : 'none';\n",
              "\n",
              "        async function convertToInteractive(key) {\n",
              "          const element = document.querySelector('#df-c88dc5b7-f05b-4def-a752-f03dffa293a6');\n",
              "          const dataTable =\n",
              "            await google.colab.kernel.invokeFunction('convertToInteractive',\n",
              "                                                     [key], {});\n",
              "          if (!dataTable) return;\n",
              "\n",
              "          const docLinkHtml = 'Like what you see? Visit the ' +\n",
              "            '<a target=\"_blank\" href=https://colab.research.google.com/notebooks/data_table.ipynb>data table notebook</a>'\n",
              "            + ' to learn more about interactive tables.';\n",
              "          element.innerHTML = '';\n",
              "          dataTable['output_type'] = 'display_data';\n",
              "          await google.colab.output.renderOutput(dataTable, element);\n",
              "          const docLink = document.createElement('div');\n",
              "          docLink.innerHTML = docLinkHtml;\n",
              "          element.appendChild(docLink);\n",
              "        }\n",
              "      </script>\n",
              "    </div>\n",
              "  </div>\n"
            ]
          },
          "metadata": {},
          "execution_count": 28
        }
      ]
    },
    {
      "cell_type": "code",
      "source": [
        "accs_dict2 = dict()\n",
        "for network, row in accs_df.iterrows():\n",
        "  accs_dict2[network] = dict()\n",
        "  for i, way in enumerate(row):\n",
        "    for j, shot in enumerate(way):\n",
        "      accs_dict2[network][f'{ways[i]}-way {shots[j]}-shot'] = shot"
      ],
      "metadata": {
        "id": "OgvXF84YrK5y"
      },
      "execution_count": 57,
      "outputs": []
    },
    {
      "cell_type": "code",
      "source": [
        "multi_columns = [(f'{n_way}-way', f'{n_shot}-shot') for n_way in ways for n_shot in shots]\n",
        "multi_columns"
      ],
      "metadata": {
        "id": "VxW1ZyPAw208",
        "outputId": "e7a29561-9c05-4796-9fa7-fdadd7542379",
        "colab": {
          "base_uri": "https://localhost:8080/"
        }
      },
      "execution_count": 59,
      "outputs": [
        {
          "output_type": "execute_result",
          "data": {
            "text/plain": [
              "[('5-way', '1-shot'),\n",
              " ('5-way', '3-shot'),\n",
              " ('5-way', '5-shot'),\n",
              " ('10-way', '1-shot'),\n",
              " ('10-way', '3-shot'),\n",
              " ('10-way', '5-shot'),\n",
              " ('20-way', '1-shot'),\n",
              " ('20-way', '3-shot'),\n",
              " ('20-way', '5-shot')]"
            ]
          },
          "metadata": {},
          "execution_count": 59
        }
      ]
    },
    {
      "cell_type": "code",
      "source": [
        "accs_df2 = pd.DataFrame.from_dict(accs_dict2).T\n",
        "accs_df2.columns = pd.MultiIndex.from_tuples(multi_columns)\n",
        "accs_df2"
      ],
      "metadata": {
        "colab": {
          "base_uri": "https://localhost:8080/",
          "height": 237
        },
        "id": "_Yqjb_NWuMKs",
        "outputId": "112d6364-d548-445a-d85c-afb8a5d7ac89"
      },
      "execution_count": 60,
      "outputs": [
        {
          "output_type": "execute_result",
          "data": {
            "text/plain": [
              "                          5-way                  10-way                  \\\n",
              "                         1-shot  3-shot  5-shot  1-shot  3-shot  5-shot   \n",
              "Transductive Finetuning  0.3896  0.5460  0.6140  0.2844  0.4170  0.4800   \n",
              "Relation Network         0.2052  0.2144  0.2172  0.1050  0.1090  0.1066   \n",
              "Matching Network         0.4000  0.5196  0.5580  0.2624  0.3760  0.4462   \n",
              "Prototypical Network     0.3948  0.5280  0.5956  0.2790  0.4102  0.4870   \n",
              "Simple Shot              0.4200  0.5304  0.6040  0.2956  0.4128  0.4676   \n",
              "\n",
              "                         20-way                  \n",
              "                         1-shot  3-shot  5-shot  \n",
              "Transductive Finetuning  0.2025  0.3118  0.3649  \n",
              "Relation Network         0.0502  0.0548  0.0544  \n",
              "Matching Network         0.1955  0.2861  0.3346  \n",
              "Prototypical Network     0.1941  0.3120  0.3653  \n",
              "Simple Shot              0.2087  0.3162  0.3777  "
            ],
            "text/html": [
              "\n",
              "\n",
              "  <div id=\"df-605bc707-ae0d-4353-8de4-84f2f8dd21cd\">\n",
              "    <div class=\"colab-df-container\">\n",
              "      <div>\n",
              "<style scoped>\n",
              "    .dataframe tbody tr th:only-of-type {\n",
              "        vertical-align: middle;\n",
              "    }\n",
              "\n",
              "    .dataframe tbody tr th {\n",
              "        vertical-align: top;\n",
              "    }\n",
              "\n",
              "    .dataframe thead tr th {\n",
              "        text-align: left;\n",
              "    }\n",
              "</style>\n",
              "<table border=\"1\" class=\"dataframe\">\n",
              "  <thead>\n",
              "    <tr>\n",
              "      <th></th>\n",
              "      <th colspan=\"3\" halign=\"left\">5-way</th>\n",
              "      <th colspan=\"3\" halign=\"left\">10-way</th>\n",
              "      <th colspan=\"3\" halign=\"left\">20-way</th>\n",
              "    </tr>\n",
              "    <tr>\n",
              "      <th></th>\n",
              "      <th>1-shot</th>\n",
              "      <th>3-shot</th>\n",
              "      <th>5-shot</th>\n",
              "      <th>1-shot</th>\n",
              "      <th>3-shot</th>\n",
              "      <th>5-shot</th>\n",
              "      <th>1-shot</th>\n",
              "      <th>3-shot</th>\n",
              "      <th>5-shot</th>\n",
              "    </tr>\n",
              "  </thead>\n",
              "  <tbody>\n",
              "    <tr>\n",
              "      <th>Transductive Finetuning</th>\n",
              "      <td>0.3896</td>\n",
              "      <td>0.5460</td>\n",
              "      <td>0.6140</td>\n",
              "      <td>0.2844</td>\n",
              "      <td>0.4170</td>\n",
              "      <td>0.4800</td>\n",
              "      <td>0.2025</td>\n",
              "      <td>0.3118</td>\n",
              "      <td>0.3649</td>\n",
              "    </tr>\n",
              "    <tr>\n",
              "      <th>Relation Network</th>\n",
              "      <td>0.2052</td>\n",
              "      <td>0.2144</td>\n",
              "      <td>0.2172</td>\n",
              "      <td>0.1050</td>\n",
              "      <td>0.1090</td>\n",
              "      <td>0.1066</td>\n",
              "      <td>0.0502</td>\n",
              "      <td>0.0548</td>\n",
              "      <td>0.0544</td>\n",
              "    </tr>\n",
              "    <tr>\n",
              "      <th>Matching Network</th>\n",
              "      <td>0.4000</td>\n",
              "      <td>0.5196</td>\n",
              "      <td>0.5580</td>\n",
              "      <td>0.2624</td>\n",
              "      <td>0.3760</td>\n",
              "      <td>0.4462</td>\n",
              "      <td>0.1955</td>\n",
              "      <td>0.2861</td>\n",
              "      <td>0.3346</td>\n",
              "    </tr>\n",
              "    <tr>\n",
              "      <th>Prototypical Network</th>\n",
              "      <td>0.3948</td>\n",
              "      <td>0.5280</td>\n",
              "      <td>0.5956</td>\n",
              "      <td>0.2790</td>\n",
              "      <td>0.4102</td>\n",
              "      <td>0.4870</td>\n",
              "      <td>0.1941</td>\n",
              "      <td>0.3120</td>\n",
              "      <td>0.3653</td>\n",
              "    </tr>\n",
              "    <tr>\n",
              "      <th>Simple Shot</th>\n",
              "      <td>0.4200</td>\n",
              "      <td>0.5304</td>\n",
              "      <td>0.6040</td>\n",
              "      <td>0.2956</td>\n",
              "      <td>0.4128</td>\n",
              "      <td>0.4676</td>\n",
              "      <td>0.2087</td>\n",
              "      <td>0.3162</td>\n",
              "      <td>0.3777</td>\n",
              "    </tr>\n",
              "  </tbody>\n",
              "</table>\n",
              "</div>\n",
              "      <button class=\"colab-df-convert\" onclick=\"convertToInteractive('df-605bc707-ae0d-4353-8de4-84f2f8dd21cd')\"\n",
              "              title=\"Convert this dataframe to an interactive table.\"\n",
              "              style=\"display:none;\">\n",
              "\n",
              "  <svg xmlns=\"http://www.w3.org/2000/svg\" height=\"24px\"viewBox=\"0 0 24 24\"\n",
              "       width=\"24px\">\n",
              "    <path d=\"M0 0h24v24H0V0z\" fill=\"none\"/>\n",
              "    <path d=\"M18.56 5.44l.94 2.06.94-2.06 2.06-.94-2.06-.94-.94-2.06-.94 2.06-2.06.94zm-11 1L8.5 8.5l.94-2.06 2.06-.94-2.06-.94L8.5 2.5l-.94 2.06-2.06.94zm10 10l.94 2.06.94-2.06 2.06-.94-2.06-.94-.94-2.06-.94 2.06-2.06.94z\"/><path d=\"M17.41 7.96l-1.37-1.37c-.4-.4-.92-.59-1.43-.59-.52 0-1.04.2-1.43.59L10.3 9.45l-7.72 7.72c-.78.78-.78 2.05 0 2.83L4 21.41c.39.39.9.59 1.41.59.51 0 1.02-.2 1.41-.59l7.78-7.78 2.81-2.81c.8-.78.8-2.07 0-2.86zM5.41 20L4 18.59l7.72-7.72 1.47 1.35L5.41 20z\"/>\n",
              "  </svg>\n",
              "      </button>\n",
              "\n",
              "\n",
              "\n",
              "    <div id=\"df-c6489576-8e0b-40d7-b2e7-b6f1bf52de02\">\n",
              "      <button class=\"colab-df-quickchart\" onclick=\"quickchart('df-c6489576-8e0b-40d7-b2e7-b6f1bf52de02')\"\n",
              "              title=\"Suggest charts.\"\n",
              "              style=\"display:none;\">\n",
              "\n",
              "<svg xmlns=\"http://www.w3.org/2000/svg\" height=\"24px\"viewBox=\"0 0 24 24\"\n",
              "     width=\"24px\">\n",
              "    <g>\n",
              "        <path d=\"M19 3H5c-1.1 0-2 .9-2 2v14c0 1.1.9 2 2 2h14c1.1 0 2-.9 2-2V5c0-1.1-.9-2-2-2zM9 17H7v-7h2v7zm4 0h-2V7h2v10zm4 0h-2v-4h2v4z\"/>\n",
              "    </g>\n",
              "</svg>\n",
              "      </button>\n",
              "    </div>\n",
              "\n",
              "<style>\n",
              "  .colab-df-quickchart {\n",
              "    background-color: #E8F0FE;\n",
              "    border: none;\n",
              "    border-radius: 50%;\n",
              "    cursor: pointer;\n",
              "    display: none;\n",
              "    fill: #1967D2;\n",
              "    height: 32px;\n",
              "    padding: 0 0 0 0;\n",
              "    width: 32px;\n",
              "  }\n",
              "\n",
              "  .colab-df-quickchart:hover {\n",
              "    background-color: #E2EBFA;\n",
              "    box-shadow: 0px 1px 2px rgba(60, 64, 67, 0.3), 0px 1px 3px 1px rgba(60, 64, 67, 0.15);\n",
              "    fill: #174EA6;\n",
              "  }\n",
              "\n",
              "  [theme=dark] .colab-df-quickchart {\n",
              "    background-color: #3B4455;\n",
              "    fill: #D2E3FC;\n",
              "  }\n",
              "\n",
              "  [theme=dark] .colab-df-quickchart:hover {\n",
              "    background-color: #434B5C;\n",
              "    box-shadow: 0px 1px 3px 1px rgba(0, 0, 0, 0.15);\n",
              "    filter: drop-shadow(0px 1px 2px rgba(0, 0, 0, 0.3));\n",
              "    fill: #FFFFFF;\n",
              "  }\n",
              "</style>\n",
              "\n",
              "    <script>\n",
              "      async function quickchart(key) {\n",
              "        const containerElement = document.querySelector('#' + key);\n",
              "        const charts = await google.colab.kernel.invokeFunction(\n",
              "            'suggestCharts', [key], {});\n",
              "      }\n",
              "    </script>\n",
              "\n",
              "      <script>\n",
              "\n",
              "function displayQuickchartButton(domScope) {\n",
              "  let quickchartButtonEl =\n",
              "    domScope.querySelector('#df-c6489576-8e0b-40d7-b2e7-b6f1bf52de02 button.colab-df-quickchart');\n",
              "  quickchartButtonEl.style.display =\n",
              "    google.colab.kernel.accessAllowed ? 'block' : 'none';\n",
              "}\n",
              "\n",
              "        displayQuickchartButton(document);\n",
              "      </script>\n",
              "      <style>\n",
              "    .colab-df-container {\n",
              "      display:flex;\n",
              "      flex-wrap:wrap;\n",
              "      gap: 12px;\n",
              "    }\n",
              "\n",
              "    .colab-df-convert {\n",
              "      background-color: #E8F0FE;\n",
              "      border: none;\n",
              "      border-radius: 50%;\n",
              "      cursor: pointer;\n",
              "      display: none;\n",
              "      fill: #1967D2;\n",
              "      height: 32px;\n",
              "      padding: 0 0 0 0;\n",
              "      width: 32px;\n",
              "    }\n",
              "\n",
              "    .colab-df-convert:hover {\n",
              "      background-color: #E2EBFA;\n",
              "      box-shadow: 0px 1px 2px rgba(60, 64, 67, 0.3), 0px 1px 3px 1px rgba(60, 64, 67, 0.15);\n",
              "      fill: #174EA6;\n",
              "    }\n",
              "\n",
              "    [theme=dark] .colab-df-convert {\n",
              "      background-color: #3B4455;\n",
              "      fill: #D2E3FC;\n",
              "    }\n",
              "\n",
              "    [theme=dark] .colab-df-convert:hover {\n",
              "      background-color: #434B5C;\n",
              "      box-shadow: 0px 1px 3px 1px rgba(0, 0, 0, 0.15);\n",
              "      filter: drop-shadow(0px 1px 2px rgba(0, 0, 0, 0.3));\n",
              "      fill: #FFFFFF;\n",
              "    }\n",
              "  </style>\n",
              "\n",
              "      <script>\n",
              "        const buttonEl =\n",
              "          document.querySelector('#df-605bc707-ae0d-4353-8de4-84f2f8dd21cd button.colab-df-convert');\n",
              "        buttonEl.style.display =\n",
              "          google.colab.kernel.accessAllowed ? 'block' : 'none';\n",
              "\n",
              "        async function convertToInteractive(key) {\n",
              "          const element = document.querySelector('#df-605bc707-ae0d-4353-8de4-84f2f8dd21cd');\n",
              "          const dataTable =\n",
              "            await google.colab.kernel.invokeFunction('convertToInteractive',\n",
              "                                                     [key], {});\n",
              "          if (!dataTable) return;\n",
              "\n",
              "          const docLinkHtml = 'Like what you see? Visit the ' +\n",
              "            '<a target=\"_blank\" href=https://colab.research.google.com/notebooks/data_table.ipynb>data table notebook</a>'\n",
              "            + ' to learn more about interactive tables.';\n",
              "          element.innerHTML = '';\n",
              "          dataTable['output_type'] = 'display_data';\n",
              "          await google.colab.output.renderOutput(dataTable, element);\n",
              "          const docLink = document.createElement('div');\n",
              "          docLink.innerHTML = docLinkHtml;\n",
              "          element.appendChild(docLink);\n",
              "        }\n",
              "      </script>\n",
              "    </div>\n",
              "  </div>\n"
            ]
          },
          "metadata": {},
          "execution_count": 60
        }
      ]
    },
    {
      "cell_type": "code",
      "source": [],
      "metadata": {
        "id": "hiZLZbdArarY"
      },
      "execution_count": null,
      "outputs": []
    }
  ]
}