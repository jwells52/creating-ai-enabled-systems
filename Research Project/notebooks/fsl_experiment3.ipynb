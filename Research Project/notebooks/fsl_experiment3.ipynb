{
  "nbformat": 4,
  "nbformat_minor": 0,
  "metadata": {
    "colab": {
      "provenance": [],
      "gpuType": "A100",
      "authorship_tag": "ABX9TyMO2D/BAvrdIKu9zpW17vmO",
      "include_colab_link": true
    },
    "kernelspec": {
      "name": "python3",
      "display_name": "Python 3"
    },
    "language_info": {
      "name": "python"
    },
    "accelerator": "GPU"
  },
  "cells": [
    {
      "cell_type": "markdown",
      "metadata": {
        "id": "view-in-github",
        "colab_type": "text"
      },
      "source": [
        "<a href=\"https://colab.research.google.com/github/jwells52/creating-ai-enabled-systems/blob/main/Research%20Project/notebooks/fsl_experiment3.ipynb\" target=\"_parent\"><img src=\"https://colab.research.google.com/assets/colab-badge.svg\" alt=\"Open In Colab\"/></a>"
      ]
    },
    {
      "cell_type": "markdown",
      "source": [
        "### Install easyfsl"
      ],
      "metadata": {
        "id": "1aY-Kk8OaKJ7"
      }
    },
    {
      "cell_type": "code",
      "execution_count": 1,
      "metadata": {
        "id": "TDhuvzzpaHRr",
        "outputId": "aa64a470-4565-4682-a49c-a5d53bf84960",
        "colab": {
          "base_uri": "https://localhost:8080/"
        }
      },
      "outputs": [
        {
          "output_type": "stream",
          "name": "stdout",
          "text": [
            "Collecting easyfsl\n",
            "  Downloading easyfsl-1.4.0-py3-none-any.whl (65 kB)\n",
            "\u001b[2K     \u001b[90m━━━━━━━━━━━━━━━━━━━━━━━━━━━━━━━━━━━━━━━\u001b[0m \u001b[32m65.2/65.2 kB\u001b[0m \u001b[31m517.1 kB/s\u001b[0m eta \u001b[36m0:00:00\u001b[0m\n",
            "\u001b[?25hRequirement already satisfied: matplotlib>=3.0.0 in /usr/local/lib/python3.10/dist-packages (from easyfsl) (3.7.1)\n",
            "Requirement already satisfied: pandas>=1.4.0 in /usr/local/lib/python3.10/dist-packages (from easyfsl) (1.5.3)\n",
            "Requirement already satisfied: torch>=1.4.0 in /usr/local/lib/python3.10/dist-packages (from easyfsl) (2.0.1+cu118)\n",
            "Requirement already satisfied: torchvision>=0.7.0 in /usr/local/lib/python3.10/dist-packages (from easyfsl) (0.15.2+cu118)\n",
            "Requirement already satisfied: tqdm>=4.1.0 in /usr/local/lib/python3.10/dist-packages (from easyfsl) (4.65.0)\n",
            "Requirement already satisfied: contourpy>=1.0.1 in /usr/local/lib/python3.10/dist-packages (from matplotlib>=3.0.0->easyfsl) (1.1.0)\n",
            "Requirement already satisfied: cycler>=0.10 in /usr/local/lib/python3.10/dist-packages (from matplotlib>=3.0.0->easyfsl) (0.11.0)\n",
            "Requirement already satisfied: fonttools>=4.22.0 in /usr/local/lib/python3.10/dist-packages (from matplotlib>=3.0.0->easyfsl) (4.41.1)\n",
            "Requirement already satisfied: kiwisolver>=1.0.1 in /usr/local/lib/python3.10/dist-packages (from matplotlib>=3.0.0->easyfsl) (1.4.4)\n",
            "Requirement already satisfied: numpy>=1.20 in /usr/local/lib/python3.10/dist-packages (from matplotlib>=3.0.0->easyfsl) (1.22.4)\n",
            "Requirement already satisfied: packaging>=20.0 in /usr/local/lib/python3.10/dist-packages (from matplotlib>=3.0.0->easyfsl) (23.1)\n",
            "Requirement already satisfied: pillow>=6.2.0 in /usr/local/lib/python3.10/dist-packages (from matplotlib>=3.0.0->easyfsl) (9.4.0)\n",
            "Requirement already satisfied: pyparsing>=2.3.1 in /usr/local/lib/python3.10/dist-packages (from matplotlib>=3.0.0->easyfsl) (3.1.0)\n",
            "Requirement already satisfied: python-dateutil>=2.7 in /usr/local/lib/python3.10/dist-packages (from matplotlib>=3.0.0->easyfsl) (2.8.2)\n",
            "Requirement already satisfied: pytz>=2020.1 in /usr/local/lib/python3.10/dist-packages (from pandas>=1.4.0->easyfsl) (2022.7.1)\n",
            "Requirement already satisfied: filelock in /usr/local/lib/python3.10/dist-packages (from torch>=1.4.0->easyfsl) (3.12.2)\n",
            "Requirement already satisfied: typing-extensions in /usr/local/lib/python3.10/dist-packages (from torch>=1.4.0->easyfsl) (4.7.1)\n",
            "Requirement already satisfied: sympy in /usr/local/lib/python3.10/dist-packages (from torch>=1.4.0->easyfsl) (1.11.1)\n",
            "Requirement already satisfied: networkx in /usr/local/lib/python3.10/dist-packages (from torch>=1.4.0->easyfsl) (3.1)\n",
            "Requirement already satisfied: jinja2 in /usr/local/lib/python3.10/dist-packages (from torch>=1.4.0->easyfsl) (3.1.2)\n",
            "Requirement already satisfied: triton==2.0.0 in /usr/local/lib/python3.10/dist-packages (from torch>=1.4.0->easyfsl) (2.0.0)\n",
            "Requirement already satisfied: cmake in /usr/local/lib/python3.10/dist-packages (from triton==2.0.0->torch>=1.4.0->easyfsl) (3.25.2)\n",
            "Requirement already satisfied: lit in /usr/local/lib/python3.10/dist-packages (from triton==2.0.0->torch>=1.4.0->easyfsl) (16.0.6)\n",
            "Requirement already satisfied: requests in /usr/local/lib/python3.10/dist-packages (from torchvision>=0.7.0->easyfsl) (2.27.1)\n",
            "Requirement already satisfied: six>=1.5 in /usr/local/lib/python3.10/dist-packages (from python-dateutil>=2.7->matplotlib>=3.0.0->easyfsl) (1.16.0)\n",
            "Requirement already satisfied: MarkupSafe>=2.0 in /usr/local/lib/python3.10/dist-packages (from jinja2->torch>=1.4.0->easyfsl) (2.1.3)\n",
            "Requirement already satisfied: urllib3<1.27,>=1.21.1 in /usr/local/lib/python3.10/dist-packages (from requests->torchvision>=0.7.0->easyfsl) (1.26.16)\n",
            "Requirement already satisfied: certifi>=2017.4.17 in /usr/local/lib/python3.10/dist-packages (from requests->torchvision>=0.7.0->easyfsl) (2023.7.22)\n",
            "Requirement already satisfied: charset-normalizer~=2.0.0 in /usr/local/lib/python3.10/dist-packages (from requests->torchvision>=0.7.0->easyfsl) (2.0.12)\n",
            "Requirement already satisfied: idna<4,>=2.5 in /usr/local/lib/python3.10/dist-packages (from requests->torchvision>=0.7.0->easyfsl) (3.4)\n",
            "Requirement already satisfied: mpmath>=0.19 in /usr/local/lib/python3.10/dist-packages (from sympy->torch>=1.4.0->easyfsl) (1.3.0)\n",
            "Installing collected packages: easyfsl\n",
            "Successfully installed easyfsl-1.4.0\n"
          ]
        }
      ],
      "source": [
        "%pip install easyfsl"
      ]
    },
    {
      "cell_type": "markdown",
      "source": [
        "### Download Humpback Whale Dataset"
      ],
      "metadata": {
        "id": "TxckwzwdaNg7"
      }
    },
    {
      "cell_type": "code",
      "source": [
        "from google.colab import drive\n",
        "drive.mount('/content/drive')"
      ],
      "metadata": {
        "colab": {
          "base_uri": "https://localhost:8080/"
        },
        "id": "p6cH7GbKaO5X",
        "outputId": "6f59bdc7-cf6f-4c9a-c44e-6b1644616c10"
      },
      "execution_count": 2,
      "outputs": [
        {
          "output_type": "stream",
          "name": "stdout",
          "text": [
            "Mounted at /content/drive\n"
          ]
        }
      ]
    },
    {
      "cell_type": "code",
      "source": [
        "!rm -rf /root/.kaggle && mkdir /root/.kaggle && cp /content/drive/MyDrive/Research-Project/kaggle.json /root/.kaggle/kaggle.json && chmod 600 /root/.kaggle/kaggle.json && kaggle competitions download -c humpback-whale-identification"
      ],
      "metadata": {
        "id": "IDeyRC_SaRD-",
        "outputId": "db60ffc5-3d11-4f36-c98f-26275909fb1d",
        "colab": {
          "base_uri": "https://localhost:8080/"
        }
      },
      "execution_count": 3,
      "outputs": [
        {
          "output_type": "stream",
          "name": "stdout",
          "text": [
            "Downloading humpback-whale-identification.zip to /content\n",
            "100% 5.50G/5.51G [04:56<00:00, 17.3MB/s]\n",
            "100% 5.51G/5.51G [04:56<00:00, 20.0MB/s]\n"
          ]
        }
      ]
    },
    {
      "cell_type": "code",
      "source": [
        "%%capture\n",
        "\n",
        "!unzip humpback-whale-identification.zip"
      ],
      "metadata": {
        "id": "pPO_yhVuIXAG"
      },
      "execution_count": 4,
      "outputs": []
    },
    {
      "cell_type": "markdown",
      "source": [
        "### Clone GitHub Repo"
      ],
      "metadata": {
        "id": "RFcHZNs5aV4u"
      }
    },
    {
      "cell_type": "code",
      "source": [
        "import os\n",
        "\n",
        "if os.path.exists('/content/creating-ai-enabled-systems/Research Project') == False:\n",
        "  !git clone https://github.com/jwells52/creating-ai-enabled-systems.git\n",
        "\n",
        "%cd creating-ai-enabled-systems/Research\\ Project"
      ],
      "metadata": {
        "colab": {
          "base_uri": "https://localhost:8080/"
        },
        "id": "jN_7CpgbaULS",
        "outputId": "d72ba389-281b-49c8-efef-6f7b956d68f3"
      },
      "execution_count": 5,
      "outputs": [
        {
          "output_type": "stream",
          "name": "stdout",
          "text": [
            "Cloning into 'creating-ai-enabled-systems'...\n",
            "remote: Enumerating objects: 389, done.\u001b[K\n",
            "remote: Counting objects: 100% (202/202), done.\u001b[K\n",
            "remote: Compressing objects: 100% (193/193), done.\u001b[K\n",
            "remote: Total 389 (delta 127), reused 23 (delta 7), pack-reused 187\u001b[K\n",
            "Receiving objects: 100% (389/389), 159.98 MiB | 18.13 MiB/s, done.\n",
            "Resolving deltas: 100% (206/206), done.\n",
            "Updating files: 100% (50/50), done.\n",
            "/content/creating-ai-enabled-systems/Research Project\n"
          ]
        }
      ]
    },
    {
      "cell_type": "markdown",
      "source": [
        "### Imports"
      ],
      "metadata": {
        "id": "7OZh8KbybBxc"
      }
    },
    {
      "cell_type": "code",
      "source": [
        "import os\n",
        "import cv2\n",
        "import torch\n",
        "\n",
        "import numpy as np\n",
        "import pandas as pd\n",
        "import matplotlib.pyplot as plt\n",
        "\n",
        "from tqdm import tqdm\n",
        "\n",
        "from PIL import Image\n",
        "from easyfsl.methods import PrototypicalNetworks, FewShotClassifier, SimpleShot, MatchingNetworks, RelationNetworks\n",
        "from easyfsl.utils import evaluate, evaluate_on_one_task\n",
        "from easyfsl.samplers import TaskSampler\n",
        "\n",
        "from torch import Tensor, nn\n",
        "from torch.optim import SGD, Optimizer, Adam\n",
        "from torch.utils.data import Dataset, DataLoader\n",
        "from torchvision import transforms\n",
        "from torchvision.models import resnet18, resnet34, resnet152\n",
        "\n",
        "from typing import Callable\n",
        "\n",
        "from modules.data_utils import HumpbackWhaleDataset, remove_new_whale_class, create_loader\n",
        "from modules.train import train_fsl, device, transform\n",
        "\n",
        "\n",
        "%load_ext autoreload\n",
        "%autoreload 2"
      ],
      "metadata": {
        "id": "981jAgVabC1f",
        "outputId": "028416ed-66d2-46f5-94ef-8c285482bde3",
        "colab": {
          "base_uri": "https://localhost:8080/"
        }
      },
      "execution_count": 12,
      "outputs": [
        {
          "output_type": "stream",
          "name": "stdout",
          "text": [
            "The autoreload extension is already loaded. To reload it, use:\n",
            "  %reload_ext autoreload\n"
          ]
        }
      ]
    },
    {
      "cell_type": "code",
      "source": [
        "n_way   = 5\n",
        "n_shot  = 5\n",
        "n_query = 5"
      ],
      "metadata": {
        "id": "kUJ91iUHermi"
      },
      "execution_count": 13,
      "outputs": []
    },
    {
      "cell_type": "code",
      "source": [
        "transform"
      ],
      "metadata": {
        "colab": {
          "base_uri": "https://localhost:8080/"
        },
        "id": "IjO6zoQtopRB",
        "outputId": "cb79da91-e775-429e-aa0b-9a220741b43c"
      },
      "execution_count": 14,
      "outputs": [
        {
          "output_type": "execute_result",
          "data": {
            "text/plain": [
              "Compose(\n",
              "    Grayscale(num_output_channels=3)\n",
              "    Resize(size=(256, 512), interpolation=bilinear, max_size=None, antialias=warn)\n",
              "    ToTensor()\n",
              ")"
            ]
          },
          "metadata": {},
          "execution_count": 14
        }
      ]
    },
    {
      "cell_type": "markdown",
      "source": [
        "### Look at classes that have low performance"
      ],
      "metadata": {
        "id": "DIWaIsbfamgW"
      }
    },
    {
      "cell_type": "code",
      "source": [
        "# Load into dataset\n",
        "# For each class, calculate accuracy\n",
        "# Then plot barplot of accuracy for each class\n",
        "# Look at the characteristics of images for the classes that have low performance"
      ],
      "metadata": {
        "id": "ve6THl99amCJ"
      },
      "execution_count": 15,
      "outputs": []
    },
    {
      "cell_type": "code",
      "source": [
        "df = remove_new_whale_class(\n",
        "  pd.read_csv('/content/creating-ai-enabled-systems/Research Project/data/images_and_ids.csv')\n",
        ")\n",
        "\n",
        "df = df[df.class_count >= 10]"
      ],
      "metadata": {
        "id": "ruB03R5daY3R"
      },
      "execution_count": 16,
      "outputs": []
    },
    {
      "cell_type": "code",
      "source": [
        "cnn = resnet18()\n",
        "cnn.fc = torch.nn.Flatten()\n",
        "\n",
        "few_shot_classifier = PrototypicalNetworks(cnn).to(device)\n",
        "few_shot_classifier.load_state_dict(\n",
        "  torch.load('/content/drive/MyDrive/Research-Project/models/prototypical_network_resnet18_prod_last_epoch')()\n",
        ")"
      ],
      "metadata": {
        "colab": {
          "base_uri": "https://localhost:8080/"
        },
        "id": "0e05NPp-XVwA",
        "outputId": "8e7e0d68-ba56-4aba-df73-b759735b6a24"
      },
      "execution_count": 17,
      "outputs": [
        {
          "output_type": "execute_result",
          "data": {
            "text/plain": [
              "<All keys matched successfully>"
            ]
          },
          "metadata": {},
          "execution_count": 17
        }
      ]
    },
    {
      "cell_type": "code",
      "source": [
        "%%capture\n",
        "\n",
        "few_shot_classifier.eval()"
      ],
      "metadata": {
        "id": "3ZSqL58yXrnq"
      },
      "execution_count": 18,
      "outputs": []
    },
    {
      "cell_type": "code",
      "source": [
        "# task_accs = {'<25%': dict(), '25-50%': dict(), '50-75%': dict(), '>75%': dict()}\n",
        "# task_images = {'<25%': dict(), '25-50%': dict(), '50-75%': dict(), '>75%': dict()}\n",
        "\n",
        "task_images = {\n",
        "    '<25%': {'support_set': [], 'query_set': []},\n",
        "    '25-50%': {'support_set': [], 'query_set': []},\n",
        "    '50-75%': {'support_set': [], 'query_set': []},\n",
        "    '>75%': {'support_set': [], 'query_set': []}\n",
        "}\n",
        "\n",
        "n_tasks = 500\n",
        "for task in tqdm(range(n_tasks)):\n",
        "  # Sample n_way random whale_ids\n",
        "  whale_ids = np.random.choice(df['Id'].unique(), size=n_way, replace=False)\n",
        "\n",
        "  # Sample n_shot images for each whale_id for support set\n",
        "  task_support_labels = []\n",
        "  task_support_image_paths = []\n",
        "  for i, whale_id in enumerate(whale_ids):\n",
        "    task_support_image_paths.extend(list(np.random.choice(df[df['Id'] == whale_id]['Image'], size=5, replace=False)))\n",
        "    task_support_labels.extend([i for _ in range(n_shot)])\n",
        "\n",
        "\n",
        "  # Sample n_shot images for each whale_id for query set\n",
        "  task_query_labels = []\n",
        "  task_query_image_paths = []\n",
        "  for i, whale_id in enumerate(whale_ids):\n",
        "    whale_query_images = df[(df['Id'] == whale_id) & ~(df['Image'].isin(task_support_image_paths))]['Image']\n",
        "    task_query_image_paths.extend(list(np.random.choice(whale_query_images, size=n_query, replace=False)))\n",
        "    task_query_labels.extend([i for _ in range(n_query)])\n",
        "\n",
        "  # Load images and labels in tensor\n",
        "  support_images = np.zeros((n_shot*n_way, 3, 256, 512))\n",
        "  for i, image_filename in enumerate(task_support_image_paths):\n",
        "    support_images[i] = transform(Image.open(f'/content/train/{image_filename}')).detach().numpy()\n",
        "\n",
        "  query_images = np.zeros((n_query*n_way, 3, 256, 512))\n",
        "  for i, image_filename in enumerate(task_query_image_paths):\n",
        "    query_images[i] = transform(Image.open(f'/content/train/{image_filename}')).detach().numpy()\n",
        "\n",
        "\n",
        "  # Turn all images and labels into tensors\n",
        "  support_labels = torch.Tensor(task_support_labels)\n",
        "  support_images = torch.Tensor(support_images)\n",
        "  query_labels = torch.Tensor(task_query_labels)\n",
        "  query_images = torch.Tensor(query_images)\n",
        "\n",
        "\n",
        "  # Pass support and query sets through Prototypical Network\n",
        "  few_shot_classifier.process_support_set(support_images.to(device), support_labels.to(device))\n",
        "  predictions = few_shot_classifier(query_images.to(device)).detach().data\n",
        "  prediction_labels = torch.max(predictions, 1)[1].cpu().detach().data\n",
        "\n",
        "  for label in torch.unique(query_labels):\n",
        "    label_idxs = torch.argwhere(query_labels == label)\n",
        "    whale_id_acc = (prediction_labels[label_idxs] == query_labels[label_idxs]).sum().item() / n_query\n",
        "    whale_id = whale_ids[int(label.detach().item())]\n",
        "\n",
        "    # if whale_id not in task_accs: task_accs[whale_id] = []\n",
        "    # if whale_id not in task_images: task_images[whale_id] = []\n",
        "\n",
        "    if whale_id_acc < 0.25:\n",
        "      # if whale_id not in task_images['<25%']:\n",
        "        # task_images['<25%'][whale_id] = []\n",
        "      # task_images['<25%'] += [task_support_image_paths[i] for i in label_idxs]\n",
        "\n",
        "\n",
        "      task_images['<25%']['support_set'] += [task_support_image_paths[i] for i in label_idxs]\n",
        "      task_images['<25%']['query_set'] += [task_query_image_paths[i] for i in label_idxs]\n",
        "\n",
        "\n",
        "\n",
        "    elif whale_id_acc >= 0.25 and whale_id_acc < 0.5:\n",
        "      # if whale_id not in task_images['25-50%']:\n",
        "      #   task_images['25-50%'][whale_id] = []\n",
        "\n",
        "\n",
        "      task_images['25-50%']['support_set'] += [task_support_image_paths[i] for i in label_idxs]\n",
        "      task_images['25-50%']['query_set'] += [task_query_image_paths[i] for i in label_idxs]\n",
        "\n",
        "    elif whale_id_acc >= 0.5 and whale_id_acc < 0.75:\n",
        "      # if whale_id not in task_images['50-75%']:\n",
        "      #   task_images['50-75%'][whale_id] = []\n",
        "      # task_images['50-75%'] += [task_support_image_paths[i] for i in label_idxs]\n",
        "\n",
        "      task_images['50-75%']['support_set'] += [task_support_image_paths[i] for i in label_idxs]\n",
        "      task_images['50-75%']['query_set'] += [task_query_image_paths[i] for i in label_idxs]\n",
        "\n",
        "    else:\n",
        "      # if whale_id not in task_images['>75%']:\n",
        "      #   task_images['>75%'][whale_id] = []\n",
        "      # task_images['>75%'] += [task_support_image_paths[i] for i in label_idxs]\n",
        "\n",
        "\n",
        "      task_images['>75%']['support_set'] += [task_support_image_paths[i] for i in label_idxs]\n",
        "      task_images['>75%']['query_set'] += [task_query_image_paths[i] for i in label_idxs]"
      ],
      "metadata": {
        "colab": {
          "base_uri": "https://localhost:8080/"
        },
        "id": "Pp8X5xOU6kEB",
        "outputId": "f165e229-d3d6-4b11-9828-c4bc471c0201"
      },
      "execution_count": 26,
      "outputs": [
        {
          "output_type": "stream",
          "name": "stderr",
          "text": [
            "100%|██████████| 500/500 [05:57<00:00,  1.40it/s]\n"
          ]
        }
      ]
    },
    {
      "cell_type": "code",
      "source": [
        "images_25 = task_images['<25%']\n",
        "images_25_50 = task_images['25-50%']\n",
        "images_50_75 = task_images['50-75%']\n",
        "images_75 = task_images['>75%']"
      ],
      "metadata": {
        "id": "DK1uZFg36YQN"
      },
      "execution_count": 28,
      "outputs": []
    },
    {
      "cell_type": "code",
      "source": [
        "# def get_difference_stats_for_task(support_set_images, query_set_images):\n",
        "\n",
        "#   support_set_heights, support_set_widths = [], []\n",
        "#   support_set_red, support_set_blue, support_set_green = [], []\n",
        "\n",
        "#   query_set_heights, query_set_widths = [], []\n",
        "#   query_set_red, query_set_blue, query_set_green = [], []\n",
        "\n",
        "#   for image_filename in support_set_images:\n",
        "#     image = cv2.imread(f'/content/train/{image_filename}')\n",
        "#     support_set_heights += [image.shape[0]]\n",
        "#     support_set_widths += [image.shape[1]]\n",
        "#     support_set_red += [np.mean(image[:, :, 2])]\n",
        "#     support_set_green += [np.mean(image[:, :, 1])]\n",
        "#     support_set_blue += [np.mean(image[:, :, 0])]\n",
        "\n",
        "#   for image_filename in query_set_images:\n",
        "#     image = cv2.imread(f'/content/train/{image_filename}')\n",
        "#     query_set_heights += [image.shape[0]]\n",
        "#     query_set_widths += [image.shape[1]]\n",
        "#     query_set_red += [np.mean(image[:, :, 2])]\n",
        "#     query_set_green += [np.mean(image[:, :, 1])]\n",
        "#     query_set_blue += [np.mean(image[:, :, 0])]\n",
        "\n",
        "#   avg_height_diff = abs(np.mean(support_set_heights) - np.mean(query_set_heights))\n",
        "#   avg_width_diff = abs(np.mean(support_set_widths) - np.mean(query_set_widths))\n",
        "\n",
        "#   avg_red_diff = abs(np.mean(support_set_red) - np.mean(query_set_red))\n",
        "#   avg_green_diff = abs(np.mean(support_set_green) - np.mean(query_set_green))\n",
        "#   avg_blue_diff = abs(np.mean(support_set_blue) - np.mean(query_set_blue))\n",
        "\n",
        "#   return avg_height_diff, avg_width_diff, avg_red_diff, avg_green_diff, avg_blue_diff"
      ],
      "metadata": {
        "id": "C5Jmids94itP"
      },
      "execution_count": 27,
      "outputs": []
    },
    {
      "cell_type": "code",
      "source": [
        "task_stats = {k: {} for k in task_images.keys()}\n",
        "task_stats"
      ],
      "metadata": {
        "id": "AduD6U8fEtMb",
        "outputId": "6b307745-0498-42d4-ff60-b5fdc59e9fd6",
        "colab": {
          "base_uri": "https://localhost:8080/"
        }
      },
      "execution_count": 66,
      "outputs": [
        {
          "output_type": "execute_result",
          "data": {
            "text/plain": [
              "{'<25%': {}, '25-50%': {}, '50-75%': {}, '>75%': {}}"
            ]
          },
          "metadata": {},
          "execution_count": 66
        }
      ]
    },
    {
      "cell_type": "code",
      "source": [
        "### Calculate the average width and height for images in each percentile\n",
        "def get_dimension_stats(images, tqdm_desc):\n",
        "  heights, widths = [], []\n",
        "  red, green, blue = [], [], []\n",
        "  for image_filename in tqdm(images, desc=tqdm_desc):\n",
        "    image = cv2.imread(f'/content/train/{image_filename}')\n",
        "    heights += [image.shape[0]]\n",
        "    widths += [image.shape[1]]\n",
        "    red += [np.mean(image[:, :, 2])]\n",
        "    green += [np.mean(image[:, :, 1])]\n",
        "    blue += [np.mean(image[:, :, 0])]\n",
        "\n",
        "  return np.mean(heights), np.std(heights), np.mean(widths), np.std(widths), np.mean(red), np.std(red), np.mean(green), np.std(green), np.mean(blue), np.std(blue)\n",
        "\n",
        "task_stats = {k: {} for k in task_images.keys()}\n",
        "for percentile, sets in task_images.items():\n",
        "  for s in sets.keys():\n",
        "    (\n",
        "      mean_height, std_height,\n",
        "      mean_width, std_width,\n",
        "      mean_red, std_red,\n",
        "      mean_green, std_green,\n",
        "      mean_blue, std_blue\n",
        "    ) = get_dimension_stats(task_images[percentile][s], tqdm_desc=f'Processing {percentile} {s}')\n",
        "    task_stats[percentile][s] = {\n",
        "        'height': {'mean': mean_height, 'std': std_height},\n",
        "        'width': {'mean': mean_width, 'std': std_width},\n",
        "        'red': {'mean': mean_red, 'std': std_red},\n",
        "        'green': {'mean': mean_green, 'std': std_green},\n",
        "        'blue': {'mean': mean_blue, 'std': std_blue}\n",
        "    }\n",
        "\n",
        "  print()"
      ],
      "metadata": {
        "id": "9lFol-r1uktl",
        "outputId": "9bec6079-4243-4ef2-b12c-7226ab1497c1",
        "colab": {
          "base_uri": "https://localhost:8080/"
        }
      },
      "execution_count": 79,
      "outputs": [
        {
          "output_type": "stream",
          "name": "stderr",
          "text": [
            "Processing <25% support_set: 100%|██████████| 30/30 [00:00<00:00, 87.47it/s]\n",
            "Processing <25% query_set: 100%|██████████| 30/30 [00:00<00:00, 81.91it/s]\n"
          ]
        },
        {
          "output_type": "stream",
          "name": "stdout",
          "text": [
            "\n"
          ]
        },
        {
          "output_type": "stream",
          "name": "stderr",
          "text": [
            "Processing 25-50% support_set: 100%|██████████| 90/90 [00:00<00:00, 102.55it/s]\n",
            "Processing 25-50% query_set: 100%|██████████| 90/90 [00:01<00:00, 89.11it/s]\n"
          ]
        },
        {
          "output_type": "stream",
          "name": "stdout",
          "text": [
            "\n"
          ]
        },
        {
          "output_type": "stream",
          "name": "stderr",
          "text": [
            "Processing 50-75% support_set: 100%|██████████| 450/450 [00:04<00:00, 103.83it/s]\n",
            "Processing 50-75% query_set: 100%|██████████| 450/450 [00:04<00:00, 104.88it/s]\n"
          ]
        },
        {
          "output_type": "stream",
          "name": "stdout",
          "text": [
            "\n"
          ]
        },
        {
          "output_type": "stream",
          "name": "stderr",
          "text": [
            "Processing >75% support_set: 100%|██████████| 11930/11930 [01:54<00:00, 104.01it/s]\n",
            "Processing >75% query_set: 100%|██████████| 11930/11930 [01:53<00:00, 104.97it/s]"
          ]
        },
        {
          "output_type": "stream",
          "name": "stdout",
          "text": [
            "\n"
          ]
        },
        {
          "output_type": "stream",
          "name": "stderr",
          "text": [
            "\n"
          ]
        }
      ]
    },
    {
      "cell_type": "code",
      "source": [
        "def plot_support_and_query_bars(ax, support_info, query_info, width, offset, support_label=None, query_label=None, support_color='blue', query_color='lightblue'):\n",
        "  support_bar = ax.bar(offset, support_info, width, label=support_label, color=support_color)\n",
        "  query_bar = ax.bar(offset+width, query_info, width, label=query_label, color=query_color)\n",
        "  ax.bar_label(support_bar, padding=3)\n",
        "  ax.bar_label(query_bar, padding=3)\n"
      ],
      "metadata": {
        "id": "s7likotjAibS"
      },
      "execution_count": 50,
      "outputs": []
    },
    {
      "cell_type": "code",
      "source": [
        "x = np.arange(4)\n",
        "width = 0.30\n",
        "multiplier = 0\n",
        "\n",
        "fig, ax = plt.subplots(layout='constrained', figsize=(12, 6))\n",
        "\n",
        "offsets = []\n",
        "i = 0\n",
        "support_label_height, query_label_height = 'Average support set image height', 'Average query set image height'\n",
        "support_label_width, query_label_width = 'Average support set image width', 'Average query set image width'\n",
        "\n",
        "for percentile, stats in task_stats.items():\n",
        "  offset = width*i\n",
        "  plot_support_and_query_bars(\n",
        "      ax,\n",
        "      round(stats['support_set']['height']['mean']),\n",
        "      round(stats['query_set']['height']['mean']),\n",
        "      width, offset,\n",
        "      support_color='blue',\n",
        "      query_color='lightblue',\n",
        "      support_label=support_label_height,\n",
        "      query_label=query_label_height\n",
        "  )\n",
        "  offset = width*(i+2)\n",
        "  plot_support_and_query_bars(\n",
        "      ax,\n",
        "      round(stats['support_set']['width']['mean']),\n",
        "      round(stats['query_set']['width']['mean']),\n",
        "      width, offset,\n",
        "      support_color='green',\n",
        "      query_color='lightgreen',\n",
        "      support_label=support_label_width,\n",
        "      query_label=query_label_width\n",
        "  )\n",
        "  support_label_height, query_label_height = None, None\n",
        "  support_label_width, query_label_width = None, None\n",
        "  offsets += [width*(i+1.5)]\n",
        "\n",
        "  i += 5\n",
        "\n",
        "\n",
        "ax.set_title('Average height and width per quartile')\n",
        "ax.set_xticks(offsets, list(task_stats.keys()))\n",
        "ax.set_xlabel('Top-1 Accuracy Range')\n",
        "ax.legend(loc='upper right', ncols=2)\n",
        "ax.set_ylim(0, 1300)\n",
        "plt.show()\n",
        "plt.show()"
      ],
      "metadata": {
        "id": "fXui_O5QHLVE",
        "outputId": "dbf7484e-4597-416e-b5cd-2d60113b7f85",
        "colab": {
          "base_uri": "https://localhost:8080/",
          "height": 648
        }
      },
      "execution_count": 95,
      "outputs": [
        {
          "output_type": "display_data",
          "data": {
            "text/plain": [
              "<Figure size 1200x600 with 1 Axes>"
            ],
            "image/png": "[encoded data removed]"
          },
          "metadata": {}
        }
      ]
    },
    {
      "cell_type": "code",
      "source": [
        "(4.4-2.2)/2"
      ],
      "metadata": {
        "id": "CHIdYKqdM3kU",
        "outputId": "1db0d942-f2df-48d7-c1fd-f20e92507bfa",
        "colab": {
          "base_uri": "https://localhost:8080/"
        }
      },
      "execution_count": 114,
      "outputs": [
        {
          "output_type": "execute_result",
          "data": {
            "text/plain": [
              "1.1"
            ]
          },
          "metadata": {},
          "execution_count": 114
        }
      ]
    },
    {
      "cell_type": "code",
      "source": [
        "x = np.arange(4)\n",
        "width = 0.30\n",
        "multiplier = 0\n",
        "\n",
        "fig, ax = plt.subplots(layout='constrained', figsize=(12, 6))\n",
        "\n",
        "offsets = []\n",
        "i = 0\n",
        "support_label_red, query_label_red = 'Average support set red pixel values', 'Average query set red pixel values'\n",
        "support_label_green, query_label_green = 'Average support set green pixel values', 'Average query set green pixel values'\n",
        "support_label_blue, query_label_blue = 'Average support set blue pixel values', 'Average query set blue pixel values'\n",
        "\n",
        "for percentile, stats in task_stats.items():\n",
        "  offset = width*i\n",
        "  plot_support_and_query_bars(\n",
        "      ax,\n",
        "      round(stats['support_set']['red']['mean']),\n",
        "      round(stats['query_set']['red']['mean']),\n",
        "      width, offset,\n",
        "      support_color='red',\n",
        "      query_color='tomato',\n",
        "      support_label=support_label_red,\n",
        "      query_label=query_label_red\n",
        "  )\n",
        "  offset = width*(i+2.2)\n",
        "  plot_support_and_query_bars(\n",
        "      ax,\n",
        "      round(stats['support_set']['green']['mean']),\n",
        "      round(stats['query_set']['green']['mean']),\n",
        "      width, offset,\n",
        "      support_color='green',\n",
        "      query_color='lightgreen',\n",
        "      support_label=support_label_green,\n",
        "      query_label=query_label_green\n",
        "  )\n",
        "\n",
        "  offset = width*(i+4.4)\n",
        "  plot_support_and_query_bars(\n",
        "      ax,\n",
        "      round(stats['support_set']['blue']['mean']),\n",
        "      round(stats['query_set']['blue']['mean']),\n",
        "      width, offset,\n",
        "      support_color='blue',\n",
        "      query_color='lightblue',\n",
        "      support_label=support_label_blue,\n",
        "      query_label=query_label_blue\n",
        "  )\n",
        "\n",
        "  support_label_red, query_label_red = None, None\n",
        "  support_label_green, query_label_green = None, None\n",
        "  support_label_blue, query_label_blue = None, None\n",
        "\n",
        "  offsets += [width*(i+2.67)]\n",
        "  i += 8\n",
        "\n",
        "\n",
        "ax.set_title('Average RGB values for support/query set per top-1 accuracy quartile')\n",
        "ax.set_xticks(offsets, list(task_stats.keys()))\n",
        "ax.set_xlabel('Top-1 Accuracy Range')\n",
        "ax.legend(loc='upper right', ncols=3)\n",
        "ax.set_ylim(0, 200)\n",
        "plt.show()\n",
        "plt.show()"
      ],
      "metadata": {
        "id": "cByuoiA4KPA-",
        "outputId": "0198ecda-e70b-407f-b383-37ad04b4cfe9",
        "colab": {
          "base_uri": "https://localhost:8080/",
          "height": 545
        }
      },
      "execution_count": 121,
      "outputs": [
        {
          "output_type": "display_data",
          "data": {
            "text/plain": [
              "<Figure size 1200x600 with 1 Axes>"
            ],
            "image/png": "[encoded data removed]"
          },
          "metadata": {}
        }
      ]
    },
    {
      "cell_type": "markdown",
      "source": [
        "# Look at matching networks"
      ],
      "metadata": {
        "id": "fT9sdF0H_tpx"
      }
    },
    {
      "cell_type": "code",
      "source": [
        "cnn = resnet18(weights='DEFAULT')\n",
        "# cnn.fc = torch.nn.Flatten()\n",
        "cnn.fc = torch.nn.Identity()\n",
        "cnn = cnn.to(device)"
      ],
      "metadata": {
        "id": "5AkBsQJBH7up",
        "outputId": "c11e39f4-b9de-4869-97bc-7524f395cd51",
        "colab": {
          "base_uri": "https://localhost:8080/"
        }
      },
      "execution_count": 16,
      "outputs": [
        {
          "output_type": "stream",
          "name": "stderr",
          "text": [
            "Downloading: \"https://download.pytorch.org/models/resnet18-f37072fd.pth\" to /root/.cache/torch/hub/checkpoints/resnet18-f37072fd.pth\n",
            "100%|██████████| 44.7M/44.7M [00:00<00:00, 94.8MB/s]\n"
          ]
        }
      ]
    },
    {
      "cell_type": "code",
      "source": [
        "dataloader = DataLoader(\n",
        "    dataset,\n",
        "    batch_size=16,\n",
        "    num_workers=2,\n",
        "    shuffle=False,\n",
        ")"
      ],
      "metadata": {
        "id": "Z5_YUK1aIHCz"
      },
      "execution_count": null,
      "outputs": []
    },
    {
      "cell_type": "code",
      "source": [
        "from easyfsl.utils import predict_embeddings\n",
        "\n",
        "embeddings_df = predict_embeddings(dataloader, cnn, device=device)\n",
        "\n",
        "print(embeddings_df)"
      ],
      "metadata": {
        "id": "59YTHlJVH3H7",
        "outputId": "a157d3c7-8825-4ea3-d16a-e9f478cc5387",
        "colab": {
          "base_uri": "https://localhost:8080/"
        }
      },
      "execution_count": null,
      "outputs": [
        {
          "output_type": "stream",
          "name": "stderr",
          "text": [
            "Predicting embeddings: 100%|██████████| 301/301 [01:07<00:00,  4.46batch/s]\n"
          ]
        },
        {
          "output_type": "stream",
          "name": "stdout",
          "text": [
            "                                              embedding  class_name\n",
            "0     [tensor(0.3049), tensor(0.6598), tensor(1.1811...           0\n",
            "1     [tensor(1.1953), tensor(1.3426), tensor(0.9337...           1\n",
            "2     [tensor(1.1288), tensor(0.5041), tensor(0.6378...           2\n",
            "3     [tensor(0.4303), tensor(0.9968), tensor(0.8337...           3\n",
            "4     [tensor(0.5984), tensor(0.6052), tensor(1.1637...           4\n",
            "...                                                 ...         ...\n",
            "4809  [tensor(1.4665), tensor(1.1089), tensor(0.9222...          51\n",
            "4810  [tensor(1.3393), tensor(0.7167), tensor(0.4624...         100\n",
            "4811  [tensor(0.3397), tensor(0.5378), tensor(1.2134...          13\n",
            "4812  [tensor(0.7806), tensor(1.6399), tensor(1.8509...           7\n",
            "4813  [tensor(1.0464), tensor(0.4973), tensor(0.2367...         205\n",
            "\n",
            "[4814 rows x 2 columns]\n"
          ]
        }
      ]
    },
    {
      "cell_type": "code",
      "source": [
        "from easyfsl.datasets import FeaturesDataset\n",
        "\n",
        "features_dataset = FeaturesDataset.from_dataframe(embeddings_df)"
      ],
      "metadata": {
        "id": "vkoLmqNeIi4A"
      },
      "execution_count": null,
      "outputs": []
    },
    {
      "cell_type": "code",
      "source": [
        "task_sampler = TaskSampler(\n",
        "    features_dataset,\n",
        "    n_way=5,\n",
        "    n_shot=5,\n",
        "    n_query=5,\n",
        "    n_tasks=100,\n",
        ")\n",
        "features_loader = DataLoader(\n",
        "    features_dataset,\n",
        "    batch_sampler=task_sampler,\n",
        "    num_workers=2,\n",
        "    pin_memory=True,\n",
        "    collate_fn=task_sampler.episodic_collate_fn,\n",
        ")"
      ],
      "metadata": {
        "id": "2h-9TiKFInnu"
      },
      "execution_count": null,
      "outputs": []
    },
    {
      "cell_type": "code",
      "source": [
        "mn_classifier = MatchingNetworks(cnn, feature_dimension=512).to(device)"
      ],
      "metadata": {
        "id": "KgsapCN7_xk3"
      },
      "execution_count": null,
      "outputs": []
    },
    {
      "cell_type": "code",
      "source": [
        "acc = evaluate(\n",
        "    mn_classifier, loader, device=device, use_tqdm=True\n",
        ")\n"
      ],
      "metadata": {
        "id": "2FYt4xWeCjvu",
        "outputId": "f550d220-15bc-470b-d234-dd39558ca307",
        "colab": {
          "base_uri": "https://localhost:8080/"
        }
      },
      "execution_count": null,
      "outputs": [
        {
          "output_type": "stream",
          "name": "stderr",
          "text": [
            "100%|██████████| 500/500 [06:27<00:00,  1.29it/s, accuracy=0.576]\n"
          ]
        }
      ]
    },
    {
      "cell_type": "code",
      "source": [
        "pt_classifier = PrototypicalNetworks(torch.nn.Identity()).to(device)"
      ],
      "metadata": {
        "id": "2kyB-PJCEOol"
      },
      "execution_count": null,
      "outputs": []
    },
    {
      "cell_type": "code",
      "source": [
        "acc = evaluate(\n",
        "    pt_classifier, features_loader, device=device, use_tqdm=True\n",
        ")"
      ],
      "metadata": {
        "id": "rIlx6xUeCnro",
        "outputId": "7312497e-25b6-4d08-949a-45867ba44387",
        "colab": {
          "base_uri": "https://localhost:8080/"
        }
      },
      "execution_count": null,
      "outputs": [
        {
          "output_type": "stream",
          "name": "stderr",
          "text": [
            "100%|██████████| 100/100 [00:01<00:00, 68.51it/s, accuracy=0.625]\n"
          ]
        }
      ]
    },
    {
      "cell_type": "code",
      "source": [
        "ss_classifier = SimpleShot(cnn).to(device)"
      ],
      "metadata": {
        "id": "0js0n4ywETpd"
      },
      "execution_count": null,
      "outputs": []
    },
    {
      "cell_type": "code",
      "source": [
        "acc = evaluate(\n",
        "    ss_classifier, loader, device=device, use_tqdm=True\n",
        ")"
      ],
      "metadata": {
        "id": "beez7vRaGE42",
        "outputId": "576a4ebf-5219-4900-9491-bdb14ffd8ff2",
        "colab": {
          "base_uri": "https://localhost:8080/",
          "height": 381
        }
      },
      "execution_count": null,
      "outputs": [
        {
          "output_type": "stream",
          "name": "stderr",
          "text": [
            " 40%|████      | 202/500 [02:36<03:50,  1.29it/s, accuracy=0.594]\n"
          ]
        },
        {
          "output_type": "error",
          "ename": "KeyboardInterrupt",
          "evalue": "ignored",
          "traceback": [
            "\u001b[0;31m---------------------------------------------------------------------------\u001b[0m",
            "\u001b[0;31mKeyboardInterrupt\u001b[0m                         Traceback (most recent call last)",
            "\u001b[0;32m<ipython-input-83-f85a413d3406>\u001b[0m in \u001b[0;36m<cell line: 1>\u001b[0;34m()\u001b[0m\n\u001b[0;32m----> 1\u001b[0;31m acc = evaluate(\n\u001b[0m\u001b[1;32m      2\u001b[0m     \u001b[0mss_classifier\u001b[0m\u001b[0;34m,\u001b[0m \u001b[0mloader\u001b[0m\u001b[0;34m,\u001b[0m \u001b[0mdevice\u001b[0m\u001b[0;34m=\u001b[0m\u001b[0mdevice\u001b[0m\u001b[0;34m,\u001b[0m \u001b[0muse_tqdm\u001b[0m\u001b[0;34m=\u001b[0m\u001b[0;32mTrue\u001b[0m\u001b[0;34m\u001b[0m\u001b[0;34m\u001b[0m\u001b[0m\n\u001b[1;32m      3\u001b[0m )\n",
            "\u001b[0;32m/usr/local/lib/python3.10/dist-packages/easyfsl/utils.py\u001b[0m in \u001b[0;36mevaluate\u001b[0;34m(model, data_loader, device, use_tqdm, tqdm_prefix)\u001b[0m\n\u001b[1;32m    139\u001b[0m             \u001b[0mdesc\u001b[0m\u001b[0;34m=\u001b[0m\u001b[0mtqdm_prefix\u001b[0m\u001b[0;34m,\u001b[0m\u001b[0;34m\u001b[0m\u001b[0;34m\u001b[0m\u001b[0m\n\u001b[1;32m    140\u001b[0m         ) as tqdm_eval:\n\u001b[0;32m--> 141\u001b[0;31m             for _, (\n\u001b[0m\u001b[1;32m    142\u001b[0m                 \u001b[0msupport_images\u001b[0m\u001b[0;34m,\u001b[0m\u001b[0;34m\u001b[0m\u001b[0;34m\u001b[0m\u001b[0m\n\u001b[1;32m    143\u001b[0m                 \u001b[0msupport_labels\u001b[0m\u001b[0;34m,\u001b[0m\u001b[0;34m\u001b[0m\u001b[0;34m\u001b[0m\u001b[0m\n",
            "\u001b[0;32m/usr/local/lib/python3.10/dist-packages/tqdm/std.py\u001b[0m in \u001b[0;36m__iter__\u001b[0;34m(self)\u001b[0m\n\u001b[1;32m   1176\u001b[0m \u001b[0;34m\u001b[0m\u001b[0m\n\u001b[1;32m   1177\u001b[0m         \u001b[0;32mtry\u001b[0m\u001b[0;34m:\u001b[0m\u001b[0;34m\u001b[0m\u001b[0;34m\u001b[0m\u001b[0m\n\u001b[0;32m-> 1178\u001b[0;31m             \u001b[0;32mfor\u001b[0m \u001b[0mobj\u001b[0m \u001b[0;32min\u001b[0m \u001b[0miterable\u001b[0m\u001b[0;34m:\u001b[0m\u001b[0;34m\u001b[0m\u001b[0;34m\u001b[0m\u001b[0m\n\u001b[0m\u001b[1;32m   1179\u001b[0m                 \u001b[0;32myield\u001b[0m \u001b[0mobj\u001b[0m\u001b[0;34m\u001b[0m\u001b[0;34m\u001b[0m\u001b[0m\n\u001b[1;32m   1180\u001b[0m                 \u001b[0;31m# Update and possibly print the progressbar.\u001b[0m\u001b[0;34m\u001b[0m\u001b[0;34m\u001b[0m\u001b[0m\n",
            "\u001b[0;32m/usr/local/lib/python3.10/dist-packages/torch/utils/data/dataloader.py\u001b[0m in \u001b[0;36m__next__\u001b[0;34m(self)\u001b[0m\n\u001b[1;32m    631\u001b[0m                 \u001b[0;31m# TODO(https://github.com/pytorch/pytorch/issues/76750)\u001b[0m\u001b[0;34m\u001b[0m\u001b[0;34m\u001b[0m\u001b[0m\n\u001b[1;32m    632\u001b[0m                 \u001b[0mself\u001b[0m\u001b[0;34m.\u001b[0m\u001b[0m_reset\u001b[0m\u001b[0;34m(\u001b[0m\u001b[0;34m)\u001b[0m  \u001b[0;31m# type: ignore[call-arg]\u001b[0m\u001b[0;34m\u001b[0m\u001b[0;34m\u001b[0m\u001b[0m\n\u001b[0;32m--> 633\u001b[0;31m             \u001b[0mdata\u001b[0m \u001b[0;34m=\u001b[0m \u001b[0mself\u001b[0m\u001b[0;34m.\u001b[0m\u001b[0m_next_data\u001b[0m\u001b[0;34m(\u001b[0m\u001b[0;34m)\u001b[0m\u001b[0;34m\u001b[0m\u001b[0;34m\u001b[0m\u001b[0m\n\u001b[0m\u001b[1;32m    634\u001b[0m             \u001b[0mself\u001b[0m\u001b[0;34m.\u001b[0m\u001b[0m_num_yielded\u001b[0m \u001b[0;34m+=\u001b[0m \u001b[0;36m1\u001b[0m\u001b[0;34m\u001b[0m\u001b[0;34m\u001b[0m\u001b[0m\n\u001b[1;32m    635\u001b[0m             \u001b[0;32mif\u001b[0m \u001b[0mself\u001b[0m\u001b[0;34m.\u001b[0m\u001b[0m_dataset_kind\u001b[0m \u001b[0;34m==\u001b[0m \u001b[0m_DatasetKind\u001b[0m\u001b[0;34m.\u001b[0m\u001b[0mIterable\u001b[0m \u001b[0;32mand\u001b[0m\u001b[0;31m \u001b[0m\u001b[0;31m\\\u001b[0m\u001b[0;34m\u001b[0m\u001b[0;34m\u001b[0m\u001b[0m\n",
            "\u001b[0;32m/usr/local/lib/python3.10/dist-packages/torch/utils/data/dataloader.py\u001b[0m in \u001b[0;36m_next_data\u001b[0;34m(self)\u001b[0m\n\u001b[1;32m   1326\u001b[0m \u001b[0;34m\u001b[0m\u001b[0m\n\u001b[1;32m   1327\u001b[0m             \u001b[0;32massert\u001b[0m \u001b[0;32mnot\u001b[0m \u001b[0mself\u001b[0m\u001b[0;34m.\u001b[0m\u001b[0m_shutdown\u001b[0m \u001b[0;32mand\u001b[0m \u001b[0mself\u001b[0m\u001b[0;34m.\u001b[0m\u001b[0m_tasks_outstanding\u001b[0m \u001b[0;34m>\u001b[0m \u001b[0;36m0\u001b[0m\u001b[0;34m\u001b[0m\u001b[0;34m\u001b[0m\u001b[0m\n\u001b[0;32m-> 1328\u001b[0;31m             \u001b[0midx\u001b[0m\u001b[0;34m,\u001b[0m \u001b[0mdata\u001b[0m \u001b[0;34m=\u001b[0m \u001b[0mself\u001b[0m\u001b[0;34m.\u001b[0m\u001b[0m_get_data\u001b[0m\u001b[0;34m(\u001b[0m\u001b[0;34m)\u001b[0m\u001b[0;34m\u001b[0m\u001b[0;34m\u001b[0m\u001b[0m\n\u001b[0m\u001b[1;32m   1329\u001b[0m             \u001b[0mself\u001b[0m\u001b[0;34m.\u001b[0m\u001b[0m_tasks_outstanding\u001b[0m \u001b[0;34m-=\u001b[0m \u001b[0;36m1\u001b[0m\u001b[0;34m\u001b[0m\u001b[0;34m\u001b[0m\u001b[0m\n\u001b[1;32m   1330\u001b[0m             \u001b[0;32mif\u001b[0m \u001b[0mself\u001b[0m\u001b[0;34m.\u001b[0m\u001b[0m_dataset_kind\u001b[0m \u001b[0;34m==\u001b[0m \u001b[0m_DatasetKind\u001b[0m\u001b[0;34m.\u001b[0m\u001b[0mIterable\u001b[0m\u001b[0;34m:\u001b[0m\u001b[0;34m\u001b[0m\u001b[0;34m\u001b[0m\u001b[0m\n",
            "\u001b[0;32m/usr/local/lib/python3.10/dist-packages/torch/utils/data/dataloader.py\u001b[0m in \u001b[0;36m_get_data\u001b[0;34m(self)\u001b[0m\n\u001b[1;32m   1282\u001b[0m         \u001b[0;32melif\u001b[0m \u001b[0mself\u001b[0m\u001b[0;34m.\u001b[0m\u001b[0m_pin_memory\u001b[0m\u001b[0;34m:\u001b[0m\u001b[0;34m\u001b[0m\u001b[0;34m\u001b[0m\u001b[0m\n\u001b[1;32m   1283\u001b[0m             \u001b[0;32mwhile\u001b[0m \u001b[0mself\u001b[0m\u001b[0;34m.\u001b[0m\u001b[0m_pin_memory_thread\u001b[0m\u001b[0;34m.\u001b[0m\u001b[0mis_alive\u001b[0m\u001b[0;34m(\u001b[0m\u001b[0;34m)\u001b[0m\u001b[0;34m:\u001b[0m\u001b[0;34m\u001b[0m\u001b[0;34m\u001b[0m\u001b[0m\n\u001b[0;32m-> 1284\u001b[0;31m                 \u001b[0msuccess\u001b[0m\u001b[0;34m,\u001b[0m \u001b[0mdata\u001b[0m \u001b[0;34m=\u001b[0m \u001b[0mself\u001b[0m\u001b[0;34m.\u001b[0m\u001b[0m_try_get_data\u001b[0m\u001b[0;34m(\u001b[0m\u001b[0;34m)\u001b[0m\u001b[0;34m\u001b[0m\u001b[0;34m\u001b[0m\u001b[0m\n\u001b[0m\u001b[1;32m   1285\u001b[0m                 \u001b[0;32mif\u001b[0m \u001b[0msuccess\u001b[0m\u001b[0;34m:\u001b[0m\u001b[0;34m\u001b[0m\u001b[0;34m\u001b[0m\u001b[0m\n\u001b[1;32m   1286\u001b[0m                     \u001b[0;32mreturn\u001b[0m \u001b[0mdata\u001b[0m\u001b[0;34m\u001b[0m\u001b[0;34m\u001b[0m\u001b[0m\n",
            "\u001b[0;32m/usr/local/lib/python3.10/dist-packages/torch/utils/data/dataloader.py\u001b[0m in \u001b[0;36m_try_get_data\u001b[0;34m(self, timeout)\u001b[0m\n\u001b[1;32m   1130\u001b[0m         \u001b[0;31m#   (bool: whether successfully get data, any: data if successful else None)\u001b[0m\u001b[0;34m\u001b[0m\u001b[0;34m\u001b[0m\u001b[0m\n\u001b[1;32m   1131\u001b[0m         \u001b[0;32mtry\u001b[0m\u001b[0;34m:\u001b[0m\u001b[0;34m\u001b[0m\u001b[0;34m\u001b[0m\u001b[0m\n\u001b[0;32m-> 1132\u001b[0;31m             \u001b[0mdata\u001b[0m \u001b[0;34m=\u001b[0m \u001b[0mself\u001b[0m\u001b[0;34m.\u001b[0m\u001b[0m_data_queue\u001b[0m\u001b[0;34m.\u001b[0m\u001b[0mget\u001b[0m\u001b[0;34m(\u001b[0m\u001b[0mtimeout\u001b[0m\u001b[0;34m=\u001b[0m\u001b[0mtimeout\u001b[0m\u001b[0;34m)\u001b[0m\u001b[0;34m\u001b[0m\u001b[0;34m\u001b[0m\u001b[0m\n\u001b[0m\u001b[1;32m   1133\u001b[0m             \u001b[0;32mreturn\u001b[0m \u001b[0;34m(\u001b[0m\u001b[0;32mTrue\u001b[0m\u001b[0;34m,\u001b[0m \u001b[0mdata\u001b[0m\u001b[0;34m)\u001b[0m\u001b[0;34m\u001b[0m\u001b[0;34m\u001b[0m\u001b[0m\n\u001b[1;32m   1134\u001b[0m         \u001b[0;32mexcept\u001b[0m \u001b[0mException\u001b[0m \u001b[0;32mas\u001b[0m \u001b[0me\u001b[0m\u001b[0;34m:\u001b[0m\u001b[0;34m\u001b[0m\u001b[0;34m\u001b[0m\u001b[0m\n",
            "\u001b[0;32m/usr/lib/python3.10/queue.py\u001b[0m in \u001b[0;36mget\u001b[0;34m(self, block, timeout)\u001b[0m\n\u001b[1;32m    178\u001b[0m                     \u001b[0;32mif\u001b[0m \u001b[0mremaining\u001b[0m \u001b[0;34m<=\u001b[0m \u001b[0;36m0.0\u001b[0m\u001b[0;34m:\u001b[0m\u001b[0;34m\u001b[0m\u001b[0;34m\u001b[0m\u001b[0m\n\u001b[1;32m    179\u001b[0m                         \u001b[0;32mraise\u001b[0m \u001b[0mEmpty\u001b[0m\u001b[0;34m\u001b[0m\u001b[0;34m\u001b[0m\u001b[0m\n\u001b[0;32m--> 180\u001b[0;31m                     \u001b[0mself\u001b[0m\u001b[0;34m.\u001b[0m\u001b[0mnot_empty\u001b[0m\u001b[0;34m.\u001b[0m\u001b[0mwait\u001b[0m\u001b[0;34m(\u001b[0m\u001b[0mremaining\u001b[0m\u001b[0;34m)\u001b[0m\u001b[0;34m\u001b[0m\u001b[0;34m\u001b[0m\u001b[0m\n\u001b[0m\u001b[1;32m    181\u001b[0m             \u001b[0mitem\u001b[0m \u001b[0;34m=\u001b[0m \u001b[0mself\u001b[0m\u001b[0;34m.\u001b[0m\u001b[0m_get\u001b[0m\u001b[0;34m(\u001b[0m\u001b[0;34m)\u001b[0m\u001b[0;34m\u001b[0m\u001b[0;34m\u001b[0m\u001b[0m\n\u001b[1;32m    182\u001b[0m             \u001b[0mself\u001b[0m\u001b[0;34m.\u001b[0m\u001b[0mnot_full\u001b[0m\u001b[0;34m.\u001b[0m\u001b[0mnotify\u001b[0m\u001b[0;34m(\u001b[0m\u001b[0;34m)\u001b[0m\u001b[0;34m\u001b[0m\u001b[0;34m\u001b[0m\u001b[0m\n",
            "\u001b[0;32m/usr/lib/python3.10/threading.py\u001b[0m in \u001b[0;36mwait\u001b[0;34m(self, timeout)\u001b[0m\n\u001b[1;32m    322\u001b[0m             \u001b[0;32melse\u001b[0m\u001b[0;34m:\u001b[0m\u001b[0;34m\u001b[0m\u001b[0;34m\u001b[0m\u001b[0m\n\u001b[1;32m    323\u001b[0m                 \u001b[0;32mif\u001b[0m \u001b[0mtimeout\u001b[0m \u001b[0;34m>\u001b[0m \u001b[0;36m0\u001b[0m\u001b[0;34m:\u001b[0m\u001b[0;34m\u001b[0m\u001b[0;34m\u001b[0m\u001b[0m\n\u001b[0;32m--> 324\u001b[0;31m                     \u001b[0mgotit\u001b[0m \u001b[0;34m=\u001b[0m \u001b[0mwaiter\u001b[0m\u001b[0;34m.\u001b[0m\u001b[0macquire\u001b[0m\u001b[0;34m(\u001b[0m\u001b[0;32mTrue\u001b[0m\u001b[0;34m,\u001b[0m \u001b[0mtimeout\u001b[0m\u001b[0;34m)\u001b[0m\u001b[0;34m\u001b[0m\u001b[0;34m\u001b[0m\u001b[0m\n\u001b[0m\u001b[1;32m    325\u001b[0m                 \u001b[0;32melse\u001b[0m\u001b[0;34m:\u001b[0m\u001b[0;34m\u001b[0m\u001b[0;34m\u001b[0m\u001b[0m\n\u001b[1;32m    326\u001b[0m                     \u001b[0mgotit\u001b[0m \u001b[0;34m=\u001b[0m \u001b[0mwaiter\u001b[0m\u001b[0;34m.\u001b[0m\u001b[0macquire\u001b[0m\u001b[0;34m(\u001b[0m\u001b[0;32mFalse\u001b[0m\u001b[0;34m)\u001b[0m\u001b[0;34m\u001b[0m\u001b[0;34m\u001b[0m\u001b[0m\n",
            "\u001b[0;31mKeyboardInterrupt\u001b[0m: "
          ]
        }
      ]
    },
    {
      "cell_type": "code",
      "source": [],
      "metadata": {
        "id": "EsmFZogZHFFt"
      },
      "execution_count": null,
      "outputs": []
    }
  ]
}