{
  "nbformat": 4,
  "nbformat_minor": 0,
  "metadata": {
    "colab": {
      "provenance": [],
      "gpuType": "A100",
      "authorship_tag": "ABX9TyPdJtvhVu5oohwH8NWQn4ZI",
      "include_colab_link": true
    },
    "kernelspec": {
      "name": "python3",
      "display_name": "Python 3"
    },
    "language_info": {
      "name": "python"
    },
    "accelerator": "GPU"
  },
  "cells": [
    {
      "cell_type": "markdown",
      "metadata": {
        "id": "view-in-github",
        "colab_type": "text"
      },
      "source": [
        "<a href=\"https://colab.research.google.com/github/jwells52/creating-ai-enabled-systems/blob/main/Research%20Project/notebooks/fsl_experiment3.ipynb\" target=\"_parent\"><img src=\"https://colab.research.google.com/assets/colab-badge.svg\" alt=\"Open In Colab\"/></a>"
      ]
    },
    {
      "cell_type": "markdown",
      "source": [
        "### Install easyfsl"
      ],
      "metadata": {
        "id": "1aY-Kk8OaKJ7"
      }
    },
    {
      "cell_type": "code",
      "execution_count": null,
      "metadata": {
        "id": "TDhuvzzpaHRr"
      },
      "outputs": [],
      "source": [
        "%pip install easyfsl"
      ]
    },
    {
      "cell_type": "markdown",
      "source": [
        "### Download Humpback Whale Dataset"
      ],
      "metadata": {
        "id": "TxckwzwdaNg7"
      }
    },
    {
      "cell_type": "code",
      "source": [
        "from google.colab import drive\n",
        "drive.mount('/content/drive')"
      ],
      "metadata": {
        "colab": {
          "base_uri": "https://localhost:8080/"
        },
        "id": "p6cH7GbKaO5X",
        "outputId": "a4e0ca34-f7d6-4026-819f-a96252b1336f"
      },
      "execution_count": 2,
      "outputs": [
        {
          "output_type": "stream",
          "name": "stdout",
          "text": [
            "Mounted at /content/drive\n"
          ]
        }
      ]
    },
    {
      "cell_type": "code",
      "source": [
        "!rm -rf /root/.kaggle && mkdir /root/.kaggle && cp /content/drive/MyDrive/Research-Project/kaggle.json /root/.kaggle/kaggle.json && chmod 600 /root/.kaggle/kaggle.json && kaggle competitions download -c humpback-whale-identification"
      ],
      "metadata": {
        "id": "IDeyRC_SaRD-",
        "outputId": "1712113b-7d35-486f-f211-82c6e1d9083b",
        "colab": {
          "base_uri": "https://localhost:8080/"
        }
      },
      "execution_count": 3,
      "outputs": [
        {
          "output_type": "stream",
          "name": "stdout",
          "text": [
            "Downloading humpback-whale-identification.zip to /content\n",
            "100% 5.50G/5.51G [03:18<00:00, 37.6MB/s]\n",
            "100% 5.51G/5.51G [03:18<00:00, 29.8MB/s]\n"
          ]
        }
      ]
    },
    {
      "cell_type": "code",
      "source": [
        "%%capture\n",
        "\n",
        "!unzip humpback-whale-identification.zip"
      ],
      "metadata": {
        "id": "pPO_yhVuIXAG"
      },
      "execution_count": 1,
      "outputs": []
    },
    {
      "cell_type": "markdown",
      "source": [
        "### Clone GitHub Repo"
      ],
      "metadata": {
        "id": "RFcHZNs5aV4u"
      }
    },
    {
      "cell_type": "code",
      "source": [
        "import os\n",
        "\n",
        "if os.path.exists('/content/creating-ai-enabled-systems/Research Project') == False:\n",
        "  !git clone https://github.com/jwells52/creating-ai-enabled-systems.git\n",
        "\n",
        "%cd creating-ai-enabled-systems/Research\\ Project"
      ],
      "metadata": {
        "colab": {
          "base_uri": "https://localhost:8080/"
        },
        "id": "jN_7CpgbaULS",
        "outputId": "fbc66c41-0ee6-4b76-a688-02d0d9bd02e3"
      },
      "execution_count": 1,
      "outputs": [
        {
          "output_type": "stream",
          "name": "stdout",
          "text": [
            "/content/creating-ai-enabled-systems/Research Project\n"
          ]
        }
      ]
    },
    {
      "cell_type": "markdown",
      "source": [
        "### Imports"
      ],
      "metadata": {
        "id": "7OZh8KbybBxc"
      }
    },
    {
      "cell_type": "code",
      "source": [
        "import os\n",
        "import cv2\n",
        "import torch\n",
        "\n",
        "import numpy as np\n",
        "import pandas as pd\n",
        "import matplotlib.pyplot as plt\n",
        "\n",
        "from tqdm import tqdm\n",
        "\n",
        "from easyfsl.methods import PrototypicalNetworks, FewShotClassifier, SimpleShot\n",
        "from easyfsl.utils import evaluate, evaluate_on_one_task\n",
        "from easyfsl.samplers import TaskSampler\n",
        "\n",
        "from torch import Tensor, nn\n",
        "from torch.optim import SGD, Optimizer, Adam\n",
        "from torch.utils.data import Dataset, DataLoader\n",
        "from torchvision import transforms\n",
        "from torchvision.models import resnet18, resnet34, resnet152\n",
        "\n",
        "from typing import Callable\n",
        "\n",
        "from modules.data_utils import HumpbackWhaleDataset, remove_new_whale_class, create_loaders\n",
        "from modules.train import train_fsl, device, transform\n",
        "\n",
        "\n",
        "%load_ext autoreload\n",
        "%autoreload 2"
      ],
      "metadata": {
        "id": "981jAgVabC1f"
      },
      "execution_count": 2,
      "outputs": []
    },
    {
      "cell_type": "code",
      "source": [
        "n_way   = 25\n",
        "n_shot  = 3\n",
        "n_query = 3"
      ],
      "metadata": {
        "id": "kUJ91iUHermi"
      },
      "execution_count": 3,
      "outputs": []
    },
    {
      "cell_type": "markdown",
      "source": [
        "### Look at classes that have low performance"
      ],
      "metadata": {
        "id": "DIWaIsbfamgW"
      }
    },
    {
      "cell_type": "code",
      "source": [
        "# Load into dataset\n",
        "# For each class, calculate accuracy\n",
        "# Then plot barplot of accuracy for each class\n",
        "# Look at the characteristics of images for the classes that have low performance"
      ],
      "metadata": {
        "id": "ve6THl99amCJ"
      },
      "execution_count": 4,
      "outputs": []
    },
    {
      "cell_type": "code",
      "source": [
        "df = remove_new_whale_class(\n",
        "  pd.read_csv('/content/creating-ai-enabled-systems/Research Project/data/validation_10samples.csv')\n",
        ")"
      ],
      "metadata": {
        "id": "ruB03R5daY3R"
      },
      "execution_count": 5,
      "outputs": []
    },
    {
      "cell_type": "code",
      "source": [
        "dataset = HumpbackWhaleDataset('/content/train', df, transform=transform)"
      ],
      "metadata": {
        "id": "erJ1g-EbM7xo"
      },
      "execution_count": 6,
      "outputs": []
    },
    {
      "cell_type": "code",
      "source": [
        "sampler = TaskSampler(\n",
        "    dataset, n_way=n_way, n_shot=n_shot, n_query=n_query, n_tasks=30\n",
        ")"
      ],
      "metadata": {
        "id": "HzlYppwbOTL7"
      },
      "execution_count": 7,
      "outputs": []
    },
    {
      "cell_type": "code",
      "source": [
        "loader = DataLoader(\n",
        "    dataset,\n",
        "    batch_sampler=sampler,\n",
        "    num_workers=2,\n",
        "    pin_memory=True,\n",
        "    collate_fn=sampler.episodic_collate_fn\n",
        ")\n"
      ],
      "metadata": {
        "id": "zfWOnUIgOpr5"
      },
      "execution_count": 8,
      "outputs": []
    },
    {
      "cell_type": "code",
      "source": [
        "cnn = resnet34()\n",
        "cnn.fc = torch.nn.Flatten()\n",
        "few_shot_classifier = PrototypicalNetworks(cnn).to(device)\n",
        "few_shot_classifier.load_state_dict(\n",
        "  torch.load('/content/drive/MyDrive/prototypical_network_resnet18_last_epoch')()\n",
        ")"
      ],
      "metadata": {
        "colab": {
          "base_uri": "https://localhost:8080/"
        },
        "id": "0e05NPp-XVwA",
        "outputId": "e569ea04-2e04-452a-b0aa-5232dcc1547e"
      },
      "execution_count": 9,
      "outputs": [
        {
          "output_type": "execute_result",
          "data": {
            "text/plain": [
              "<All keys matched successfully>"
            ]
          },
          "metadata": {},
          "execution_count": 9
        }
      ]
    },
    {
      "cell_type": "code",
      "source": [
        "%%capture\n",
        "\n",
        "few_shot_classifier.eval()"
      ],
      "metadata": {
        "id": "3ZSqL58yXrnq"
      },
      "execution_count": 10,
      "outputs": []
    },
    {
      "cell_type": "code",
      "source": [
        "class_accs = dict()\n",
        "for (\n",
        "    support_images,\n",
        "    support_labels,\n",
        "    query_images,\n",
        "    query_labels,\n",
        "    _,) in loader:\n",
        "\n",
        "    few_shot_classifier.process_support_set(support_images.to(device), support_labels.to(device))\n",
        "    predictions = few_shot_classifier(query_images.to(device)).detach().data\n",
        "    prediction_labels = torch.max(predictions, 1)[1].cpu().detach().data\n",
        "    for label in torch.unique(query_labels):\n",
        "      label_idxs = torch.argwhere(query_labels == label)\n",
        "      whale_id = dataset.id_to_label[label.detach().item()]\n",
        "      whale_id_acc = (prediction_labels[label_idxs] == query_labels[label_idxs]).sum().item() / n_query\n",
        "\n",
        "      print(f'{whale_id} | acc = {whale_id_acc}')\n",
        "\n",
        "      if whale_id not in class_accs:\n",
        "        class_accs[whale_id] = [whale_id_acc]\n",
        "      else:\n",
        "        class_accs[whale_id] += [whale_id_acc]"
      ],
      "metadata": {
        "colab": {
          "base_uri": "https://localhost:8080/"
        },
        "id": "KeTIwt95PvZt",
        "outputId": "76fc6443-d86d-41de-ba37-0ecbe1904a08"
      },
      "execution_count": 11,
      "outputs": [
        {
          "output_type": "stream",
          "name": "stdout",
          "text": [
            "w_a8b34a0 | acc = 0.6666666666666666\n",
            "w_2df85e7 | acc = 0.6666666666666666\n",
            "w_fccccec | acc = 1.0\n",
            "w_6f0cbe3 | acc = 1.0\n",
            "w_6e209a8 | acc = 1.0\n",
            "w_40a8585 | acc = 0.6666666666666666\n",
            "w_4846b27 | acc = 1.0\n",
            "w_51e7506 | acc = 1.0\n",
            "w_234713b | acc = 1.0\n",
            "w_27b7295 | acc = 1.0\n",
            "w_5d5c6a6 | acc = 1.0\n",
            "w_8b86b95 | acc = 0.6666666666666666\n",
            "w_fdd3687 | acc = 1.0\n",
            "w_4bf625b | acc = 1.0\n",
            "w_2b65b34 | acc = 1.0\n",
            "w_f829227 | acc = 1.0\n",
            "w_e906edd | acc = 0.3333333333333333\n",
            "w_aabdf8c | acc = 1.0\n",
            "w_0fdf741 | acc = 1.0\n",
            "w_3eae264 | acc = 1.0\n",
            "w_c16cb2c | acc = 0.3333333333333333\n",
            "w_6e6307e | acc = 1.0\n",
            "w_16df050 | acc = 0.6666666666666666\n",
            "w_e2a09d4 | acc = 1.0\n",
            "w_d066c0a | acc = 0.0\n",
            "w_a8b34a0 | acc = 1.0\n",
            "w_2df85e7 | acc = 1.0\n",
            "w_fccccec | acc = 0.6666666666666666\n",
            "w_6f0cbe3 | acc = 1.0\n",
            "w_6e209a8 | acc = 0.6666666666666666\n",
            "w_40a8585 | acc = 1.0\n",
            "w_4846b27 | acc = 1.0\n",
            "w_51e7506 | acc = 1.0\n",
            "w_234713b | acc = 1.0\n",
            "w_27b7295 | acc = 1.0\n",
            "w_5d5c6a6 | acc = 0.6666666666666666\n",
            "w_8b86b95 | acc = 0.6666666666666666\n",
            "w_fdd3687 | acc = 0.6666666666666666\n",
            "w_4bf625b | acc = 1.0\n",
            "w_2b65b34 | acc = 1.0\n",
            "w_f829227 | acc = 1.0\n",
            "w_e906edd | acc = 0.6666666666666666\n",
            "w_aabdf8c | acc = 1.0\n",
            "w_0fdf741 | acc = 1.0\n",
            "w_3eae264 | acc = 1.0\n",
            "w_c16cb2c | acc = 1.0\n",
            "w_6e6307e | acc = 1.0\n",
            "w_16df050 | acc = 1.0\n",
            "w_e2a09d4 | acc = 1.0\n",
            "w_d066c0a | acc = 1.0\n",
            "w_a8b34a0 | acc = 0.3333333333333333\n",
            "w_2df85e7 | acc = 1.0\n",
            "w_fccccec | acc = 1.0\n",
            "w_6f0cbe3 | acc = 1.0\n",
            "w_6e209a8 | acc = 0.6666666666666666\n",
            "w_40a8585 | acc = 0.0\n",
            "w_4846b27 | acc = 1.0\n",
            "w_51e7506 | acc = 1.0\n",
            "w_234713b | acc = 1.0\n",
            "w_27b7295 | acc = 1.0\n",
            "w_5d5c6a6 | acc = 1.0\n",
            "w_8b86b95 | acc = 0.6666666666666666\n",
            "w_fdd3687 | acc = 1.0\n",
            "w_4bf625b | acc = 1.0\n",
            "w_2b65b34 | acc = 1.0\n",
            "w_f829227 | acc = 0.6666666666666666\n",
            "w_e906edd | acc = 1.0\n",
            "w_aabdf8c | acc = 1.0\n",
            "w_0fdf741 | acc = 0.3333333333333333\n",
            "w_3eae264 | acc = 0.3333333333333333\n",
            "w_c16cb2c | acc = 1.0\n",
            "w_6e6307e | acc = 1.0\n",
            "w_16df050 | acc = 1.0\n",
            "w_e2a09d4 | acc = 1.0\n",
            "w_d066c0a | acc = 1.0\n",
            "w_a8b34a0 | acc = 0.6666666666666666\n",
            "w_2df85e7 | acc = 0.6666666666666666\n",
            "w_fccccec | acc = 1.0\n",
            "w_6f0cbe3 | acc = 1.0\n",
            "w_6e209a8 | acc = 1.0\n",
            "w_40a8585 | acc = 1.0\n",
            "w_4846b27 | acc = 1.0\n",
            "w_51e7506 | acc = 1.0\n",
            "w_234713b | acc = 1.0\n",
            "w_27b7295 | acc = 1.0\n",
            "w_5d5c6a6 | acc = 1.0\n",
            "w_8b86b95 | acc = 0.6666666666666666\n",
            "w_fdd3687 | acc = 1.0\n",
            "w_4bf625b | acc = 1.0\n",
            "w_2b65b34 | acc = 1.0\n",
            "w_f829227 | acc = 0.0\n",
            "w_e906edd | acc = 1.0\n",
            "w_aabdf8c | acc = 1.0\n",
            "w_0fdf741 | acc = 1.0\n",
            "w_3eae264 | acc = 1.0\n",
            "w_c16cb2c | acc = 1.0\n",
            "w_6e6307e | acc = 0.6666666666666666\n",
            "w_16df050 | acc = 0.3333333333333333\n",
            "w_e2a09d4 | acc = 1.0\n",
            "w_d066c0a | acc = 0.3333333333333333\n",
            "w_a8b34a0 | acc = 1.0\n",
            "w_2df85e7 | acc = 0.3333333333333333\n",
            "w_fccccec | acc = 0.6666666666666666\n",
            "w_6f0cbe3 | acc = 1.0\n",
            "w_6e209a8 | acc = 0.6666666666666666\n",
            "w_40a8585 | acc = 1.0\n",
            "w_4846b27 | acc = 0.6666666666666666\n",
            "w_51e7506 | acc = 1.0\n",
            "w_234713b | acc = 1.0\n",
            "w_27b7295 | acc = 1.0\n",
            "w_5d5c6a6 | acc = 1.0\n",
            "w_8b86b95 | acc = 1.0\n",
            "w_fdd3687 | acc = 0.6666666666666666\n",
            "w_4bf625b | acc = 1.0\n",
            "w_2b65b34 | acc = 1.0\n",
            "w_f829227 | acc = 1.0\n",
            "w_e906edd | acc = 1.0\n",
            "w_aabdf8c | acc = 1.0\n",
            "w_0fdf741 | acc = 1.0\n",
            "w_3eae264 | acc = 1.0\n",
            "w_c16cb2c | acc = 1.0\n",
            "w_6e6307e | acc = 1.0\n",
            "w_16df050 | acc = 1.0\n",
            "w_e2a09d4 | acc = 0.6666666666666666\n",
            "w_d066c0a | acc = 1.0\n",
            "w_a8b34a0 | acc = 1.0\n",
            "w_2df85e7 | acc = 0.6666666666666666\n",
            "w_fccccec | acc = 0.6666666666666666\n",
            "w_6f0cbe3 | acc = 1.0\n",
            "w_6e209a8 | acc = 1.0\n",
            "w_40a8585 | acc = 1.0\n",
            "w_4846b27 | acc = 0.3333333333333333\n",
            "w_51e7506 | acc = 1.0\n",
            "w_234713b | acc = 1.0\n",
            "w_27b7295 | acc = 0.6666666666666666\n",
            "w_5d5c6a6 | acc = 1.0\n",
            "w_8b86b95 | acc = 0.3333333333333333\n",
            "w_fdd3687 | acc = 0.6666666666666666\n",
            "w_4bf625b | acc = 0.6666666666666666\n",
            "w_2b65b34 | acc = 1.0\n",
            "w_f829227 | acc = 0.6666666666666666\n",
            "w_e906edd | acc = 1.0\n",
            "w_aabdf8c | acc = 1.0\n",
            "w_0fdf741 | acc = 1.0\n",
            "w_3eae264 | acc = 1.0\n",
            "w_c16cb2c | acc = 1.0\n",
            "w_6e6307e | acc = 1.0\n",
            "w_16df050 | acc = 1.0\n",
            "w_e2a09d4 | acc = 1.0\n",
            "w_d066c0a | acc = 1.0\n",
            "w_a8b34a0 | acc = 0.3333333333333333\n",
            "w_2df85e7 | acc = 1.0\n",
            "w_fccccec | acc = 1.0\n",
            "w_6f0cbe3 | acc = 1.0\n",
            "w_6e209a8 | acc = 1.0\n",
            "w_40a8585 | acc = 1.0\n",
            "w_4846b27 | acc = 0.6666666666666666\n",
            "w_51e7506 | acc = 0.6666666666666666\n",
            "w_234713b | acc = 1.0\n",
            "w_27b7295 | acc = 1.0\n",
            "w_5d5c6a6 | acc = 1.0\n",
            "w_8b86b95 | acc = 1.0\n",
            "w_fdd3687 | acc = 1.0\n",
            "w_4bf625b | acc = 0.6666666666666666\n",
            "w_2b65b34 | acc = 0.6666666666666666\n",
            "w_f829227 | acc = 1.0\n",
            "w_e906edd | acc = 1.0\n",
            "w_aabdf8c | acc = 1.0\n",
            "w_0fdf741 | acc = 0.6666666666666666\n",
            "w_3eae264 | acc = 1.0\n",
            "w_c16cb2c | acc = 0.6666666666666666\n",
            "w_6e6307e | acc = 1.0\n",
            "w_16df050 | acc = 1.0\n",
            "w_e2a09d4 | acc = 1.0\n",
            "w_d066c0a | acc = 1.0\n",
            "w_a8b34a0 | acc = 1.0\n",
            "w_2df85e7 | acc = 0.0\n",
            "w_fccccec | acc = 1.0\n",
            "w_6f0cbe3 | acc = 1.0\n",
            "w_6e209a8 | acc = 1.0\n",
            "w_40a8585 | acc = 1.0\n",
            "w_4846b27 | acc = 1.0\n",
            "w_51e7506 | acc = 1.0\n",
            "w_234713b | acc = 1.0\n",
            "w_27b7295 | acc = 1.0\n",
            "w_5d5c6a6 | acc = 1.0\n",
            "w_8b86b95 | acc = 1.0\n",
            "w_fdd3687 | acc = 1.0\n",
            "w_4bf625b | acc = 0.6666666666666666\n",
            "w_2b65b34 | acc = 1.0\n",
            "w_f829227 | acc = 1.0\n",
            "w_e906edd | acc = 1.0\n",
            "w_aabdf8c | acc = 1.0\n",
            "w_0fdf741 | acc = 1.0\n",
            "w_3eae264 | acc = 0.6666666666666666\n",
            "w_c16cb2c | acc = 0.6666666666666666\n",
            "w_6e6307e | acc = 1.0\n",
            "w_16df050 | acc = 1.0\n",
            "w_e2a09d4 | acc = 1.0\n",
            "w_d066c0a | acc = 1.0\n",
            "w_a8b34a0 | acc = 0.6666666666666666\n",
            "w_2df85e7 | acc = 1.0\n",
            "w_fccccec | acc = 0.6666666666666666\n",
            "w_6f0cbe3 | acc = 1.0\n",
            "w_6e209a8 | acc = 1.0\n",
            "w_40a8585 | acc = 1.0\n",
            "w_4846b27 | acc = 1.0\n",
            "w_51e7506 | acc = 0.6666666666666666\n",
            "w_234713b | acc = 1.0\n",
            "w_27b7295 | acc = 0.3333333333333333\n",
            "w_5d5c6a6 | acc = 1.0\n",
            "w_8b86b95 | acc = 1.0\n",
            "w_fdd3687 | acc = 1.0\n",
            "w_4bf625b | acc = 0.6666666666666666\n",
            "w_2b65b34 | acc = 1.0\n",
            "w_f829227 | acc = 1.0\n",
            "w_e906edd | acc = 1.0\n",
            "w_aabdf8c | acc = 0.6666666666666666\n",
            "w_0fdf741 | acc = 1.0\n",
            "w_3eae264 | acc = 1.0\n",
            "w_c16cb2c | acc = 1.0\n",
            "w_6e6307e | acc = 1.0\n",
            "w_16df050 | acc = 1.0\n",
            "w_e2a09d4 | acc = 1.0\n",
            "w_d066c0a | acc = 1.0\n",
            "w_a8b34a0 | acc = 0.6666666666666666\n",
            "w_2df85e7 | acc = 0.6666666666666666\n",
            "w_fccccec | acc = 1.0\n",
            "w_6f0cbe3 | acc = 1.0\n",
            "w_6e209a8 | acc = 0.3333333333333333\n",
            "w_40a8585 | acc = 1.0\n",
            "w_4846b27 | acc = 1.0\n",
            "w_51e7506 | acc = 1.0\n",
            "w_234713b | acc = 1.0\n",
            "w_27b7295 | acc = 1.0\n",
            "w_5d5c6a6 | acc = 0.6666666666666666\n",
            "w_8b86b95 | acc = 0.6666666666666666\n",
            "w_fdd3687 | acc = 1.0\n",
            "w_4bf625b | acc = 1.0\n",
            "w_2b65b34 | acc = 0.6666666666666666\n",
            "w_f829227 | acc = 1.0\n",
            "w_e906edd | acc = 1.0\n",
            "w_aabdf8c | acc = 1.0\n",
            "w_0fdf741 | acc = 1.0\n",
            "w_3eae264 | acc = 1.0\n",
            "w_c16cb2c | acc = 1.0\n",
            "w_6e6307e | acc = 0.6666666666666666\n",
            "w_16df050 | acc = 1.0\n",
            "w_e2a09d4 | acc = 0.6666666666666666\n",
            "w_d066c0a | acc = 1.0\n",
            "w_a8b34a0 | acc = 0.6666666666666666\n",
            "w_2df85e7 | acc = 0.6666666666666666\n",
            "w_fccccec | acc = 1.0\n",
            "w_6f0cbe3 | acc = 1.0\n",
            "w_6e209a8 | acc = 0.6666666666666666\n",
            "w_40a8585 | acc = 0.3333333333333333\n",
            "w_4846b27 | acc = 1.0\n",
            "w_51e7506 | acc = 1.0\n",
            "w_234713b | acc = 0.6666666666666666\n",
            "w_27b7295 | acc = 0.6666666666666666\n",
            "w_5d5c6a6 | acc = 1.0\n",
            "w_8b86b95 | acc = 0.6666666666666666\n",
            "w_fdd3687 | acc = 1.0\n",
            "w_4bf625b | acc = 0.6666666666666666\n",
            "w_2b65b34 | acc = 1.0\n",
            "w_f829227 | acc = 1.0\n",
            "w_e906edd | acc = 1.0\n",
            "w_aabdf8c | acc = 1.0\n",
            "w_0fdf741 | acc = 0.6666666666666666\n",
            "w_3eae264 | acc = 1.0\n",
            "w_c16cb2c | acc = 1.0\n",
            "w_6e6307e | acc = 1.0\n",
            "w_16df050 | acc = 1.0\n",
            "w_e2a09d4 | acc = 1.0\n",
            "w_d066c0a | acc = 1.0\n",
            "w_a8b34a0 | acc = 0.6666666666666666\n",
            "w_2df85e7 | acc = 0.6666666666666666\n",
            "w_fccccec | acc = 1.0\n",
            "w_6f0cbe3 | acc = 1.0\n",
            "w_6e209a8 | acc = 0.6666666666666666\n",
            "w_40a8585 | acc = 0.6666666666666666\n",
            "w_4846b27 | acc = 0.3333333333333333\n",
            "w_51e7506 | acc = 1.0\n",
            "w_234713b | acc = 1.0\n",
            "w_27b7295 | acc = 1.0\n",
            "w_5d5c6a6 | acc = 1.0\n",
            "w_8b86b95 | acc = 0.6666666666666666\n",
            "w_fdd3687 | acc = 1.0\n",
            "w_4bf625b | acc = 0.3333333333333333\n",
            "w_2b65b34 | acc = 1.0\n",
            "w_f829227 | acc = 0.6666666666666666\n",
            "w_e906edd | acc = 1.0\n",
            "w_aabdf8c | acc = 1.0\n",
            "w_0fdf741 | acc = 1.0\n",
            "w_3eae264 | acc = 1.0\n",
            "w_c16cb2c | acc = 0.0\n",
            "w_6e6307e | acc = 0.6666666666666666\n",
            "w_16df050 | acc = 1.0\n",
            "w_e2a09d4 | acc = 1.0\n",
            "w_d066c0a | acc = 0.6666666666666666\n",
            "w_a8b34a0 | acc = 1.0\n",
            "w_2df85e7 | acc = 1.0\n",
            "w_fccccec | acc = 1.0\n",
            "w_6f0cbe3 | acc = 1.0\n",
            "w_6e209a8 | acc = 0.3333333333333333\n",
            "w_40a8585 | acc = 0.6666666666666666\n",
            "w_4846b27 | acc = 1.0\n",
            "w_51e7506 | acc = 0.6666666666666666\n",
            "w_234713b | acc = 1.0\n",
            "w_27b7295 | acc = 0.6666666666666666\n",
            "w_5d5c6a6 | acc = 1.0\n",
            "w_8b86b95 | acc = 1.0\n",
            "w_fdd3687 | acc = 0.3333333333333333\n",
            "w_4bf625b | acc = 1.0\n",
            "w_2b65b34 | acc = 1.0\n",
            "w_f829227 | acc = 1.0\n",
            "w_e906edd | acc = 1.0\n",
            "w_aabdf8c | acc = 1.0\n",
            "w_0fdf741 | acc = 1.0\n",
            "w_3eae264 | acc = 1.0\n",
            "w_c16cb2c | acc = 1.0\n",
            "w_6e6307e | acc = 1.0\n",
            "w_16df050 | acc = 0.6666666666666666\n",
            "w_e2a09d4 | acc = 1.0\n",
            "w_d066c0a | acc = 0.3333333333333333\n",
            "w_a8b34a0 | acc = 0.6666666666666666\n",
            "w_2df85e7 | acc = 0.3333333333333333\n",
            "w_fccccec | acc = 1.0\n",
            "w_6f0cbe3 | acc = 1.0\n",
            "w_6e209a8 | acc = 1.0\n",
            "w_40a8585 | acc = 0.3333333333333333\n",
            "w_4846b27 | acc = 0.6666666666666666\n",
            "w_51e7506 | acc = 0.6666666666666666\n",
            "w_234713b | acc = 1.0\n",
            "w_27b7295 | acc = 0.6666666666666666\n",
            "w_5d5c6a6 | acc = 1.0\n",
            "w_8b86b95 | acc = 1.0\n",
            "w_fdd3687 | acc = 1.0\n",
            "w_4bf625b | acc = 1.0\n",
            "w_2b65b34 | acc = 0.3333333333333333\n",
            "w_f829227 | acc = 1.0\n",
            "w_e906edd | acc = 1.0\n",
            "w_aabdf8c | acc = 1.0\n",
            "w_0fdf741 | acc = 0.6666666666666666\n",
            "w_3eae264 | acc = 1.0\n",
            "w_c16cb2c | acc = 1.0\n",
            "w_6e6307e | acc = 1.0\n",
            "w_16df050 | acc = 0.3333333333333333\n",
            "w_e2a09d4 | acc = 1.0\n",
            "w_d066c0a | acc = 0.6666666666666666\n",
            "w_a8b34a0 | acc = 1.0\n",
            "w_2df85e7 | acc = 1.0\n",
            "w_fccccec | acc = 1.0\n",
            "w_6f0cbe3 | acc = 1.0\n",
            "w_6e209a8 | acc = 0.6666666666666666\n",
            "w_40a8585 | acc = 1.0\n",
            "w_4846b27 | acc = 0.6666666666666666\n",
            "w_51e7506 | acc = 0.6666666666666666\n",
            "w_234713b | acc = 1.0\n",
            "w_27b7295 | acc = 1.0\n",
            "w_5d5c6a6 | acc = 1.0\n",
            "w_8b86b95 | acc = 0.6666666666666666\n",
            "w_fdd3687 | acc = 1.0\n",
            "w_4bf625b | acc = 0.6666666666666666\n",
            "w_2b65b34 | acc = 0.6666666666666666\n",
            "w_f829227 | acc = 1.0\n",
            "w_e906edd | acc = 0.6666666666666666\n",
            "w_aabdf8c | acc = 1.0\n",
            "w_0fdf741 | acc = 0.6666666666666666\n",
            "w_3eae264 | acc = 0.6666666666666666\n",
            "w_c16cb2c | acc = 1.0\n",
            "w_6e6307e | acc = 1.0\n",
            "w_16df050 | acc = 1.0\n",
            "w_e2a09d4 | acc = 0.3333333333333333\n",
            "w_d066c0a | acc = 0.3333333333333333\n",
            "w_a8b34a0 | acc = 0.6666666666666666\n",
            "w_2df85e7 | acc = 0.6666666666666666\n",
            "w_fccccec | acc = 1.0\n",
            "w_6f0cbe3 | acc = 0.6666666666666666\n",
            "w_6e209a8 | acc = 1.0\n",
            "w_40a8585 | acc = 1.0\n",
            "w_4846b27 | acc = 1.0\n",
            "w_51e7506 | acc = 0.6666666666666666\n",
            "w_234713b | acc = 1.0\n",
            "w_27b7295 | acc = 1.0\n",
            "w_5d5c6a6 | acc = 1.0\n",
            "w_8b86b95 | acc = 1.0\n",
            "w_fdd3687 | acc = 0.6666666666666666\n",
            "w_4bf625b | acc = 1.0\n",
            "w_2b65b34 | acc = 1.0\n",
            "w_f829227 | acc = 0.3333333333333333\n",
            "w_e906edd | acc = 1.0\n",
            "w_aabdf8c | acc = 1.0\n",
            "w_0fdf741 | acc = 1.0\n",
            "w_3eae264 | acc = 0.6666666666666666\n",
            "w_c16cb2c | acc = 1.0\n",
            "w_6e6307e | acc = 1.0\n",
            "w_16df050 | acc = 0.6666666666666666\n",
            "w_e2a09d4 | acc = 1.0\n",
            "w_d066c0a | acc = 1.0\n",
            "w_a8b34a0 | acc = 0.6666666666666666\n",
            "w_2df85e7 | acc = 1.0\n",
            "w_fccccec | acc = 1.0\n",
            "w_6f0cbe3 | acc = 1.0\n",
            "w_6e209a8 | acc = 1.0\n",
            "w_40a8585 | acc = 0.6666666666666666\n",
            "w_4846b27 | acc = 1.0\n",
            "w_51e7506 | acc = 1.0\n",
            "w_234713b | acc = 1.0\n",
            "w_27b7295 | acc = 0.6666666666666666\n",
            "w_5d5c6a6 | acc = 1.0\n",
            "w_8b86b95 | acc = 1.0\n",
            "w_fdd3687 | acc = 0.6666666666666666\n",
            "w_4bf625b | acc = 1.0\n",
            "w_2b65b34 | acc = 0.6666666666666666\n",
            "w_f829227 | acc = 0.3333333333333333\n",
            "w_e906edd | acc = 1.0\n",
            "w_aabdf8c | acc = 0.3333333333333333\n",
            "w_0fdf741 | acc = 1.0\n",
            "w_3eae264 | acc = 1.0\n",
            "w_c16cb2c | acc = 1.0\n",
            "w_6e6307e | acc = 1.0\n",
            "w_16df050 | acc = 1.0\n",
            "w_e2a09d4 | acc = 0.6666666666666666\n",
            "w_d066c0a | acc = 0.3333333333333333\n",
            "w_a8b34a0 | acc = 0.6666666666666666\n",
            "w_2df85e7 | acc = 0.6666666666666666\n",
            "w_fccccec | acc = 0.6666666666666666\n",
            "w_6f0cbe3 | acc = 1.0\n",
            "w_6e209a8 | acc = 1.0\n",
            "w_40a8585 | acc = 1.0\n",
            "w_4846b27 | acc = 0.3333333333333333\n",
            "w_51e7506 | acc = 1.0\n",
            "w_234713b | acc = 0.6666666666666666\n",
            "w_27b7295 | acc = 1.0\n",
            "w_5d5c6a6 | acc = 1.0\n",
            "w_8b86b95 | acc = 1.0\n",
            "w_fdd3687 | acc = 0.6666666666666666\n",
            "w_4bf625b | acc = 1.0\n",
            "w_2b65b34 | acc = 1.0\n",
            "w_f829227 | acc = 1.0\n",
            "w_e906edd | acc = 0.6666666666666666\n",
            "w_aabdf8c | acc = 1.0\n",
            "w_0fdf741 | acc = 1.0\n",
            "w_3eae264 | acc = 0.6666666666666666\n",
            "w_c16cb2c | acc = 1.0\n",
            "w_6e6307e | acc = 0.6666666666666666\n",
            "w_16df050 | acc = 1.0\n",
            "w_e2a09d4 | acc = 1.0\n",
            "w_d066c0a | acc = 1.0\n",
            "w_a8b34a0 | acc = 0.6666666666666666\n",
            "w_2df85e7 | acc = 0.6666666666666666\n",
            "w_fccccec | acc = 1.0\n",
            "w_6f0cbe3 | acc = 0.3333333333333333\n",
            "w_6e209a8 | acc = 1.0\n",
            "w_40a8585 | acc = 1.0\n",
            "w_4846b27 | acc = 1.0\n",
            "w_51e7506 | acc = 1.0\n",
            "w_234713b | acc = 1.0\n",
            "w_27b7295 | acc = 1.0\n",
            "w_5d5c6a6 | acc = 0.6666666666666666\n",
            "w_8b86b95 | acc = 0.6666666666666666\n",
            "w_fdd3687 | acc = 1.0\n",
            "w_4bf625b | acc = 1.0\n",
            "w_2b65b34 | acc = 0.6666666666666666\n",
            "w_f829227 | acc = 1.0\n",
            "w_e906edd | acc = 0.3333333333333333\n",
            "w_aabdf8c | acc = 1.0\n",
            "w_0fdf741 | acc = 1.0\n",
            "w_3eae264 | acc = 0.6666666666666666\n",
            "w_c16cb2c | acc = 1.0\n",
            "w_6e6307e | acc = 1.0\n",
            "w_16df050 | acc = 1.0\n",
            "w_e2a09d4 | acc = 1.0\n",
            "w_d066c0a | acc = 0.6666666666666666\n",
            "w_a8b34a0 | acc = 0.3333333333333333\n",
            "w_2df85e7 | acc = 0.6666666666666666\n",
            "w_fccccec | acc = 0.3333333333333333\n",
            "w_6f0cbe3 | acc = 1.0\n",
            "w_6e209a8 | acc = 0.6666666666666666\n",
            "w_40a8585 | acc = 1.0\n",
            "w_4846b27 | acc = 1.0\n",
            "w_51e7506 | acc = 1.0\n",
            "w_234713b | acc = 1.0\n",
            "w_27b7295 | acc = 1.0\n",
            "w_5d5c6a6 | acc = 1.0\n",
            "w_8b86b95 | acc = 1.0\n",
            "w_fdd3687 | acc = 1.0\n",
            "w_4bf625b | acc = 1.0\n",
            "w_2b65b34 | acc = 1.0\n",
            "w_f829227 | acc = 0.6666666666666666\n",
            "w_e906edd | acc = 0.0\n",
            "w_aabdf8c | acc = 1.0\n",
            "w_0fdf741 | acc = 1.0\n",
            "w_3eae264 | acc = 1.0\n",
            "w_c16cb2c | acc = 1.0\n",
            "w_6e6307e | acc = 1.0\n",
            "w_16df050 | acc = 0.3333333333333333\n",
            "w_e2a09d4 | acc = 1.0\n",
            "w_d066c0a | acc = 1.0\n",
            "w_a8b34a0 | acc = 1.0\n",
            "w_2df85e7 | acc = 1.0\n",
            "w_fccccec | acc = 1.0\n",
            "w_6f0cbe3 | acc = 0.6666666666666666\n",
            "w_6e209a8 | acc = 1.0\n",
            "w_40a8585 | acc = 0.6666666666666666\n",
            "w_4846b27 | acc = 1.0\n",
            "w_51e7506 | acc = 1.0\n",
            "w_234713b | acc = 0.3333333333333333\n",
            "w_27b7295 | acc = 1.0\n",
            "w_5d5c6a6 | acc = 0.6666666666666666\n",
            "w_8b86b95 | acc = 0.6666666666666666\n",
            "w_fdd3687 | acc = 1.0\n",
            "w_4bf625b | acc = 1.0\n",
            "w_2b65b34 | acc = 1.0\n",
            "w_f829227 | acc = 1.0\n",
            "w_e906edd | acc = 1.0\n",
            "w_aabdf8c | acc = 1.0\n",
            "w_0fdf741 | acc = 0.3333333333333333\n",
            "w_3eae264 | acc = 1.0\n",
            "w_c16cb2c | acc = 1.0\n",
            "w_6e6307e | acc = 0.6666666666666666\n",
            "w_16df050 | acc = 0.3333333333333333\n",
            "w_e2a09d4 | acc = 1.0\n",
            "w_d066c0a | acc = 0.6666666666666666\n",
            "w_a8b34a0 | acc = 0.6666666666666666\n",
            "w_2df85e7 | acc = 1.0\n",
            "w_fccccec | acc = 1.0\n",
            "w_6f0cbe3 | acc = 1.0\n",
            "w_6e209a8 | acc = 0.3333333333333333\n",
            "w_40a8585 | acc = 0.6666666666666666\n",
            "w_4846b27 | acc = 1.0\n",
            "w_51e7506 | acc = 0.6666666666666666\n",
            "w_234713b | acc = 1.0\n",
            "w_27b7295 | acc = 0.6666666666666666\n",
            "w_5d5c6a6 | acc = 1.0\n",
            "w_8b86b95 | acc = 1.0\n",
            "w_fdd3687 | acc = 1.0\n",
            "w_4bf625b | acc = 0.3333333333333333\n",
            "w_2b65b34 | acc = 1.0\n",
            "w_f829227 | acc = 1.0\n",
            "w_e906edd | acc = 1.0\n",
            "w_aabdf8c | acc = 1.0\n",
            "w_0fdf741 | acc = 0.3333333333333333\n",
            "w_3eae264 | acc = 1.0\n",
            "w_c16cb2c | acc = 1.0\n",
            "w_6e6307e | acc = 1.0\n",
            "w_16df050 | acc = 1.0\n",
            "w_e2a09d4 | acc = 1.0\n",
            "w_d066c0a | acc = 0.6666666666666666\n",
            "w_a8b34a0 | acc = 1.0\n",
            "w_2df85e7 | acc = 0.6666666666666666\n",
            "w_fccccec | acc = 1.0\n",
            "w_6f0cbe3 | acc = 1.0\n",
            "w_6e209a8 | acc = 1.0\n",
            "w_40a8585 | acc = 1.0\n",
            "w_4846b27 | acc = 0.3333333333333333\n",
            "w_51e7506 | acc = 1.0\n",
            "w_234713b | acc = 1.0\n",
            "w_27b7295 | acc = 1.0\n",
            "w_5d5c6a6 | acc = 1.0\n",
            "w_8b86b95 | acc = 1.0\n",
            "w_fdd3687 | acc = 1.0\n",
            "w_4bf625b | acc = 1.0\n",
            "w_2b65b34 | acc = 1.0\n",
            "w_f829227 | acc = 1.0\n",
            "w_e906edd | acc = 1.0\n",
            "w_aabdf8c | acc = 1.0\n",
            "w_0fdf741 | acc = 1.0\n",
            "w_3eae264 | acc = 0.6666666666666666\n",
            "w_c16cb2c | acc = 0.6666666666666666\n",
            "w_6e6307e | acc = 1.0\n",
            "w_16df050 | acc = 1.0\n",
            "w_e2a09d4 | acc = 1.0\n",
            "w_d066c0a | acc = 1.0\n",
            "w_a8b34a0 | acc = 1.0\n",
            "w_2df85e7 | acc = 1.0\n",
            "w_fccccec | acc = 1.0\n",
            "w_6f0cbe3 | acc = 1.0\n",
            "w_6e209a8 | acc = 1.0\n",
            "w_40a8585 | acc = 0.6666666666666666\n",
            "w_4846b27 | acc = 1.0\n",
            "w_51e7506 | acc = 1.0\n",
            "w_234713b | acc = 1.0\n",
            "w_27b7295 | acc = 0.3333333333333333\n",
            "w_5d5c6a6 | acc = 1.0\n",
            "w_8b86b95 | acc = 1.0\n",
            "w_fdd3687 | acc = 1.0\n",
            "w_4bf625b | acc = 0.6666666666666666\n",
            "w_2b65b34 | acc = 1.0\n",
            "w_f829227 | acc = 1.0\n",
            "w_e906edd | acc = 0.6666666666666666\n",
            "w_aabdf8c | acc = 0.6666666666666666\n",
            "w_0fdf741 | acc = 1.0\n",
            "w_3eae264 | acc = 1.0\n",
            "w_c16cb2c | acc = 0.6666666666666666\n",
            "w_6e6307e | acc = 1.0\n",
            "w_16df050 | acc = 1.0\n",
            "w_e2a09d4 | acc = 1.0\n",
            "w_d066c0a | acc = 0.6666666666666666\n",
            "w_a8b34a0 | acc = 0.6666666666666666\n",
            "w_2df85e7 | acc = 1.0\n",
            "w_fccccec | acc = 1.0\n",
            "w_6f0cbe3 | acc = 0.6666666666666666\n",
            "w_6e209a8 | acc = 0.6666666666666666\n",
            "w_40a8585 | acc = 0.6666666666666666\n",
            "w_4846b27 | acc = 0.3333333333333333\n",
            "w_51e7506 | acc = 0.6666666666666666\n",
            "w_234713b | acc = 1.0\n",
            "w_27b7295 | acc = 1.0\n",
            "w_5d5c6a6 | acc = 0.6666666666666666\n",
            "w_8b86b95 | acc = 1.0\n",
            "w_fdd3687 | acc = 1.0\n",
            "w_4bf625b | acc = 0.6666666666666666\n",
            "w_2b65b34 | acc = 1.0\n",
            "w_f829227 | acc = 0.3333333333333333\n",
            "w_e906edd | acc = 1.0\n",
            "w_aabdf8c | acc = 1.0\n",
            "w_0fdf741 | acc = 1.0\n",
            "w_3eae264 | acc = 1.0\n",
            "w_c16cb2c | acc = 1.0\n",
            "w_6e6307e | acc = 0.6666666666666666\n",
            "w_16df050 | acc = 0.6666666666666666\n",
            "w_e2a09d4 | acc = 1.0\n",
            "w_d066c0a | acc = 0.6666666666666666\n",
            "w_a8b34a0 | acc = 0.6666666666666666\n",
            "w_2df85e7 | acc = 0.6666666666666666\n",
            "w_fccccec | acc = 0.6666666666666666\n",
            "w_6f0cbe3 | acc = 1.0\n",
            "w_6e209a8 | acc = 1.0\n",
            "w_40a8585 | acc = 1.0\n",
            "w_4846b27 | acc = 1.0\n",
            "w_51e7506 | acc = 1.0\n",
            "w_234713b | acc = 1.0\n",
            "w_27b7295 | acc = 1.0\n",
            "w_5d5c6a6 | acc = 0.6666666666666666\n",
            "w_8b86b95 | acc = 1.0\n",
            "w_fdd3687 | acc = 0.6666666666666666\n",
            "w_4bf625b | acc = 1.0\n",
            "w_2b65b34 | acc = 1.0\n",
            "w_f829227 | acc = 1.0\n",
            "w_e906edd | acc = 0.3333333333333333\n",
            "w_aabdf8c | acc = 1.0\n",
            "w_0fdf741 | acc = 1.0\n",
            "w_3eae264 | acc = 1.0\n",
            "w_c16cb2c | acc = 1.0\n",
            "w_6e6307e | acc = 1.0\n",
            "w_16df050 | acc = 1.0\n",
            "w_e2a09d4 | acc = 0.6666666666666666\n",
            "w_d066c0a | acc = 1.0\n",
            "w_a8b34a0 | acc = 0.3333333333333333\n",
            "w_2df85e7 | acc = 0.6666666666666666\n",
            "w_fccccec | acc = 0.6666666666666666\n",
            "w_6f0cbe3 | acc = 0.3333333333333333\n",
            "w_6e209a8 | acc = 1.0\n",
            "w_40a8585 | acc = 1.0\n",
            "w_4846b27 | acc = 0.6666666666666666\n",
            "w_51e7506 | acc = 0.3333333333333333\n",
            "w_234713b | acc = 1.0\n",
            "w_27b7295 | acc = 1.0\n",
            "w_5d5c6a6 | acc = 0.6666666666666666\n",
            "w_8b86b95 | acc = 0.6666666666666666\n",
            "w_fdd3687 | acc = 1.0\n",
            "w_4bf625b | acc = 1.0\n",
            "w_2b65b34 | acc = 1.0\n",
            "w_f829227 | acc = 1.0\n",
            "w_e906edd | acc = 1.0\n",
            "w_aabdf8c | acc = 0.6666666666666666\n",
            "w_0fdf741 | acc = 0.6666666666666666\n",
            "w_3eae264 | acc = 1.0\n",
            "w_c16cb2c | acc = 1.0\n",
            "w_6e6307e | acc = 0.6666666666666666\n",
            "w_16df050 | acc = 1.0\n",
            "w_e2a09d4 | acc = 0.6666666666666666\n",
            "w_d066c0a | acc = 0.6666666666666666\n",
            "w_a8b34a0 | acc = 1.0\n",
            "w_2df85e7 | acc = 1.0\n",
            "w_fccccec | acc = 1.0\n",
            "w_6f0cbe3 | acc = 1.0\n",
            "w_6e209a8 | acc = 0.6666666666666666\n",
            "w_40a8585 | acc = 1.0\n",
            "w_4846b27 | acc = 0.6666666666666666\n",
            "w_51e7506 | acc = 1.0\n",
            "w_234713b | acc = 1.0\n",
            "w_27b7295 | acc = 0.6666666666666666\n",
            "w_5d5c6a6 | acc = 1.0\n",
            "w_8b86b95 | acc = 0.3333333333333333\n",
            "w_fdd3687 | acc = 0.6666666666666666\n",
            "w_4bf625b | acc = 1.0\n",
            "w_2b65b34 | acc = 1.0\n",
            "w_f829227 | acc = 1.0\n",
            "w_e906edd | acc = 1.0\n",
            "w_aabdf8c | acc = 0.0\n",
            "w_0fdf741 | acc = 1.0\n",
            "w_3eae264 | acc = 1.0\n",
            "w_c16cb2c | acc = 1.0\n",
            "w_6e6307e | acc = 0.6666666666666666\n",
            "w_16df050 | acc = 0.3333333333333333\n",
            "w_e2a09d4 | acc = 1.0\n",
            "w_d066c0a | acc = 1.0\n",
            "w_a8b34a0 | acc = 0.3333333333333333\n",
            "w_2df85e7 | acc = 0.3333333333333333\n",
            "w_fccccec | acc = 1.0\n",
            "w_6f0cbe3 | acc = 0.6666666666666666\n",
            "w_6e209a8 | acc = 0.3333333333333333\n",
            "w_40a8585 | acc = 1.0\n",
            "w_4846b27 | acc = 1.0\n",
            "w_51e7506 | acc = 1.0\n",
            "w_234713b | acc = 1.0\n",
            "w_27b7295 | acc = 1.0\n",
            "w_5d5c6a6 | acc = 1.0\n",
            "w_8b86b95 | acc = 1.0\n",
            "w_fdd3687 | acc = 1.0\n",
            "w_4bf625b | acc = 1.0\n",
            "w_2b65b34 | acc = 0.3333333333333333\n",
            "w_f829227 | acc = 1.0\n",
            "w_e906edd | acc = 1.0\n",
            "w_aabdf8c | acc = 1.0\n",
            "w_0fdf741 | acc = 1.0\n",
            "w_3eae264 | acc = 0.3333333333333333\n",
            "w_c16cb2c | acc = 1.0\n",
            "w_6e6307e | acc = 1.0\n",
            "w_16df050 | acc = 1.0\n",
            "w_e2a09d4 | acc = 1.0\n",
            "w_d066c0a | acc = 1.0\n",
            "w_a8b34a0 | acc = 0.6666666666666666\n",
            "w_2df85e7 | acc = 1.0\n",
            "w_fccccec | acc = 0.3333333333333333\n",
            "w_6f0cbe3 | acc = 1.0\n",
            "w_6e209a8 | acc = 1.0\n",
            "w_40a8585 | acc = 0.6666666666666666\n",
            "w_4846b27 | acc = 1.0\n",
            "w_51e7506 | acc = 0.3333333333333333\n",
            "w_234713b | acc = 1.0\n",
            "w_27b7295 | acc = 1.0\n",
            "w_5d5c6a6 | acc = 1.0\n",
            "w_8b86b95 | acc = 1.0\n",
            "w_fdd3687 | acc = 0.6666666666666666\n",
            "w_4bf625b | acc = 1.0\n",
            "w_2b65b34 | acc = 1.0\n",
            "w_f829227 | acc = 0.6666666666666666\n",
            "w_e906edd | acc = 1.0\n",
            "w_aabdf8c | acc = 1.0\n",
            "w_0fdf741 | acc = 1.0\n",
            "w_3eae264 | acc = 1.0\n",
            "w_c16cb2c | acc = 0.3333333333333333\n",
            "w_6e6307e | acc = 0.6666666666666666\n",
            "w_16df050 | acc = 1.0\n",
            "w_e2a09d4 | acc = 0.6666666666666666\n",
            "w_d066c0a | acc = 1.0\n"
          ]
        }
      ]
    },
    {
      "cell_type": "code",
      "source": [
        "class_acc_means = dict()\n",
        "for k, v in class_accs.items():\n",
        "  class_acc_means[k] = np.mean(v)"
      ],
      "metadata": {
        "id": "9abURv7rfJbM"
      },
      "execution_count": 12,
      "outputs": []
    },
    {
      "cell_type": "code",
      "source": [
        "plt.title('Histogram of Class Accuracies')\n",
        "plt.hist(class_accs.values())\n",
        "plt.xlabel('Class Accuracy');"
      ],
      "metadata": {
        "colab": {
          "base_uri": "https://localhost:8080/",
          "height": 472
        },
        "id": "QGC05j5cfWwE",
        "outputId": "318eea36-64ea-4f7d-a7e1-4abac5d14d2c"
      },
      "execution_count": 13,
      "outputs": [
        {
          "output_type": "display_data",
          "data": {
            "text/plain": [
              "<Figure size 640x480 with 1 Axes>"
            ],
            "image/png": "[encoded data removed]"
          },
          "metadata": {}
        }
      ]
    },
    {
      "cell_type": "code",
      "source": [
        "plt.title('Histogram of Class Accuracies')\n",
        "plt.hist(class_acc_means.values())\n",
        "plt.xlabel('Class Accuracy');"
      ],
      "metadata": {
        "id": "80I609PxXqIi",
        "outputId": "c47d2d0d-9543-4e10-a3e1-35ee6b265308",
        "colab": {
          "base_uri": "https://localhost:8080/",
          "height": 472
        }
      },
      "execution_count": 14,
      "outputs": [
        {
          "output_type": "display_data",
          "data": {
            "text/plain": [
              "<Figure size 640x480 with 1 Axes>"
            ],
            "image/png": "[encoded data removed]"
          },
          "metadata": {}
        }
      ]
    },
    {
      "cell_type": "code",
      "source": [
        "# Look at whale_ids that are in the lower spectrum of the histogram"
      ],
      "metadata": {
        "id": "cI3xfOXGfFka"
      },
      "execution_count": 15,
      "outputs": []
    },
    {
      "cell_type": "code",
      "source": [
        "low_performance_classes = []\n",
        "for k, v in class_acc_means.items():\n",
        "  if v <= .80:\n",
        "    low_performance_classes += [k]"
      ],
      "metadata": {
        "id": "6mDlI_yNh4l1"
      },
      "execution_count": 16,
      "outputs": []
    },
    {
      "cell_type": "code",
      "source": [
        "low_performance_classes"
      ],
      "metadata": {
        "id": "UZTf5hPMioC3",
        "outputId": "efb5195d-8fff-478e-8fa6-558355c67981",
        "colab": {
          "base_uri": "https://localhost:8080/"
        }
      },
      "execution_count": 17,
      "outputs": [
        {
          "output_type": "execute_result",
          "data": {
            "text/plain": [
              "['w_a8b34a0', 'w_2df85e7', 'w_d066c0a']"
            ]
          },
          "metadata": {},
          "execution_count": 17
        }
      ]
    },
    {
      "cell_type": "code",
      "source": [
        "df[df['Id'] == 'w_2df85e7']['Image'].iloc[1]"
      ],
      "metadata": {
        "id": "wXre4_R0jAnB",
        "outputId": "c20a1d49-5f0c-46a5-b74f-07093926b2b5",
        "colab": {
          "base_uri": "https://localhost:8080/",
          "height": 36
        }
      },
      "execution_count": 30,
      "outputs": [
        {
          "output_type": "execute_result",
          "data": {
            "text/plain": [
              "'04c254622.jpg'"
            ],
            "application/vnd.google.colaboratory.intrinsic+json": {
              "type": "string"
            }
          },
          "metadata": {},
          "execution_count": 30
        }
      ]
    },
    {
      "cell_type": "code",
      "source": [
        "img_filename = df[df['Id'] == 'w_2df85e7']['Image'].iloc[1]"
      ],
      "metadata": {
        "id": "zizcVFSTipHn"
      },
      "execution_count": 32,
      "outputs": []
    },
    {
      "cell_type": "code",
      "source": [
        "img = cv2.imread(f'/content/train/{img_filename}')"
      ],
      "metadata": {
        "id": "lGJ1IO-eisOy"
      },
      "execution_count": 33,
      "outputs": []
    },
    {
      "cell_type": "code",
      "source": [
        "plt.imshow(img)"
      ],
      "metadata": {
        "id": "ciOm4zJpi0NZ",
        "outputId": "0390f373-e590-4503-d1ef-e2ae8c94f347",
        "colab": {
          "base_uri": "https://localhost:8080/",
          "height": 413
        }
      },
      "execution_count": 34,
      "outputs": [
        {
          "output_type": "execute_result",
          "data": {
            "text/plain": [
              "<matplotlib.image.AxesImage at 0x7c40edb89870>"
            ]
          },
          "metadata": {},
          "execution_count": 34
        },
        {
          "output_type": "display_data",
          "data": {
            "text/plain": [
              "<Figure size 640x480 with 1 Axes>"
            ],
            "image/png": "[encoded data removed]"
          },
          "metadata": {}
        }
      ]
    },
    {
      "cell_type": "code",
      "source": [],
      "metadata": {
        "id": "b8A58dkii1Kh"
      },
      "execution_count": null,
      "outputs": []
    }
  ]
}