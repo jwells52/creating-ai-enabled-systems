{
  "nbformat": 4,
  "nbformat_minor": 0,
  "metadata": {
    "colab": {
      "provenance": [],
      "gpuType": "A100",
      "authorship_tag": "ABX9TyOFVEBB9dXD5YOt1epexHuR",
      "include_colab_link": true
    },
    "kernelspec": {
      "name": "python3",
      "display_name": "Python 3"
    },
    "language_info": {
      "name": "python"
    },
    "accelerator": "GPU"
  },
  "cells": [
    {
      "cell_type": "markdown",
      "metadata": {
        "id": "view-in-github",
        "colab_type": "text"
      },
      "source": [
        "<a href=\"https://colab.research.google.com/github/jwells52/creating-ai-enabled-systems/blob/main/Research%20Project/notebooks/fsl_experiment3.ipynb\" target=\"_parent\"><img src=\"https://colab.research.google.com/assets/colab-badge.svg\" alt=\"Open In Colab\"/></a>"
      ]
    },
    {
      "cell_type": "markdown",
      "source": [
        "### Install easyfsl"
      ],
      "metadata": {
        "id": "1aY-Kk8OaKJ7"
      }
    },
    {
      "cell_type": "code",
      "execution_count": 1,
      "metadata": {
        "colab": {
          "base_uri": "https://localhost:8080/"
        },
        "id": "TDhuvzzpaHRr",
        "outputId": "9b26acf3-6177-4f67-ab32-75cd1834a015"
      },
      "outputs": [
        {
          "output_type": "stream",
          "name": "stdout",
          "text": [
            "Collecting easyfsl\n",
            "  Downloading easyfsl-1.4.0-py3-none-any.whl (65 kB)\n",
            "\u001b[2K     \u001b[90m━━━━━━━━━━━━━━━━━━━━━━━━━━━━━━━━━━━━━━━━\u001b[0m \u001b[32m65.2/65.2 kB\u001b[0m \u001b[31m1.3 MB/s\u001b[0m eta \u001b[36m0:00:00\u001b[0m\n",
            "\u001b[?25hRequirement already satisfied: matplotlib>=3.0.0 in /usr/local/lib/python3.10/dist-packages (from easyfsl) (3.7.1)\n",
            "Requirement already satisfied: pandas>=1.4.0 in /usr/local/lib/python3.10/dist-packages (from easyfsl) (1.5.3)\n",
            "Requirement already satisfied: torch>=1.4.0 in /usr/local/lib/python3.10/dist-packages (from easyfsl) (2.0.1+cu118)\n",
            "Requirement already satisfied: torchvision>=0.7.0 in /usr/local/lib/python3.10/dist-packages (from easyfsl) (0.15.2+cu118)\n",
            "Requirement already satisfied: tqdm>=4.1.0 in /usr/local/lib/python3.10/dist-packages (from easyfsl) (4.65.0)\n",
            "Requirement already satisfied: contourpy>=1.0.1 in /usr/local/lib/python3.10/dist-packages (from matplotlib>=3.0.0->easyfsl) (1.1.0)\n",
            "Requirement already satisfied: cycler>=0.10 in /usr/local/lib/python3.10/dist-packages (from matplotlib>=3.0.0->easyfsl) (0.11.0)\n",
            "Requirement already satisfied: fonttools>=4.22.0 in /usr/local/lib/python3.10/dist-packages (from matplotlib>=3.0.0->easyfsl) (4.41.1)\n",
            "Requirement already satisfied: kiwisolver>=1.0.1 in /usr/local/lib/python3.10/dist-packages (from matplotlib>=3.0.0->easyfsl) (1.4.4)\n",
            "Requirement already satisfied: numpy>=1.20 in /usr/local/lib/python3.10/dist-packages (from matplotlib>=3.0.0->easyfsl) (1.22.4)\n",
            "Requirement already satisfied: packaging>=20.0 in /usr/local/lib/python3.10/dist-packages (from matplotlib>=3.0.0->easyfsl) (23.1)\n",
            "Requirement already satisfied: pillow>=6.2.0 in /usr/local/lib/python3.10/dist-packages (from matplotlib>=3.0.0->easyfsl) (9.4.0)\n",
            "Requirement already satisfied: pyparsing>=2.3.1 in /usr/local/lib/python3.10/dist-packages (from matplotlib>=3.0.0->easyfsl) (3.1.0)\n",
            "Requirement already satisfied: python-dateutil>=2.7 in /usr/local/lib/python3.10/dist-packages (from matplotlib>=3.0.0->easyfsl) (2.8.2)\n",
            "Requirement already satisfied: pytz>=2020.1 in /usr/local/lib/python3.10/dist-packages (from pandas>=1.4.0->easyfsl) (2022.7.1)\n",
            "Requirement already satisfied: filelock in /usr/local/lib/python3.10/dist-packages (from torch>=1.4.0->easyfsl) (3.12.2)\n",
            "Requirement already satisfied: typing-extensions in /usr/local/lib/python3.10/dist-packages (from torch>=1.4.0->easyfsl) (4.7.1)\n",
            "Requirement already satisfied: sympy in /usr/local/lib/python3.10/dist-packages (from torch>=1.4.0->easyfsl) (1.11.1)\n",
            "Requirement already satisfied: networkx in /usr/local/lib/python3.10/dist-packages (from torch>=1.4.0->easyfsl) (3.1)\n",
            "Requirement already satisfied: jinja2 in /usr/local/lib/python3.10/dist-packages (from torch>=1.4.0->easyfsl) (3.1.2)\n",
            "Requirement already satisfied: triton==2.0.0 in /usr/local/lib/python3.10/dist-packages (from torch>=1.4.0->easyfsl) (2.0.0)\n",
            "Requirement already satisfied: cmake in /usr/local/lib/python3.10/dist-packages (from triton==2.0.0->torch>=1.4.0->easyfsl) (3.25.2)\n",
            "Requirement already satisfied: lit in /usr/local/lib/python3.10/dist-packages (from triton==2.0.0->torch>=1.4.0->easyfsl) (16.0.6)\n",
            "Requirement already satisfied: requests in /usr/local/lib/python3.10/dist-packages (from torchvision>=0.7.0->easyfsl) (2.27.1)\n",
            "Requirement already satisfied: six>=1.5 in /usr/local/lib/python3.10/dist-packages (from python-dateutil>=2.7->matplotlib>=3.0.0->easyfsl) (1.16.0)\n",
            "Requirement already satisfied: MarkupSafe>=2.0 in /usr/local/lib/python3.10/dist-packages (from jinja2->torch>=1.4.0->easyfsl) (2.1.3)\n",
            "Requirement already satisfied: urllib3<1.27,>=1.21.1 in /usr/local/lib/python3.10/dist-packages (from requests->torchvision>=0.7.0->easyfsl) (1.26.16)\n",
            "Requirement already satisfied: certifi>=2017.4.17 in /usr/local/lib/python3.10/dist-packages (from requests->torchvision>=0.7.0->easyfsl) (2023.7.22)\n",
            "Requirement already satisfied: charset-normalizer~=2.0.0 in /usr/local/lib/python3.10/dist-packages (from requests->torchvision>=0.7.0->easyfsl) (2.0.12)\n",
            "Requirement already satisfied: idna<4,>=2.5 in /usr/local/lib/python3.10/dist-packages (from requests->torchvision>=0.7.0->easyfsl) (3.4)\n",
            "Requirement already satisfied: mpmath>=0.19 in /usr/local/lib/python3.10/dist-packages (from sympy->torch>=1.4.0->easyfsl) (1.3.0)\n",
            "Installing collected packages: easyfsl\n",
            "Successfully installed easyfsl-1.4.0\n"
          ]
        }
      ],
      "source": [
        "%pip install easyfsl"
      ]
    },
    {
      "cell_type": "markdown",
      "source": [
        "### Download Humpback Whale Dataset"
      ],
      "metadata": {
        "id": "TxckwzwdaNg7"
      }
    },
    {
      "cell_type": "code",
      "source": [
        "from google.colab import drive\n",
        "drive.mount('/content/drive')"
      ],
      "metadata": {
        "colab": {
          "base_uri": "https://localhost:8080/"
        },
        "id": "p6cH7GbKaO5X",
        "outputId": "a4e0ca34-f7d6-4026-819f-a96252b1336f"
      },
      "execution_count": 2,
      "outputs": [
        {
          "output_type": "stream",
          "name": "stdout",
          "text": [
            "Mounted at /content/drive\n"
          ]
        }
      ]
    },
    {
      "cell_type": "code",
      "source": [
        "!rm -rf /root/.kaggle && mkdir /root/.kaggle && cp /content/drive/MyDrive/Research-Project/kaggle.json /root/.kaggle/kaggle.json && chmod 600 /root/.kaggle/kaggle.json && kaggle competitions download -c humpback-whale-identification"
      ],
      "metadata": {
        "id": "IDeyRC_SaRD-",
        "outputId": "1712113b-7d35-486f-f211-82c6e1d9083b",
        "colab": {
          "base_uri": "https://localhost:8080/"
        }
      },
      "execution_count": 3,
      "outputs": [
        {
          "output_type": "stream",
          "name": "stdout",
          "text": [
            "Downloading humpback-whale-identification.zip to /content\n",
            "100% 5.50G/5.51G [03:18<00:00, 37.6MB/s]\n",
            "100% 5.51G/5.51G [03:18<00:00, 29.8MB/s]\n"
          ]
        }
      ]
    },
    {
      "cell_type": "code",
      "source": [
        "%%capture\n",
        "\n",
        "!unzip humpback-whale-identification.zip"
      ],
      "metadata": {
        "id": "pPO_yhVuIXAG"
      },
      "execution_count": 1,
      "outputs": []
    },
    {
      "cell_type": "markdown",
      "source": [
        "### Clone GitHub Repo"
      ],
      "metadata": {
        "id": "RFcHZNs5aV4u"
      }
    },
    {
      "cell_type": "code",
      "source": [
        "import os\n",
        "\n",
        "if os.path.exists('/content/creating-ai-enabled-systems/Research Project') == False:\n",
        "  !git clone https://github.com/jwells52/creating-ai-enabled-systems.git\n",
        "\n",
        "%cd creating-ai-enabled-systems/Research\\ Project"
      ],
      "metadata": {
        "colab": {
          "base_uri": "https://localhost:8080/"
        },
        "id": "jN_7CpgbaULS",
        "outputId": "e2fbeec1-6d77-4af5-d992-e87750b039e7"
      },
      "execution_count": 1,
      "outputs": [
        {
          "output_type": "stream",
          "name": "stdout",
          "text": [
            "/content/creating-ai-enabled-systems/Research Project\n"
          ]
        }
      ]
    },
    {
      "cell_type": "markdown",
      "source": [
        "### Imports"
      ],
      "metadata": {
        "id": "7OZh8KbybBxc"
      }
    },
    {
      "cell_type": "code",
      "source": [
        "import os\n",
        "import cv2\n",
        "import torch\n",
        "\n",
        "import numpy as np\n",
        "import pandas as pd\n",
        "import matplotlib.pyplot as plt\n",
        "\n",
        "from tqdm import tqdm\n",
        "\n",
        "from easyfsl.methods import PrototypicalNetworks, FewShotClassifier, SimpleShot\n",
        "from easyfsl.utils import evaluate, evaluate_on_one_task\n",
        "from easyfsl.samplers import TaskSampler\n",
        "\n",
        "from torch import Tensor, nn\n",
        "from torch.optim import SGD, Optimizer, Adam\n",
        "from torch.utils.data import Dataset, DataLoader\n",
        "from torchvision import transforms\n",
        "from torchvision.models import resnet18, resnet34, resnet152\n",
        "\n",
        "from typing import Callable\n",
        "\n",
        "from modules.data_utils import HumpbackWhaleDataset, remove_new_whale_class, create_loaders\n",
        "from modules.train import train_fsl, device, transform\n",
        "\n",
        "\n",
        "%load_ext autoreload\n",
        "%autoreload 2"
      ],
      "metadata": {
        "id": "981jAgVabC1f"
      },
      "execution_count": 2,
      "outputs": []
    },
    {
      "cell_type": "code",
      "source": [
        "n_way   = 25\n",
        "n_shot  = 3\n",
        "n_query = 5"
      ],
      "metadata": {
        "id": "kUJ91iUHermi"
      },
      "execution_count": 15,
      "outputs": []
    },
    {
      "cell_type": "markdown",
      "source": [
        "### Look at classes that have low performance"
      ],
      "metadata": {
        "id": "DIWaIsbfamgW"
      }
    },
    {
      "cell_type": "code",
      "source": [
        "# Load into dataset\n",
        "# For each class, calculate accuracy\n",
        "# Then plot barplot of accuracy for each class\n",
        "# Look at the characteristics of images for the classes that have low performance"
      ],
      "metadata": {
        "id": "ve6THl99amCJ"
      },
      "execution_count": 16,
      "outputs": []
    },
    {
      "cell_type": "code",
      "source": [
        "df = remove_new_whale_class(\n",
        "  pd.read_csv('/content/creating-ai-enabled-systems/Research Project/data/validation_10samples.csv')\n",
        ")\n",
        "\n",
        "\n",
        "# df = df[df['class_count'] > 15]"
      ],
      "metadata": {
        "id": "ruB03R5daY3R"
      },
      "execution_count": 17,
      "outputs": []
    },
    {
      "cell_type": "code",
      "source": [
        "dataset = HumpbackWhaleDataset('/content/train', df, transform=transform)"
      ],
      "metadata": {
        "id": "erJ1g-EbM7xo"
      },
      "execution_count": 18,
      "outputs": []
    },
    {
      "cell_type": "code",
      "source": [
        "sampler = TaskSampler(\n",
        "    dataset, n_way=n_way, n_shot=n_shot, n_query=n_query, n_tasks=30\n",
        ")"
      ],
      "metadata": {
        "id": "HzlYppwbOTL7"
      },
      "execution_count": 19,
      "outputs": []
    },
    {
      "cell_type": "code",
      "source": [
        "loader = DataLoader(\n",
        "    dataset,\n",
        "    batch_sampler=sampler,\n",
        "    num_workers=2,\n",
        "    pin_memory=True,\n",
        "    collate_fn=sampler.episodic_collate_fn\n",
        ")\n"
      ],
      "metadata": {
        "id": "zfWOnUIgOpr5"
      },
      "execution_count": 20,
      "outputs": []
    },
    {
      "cell_type": "code",
      "source": [
        "cnn = resnet34()\n",
        "cnn.fc = torch.nn.Flatten()\n",
        "few_shot_classifier = PrototypicalNetworks(cnn).to(device)\n",
        "few_shot_classifier.load_state_dict(\n",
        "  torch.load('/content/drive/MyDrive/prototypical_network_resnet18_last_epoch')()\n",
        ")"
      ],
      "metadata": {
        "id": "0e05NPp-XVwA",
        "outputId": "326838f1-1b3d-4d09-a925-bc96581fad29",
        "colab": {
          "base_uri": "https://localhost:8080/"
        }
      },
      "execution_count": 9,
      "outputs": [
        {
          "output_type": "execute_result",
          "data": {
            "text/plain": [
              "<All keys matched successfully>"
            ]
          },
          "metadata": {},
          "execution_count": 9
        }
      ]
    },
    {
      "cell_type": "code",
      "source": [
        "%%capture\n",
        "\n",
        "few_shot_classifier.eval()"
      ],
      "metadata": {
        "id": "3ZSqL58yXrnq"
      },
      "execution_count": 10,
      "outputs": []
    },
    {
      "cell_type": "code",
      "source": [
        "class_accs = dict()\n",
        "for (\n",
        "    support_images,\n",
        "    support_labels,\n",
        "    query_images,\n",
        "    query_labels,\n",
        "    _,) in loader:\n",
        "\n",
        "    few_shot_classifier.process_support_set(support_images.to(device), support_labels.to(device))\n",
        "    predictions = few_shot_classifier(query_images.to(device)).detach().data\n",
        "    prediction_labels = torch.max(predictions, 1)[1].cpu().detach().data\n",
        "    for label in torch.unique(query_labels):\n",
        "      label_idxs = torch.argwhere(query_labels == label)\n",
        "      whale_id = dataset.id_to_label[label.detach().item()]\n",
        "      whale_id_acc = (prediction_labels[label_idxs] == query_labels[label_idxs]).sum().item() / 5\n",
        "      print(f'{whale_id} | acc = {whale_id_acc}')\n",
        "\n",
        "      if whale_id not in class_accs:\n",
        "        class_accs[whale_id] = [whale_id_acc]\n",
        "      else:\n",
        "        class_accs[whale_id] += [whale_id_acc]"
      ],
      "metadata": {
        "id": "KeTIwt95PvZt",
        "outputId": "4fb645fe-4f56-4de6-d7b8-e67e3b891696",
        "colab": {
          "base_uri": "https://localhost:8080/"
        }
      },
      "execution_count": 11,
      "outputs": [
        {
          "output_type": "stream",
          "name": "stdout",
          "text": [
            "w_a8b34a0 | acc = 0.8\n",
            "w_2df85e7 | acc = 1.0\n",
            "w_fccccec | acc = 1.0\n",
            "w_6f0cbe3 | acc = 1.0\n",
            "w_6e209a8 | acc = 1.0\n",
            "w_40a8585 | acc = 1.0\n",
            "w_4846b27 | acc = 1.0\n",
            "w_51e7506 | acc = 0.8\n",
            "w_234713b | acc = 0.6\n",
            "w_27b7295 | acc = 0.6\n",
            "w_5d5c6a6 | acc = 1.0\n",
            "w_8b86b95 | acc = 1.0\n",
            "w_fdd3687 | acc = 1.0\n",
            "w_4bf625b | acc = 1.0\n",
            "w_2b65b34 | acc = 0.6\n",
            "w_f829227 | acc = 1.0\n",
            "w_e906edd | acc = 1.0\n",
            "w_aabdf8c | acc = 1.0\n",
            "w_0fdf741 | acc = 1.0\n",
            "w_3eae264 | acc = 1.0\n",
            "w_a8b34a0 | acc = 0.6\n",
            "w_2df85e7 | acc = 1.0\n",
            "w_fccccec | acc = 0.8\n",
            "w_6f0cbe3 | acc = 0.8\n",
            "w_6e209a8 | acc = 1.0\n",
            "w_40a8585 | acc = 0.6\n",
            "w_4846b27 | acc = 1.0\n",
            "w_51e7506 | acc = 0.4\n",
            "w_234713b | acc = 1.0\n",
            "w_27b7295 | acc = 0.8\n",
            "w_5d5c6a6 | acc = 0.8\n",
            "w_8b86b95 | acc = 1.0\n",
            "w_fdd3687 | acc = 1.0\n",
            "w_4bf625b | acc = 0.4\n",
            "w_2b65b34 | acc = 0.8\n",
            "w_f829227 | acc = 1.0\n",
            "w_e906edd | acc = 0.2\n",
            "w_aabdf8c | acc = 1.0\n",
            "w_0fdf741 | acc = 1.0\n",
            "w_3eae264 | acc = 1.0\n",
            "w_a8b34a0 | acc = 1.0\n",
            "w_2df85e7 | acc = 0.8\n",
            "w_fccccec | acc = 1.0\n",
            "w_6f0cbe3 | acc = 0.8\n",
            "w_6e209a8 | acc = 0.6\n",
            "w_40a8585 | acc = 1.0\n",
            "w_4846b27 | acc = 1.0\n",
            "w_51e7506 | acc = 0.8\n",
            "w_234713b | acc = 0.8\n",
            "w_27b7295 | acc = 1.0\n",
            "w_5d5c6a6 | acc = 1.0\n",
            "w_8b86b95 | acc = 1.0\n",
            "w_fdd3687 | acc = 0.8\n",
            "w_4bf625b | acc = 1.0\n",
            "w_2b65b34 | acc = 1.0\n",
            "w_f829227 | acc = 1.0\n",
            "w_e906edd | acc = 0.6\n",
            "w_aabdf8c | acc = 1.0\n",
            "w_0fdf741 | acc = 1.0\n",
            "w_3eae264 | acc = 1.0\n",
            "w_a8b34a0 | acc = 0.6\n",
            "w_2df85e7 | acc = 0.6\n",
            "w_fccccec | acc = 1.0\n",
            "w_6f0cbe3 | acc = 0.8\n",
            "w_6e209a8 | acc = 1.0\n",
            "w_40a8585 | acc = 1.0\n",
            "w_4846b27 | acc = 1.0\n",
            "w_51e7506 | acc = 1.0\n",
            "w_234713b | acc = 0.8\n",
            "w_27b7295 | acc = 0.8\n",
            "w_5d5c6a6 | acc = 1.0\n",
            "w_8b86b95 | acc = 1.0\n",
            "w_fdd3687 | acc = 1.0\n",
            "w_4bf625b | acc = 0.8\n",
            "w_2b65b34 | acc = 1.0\n",
            "w_f829227 | acc = 1.0\n",
            "w_e906edd | acc = 1.0\n",
            "w_aabdf8c | acc = 0.8\n",
            "w_0fdf741 | acc = 1.0\n",
            "w_3eae264 | acc = 1.0\n",
            "w_a8b34a0 | acc = 0.4\n",
            "w_2df85e7 | acc = 1.0\n",
            "w_fccccec | acc = 0.6\n",
            "w_6f0cbe3 | acc = 1.0\n",
            "w_6e209a8 | acc = 1.0\n",
            "w_40a8585 | acc = 1.0\n",
            "w_4846b27 | acc = 0.8\n",
            "w_51e7506 | acc = 1.0\n",
            "w_234713b | acc = 0.8\n",
            "w_27b7295 | acc = 0.8\n",
            "w_5d5c6a6 | acc = 0.8\n",
            "w_8b86b95 | acc = 0.8\n",
            "w_fdd3687 | acc = 1.0\n",
            "w_4bf625b | acc = 0.4\n",
            "w_2b65b34 | acc = 1.0\n",
            "w_f829227 | acc = 1.0\n",
            "w_e906edd | acc = 1.0\n",
            "w_aabdf8c | acc = 0.6\n",
            "w_0fdf741 | acc = 1.0\n",
            "w_3eae264 | acc = 0.6\n",
            "w_a8b34a0 | acc = 0.6\n",
            "w_2df85e7 | acc = 0.4\n",
            "w_fccccec | acc = 0.8\n",
            "w_6f0cbe3 | acc = 0.8\n",
            "w_6e209a8 | acc = 1.0\n",
            "w_40a8585 | acc = 1.0\n",
            "w_4846b27 | acc = 0.8\n",
            "w_51e7506 | acc = 0.6\n",
            "w_234713b | acc = 0.8\n",
            "w_27b7295 | acc = 1.0\n",
            "w_5d5c6a6 | acc = 1.0\n",
            "w_8b86b95 | acc = 0.6\n",
            "w_fdd3687 | acc = 0.6\n",
            "w_4bf625b | acc = 1.0\n",
            "w_2b65b34 | acc = 1.0\n",
            "w_f829227 | acc = 1.0\n",
            "w_e906edd | acc = 1.0\n",
            "w_aabdf8c | acc = 0.4\n",
            "w_0fdf741 | acc = 1.0\n",
            "w_3eae264 | acc = 0.6\n",
            "w_a8b34a0 | acc = 1.0\n",
            "w_2df85e7 | acc = 0.8\n",
            "w_fccccec | acc = 1.0\n",
            "w_6f0cbe3 | acc = 1.0\n",
            "w_6e209a8 | acc = 0.6\n",
            "w_40a8585 | acc = 1.0\n",
            "w_4846b27 | acc = 1.0\n",
            "w_51e7506 | acc = 0.6\n",
            "w_234713b | acc = 1.0\n",
            "w_27b7295 | acc = 1.0\n",
            "w_5d5c6a6 | acc = 1.0\n",
            "w_8b86b95 | acc = 0.6\n",
            "w_fdd3687 | acc = 1.0\n",
            "w_4bf625b | acc = 1.0\n",
            "w_2b65b34 | acc = 0.8\n",
            "w_f829227 | acc = 1.0\n",
            "w_e906edd | acc = 1.0\n",
            "w_aabdf8c | acc = 1.0\n",
            "w_0fdf741 | acc = 1.0\n",
            "w_3eae264 | acc = 1.0\n",
            "w_a8b34a0 | acc = 0.8\n",
            "w_2df85e7 | acc = 0.8\n",
            "w_fccccec | acc = 1.0\n",
            "w_6f0cbe3 | acc = 0.6\n",
            "w_6e209a8 | acc = 0.6\n",
            "w_40a8585 | acc = 0.8\n",
            "w_4846b27 | acc = 1.0\n",
            "w_51e7506 | acc = 0.8\n",
            "w_234713b | acc = 1.0\n",
            "w_27b7295 | acc = 0.8\n",
            "w_5d5c6a6 | acc = 1.0\n",
            "w_8b86b95 | acc = 1.0\n",
            "w_fdd3687 | acc = 1.0\n",
            "w_4bf625b | acc = 0.8\n",
            "w_2b65b34 | acc = 0.8\n",
            "w_f829227 | acc = 1.0\n",
            "w_e906edd | acc = 1.0\n",
            "w_aabdf8c | acc = 1.0\n",
            "w_0fdf741 | acc = 1.0\n",
            "w_3eae264 | acc = 1.0\n",
            "w_a8b34a0 | acc = 1.0\n",
            "w_2df85e7 | acc = 1.0\n",
            "w_fccccec | acc = 0.6\n",
            "w_6f0cbe3 | acc = 0.8\n",
            "w_6e209a8 | acc = 1.0\n",
            "w_40a8585 | acc = 1.0\n",
            "w_4846b27 | acc = 0.8\n",
            "w_51e7506 | acc = 0.8\n",
            "w_234713b | acc = 0.8\n",
            "w_27b7295 | acc = 0.8\n",
            "w_5d5c6a6 | acc = 1.0\n",
            "w_8b86b95 | acc = 1.0\n",
            "w_fdd3687 | acc = 0.8\n",
            "w_4bf625b | acc = 0.8\n",
            "w_2b65b34 | acc = 1.0\n",
            "w_f829227 | acc = 1.0\n",
            "w_e906edd | acc = 1.0\n",
            "w_aabdf8c | acc = 1.0\n",
            "w_0fdf741 | acc = 1.0\n",
            "w_3eae264 | acc = 1.0\n",
            "w_a8b34a0 | acc = 1.0\n",
            "w_2df85e7 | acc = 0.2\n",
            "w_fccccec | acc = 0.8\n",
            "w_6f0cbe3 | acc = 0.8\n",
            "w_6e209a8 | acc = 0.8\n",
            "w_40a8585 | acc = 0.8\n",
            "w_4846b27 | acc = 0.8\n",
            "w_51e7506 | acc = 1.0\n",
            "w_234713b | acc = 0.8\n",
            "w_27b7295 | acc = 1.0\n",
            "w_5d5c6a6 | acc = 1.0\n",
            "w_8b86b95 | acc = 0.4\n",
            "w_fdd3687 | acc = 0.6\n",
            "w_4bf625b | acc = 1.0\n",
            "w_2b65b34 | acc = 0.8\n",
            "w_f829227 | acc = 1.0\n",
            "w_e906edd | acc = 1.0\n",
            "w_aabdf8c | acc = 0.8\n",
            "w_0fdf741 | acc = 1.0\n",
            "w_3eae264 | acc = 1.0\n",
            "w_a8b34a0 | acc = 0.6\n",
            "w_2df85e7 | acc = 0.8\n",
            "w_fccccec | acc = 0.6\n",
            "w_6f0cbe3 | acc = 1.0\n",
            "w_6e209a8 | acc = 1.0\n",
            "w_40a8585 | acc = 1.0\n",
            "w_4846b27 | acc = 1.0\n",
            "w_51e7506 | acc = 0.8\n",
            "w_234713b | acc = 1.0\n",
            "w_27b7295 | acc = 1.0\n",
            "w_5d5c6a6 | acc = 1.0\n",
            "w_8b86b95 | acc = 1.0\n",
            "w_fdd3687 | acc = 0.8\n",
            "w_4bf625b | acc = 0.6\n",
            "w_2b65b34 | acc = 1.0\n",
            "w_f829227 | acc = 1.0\n",
            "w_e906edd | acc = 0.8\n",
            "w_aabdf8c | acc = 0.6\n",
            "w_0fdf741 | acc = 1.0\n",
            "w_3eae264 | acc = 0.6\n",
            "w_a8b34a0 | acc = 1.0\n",
            "w_2df85e7 | acc = 0.8\n",
            "w_fccccec | acc = 0.6\n",
            "w_6f0cbe3 | acc = 0.8\n",
            "w_6e209a8 | acc = 1.0\n",
            "w_40a8585 | acc = 1.0\n",
            "w_4846b27 | acc = 1.0\n",
            "w_51e7506 | acc = 1.0\n",
            "w_234713b | acc = 0.8\n",
            "w_27b7295 | acc = 1.0\n",
            "w_5d5c6a6 | acc = 0.8\n",
            "w_8b86b95 | acc = 1.0\n",
            "w_fdd3687 | acc = 1.0\n",
            "w_4bf625b | acc = 1.0\n",
            "w_2b65b34 | acc = 0.8\n",
            "w_f829227 | acc = 0.2\n",
            "w_e906edd | acc = 0.8\n",
            "w_aabdf8c | acc = 1.0\n",
            "w_0fdf741 | acc = 1.0\n",
            "w_3eae264 | acc = 0.8\n",
            "w_a8b34a0 | acc = 0.6\n",
            "w_2df85e7 | acc = 0.6\n",
            "w_fccccec | acc = 0.2\n",
            "w_6f0cbe3 | acc = 1.0\n",
            "w_6e209a8 | acc = 1.0\n",
            "w_40a8585 | acc = 0.8\n",
            "w_4846b27 | acc = 0.6\n",
            "w_51e7506 | acc = 1.0\n",
            "w_234713b | acc = 0.8\n",
            "w_27b7295 | acc = 1.0\n",
            "w_5d5c6a6 | acc = 0.8\n",
            "w_8b86b95 | acc = 1.0\n",
            "w_fdd3687 | acc = 1.0\n",
            "w_4bf625b | acc = 1.0\n",
            "w_2b65b34 | acc = 1.0\n",
            "w_f829227 | acc = 1.0\n",
            "w_e906edd | acc = 0.8\n",
            "w_aabdf8c | acc = 1.0\n",
            "w_0fdf741 | acc = 0.8\n",
            "w_3eae264 | acc = 0.8\n",
            "w_a8b34a0 | acc = 0.8\n",
            "w_2df85e7 | acc = 1.0\n",
            "w_fccccec | acc = 1.0\n",
            "w_6f0cbe3 | acc = 1.0\n",
            "w_6e209a8 | acc = 0.8\n",
            "w_40a8585 | acc = 0.8\n",
            "w_4846b27 | acc = 0.8\n",
            "w_51e7506 | acc = 0.8\n",
            "w_234713b | acc = 0.6\n",
            "w_27b7295 | acc = 0.8\n",
            "w_5d5c6a6 | acc = 0.6\n",
            "w_8b86b95 | acc = 1.0\n",
            "w_fdd3687 | acc = 1.0\n",
            "w_4bf625b | acc = 1.0\n",
            "w_2b65b34 | acc = 1.0\n",
            "w_f829227 | acc = 1.0\n",
            "w_e906edd | acc = 1.0\n",
            "w_aabdf8c | acc = 1.0\n",
            "w_0fdf741 | acc = 1.0\n",
            "w_3eae264 | acc = 0.8\n",
            "w_a8b34a0 | acc = 1.0\n",
            "w_2df85e7 | acc = 1.0\n",
            "w_fccccec | acc = 1.0\n",
            "w_6f0cbe3 | acc = 0.8\n",
            "w_6e209a8 | acc = 0.8\n",
            "w_40a8585 | acc = 1.0\n",
            "w_4846b27 | acc = 1.0\n",
            "w_51e7506 | acc = 0.8\n",
            "w_234713b | acc = 1.0\n",
            "w_27b7295 | acc = 0.8\n",
            "w_5d5c6a6 | acc = 0.8\n",
            "w_8b86b95 | acc = 1.0\n",
            "w_fdd3687 | acc = 1.0\n",
            "w_4bf625b | acc = 0.8\n",
            "w_2b65b34 | acc = 1.0\n",
            "w_f829227 | acc = 1.0\n",
            "w_e906edd | acc = 0.8\n",
            "w_aabdf8c | acc = 1.0\n",
            "w_0fdf741 | acc = 1.0\n",
            "w_3eae264 | acc = 1.0\n",
            "w_a8b34a0 | acc = 1.0\n",
            "w_2df85e7 | acc = 1.0\n",
            "w_fccccec | acc = 1.0\n",
            "w_6f0cbe3 | acc = 1.0\n",
            "w_6e209a8 | acc = 1.0\n",
            "w_40a8585 | acc = 0.8\n",
            "w_4846b27 | acc = 1.0\n",
            "w_51e7506 | acc = 0.8\n",
            "w_234713b | acc = 1.0\n",
            "w_27b7295 | acc = 0.6\n",
            "w_5d5c6a6 | acc = 0.8\n",
            "w_8b86b95 | acc = 1.0\n",
            "w_fdd3687 | acc = 0.6\n",
            "w_4bf625b | acc = 1.0\n",
            "w_2b65b34 | acc = 1.0\n",
            "w_f829227 | acc = 1.0\n",
            "w_e906edd | acc = 0.6\n",
            "w_aabdf8c | acc = 0.8\n",
            "w_0fdf741 | acc = 0.6\n",
            "w_3eae264 | acc = 1.0\n",
            "w_a8b34a0 | acc = 0.8\n",
            "w_2df85e7 | acc = 0.6\n",
            "w_fccccec | acc = 1.0\n",
            "w_6f0cbe3 | acc = 1.0\n",
            "w_6e209a8 | acc = 0.4\n",
            "w_40a8585 | acc = 1.0\n",
            "w_4846b27 | acc = 0.6\n",
            "w_51e7506 | acc = 0.8\n",
            "w_234713b | acc = 1.0\n",
            "w_27b7295 | acc = 0.6\n",
            "w_5d5c6a6 | acc = 1.0\n",
            "w_8b86b95 | acc = 1.0\n",
            "w_fdd3687 | acc = 1.0\n",
            "w_4bf625b | acc = 0.8\n",
            "w_2b65b34 | acc = 1.0\n",
            "w_f829227 | acc = 0.4\n",
            "w_e906edd | acc = 1.0\n",
            "w_aabdf8c | acc = 1.0\n",
            "w_0fdf741 | acc = 0.8\n",
            "w_3eae264 | acc = 1.0\n",
            "w_a8b34a0 | acc = 0.4\n",
            "w_2df85e7 | acc = 0.8\n",
            "w_fccccec | acc = 1.0\n",
            "w_6f0cbe3 | acc = 1.0\n",
            "w_6e209a8 | acc = 0.6\n",
            "w_40a8585 | acc = 0.8\n",
            "w_4846b27 | acc = 0.8\n",
            "w_51e7506 | acc = 0.6\n",
            "w_234713b | acc = 0.8\n",
            "w_27b7295 | acc = 1.0\n",
            "w_5d5c6a6 | acc = 1.0\n",
            "w_8b86b95 | acc = 0.8\n",
            "w_fdd3687 | acc = 1.0\n",
            "w_4bf625b | acc = 0.8\n",
            "w_2b65b34 | acc = 0.0\n",
            "w_f829227 | acc = 0.8\n",
            "w_e906edd | acc = 1.0\n",
            "w_aabdf8c | acc = 1.0\n",
            "w_0fdf741 | acc = 1.0\n",
            "w_3eae264 | acc = 0.8\n",
            "w_a8b34a0 | acc = 0.6\n",
            "w_2df85e7 | acc = 1.0\n",
            "w_fccccec | acc = 0.6\n",
            "w_6f0cbe3 | acc = 1.0\n",
            "w_6e209a8 | acc = 0.8\n",
            "w_40a8585 | acc = 1.0\n",
            "w_4846b27 | acc = 0.8\n",
            "w_51e7506 | acc = 1.0\n",
            "w_234713b | acc = 1.0\n",
            "w_27b7295 | acc = 1.0\n",
            "w_5d5c6a6 | acc = 1.0\n",
            "w_8b86b95 | acc = 1.0\n",
            "w_fdd3687 | acc = 0.8\n",
            "w_4bf625b | acc = 1.0\n",
            "w_2b65b34 | acc = 0.8\n",
            "w_f829227 | acc = 0.2\n",
            "w_e906edd | acc = 0.6\n",
            "w_aabdf8c | acc = 1.0\n",
            "w_0fdf741 | acc = 0.8\n",
            "w_3eae264 | acc = 1.0\n",
            "w_a8b34a0 | acc = 0.6\n",
            "w_2df85e7 | acc = 0.4\n",
            "w_fccccec | acc = 1.0\n",
            "w_6f0cbe3 | acc = 0.8\n",
            "w_6e209a8 | acc = 1.0\n",
            "w_40a8585 | acc = 0.6\n",
            "w_4846b27 | acc = 1.0\n",
            "w_51e7506 | acc = 0.6\n",
            "w_234713b | acc = 1.0\n",
            "w_27b7295 | acc = 1.0\n",
            "w_5d5c6a6 | acc = 1.0\n",
            "w_8b86b95 | acc = 1.0\n",
            "w_fdd3687 | acc = 1.0\n",
            "w_4bf625b | acc = 0.4\n",
            "w_2b65b34 | acc = 0.6\n",
            "w_f829227 | acc = 0.8\n",
            "w_e906edd | acc = 1.0\n",
            "w_aabdf8c | acc = 0.8\n",
            "w_0fdf741 | acc = 0.8\n",
            "w_3eae264 | acc = 1.0\n",
            "w_a8b34a0 | acc = 0.8\n",
            "w_2df85e7 | acc = 1.0\n",
            "w_fccccec | acc = 1.0\n",
            "w_6f0cbe3 | acc = 1.0\n",
            "w_6e209a8 | acc = 1.0\n",
            "w_40a8585 | acc = 1.0\n",
            "w_4846b27 | acc = 0.8\n",
            "w_51e7506 | acc = 0.6\n",
            "w_234713b | acc = 1.0\n",
            "w_27b7295 | acc = 1.0\n",
            "w_5d5c6a6 | acc = 0.8\n",
            "w_8b86b95 | acc = 1.0\n",
            "w_fdd3687 | acc = 0.8\n",
            "w_4bf625b | acc = 0.8\n",
            "w_2b65b34 | acc = 1.0\n",
            "w_f829227 | acc = 1.0\n",
            "w_e906edd | acc = 0.8\n",
            "w_aabdf8c | acc = 0.6\n",
            "w_0fdf741 | acc = 1.0\n",
            "w_3eae264 | acc = 0.8\n",
            "w_a8b34a0 | acc = 0.8\n",
            "w_2df85e7 | acc = 0.8\n",
            "w_fccccec | acc = 1.0\n",
            "w_6f0cbe3 | acc = 1.0\n",
            "w_6e209a8 | acc = 0.8\n",
            "w_40a8585 | acc = 0.8\n",
            "w_4846b27 | acc = 1.0\n",
            "w_51e7506 | acc = 1.0\n",
            "w_234713b | acc = 1.0\n",
            "w_27b7295 | acc = 1.0\n",
            "w_5d5c6a6 | acc = 0.8\n",
            "w_8b86b95 | acc = 0.6\n",
            "w_fdd3687 | acc = 1.0\n",
            "w_4bf625b | acc = 0.8\n",
            "w_2b65b34 | acc = 1.0\n",
            "w_f829227 | acc = 1.0\n",
            "w_e906edd | acc = 1.0\n",
            "w_aabdf8c | acc = 0.8\n",
            "w_0fdf741 | acc = 1.0\n",
            "w_3eae264 | acc = 1.0\n",
            "w_a8b34a0 | acc = 0.4\n",
            "w_2df85e7 | acc = 0.6\n",
            "w_fccccec | acc = 1.0\n",
            "w_6f0cbe3 | acc = 0.8\n",
            "w_6e209a8 | acc = 1.0\n",
            "w_40a8585 | acc = 1.0\n",
            "w_4846b27 | acc = 0.8\n",
            "w_51e7506 | acc = 1.0\n",
            "w_234713b | acc = 0.8\n",
            "w_27b7295 | acc = 1.0\n",
            "w_5d5c6a6 | acc = 1.0\n",
            "w_8b86b95 | acc = 1.0\n",
            "w_fdd3687 | acc = 1.0\n",
            "w_4bf625b | acc = 0.8\n",
            "w_2b65b34 | acc = 1.0\n",
            "w_f829227 | acc = 1.0\n",
            "w_e906edd | acc = 1.0\n",
            "w_aabdf8c | acc = 0.6\n",
            "w_0fdf741 | acc = 0.8\n",
            "w_3eae264 | acc = 0.4\n",
            "w_a8b34a0 | acc = 1.0\n",
            "w_2df85e7 | acc = 1.0\n",
            "w_fccccec | acc = 1.0\n",
            "w_6f0cbe3 | acc = 1.0\n",
            "w_6e209a8 | acc = 0.8\n",
            "w_40a8585 | acc = 1.0\n",
            "w_4846b27 | acc = 0.6\n",
            "w_51e7506 | acc = 0.8\n",
            "w_234713b | acc = 0.8\n",
            "w_27b7295 | acc = 0.8\n",
            "w_5d5c6a6 | acc = 1.0\n",
            "w_8b86b95 | acc = 1.0\n",
            "w_fdd3687 | acc = 0.8\n",
            "w_4bf625b | acc = 1.0\n",
            "w_2b65b34 | acc = 0.8\n",
            "w_f829227 | acc = 1.0\n",
            "w_e906edd | acc = 0.8\n",
            "w_aabdf8c | acc = 0.8\n",
            "w_0fdf741 | acc = 0.2\n",
            "w_3eae264 | acc = 0.8\n",
            "w_a8b34a0 | acc = 0.6\n",
            "w_2df85e7 | acc = 1.0\n",
            "w_fccccec | acc = 1.0\n",
            "w_6f0cbe3 | acc = 0.8\n",
            "w_6e209a8 | acc = 0.8\n",
            "w_40a8585 | acc = 0.6\n",
            "w_4846b27 | acc = 1.0\n",
            "w_51e7506 | acc = 1.0\n",
            "w_234713b | acc = 0.6\n",
            "w_27b7295 | acc = 0.6\n",
            "w_5d5c6a6 | acc = 1.0\n",
            "w_8b86b95 | acc = 0.8\n",
            "w_fdd3687 | acc = 1.0\n",
            "w_4bf625b | acc = 1.0\n",
            "w_2b65b34 | acc = 1.0\n",
            "w_f829227 | acc = 1.0\n",
            "w_e906edd | acc = 1.0\n",
            "w_aabdf8c | acc = 1.0\n",
            "w_0fdf741 | acc = 1.0\n",
            "w_3eae264 | acc = 0.8\n",
            "w_a8b34a0 | acc = 0.8\n",
            "w_2df85e7 | acc = 0.8\n",
            "w_fccccec | acc = 0.8\n",
            "w_6f0cbe3 | acc = 1.0\n",
            "w_6e209a8 | acc = 1.0\n",
            "w_40a8585 | acc = 1.0\n",
            "w_4846b27 | acc = 0.6\n",
            "w_51e7506 | acc = 1.0\n",
            "w_234713b | acc = 0.8\n",
            "w_27b7295 | acc = 1.0\n",
            "w_5d5c6a6 | acc = 1.0\n",
            "w_8b86b95 | acc = 0.6\n",
            "w_fdd3687 | acc = 0.6\n",
            "w_4bf625b | acc = 1.0\n",
            "w_2b65b34 | acc = 0.8\n",
            "w_f829227 | acc = 1.0\n",
            "w_e906edd | acc = 0.8\n",
            "w_aabdf8c | acc = 1.0\n",
            "w_0fdf741 | acc = 1.0\n",
            "w_3eae264 | acc = 1.0\n",
            "w_a8b34a0 | acc = 0.4\n",
            "w_2df85e7 | acc = 1.0\n",
            "w_fccccec | acc = 1.0\n",
            "w_6f0cbe3 | acc = 0.8\n",
            "w_6e209a8 | acc = 0.8\n",
            "w_40a8585 | acc = 1.0\n",
            "w_4846b27 | acc = 0.8\n",
            "w_51e7506 | acc = 0.8\n",
            "w_234713b | acc = 1.0\n",
            "w_27b7295 | acc = 1.0\n",
            "w_5d5c6a6 | acc = 1.0\n",
            "w_8b86b95 | acc = 0.8\n",
            "w_fdd3687 | acc = 1.0\n",
            "w_4bf625b | acc = 0.8\n",
            "w_2b65b34 | acc = 0.8\n",
            "w_f829227 | acc = 1.0\n",
            "w_e906edd | acc = 1.0\n",
            "w_aabdf8c | acc = 0.8\n",
            "w_0fdf741 | acc = 1.0\n",
            "w_3eae264 | acc = 1.0\n",
            "w_a8b34a0 | acc = 0.8\n",
            "w_2df85e7 | acc = 1.0\n",
            "w_fccccec | acc = 0.8\n",
            "w_6f0cbe3 | acc = 0.6\n",
            "w_6e209a8 | acc = 1.0\n",
            "w_40a8585 | acc = 0.8\n",
            "w_4846b27 | acc = 1.0\n",
            "w_51e7506 | acc = 1.0\n",
            "w_234713b | acc = 1.0\n",
            "w_27b7295 | acc = 1.0\n",
            "w_5d5c6a6 | acc = 1.0\n",
            "w_8b86b95 | acc = 0.6\n",
            "w_fdd3687 | acc = 1.0\n",
            "w_4bf625b | acc = 1.0\n",
            "w_2b65b34 | acc = 1.0\n",
            "w_f829227 | acc = 1.0\n",
            "w_e906edd | acc = 0.4\n",
            "w_aabdf8c | acc = 1.0\n",
            "w_0fdf741 | acc = 1.0\n",
            "w_3eae264 | acc = 0.8\n",
            "w_a8b34a0 | acc = 1.0\n",
            "w_2df85e7 | acc = 0.8\n",
            "w_fccccec | acc = 0.2\n",
            "w_6f0cbe3 | acc = 0.8\n",
            "w_6e209a8 | acc = 1.0\n",
            "w_40a8585 | acc = 1.0\n",
            "w_4846b27 | acc = 1.0\n",
            "w_51e7506 | acc = 0.8\n",
            "w_234713b | acc = 1.0\n",
            "w_27b7295 | acc = 1.0\n",
            "w_5d5c6a6 | acc = 1.0\n",
            "w_8b86b95 | acc = 0.6\n",
            "w_fdd3687 | acc = 1.0\n",
            "w_4bf625b | acc = 0.8\n",
            "w_2b65b34 | acc = 1.0\n",
            "w_f829227 | acc = 1.0\n",
            "w_e906edd | acc = 0.8\n",
            "w_aabdf8c | acc = 1.0\n",
            "w_0fdf741 | acc = 1.0\n",
            "w_3eae264 | acc = 1.0\n",
            "w_a8b34a0 | acc = 1.0\n",
            "w_2df85e7 | acc = 1.0\n",
            "w_fccccec | acc = 1.0\n",
            "w_6f0cbe3 | acc = 1.0\n",
            "w_6e209a8 | acc = 1.0\n",
            "w_40a8585 | acc = 1.0\n",
            "w_4846b27 | acc = 1.0\n",
            "w_51e7506 | acc = 0.8\n",
            "w_234713b | acc = 0.8\n",
            "w_27b7295 | acc = 0.8\n",
            "w_5d5c6a6 | acc = 1.0\n",
            "w_8b86b95 | acc = 1.0\n",
            "w_fdd3687 | acc = 1.0\n",
            "w_4bf625b | acc = 1.0\n",
            "w_2b65b34 | acc = 0.8\n",
            "w_f829227 | acc = 1.0\n",
            "w_e906edd | acc = 1.0\n",
            "w_aabdf8c | acc = 0.8\n",
            "w_0fdf741 | acc = 1.0\n",
            "w_3eae264 | acc = 0.2\n"
          ]
        }
      ]
    },
    {
      "cell_type": "code",
      "source": [
        "class_acc_means = dict()\n",
        "for k, v in class_accs.items():\n",
        "  class_acc_means[k] = np.mean(v)"
      ],
      "metadata": {
        "id": "9abURv7rfJbM"
      },
      "execution_count": 12,
      "outputs": []
    },
    {
      "cell_type": "code",
      "source": [
        "plt.title('Histogram of Class Accuracies')\n",
        "plt.hist(class_accs.values())\n",
        "plt.xlabel('Class Accuracy');"
      ],
      "metadata": {
        "id": "QGC05j5cfWwE",
        "outputId": "abc0403c-df47-410e-a085-7d41c21b40d8",
        "colab": {
          "base_uri": "https://localhost:8080/",
          "height": 472
        }
      },
      "execution_count": 13,
      "outputs": [
        {
          "output_type": "display_data",
          "data": {
            "text/plain": [
              "<Figure size 640x480 with 1 Axes>"
            ],
            "image/png": "[encoded data removed]"
          },
          "metadata": {}
        }
      ]
    },
    {
      "cell_type": "code",
      "source": [
        "plt.title('Histogram of Class Accuracies')\n",
        "plt.hist(class_acc_means.values())\n",
        "plt.xlabel('Class Accuracy');"
      ],
      "metadata": {
        "id": "80I609PxXqIi",
        "outputId": "4e2588f7-dbc3-49f8-d4f1-c40487af6dc7",
        "colab": {
          "base_uri": "https://localhost:8080/",
          "height": 472
        }
      },
      "execution_count": 14,
      "outputs": [
        {
          "output_type": "display_data",
          "data": {
            "text/plain": [
              "<Figure size 640x480 with 1 Axes>"
            ],
            "image/png": "[encoded data removed]"
          },
          "metadata": {}
        }
      ]
    },
    {
      "cell_type": "code",
      "source": [
        "|"
      ],
      "metadata": {
        "id": "cI3xfOXGfFka"
      },
      "execution_count": null,
      "outputs": []
    }
  ]
}