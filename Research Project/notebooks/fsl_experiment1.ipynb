{
  "cells": [
    {
      "cell_type": "markdown",
      "metadata": {
        "id": "view-in-github",
        "colab_type": "text"
      },
      "source": [
        "<a href=\"https://colab.research.google.com/github/jwells52/creating-ai-enabled-systems/blob/main/Research%20Project/notebooks/fsl_experiment1_new.ipynb\" target=\"_parent\"><img src=\"https://colab.research.google.com/assets/colab-badge.svg\" alt=\"Open In Colab\"/></a>"
      ]
    },
    {
      "cell_type": "markdown",
      "metadata": {
        "id": "WBD68iPadsti"
      },
      "source": [
        "### Install EasyFSL"
      ]
    },
    {
      "cell_type": "code",
      "execution_count": 1,
      "metadata": {
        "colab": {
          "base_uri": "https://localhost:8080/"
        },
        "id": "hWg5yaDZRPAS",
        "outputId": "c495a4a3-18b7-49c0-b149-e921e8164820"
      },
      "outputs": [
        {
          "output_type": "stream",
          "name": "stdout",
          "text": [
            "Collecting easyfsl\n",
            "  Downloading easyfsl-1.4.0-py3-none-any.whl (65 kB)\n",
            "\u001b[?25l     \u001b[90m━━━━━━━━━━━━━━━━━━━━━━━━━━━━━━━━━━━━━━━━\u001b[0m \u001b[32m0.0/65.2 kB\u001b[0m \u001b[31m?\u001b[0m eta \u001b[36m-:--:--\u001b[0m\r\u001b[2K     \u001b[90m━━━━━━━━━━━━━━━━━━━━━━━━━━━━━━━━━━━━━━━━\u001b[0m \u001b[32m65.2/65.2 kB\u001b[0m \u001b[31m2.0 MB/s\u001b[0m eta \u001b[36m0:00:00\u001b[0m\n",
            "\u001b[?25hRequirement already satisfied: matplotlib>=3.0.0 in /usr/local/lib/python3.10/dist-packages (from easyfsl) (3.7.1)\n",
            "Requirement already satisfied: pandas>=1.4.0 in /usr/local/lib/python3.10/dist-packages (from easyfsl) (1.5.3)\n",
            "Requirement already satisfied: torch>=1.4.0 in /usr/local/lib/python3.10/dist-packages (from easyfsl) (2.0.1+cu118)\n",
            "Requirement already satisfied: torchvision>=0.7.0 in /usr/local/lib/python3.10/dist-packages (from easyfsl) (0.15.2+cu118)\n",
            "Requirement already satisfied: tqdm>=4.1.0 in /usr/local/lib/python3.10/dist-packages (from easyfsl) (4.66.1)\n",
            "Requirement already satisfied: contourpy>=1.0.1 in /usr/local/lib/python3.10/dist-packages (from matplotlib>=3.0.0->easyfsl) (1.1.0)\n",
            "Requirement already satisfied: cycler>=0.10 in /usr/local/lib/python3.10/dist-packages (from matplotlib>=3.0.0->easyfsl) (0.11.0)\n",
            "Requirement already satisfied: fonttools>=4.22.0 in /usr/local/lib/python3.10/dist-packages (from matplotlib>=3.0.0->easyfsl) (4.42.0)\n",
            "Requirement already satisfied: kiwisolver>=1.0.1 in /usr/local/lib/python3.10/dist-packages (from matplotlib>=3.0.0->easyfsl) (1.4.4)\n",
            "Requirement already satisfied: numpy>=1.20 in /usr/local/lib/python3.10/dist-packages (from matplotlib>=3.0.0->easyfsl) (1.23.5)\n",
            "Requirement already satisfied: packaging>=20.0 in /usr/local/lib/python3.10/dist-packages (from matplotlib>=3.0.0->easyfsl) (23.1)\n",
            "Requirement already satisfied: pillow>=6.2.0 in /usr/local/lib/python3.10/dist-packages (from matplotlib>=3.0.0->easyfsl) (9.4.0)\n",
            "Requirement already satisfied: pyparsing>=2.3.1 in /usr/local/lib/python3.10/dist-packages (from matplotlib>=3.0.0->easyfsl) (3.1.1)\n",
            "Requirement already satisfied: python-dateutil>=2.7 in /usr/local/lib/python3.10/dist-packages (from matplotlib>=3.0.0->easyfsl) (2.8.2)\n",
            "Requirement already satisfied: pytz>=2020.1 in /usr/local/lib/python3.10/dist-packages (from pandas>=1.4.0->easyfsl) (2023.3)\n",
            "Requirement already satisfied: filelock in /usr/local/lib/python3.10/dist-packages (from torch>=1.4.0->easyfsl) (3.12.2)\n",
            "Requirement already satisfied: typing-extensions in /usr/local/lib/python3.10/dist-packages (from torch>=1.4.0->easyfsl) (4.7.1)\n",
            "Requirement already satisfied: sympy in /usr/local/lib/python3.10/dist-packages (from torch>=1.4.0->easyfsl) (1.12)\n",
            "Requirement already satisfied: networkx in /usr/local/lib/python3.10/dist-packages (from torch>=1.4.0->easyfsl) (3.1)\n",
            "Requirement already satisfied: jinja2 in /usr/local/lib/python3.10/dist-packages (from torch>=1.4.0->easyfsl) (3.1.2)\n",
            "Requirement already satisfied: triton==2.0.0 in /usr/local/lib/python3.10/dist-packages (from torch>=1.4.0->easyfsl) (2.0.0)\n",
            "Requirement already satisfied: cmake in /usr/local/lib/python3.10/dist-packages (from triton==2.0.0->torch>=1.4.0->easyfsl) (3.27.2)\n",
            "Requirement already satisfied: lit in /usr/local/lib/python3.10/dist-packages (from triton==2.0.0->torch>=1.4.0->easyfsl) (16.0.6)\n",
            "Requirement already satisfied: requests in /usr/local/lib/python3.10/dist-packages (from torchvision>=0.7.0->easyfsl) (2.31.0)\n",
            "Requirement already satisfied: six>=1.5 in /usr/local/lib/python3.10/dist-packages (from python-dateutil>=2.7->matplotlib>=3.0.0->easyfsl) (1.16.0)\n",
            "Requirement already satisfied: MarkupSafe>=2.0 in /usr/local/lib/python3.10/dist-packages (from jinja2->torch>=1.4.0->easyfsl) (2.1.3)\n",
            "Requirement already satisfied: charset-normalizer<4,>=2 in /usr/local/lib/python3.10/dist-packages (from requests->torchvision>=0.7.0->easyfsl) (3.2.0)\n",
            "Requirement already satisfied: idna<4,>=2.5 in /usr/local/lib/python3.10/dist-packages (from requests->torchvision>=0.7.0->easyfsl) (3.4)\n",
            "Requirement already satisfied: urllib3<3,>=1.21.1 in /usr/local/lib/python3.10/dist-packages (from requests->torchvision>=0.7.0->easyfsl) (2.0.4)\n",
            "Requirement already satisfied: certifi>=2017.4.17 in /usr/local/lib/python3.10/dist-packages (from requests->torchvision>=0.7.0->easyfsl) (2023.7.22)\n",
            "Requirement already satisfied: mpmath>=0.19 in /usr/local/lib/python3.10/dist-packages (from sympy->torch>=1.4.0->easyfsl) (1.3.0)\n",
            "Installing collected packages: easyfsl\n",
            "Successfully installed easyfsl-1.4.0\n"
          ]
        }
      ],
      "source": [
        "%pip install easyfsl"
      ]
    },
    {
      "cell_type": "markdown",
      "metadata": {
        "id": "4EIjDfwjdwoT"
      },
      "source": [
        "### Download Humpback Whale Identification dataset"
      ]
    },
    {
      "cell_type": "code",
      "execution_count": 2,
      "metadata": {
        "colab": {
          "base_uri": "https://localhost:8080/"
        },
        "id": "wpFPp8FTD2KY",
        "outputId": "989f40a7-3b7d-46b3-b332-624267a2961c"
      },
      "outputs": [
        {
          "output_type": "stream",
          "name": "stdout",
          "text": [
            "Drive already mounted at /content/drive; to attempt to forcibly remount, call drive.mount(\"/content/drive\", force_remount=True).\n"
          ]
        }
      ],
      "source": [
        "from google.colab import drive\n",
        "drive.mount('/content/drive')"
      ]
    },
    {
      "cell_type": "code",
      "execution_count": 3,
      "metadata": {
        "colab": {
          "base_uri": "https://localhost:8080/"
        },
        "id": "aaIJSEeFdNK5",
        "outputId": "8c209d44-5642-4e20-d518-4c7cde7a7afd"
      },
      "outputs": [
        {
          "output_type": "stream",
          "name": "stdout",
          "text": [
            "Downloading humpback-whale-identification.zip to /content\n",
            "100% 5.50G/5.51G [03:18<00:00, 37.5MB/s]\n",
            "100% 5.51G/5.51G [03:18<00:00, 29.8MB/s]\n"
          ]
        }
      ],
      "source": [
        "!rm -rf /root/.kaggle && mkdir /root/.kaggle && cp /content/drive/MyDrive/Research-Project/kaggle.json /root/.kaggle/kaggle.json && chmod 600 /root/.kaggle/kaggle.json && kaggle competitions download -c humpback-whale-identification"
      ]
    },
    {
      "cell_type": "code",
      "execution_count": 4,
      "metadata": {
        "id": "EAA7yP2NWQNi"
      },
      "outputs": [],
      "source": [
        "%%capture\n",
        "\n",
        "!unzip humpback-whale-identification.zip"
      ]
    },
    {
      "cell_type": "markdown",
      "metadata": {
        "id": "dtM6ET0hOW5c"
      },
      "source": [
        "### Clone GitHub repo"
      ]
    },
    {
      "cell_type": "code",
      "source": [
        "!rm -rf /content/creating-ai-enabled-systems"
      ],
      "metadata": {
        "id": "vjRxRLV4I6T5"
      },
      "execution_count": 1,
      "outputs": []
    },
    {
      "cell_type": "code",
      "execution_count": 5,
      "metadata": {
        "colab": {
          "base_uri": "https://localhost:8080/"
        },
        "id": "Ktmxn-nPOZlR",
        "outputId": "2db4dd8e-1e71-41b6-b38d-58e14346f80a"
      },
      "outputs": [
        {
          "output_type": "stream",
          "name": "stdout",
          "text": [
            "/content/creating-ai-enabled-systems/Research Project\n"
          ]
        }
      ],
      "source": [
        "import os\n",
        "\n",
        "if os.path.exists('/content/creating-ai-enabled-systems/Research Project') == False:\n",
        "  !git clone https://github.com/jwells52/creating-ai-enabled-systems.git\n",
        "\n",
        "%cd creating-ai-enabled-systems/Research\\ Project"
      ]
    },
    {
      "cell_type": "markdown",
      "metadata": {
        "id": "g_HapNgJd1lq"
      },
      "source": [
        "### Imports"
      ]
    },
    {
      "cell_type": "code",
      "execution_count": 6,
      "metadata": {
        "id": "U2cTdMEld26V"
      },
      "outputs": [],
      "source": [
        "import time\n",
        "import torch\n",
        "import pandas as pd\n",
        "import numpy as np\n",
        "\n",
        "from easyfsl.methods import RelationNetworks, MatchingNetworks, PrototypicalNetworks\n",
        "from easyfsl.utils import evaluate\n",
        "from torchvision.models import resnet18\n",
        "from torchvision.models.feature_extraction import create_feature_extractor\n",
        "\n",
        "from modules.data_utils import HumpbackWhaleDataset, remove_new_whale_class\n",
        "from modules.train import train_network, transform, FeatureExtractor, device\n",
        "from modules.data_utils import create_loader\n"
      ]
    },
    {
      "cell_type": "markdown",
      "metadata": {
        "id": "WBnJZl4dt0co"
      },
      "source": [
        "### Load dataset"
      ]
    },
    {
      "cell_type": "code",
      "execution_count": 4,
      "metadata": {
        "id": "4uF_KyfDueIw"
      },
      "outputs": [],
      "source": [
        "train_df = remove_new_whale_class(\n",
        "  pd.read_csv('/content/creating-ai-enabled-systems/Research Project/data/training_10samples.csv')\n",
        ")"
      ]
    },
    {
      "cell_type": "code",
      "execution_count": 5,
      "metadata": {
        "colab": {
          "base_uri": "https://localhost:8080/"
        },
        "id": "ZrIn13-Zh39T",
        "outputId": "a010fcae-c481-4c74-91da-9711f12d1c9e"
      },
      "outputs": [
        {
          "output_type": "stream",
          "name": "stdout",
          "text": [
            "Min # of samples for a class in data set = 11\n",
            "Max # of samples for a class in data set = 73\n",
            "# of classes in data set = 181\n"
          ]
        }
      ],
      "source": [
        "print(f\"Min # of samples for a class in data set = {train_df['class_count'].min()}\")\n",
        "print(f\"Max # of samples for a class in data set = {train_df['class_count'].max()}\")\n",
        "print(f\"# of classes in data set = {len(train_df['Id'].unique())}\")\n"
      ]
    },
    {
      "cell_type": "code",
      "execution_count": null,
      "metadata": {
        "id": "3Fj84Tx6xASW"
      },
      "outputs": [],
      "source": [
        "train_dataset = HumpbackWhaleDataset('/content/train', train_df, transform=transform)"
      ]
    },
    {
      "cell_type": "markdown",
      "metadata": {
        "id": "uNMcNst5M2bU"
      },
      "source": [
        "# Train on training set for 1-shot, 5-shot, 5-way, 20-way\n",
        "\n",
        "# The following networks are trained\n",
        "1.  Relation Networks\n",
        "2. Matching Networks\n",
        "3. Prototypical Networks"
      ]
    },
    {
      "cell_type": "code",
      "execution_count": 8,
      "metadata": {
        "id": "IRDculIDQIKW"
      },
      "outputs": [],
      "source": [
        "n_epochs = 10\n",
        "learning_rate = 1e-2\n",
        "\n",
        "# Number of Training Task for each epoch\n",
        "# A training task is a random sample of N shots (images) for M classes\n",
        "n_task_per_epoch = 100\n",
        "\n",
        "n_ways = [5, 20]\n",
        "n_shots = [1, 5]\n",
        "n_query = 5"
      ]
    },
    {
      "cell_type": "markdown",
      "metadata": {
        "id": "qpGzR4OXW7He"
      },
      "source": [
        "### Relation Network"
      ]
    },
    {
      "cell_type": "code",
      "execution_count": null,
      "metadata": {
        "colab": {
          "base_uri": "https://localhost:8080/"
        },
        "id": "TiMkDUS5DiPO",
        "outputId": "7a90e0e0-8391-4e10-e4f2-e7eef079c66d"
      },
      "outputs": [
        {
          "name": "stdout",
          "output_type": "stream",
          "text": [
            "Training Relation Network\n",
            "Training network under 5-way 1-shot\n",
            "\n",
            "Epoch 1\n"
          ]
        },
        {
          "name": "stderr",
          "output_type": "stream",
          "text": [
            "Training: 100%|██████████| 100/100 [00:10<00:00,  9.77it/s, loss=1.47]"
          ]
        },
        {
          "name": "stdout",
          "output_type": "stream",
          "text": [
            "\n",
            "Epoch 2 "
          ]
        },
        {
          "name": "stderr",
          "output_type": "stream",
          "text": [
            "\n",
            "Training: 100%|██████████| 100/100 [00:10<00:00,  9.79it/s, loss=1.3]"
          ]
        },
        {
          "name": "stdout",
          "output_type": "stream",
          "text": [
            "\n",
            "Epoch 3 "
          ]
        },
        {
          "name": "stderr",
          "output_type": "stream",
          "text": [
            "\n",
            "Training: 100%|██████████| 100/100 [00:10<00:00,  9.96it/s, loss=1.28]\n"
          ]
        },
        {
          "name": "stdout",
          "output_type": "stream",
          "text": [
            "\n",
            "Epoch 4 "
          ]
        },
        {
          "name": "stderr",
          "output_type": "stream",
          "text": [
            "Training: 100%|██████████| 100/100 [00:09<00:00, 10.54it/s, loss=1.27]\n"
          ]
        },
        {
          "name": "stdout",
          "output_type": "stream",
          "text": [
            "\n",
            "Epoch 5 "
          ]
        },
        {
          "name": "stderr",
          "output_type": "stream",
          "text": [
            "Training: 100%|██████████| 100/100 [00:09<00:00, 10.04it/s, loss=1.23]\n"
          ]
        },
        {
          "name": "stdout",
          "output_type": "stream",
          "text": [
            "\n",
            "Epoch 6 "
          ]
        },
        {
          "name": "stderr",
          "output_type": "stream",
          "text": [
            "Training: 100%|██████████| 100/100 [00:10<00:00,  9.84it/s, loss=1.23]"
          ]
        },
        {
          "name": "stdout",
          "output_type": "stream",
          "text": [
            "\n",
            "Epoch 7 "
          ]
        },
        {
          "name": "stderr",
          "output_type": "stream",
          "text": [
            "\n",
            "Training: 100%|██████████| 100/100 [00:10<00:00,  9.94it/s, loss=1.17]"
          ]
        },
        {
          "name": "stdout",
          "output_type": "stream",
          "text": [
            "\n",
            "Epoch 8 "
          ]
        },
        {
          "name": "stderr",
          "output_type": "stream",
          "text": [
            "\n",
            "Training: 100%|██████████| 100/100 [00:09<00:00, 10.19it/s, loss=1.15]"
          ]
        },
        {
          "name": "stdout",
          "output_type": "stream",
          "text": [
            "\n",
            "Epoch 9 "
          ]
        },
        {
          "name": "stderr",
          "output_type": "stream",
          "text": [
            "\n",
            "Training: 100%|██████████| 100/100 [00:09<00:00, 10.20it/s, loss=1.17]\n"
          ]
        },
        {
          "name": "stdout",
          "output_type": "stream",
          "text": [
            "\n",
            "Epoch 10 "
          ]
        },
        {
          "name": "stderr",
          "output_type": "stream",
          "text": [
            "Training: 100%|██████████| 100/100 [00:09<00:00, 10.07it/s, loss=1.12]\n"
          ]
        },
        {
          "name": "stdout",
          "output_type": "stream",
          "text": [
            "Saving state of model checkpoint at last epoch to /content/drive/MyDrive/Research-Project/relation_network_5-way_1-shot_last_epoch\n",
            "Training network under 5-way 5-shot\n",
            "\n",
            "Epoch 1\n"
          ]
        },
        {
          "name": "stderr",
          "output_type": "stream",
          "text": [
            "Training: 100%|██████████| 100/100 [00:14<00:00,  6.97it/s, loss=1.46]"
          ]
        },
        {
          "name": "stdout",
          "output_type": "stream",
          "text": [
            "\n",
            "Epoch 2 "
          ]
        },
        {
          "name": "stderr",
          "output_type": "stream",
          "text": [
            "\n",
            "Training: 100%|██████████| 100/100 [00:14<00:00,  6.99it/s, loss=1.31]"
          ]
        },
        {
          "name": "stdout",
          "output_type": "stream",
          "text": [
            "\n",
            "Epoch 3 "
          ]
        },
        {
          "name": "stderr",
          "output_type": "stream",
          "text": [
            "\n",
            "Training: 100%|██████████| 100/100 [00:14<00:00,  7.00it/s, loss=1.22]"
          ]
        },
        {
          "name": "stdout",
          "output_type": "stream",
          "text": [
            "\n",
            "Epoch 4 "
          ]
        },
        {
          "name": "stderr",
          "output_type": "stream",
          "text": [
            "\n",
            "Training: 100%|██████████| 100/100 [00:14<00:00,  6.93it/s, loss=1.19]"
          ]
        },
        {
          "name": "stdout",
          "output_type": "stream",
          "text": [
            "\n",
            "Epoch 5 "
          ]
        },
        {
          "name": "stderr",
          "output_type": "stream",
          "text": [
            "\n",
            "Training: 100%|██████████| 100/100 [00:14<00:00,  6.92it/s, loss=1.12]"
          ]
        },
        {
          "name": "stdout",
          "output_type": "stream",
          "text": [
            "\n",
            "Epoch 6 "
          ]
        },
        {
          "name": "stderr",
          "output_type": "stream",
          "text": [
            "\n",
            "Training: 100%|██████████| 100/100 [00:14<00:00,  6.98it/s, loss=1.09]"
          ]
        },
        {
          "name": "stdout",
          "output_type": "stream",
          "text": [
            "\n",
            "Epoch 7 "
          ]
        },
        {
          "name": "stderr",
          "output_type": "stream",
          "text": [
            "\n",
            "Training: 100%|██████████| 100/100 [00:14<00:00,  7.03it/s, loss=1.07]"
          ]
        },
        {
          "name": "stdout",
          "output_type": "stream",
          "text": [
            "\n",
            "Epoch 8 "
          ]
        },
        {
          "name": "stderr",
          "output_type": "stream",
          "text": [
            "\n",
            "Training: 100%|██████████| 100/100 [00:14<00:00,  7.02it/s, loss=1.05]"
          ]
        },
        {
          "name": "stdout",
          "output_type": "stream",
          "text": [
            "\n",
            "Epoch 9 "
          ]
        },
        {
          "name": "stderr",
          "output_type": "stream",
          "text": [
            "\n",
            "Training: 100%|██████████| 100/100 [00:14<00:00,  6.97it/s, loss=1.04]"
          ]
        },
        {
          "name": "stdout",
          "output_type": "stream",
          "text": [
            "\n",
            "Epoch 10 "
          ]
        },
        {
          "name": "stderr",
          "output_type": "stream",
          "text": [
            "\n",
            "Training: 100%|██████████| 100/100 [00:14<00:00,  7.07it/s, loss=1.02]\n"
          ]
        },
        {
          "name": "stdout",
          "output_type": "stream",
          "text": [
            "Saving state of model checkpoint at last epoch to /content/drive/MyDrive/Research-Project/relation_network_5-way_5-shot_last_epoch\n",
            "Training network under 20-way 1-shot\n",
            "\n",
            "Epoch 1\n"
          ]
        },
        {
          "name": "stderr",
          "output_type": "stream",
          "text": [
            "Training: 100%|██████████| 100/100 [00:38<00:00,  2.61it/s, loss=2.77]"
          ]
        },
        {
          "name": "stdout",
          "output_type": "stream",
          "text": [
            "\n",
            "Epoch 2 "
          ]
        },
        {
          "name": "stderr",
          "output_type": "stream",
          "text": [
            "\n",
            "Training: 100%|██████████| 100/100 [00:37<00:00,  2.65it/s, loss=2.48]"
          ]
        },
        {
          "name": "stdout",
          "output_type": "stream",
          "text": [
            "\n",
            "Epoch 3 "
          ]
        },
        {
          "name": "stderr",
          "output_type": "stream",
          "text": [
            "\n",
            "Training: 100%|██████████| 100/100 [00:38<00:00,  2.61it/s, loss=2.37]"
          ]
        },
        {
          "name": "stdout",
          "output_type": "stream",
          "text": [
            "\n",
            "Epoch 4 "
          ]
        },
        {
          "name": "stderr",
          "output_type": "stream",
          "text": [
            "\n",
            "Training: 100%|██████████| 100/100 [00:37<00:00,  2.66it/s, loss=2.31]"
          ]
        },
        {
          "name": "stdout",
          "output_type": "stream",
          "text": [
            "\n",
            "Epoch 5 "
          ]
        },
        {
          "name": "stderr",
          "output_type": "stream",
          "text": [
            "\n",
            "Training: 100%|██████████| 100/100 [00:37<00:00,  2.63it/s, loss=2.26]"
          ]
        },
        {
          "name": "stdout",
          "output_type": "stream",
          "text": [
            "\n",
            "Epoch 6 "
          ]
        },
        {
          "name": "stderr",
          "output_type": "stream",
          "text": [
            "\n",
            "Training: 100%|██████████| 100/100 [00:37<00:00,  2.64it/s, loss=2.23]"
          ]
        },
        {
          "name": "stdout",
          "output_type": "stream",
          "text": [
            "\n",
            "Epoch 7 "
          ]
        },
        {
          "name": "stderr",
          "output_type": "stream",
          "text": [
            "\n",
            "Training: 100%|██████████| 100/100 [00:37<00:00,  2.65it/s, loss=2.2]"
          ]
        },
        {
          "name": "stdout",
          "output_type": "stream",
          "text": [
            "\n",
            "Epoch 8 "
          ]
        },
        {
          "name": "stderr",
          "output_type": "stream",
          "text": [
            "\n",
            "Training: 100%|██████████| 100/100 [00:37<00:00,  2.66it/s, loss=2.17]"
          ]
        },
        {
          "name": "stdout",
          "output_type": "stream",
          "text": [
            "\n",
            "Epoch 9 "
          ]
        },
        {
          "name": "stderr",
          "output_type": "stream",
          "text": [
            "\n",
            "Training: 100%|██████████| 100/100 [00:37<00:00,  2.65it/s, loss=2.16]"
          ]
        },
        {
          "name": "stdout",
          "output_type": "stream",
          "text": [
            "\n",
            "Epoch 10 "
          ]
        },
        {
          "name": "stderr",
          "output_type": "stream",
          "text": [
            "\n",
            "Training: 100%|██████████| 100/100 [00:37<00:00,  2.66it/s, loss=2.15]\n"
          ]
        },
        {
          "name": "stdout",
          "output_type": "stream",
          "text": [
            "Saving state of model checkpoint at last epoch to /content/drive/MyDrive/Research-Project/relation_network_20-way_1-shot_last_epoch\n",
            "Training network under 20-way 5-shot\n",
            "\n",
            "Epoch 1\n"
          ]
        },
        {
          "name": "stderr",
          "output_type": "stream",
          "text": [
            "Training: 100%|██████████| 100/100 [01:00<00:00,  1.66it/s, loss=2.7]"
          ]
        },
        {
          "name": "stdout",
          "output_type": "stream",
          "text": [
            "\n",
            "Epoch 2 "
          ]
        },
        {
          "name": "stderr",
          "output_type": "stream",
          "text": [
            "\n",
            "Training: 100%|██████████| 100/100 [00:59<00:00,  1.68it/s, loss=2.29]"
          ]
        },
        {
          "name": "stdout",
          "output_type": "stream",
          "text": [
            "\n",
            "Epoch 3 "
          ]
        },
        {
          "name": "stderr",
          "output_type": "stream",
          "text": [
            "\n",
            "Training: 100%|██████████| 100/100 [00:59<00:00,  1.68it/s, loss=2.2]"
          ]
        },
        {
          "name": "stdout",
          "output_type": "stream",
          "text": [
            "\n",
            "Epoch 4 "
          ]
        },
        {
          "name": "stderr",
          "output_type": "stream",
          "text": [
            "\n",
            "Training: 100%|██████████| 100/100 [00:59<00:00,  1.67it/s, loss=2.15]"
          ]
        },
        {
          "name": "stdout",
          "output_type": "stream",
          "text": [
            "\n",
            "Epoch 5 "
          ]
        },
        {
          "name": "stderr",
          "output_type": "stream",
          "text": [
            "\n",
            "Training: 100%|██████████| 100/100 [00:59<00:00,  1.68it/s, loss=2.13]"
          ]
        },
        {
          "name": "stdout",
          "output_type": "stream",
          "text": [
            "\n",
            "Epoch 6 "
          ]
        },
        {
          "name": "stderr",
          "output_type": "stream",
          "text": [
            "\n",
            "Training: 100%|██████████| 100/100 [00:59<00:00,  1.67it/s, loss=2.11]"
          ]
        },
        {
          "name": "stdout",
          "output_type": "stream",
          "text": [
            "\n",
            "Epoch 7 "
          ]
        },
        {
          "name": "stderr",
          "output_type": "stream",
          "text": [
            "\n",
            "Training: 100%|██████████| 100/100 [00:59<00:00,  1.67it/s, loss=2.11]"
          ]
        },
        {
          "name": "stdout",
          "output_type": "stream",
          "text": [
            "\n",
            "Epoch 8 "
          ]
        },
        {
          "name": "stderr",
          "output_type": "stream",
          "text": [
            "\n",
            "Training: 100%|██████████| 100/100 [00:59<00:00,  1.68it/s, loss=2.1]"
          ]
        },
        {
          "name": "stdout",
          "output_type": "stream",
          "text": [
            "\n",
            "Epoch 9 "
          ]
        },
        {
          "name": "stderr",
          "output_type": "stream",
          "text": [
            "\n",
            "Training: 100%|██████████| 100/100 [00:59<00:00,  1.67it/s, loss=2.1]"
          ]
        },
        {
          "name": "stdout",
          "output_type": "stream",
          "text": [
            "\n",
            "Epoch 10 "
          ]
        },
        {
          "name": "stderr",
          "output_type": "stream",
          "text": [
            "\n",
            "Training: 100%|██████████| 100/100 [01:00<00:00,  1.66it/s, loss=2.1]\n"
          ]
        },
        {
          "name": "stdout",
          "output_type": "stream",
          "text": [
            "Saving state of model checkpoint at last epoch to /content/drive/MyDrive/Research-Project/relation_network_20-way_5-shot_last_epoch\n"
          ]
        }
      ],
      "source": [
        "print('Training Relation Network')\n",
        "rn_losses = train_network(\n",
        "    RelationNetworks,\n",
        "    train_dataset,\n",
        "    n_ways, n_shots, n_query, n_task_per_epoch,\n",
        "    '/content/drive/MyDrive/Research-Project/relation_network',\n",
        "    feature_extractor=True,\n",
        "    feature_dimension=512\n",
        ")"
      ]
    },
    {
      "cell_type": "markdown",
      "metadata": {
        "id": "dR6XED4CW4kK"
      },
      "source": [
        "### Matching Network"
      ]
    },
    {
      "cell_type": "code",
      "execution_count": null,
      "metadata": {
        "colab": {
          "base_uri": "https://localhost:8080/"
        },
        "id": "wpOdS44Esj2C",
        "outputId": "60a08856-5246-45b3-b058-8fdc65fcbb9d"
      },
      "outputs": [
        {
          "name": "stdout",
          "output_type": "stream",
          "text": [
            "Training Matching Network\n",
            "Training network under 20-way 5-shot\n",
            "\n",
            "Epoch 1\n"
          ]
        },
        {
          "name": "stderr",
          "output_type": "stream",
          "text": [
            "Training: 100%|██████████| 100/100 [00:59<00:00,  1.69it/s, loss=0.584]"
          ]
        },
        {
          "name": "stdout",
          "output_type": "stream",
          "text": [
            "\n",
            "Epoch 2 "
          ]
        },
        {
          "name": "stderr",
          "output_type": "stream",
          "text": [
            "\n",
            "Training: 100%|██████████| 100/100 [00:59<00:00,  1.68it/s, loss=0.318]"
          ]
        },
        {
          "name": "stdout",
          "output_type": "stream",
          "text": [
            "\n",
            "Epoch 3 "
          ]
        },
        {
          "name": "stderr",
          "output_type": "stream",
          "text": [
            "\n",
            "Training: 100%|██████████| 100/100 [01:00<00:00,  1.66it/s, loss=0.185]"
          ]
        },
        {
          "name": "stdout",
          "output_type": "stream",
          "text": [
            "\n",
            "Epoch 4 "
          ]
        },
        {
          "name": "stderr",
          "output_type": "stream",
          "text": [
            "\n",
            "Training: 100%|██████████| 100/100 [00:59<00:00,  1.67it/s, loss=0.0608]"
          ]
        },
        {
          "name": "stdout",
          "output_type": "stream",
          "text": [
            "\n",
            "Epoch 5 "
          ]
        },
        {
          "name": "stderr",
          "output_type": "stream",
          "text": [
            "\n",
            "Training: 100%|██████████| 100/100 [00:59<00:00,  1.68it/s, loss=0.0378]"
          ]
        },
        {
          "name": "stdout",
          "output_type": "stream",
          "text": [
            "\n",
            "Epoch 6 "
          ]
        },
        {
          "name": "stderr",
          "output_type": "stream",
          "text": [
            "\n",
            "Training: 100%|██████████| 100/100 [00:59<00:00,  1.69it/s, loss=0.0225]"
          ]
        },
        {
          "name": "stdout",
          "output_type": "stream",
          "text": [
            "\n",
            "Epoch 7 "
          ]
        },
        {
          "name": "stderr",
          "output_type": "stream",
          "text": [
            "\n",
            "Training: 100%|██████████| 100/100 [00:59<00:00,  1.69it/s, loss=0.0174]"
          ]
        },
        {
          "name": "stdout",
          "output_type": "stream",
          "text": [
            "\n",
            "Epoch 8 "
          ]
        },
        {
          "name": "stderr",
          "output_type": "stream",
          "text": [
            "\n",
            "Training: 100%|██████████| 100/100 [00:58<00:00,  1.70it/s, loss=0.012]"
          ]
        },
        {
          "name": "stdout",
          "output_type": "stream",
          "text": [
            "\n",
            "Epoch 9 "
          ]
        },
        {
          "name": "stderr",
          "output_type": "stream",
          "text": [
            "\n",
            "Training: 100%|██████████| 100/100 [00:59<00:00,  1.67it/s, loss=0.00975]"
          ]
        },
        {
          "name": "stdout",
          "output_type": "stream",
          "text": [
            "\n",
            "Epoch 10 "
          ]
        },
        {
          "name": "stderr",
          "output_type": "stream",
          "text": [
            "\n",
            "Training: 100%|██████████| 100/100 [01:00<00:00,  1.66it/s, loss=0.00905]\n"
          ]
        },
        {
          "name": "stdout",
          "output_type": "stream",
          "text": [
            "Saving state of model checkpoint at last epoch to /content/drive/MyDrive/Research-Project/matching_network_20-way_5-shot_last_epoch\n"
          ]
        }
      ],
      "source": [
        "print('Training Matching Network')\n",
        "mn_losses = train_network(\n",
        "    MatchingNetworks,\n",
        "    train_dataset,\n",
        "    n_ways, n_shots, n_query, n_task_per_epoch,\n",
        "    '/content/drive/MyDrive/Research-Project/matching_network',\n",
        "    feature_extractor=False,\n",
        "    feature_dimension=512\n",
        ")"
      ]
    },
    {
      "cell_type": "markdown",
      "metadata": {
        "id": "dhjYKr0WWzEY"
      },
      "source": [
        "### Prototypical Network"
      ]
    },
    {
      "cell_type": "code",
      "execution_count": null,
      "metadata": {
        "colab": {
          "base_uri": "https://localhost:8080/"
        },
        "id": "E9-dGHz2I06D",
        "outputId": "f611af98-3757-4169-8852-fd9dae569f9b"
      },
      "outputs": [
        {
          "name": "stdout",
          "output_type": "stream",
          "text": [
            "Training Prototypical Network\n",
            "Training network under 20-way 5-shot\n",
            "\n",
            "Epoch 1\n"
          ]
        },
        {
          "name": "stderr",
          "output_type": "stream",
          "text": [
            "Training: 100%|██████████| 100/100 [00:58<00:00,  1.71it/s, loss=0.397]\n"
          ]
        },
        {
          "name": "stdout",
          "output_type": "stream",
          "text": [
            "\n",
            "Epoch 2 "
          ]
        },
        {
          "name": "stderr",
          "output_type": "stream",
          "text": [
            "Training: 100%|██████████| 100/100 [01:01<00:00,  1.62it/s, loss=0.0615]"
          ]
        },
        {
          "name": "stdout",
          "output_type": "stream",
          "text": [
            "\n",
            "Epoch 3 "
          ]
        },
        {
          "name": "stderr",
          "output_type": "stream",
          "text": [
            "\n",
            "Training: 100%|██████████| 100/100 [00:58<00:00,  1.71it/s, loss=0.0278]"
          ]
        },
        {
          "name": "stdout",
          "output_type": "stream",
          "text": [
            "\n",
            "Epoch 4 "
          ]
        },
        {
          "name": "stderr",
          "output_type": "stream",
          "text": [
            "\n",
            "Training: 100%|██████████| 100/100 [00:58<00:00,  1.70it/s, loss=0.0162]"
          ]
        },
        {
          "name": "stdout",
          "output_type": "stream",
          "text": [
            "\n",
            "Epoch 5 "
          ]
        },
        {
          "name": "stderr",
          "output_type": "stream",
          "text": [
            "\n",
            "Training: 100%|██████████| 100/100 [00:58<00:00,  1.72it/s, loss=0.00995]"
          ]
        },
        {
          "name": "stdout",
          "output_type": "stream",
          "text": [
            "\n",
            "Epoch 6 "
          ]
        },
        {
          "name": "stderr",
          "output_type": "stream",
          "text": [
            "\n",
            "Training: 100%|██████████| 100/100 [00:57<00:00,  1.73it/s, loss=0.00837]"
          ]
        },
        {
          "name": "stdout",
          "output_type": "stream",
          "text": [
            "\n",
            "Epoch 7 "
          ]
        },
        {
          "name": "stderr",
          "output_type": "stream",
          "text": [
            "\n",
            "Training: 100%|██████████| 100/100 [00:59<00:00,  1.69it/s, loss=0.00679]"
          ]
        },
        {
          "name": "stdout",
          "output_type": "stream",
          "text": [
            "\n",
            "Epoch 8 "
          ]
        },
        {
          "name": "stderr",
          "output_type": "stream",
          "text": [
            "\n",
            "Training: 100%|██████████| 100/100 [00:58<00:00,  1.71it/s, loss=0.00591]"
          ]
        },
        {
          "name": "stdout",
          "output_type": "stream",
          "text": [
            "\n",
            "Epoch 9 "
          ]
        },
        {
          "name": "stderr",
          "output_type": "stream",
          "text": [
            "\n",
            "Training: 100%|██████████| 100/100 [00:58<00:00,  1.71it/s, loss=0.00458]\n"
          ]
        },
        {
          "name": "stdout",
          "output_type": "stream",
          "text": [
            "\n",
            "Epoch 10 "
          ]
        },
        {
          "name": "stderr",
          "output_type": "stream",
          "text": [
            "Training: 100%|██████████| 100/100 [00:58<00:00,  1.72it/s, loss=0.00404]\n"
          ]
        },
        {
          "name": "stdout",
          "output_type": "stream",
          "text": [
            "Saving state of model checkpoint at last epoch to /content/drive/MyDrive/Research-Project/prototypical_network_20-way_5-shot_last_epoch\n"
          ]
        }
      ],
      "source": [
        "print('Training Prototypical Network')\n",
        "pt_losses = train_network(\n",
        "    PrototypicalNetworks,\n",
        "    train_dataset,\n",
        "    n_ways, n_shots, n_query, n_task_per_epoch,\n",
        "    '/content/drive/MyDrive/Research-Project/prototypical_network',\n",
        "    feature_extractor=False,\n",
        "    feature_dimension=None\n",
        ")"
      ]
    },
    {
      "cell_type": "markdown",
      "metadata": {
        "id": "53KPtD1AHB0l"
      },
      "source": [
        "# Evaluating networks on test dataset"
      ]
    },
    {
      "cell_type": "code",
      "source": [
        "def load_networks_from_checkpoint(key_name, n_ways, n_shots, backbone, network, **kwargs):\n",
        "    network_dict = dict()\n",
        "    for n_way in n_ways:\n",
        "        network_dict[n_way] = dict()\n",
        "        for n_shot in n_shots:\n",
        "\n",
        "            fsl_network = network(backbone, **kwargs)\n",
        "            fsl_network.load_state_dict(torch.load(f'/content/drive/MyDrive/Research-Project/{key_name}_{n_way}-way_{n_shot}-shot_last_epoch'))\n",
        "            network_dict[n_way][n_shot] = fsl_network.to(device)\n",
        "\n",
        "    return network_dict"
      ],
      "metadata": {
        "id": "X_SEMGlTOc8Q"
      },
      "execution_count": 20,
      "outputs": []
    },
    {
      "cell_type": "code",
      "execution_count": 14,
      "metadata": {
        "id": "VP1WKwx6HB0m"
      },
      "outputs": [],
      "source": [
        "def get_accuracy_table(networks, test_dataset, ways, shots, n_query, verbose=True, device=device, pretrained=True):\n",
        "    '''\n",
        "    Very hacky way of formatting dataframe that displays the accuracies for each network under different k-ways n-shot learning.\n",
        "    '''\n",
        "    accs = dict()\n",
        "    for network in networks:\n",
        "        accs[network] = dict()\n",
        "        for way in ways:\n",
        "            accs[network][way] = {shot: np.nan for shot in shots}\n",
        "\n",
        "\n",
        "    for network_name in networks.keys():\n",
        "        for n_way in ways:\n",
        "            for n_shot in shots:\n",
        "                if verbose: print(f'Evaluating {network_name} for {n_way}-way {n_shot}-shot:', end=' ')\n",
        "                if pretrained:\n",
        "                  network = networks[network_name]\n",
        "                else:\n",
        "                  network = networks[network_name][n_way][n_shot]\n",
        "\n",
        "                loader = create_loader(test_dataset, n_way, n_shot, n_query, 5, num_workers=2)\n",
        "                accs[network_name][n_way][n_shot] = evaluate(network, loader, device=device, use_tqdm=True)\n",
        "                time.sleep(0.1)\n",
        "                if verbose: print()\n",
        "\n",
        "    accs_v2 = dict()\n",
        "    for network in accs.keys():\n",
        "        accs_v2[network] = dict()\n",
        "        for way in accs[network].keys():\n",
        "            accs_v2[network][f'{way}-way'] = [acc for acc in accs[network][way].values()]\n",
        "    accs_df = pd.DataFrame.from_dict(accs_v2).T\n",
        "\n",
        "    accs_dict2 = dict()\n",
        "    for network, row in accs_df.iterrows():\n",
        "        accs_dict2[network] = dict()\n",
        "        for i, way in enumerate(row):\n",
        "            for j, shot in enumerate(way):\n",
        "                accs_dict2[network][f'{ways[i]}-way {shots[j]}-shot'] = shot\n",
        "    accs_df2 = pd.DataFrame.from_dict(accs_dict2).T\n",
        "    multi_columns = [(f'{n_way}-way', f'{n_shot}-shot') for n_way in ways for n_shot in shots]\n",
        "    accs_df2.columns = pd.MultiIndex.from_tuples(multi_columns)\n",
        "\n",
        "    return accs_df2"
      ]
    },
    {
      "cell_type": "code",
      "source": [
        "df_test = remove_new_whale_class(\n",
        "    pd.read_csv('/content/creating-ai-enabled-systems/Research Project/data/testing_10samples.csv')\n",
        ")\n",
        "\n",
        "test_dataset = HumpbackWhaleDataset('/content/train', df_test, transform=transform)"
      ],
      "metadata": {
        "id": "TwhWgsFcOeu0"
      },
      "execution_count": null,
      "outputs": []
    },
    {
      "cell_type": "code",
      "execution_count": 35,
      "metadata": {
        "id": "91k003KfHB0m"
      },
      "outputs": [],
      "source": [
        "############################\n",
        "# Load pretrained networks\n",
        "#############################\n",
        "cnn = resnet18(weights='DEFAULT')\n",
        "cnn.fc = torch.nn.Flatten()\n",
        "resnet_extractor = create_feature_extractor(cnn, return_nodes=['layer4.1.bn2'])\n",
        "feature_extractor = FeatureExtractor(resnet_extractor, 'layer4.1.bn2')\n",
        "\n",
        "pretrained_networks = {\n",
        "    'Relation Network': RelationNetworks(feature_extractor, feature_dimension=512).to(device),\n",
        "    'Matching Network': MatchingNetworks(cnn, feature_dimension=512).to(device),\n",
        "    'Prototypical Network': PrototypicalNetworks(cnn).to(device),\n",
        "}"
      ]
    },
    {
      "cell_type": "code",
      "execution_count": 36,
      "metadata": {
        "id": "bPxYDldOHB0m",
        "outputId": "16eb1ddf-662a-4580-82f0-64add1b1004b",
        "colab": {
          "base_uri": "https://localhost:8080/"
        }
      },
      "outputs": [
        {
          "output_type": "stream",
          "name": "stdout",
          "text": [
            "Evaluating Relation Network for 5-way 1-shot: "
          ]
        },
        {
          "output_type": "stream",
          "name": "stderr",
          "text": [
            "100%|██████████| 5/5 [00:02<00:00,  1.83it/s, accuracy=0.208]"
          ]
        },
        {
          "output_type": "stream",
          "name": "stdout",
          "text": [
            "\n",
            "Evaluating Relation Network for 5-way 5-shot: "
          ]
        },
        {
          "output_type": "stream",
          "name": "stderr",
          "text": [
            "\n",
            "100%|██████████| 5/5 [00:04<00:00,  1.14it/s, accuracy=0.208]"
          ]
        },
        {
          "output_type": "stream",
          "name": "stdout",
          "text": [
            "\n",
            "Evaluating Relation Network for 20-way 1-shot: "
          ]
        },
        {
          "output_type": "stream",
          "name": "stderr",
          "text": [
            "\n",
            "100%|██████████| 5/5 [00:14<00:00,  2.81s/it, accuracy=0.036]\n"
          ]
        },
        {
          "output_type": "stream",
          "name": "stdout",
          "text": [
            "\n",
            "Evaluating Relation Network for 20-way 5-shot: "
          ]
        },
        {
          "output_type": "stream",
          "name": "stderr",
          "text": [
            "100%|██████████| 5/5 [00:19<00:00,  3.95s/it, accuracy=0.06]\n"
          ]
        },
        {
          "output_type": "stream",
          "name": "stdout",
          "text": [
            "\n",
            "Evaluating Matching Network for 5-way 1-shot: "
          ]
        },
        {
          "output_type": "stream",
          "name": "stderr",
          "text": [
            "100%|██████████| 5/5 [00:04<00:00,  1.09it/s, accuracy=0.4]"
          ]
        },
        {
          "output_type": "stream",
          "name": "stdout",
          "text": [
            "\n",
            "Evaluating Matching Network for 5-way 5-shot: "
          ]
        },
        {
          "output_type": "stream",
          "name": "stderr",
          "text": [
            "\n",
            "100%|██████████| 5/5 [00:03<00:00,  1.26it/s, accuracy=0.656]"
          ]
        },
        {
          "output_type": "stream",
          "name": "stdout",
          "text": [
            "\n",
            "Evaluating Matching Network for 20-way 1-shot: "
          ]
        },
        {
          "output_type": "stream",
          "name": "stderr",
          "text": [
            "\n",
            "100%|██████████| 5/5 [00:13<00:00,  2.67s/it, accuracy=0.182]"
          ]
        },
        {
          "output_type": "stream",
          "name": "stdout",
          "text": [
            "\n",
            "Evaluating Matching Network for 20-way 5-shot: "
          ]
        },
        {
          "output_type": "stream",
          "name": "stderr",
          "text": [
            "\n",
            "100%|██████████| 5/5 [00:20<00:00,  4.02s/it, accuracy=0.39]\n"
          ]
        },
        {
          "output_type": "stream",
          "name": "stdout",
          "text": [
            "\n",
            "Evaluating Prototypical Network for 5-way 1-shot: "
          ]
        },
        {
          "output_type": "stream",
          "name": "stderr",
          "text": [
            "100%|██████████| 5/5 [00:02<00:00,  1.91it/s, accuracy=0.52]"
          ]
        },
        {
          "output_type": "stream",
          "name": "stdout",
          "text": [
            "\n",
            "Evaluating Prototypical Network for 5-way 5-shot: "
          ]
        },
        {
          "output_type": "stream",
          "name": "stderr",
          "text": [
            "\n",
            "100%|██████████| 5/5 [00:05<00:00,  1.08s/it, accuracy=0.648]"
          ]
        },
        {
          "output_type": "stream",
          "name": "stdout",
          "text": [
            "\n",
            "Evaluating Prototypical Network for 20-way 1-shot: "
          ]
        },
        {
          "output_type": "stream",
          "name": "stderr",
          "text": [
            "\n",
            "100%|██████████| 5/5 [00:11<00:00,  2.30s/it, accuracy=0.202]"
          ]
        },
        {
          "output_type": "stream",
          "name": "stdout",
          "text": [
            "\n",
            "Evaluating Prototypical Network for 20-way 5-shot: "
          ]
        },
        {
          "output_type": "stream",
          "name": "stderr",
          "text": [
            "\n",
            "100%|██████████| 5/5 [00:17<00:00,  3.59s/it, accuracy=0.348]\n"
          ]
        },
        {
          "output_type": "stream",
          "name": "stdout",
          "text": [
            "\n"
          ]
        }
      ],
      "source": [
        "pretained_acc_table = get_accuracy_table(pretrained_networks)\n",
        "pretained_acc_table"
      ]
    },
    {
      "cell_type": "code",
      "source": [
        "def load_networks_from_checkpoint(key_name, n_ways, n_shots, backbone, network, **kwargs):\n",
        "    network_dict = dict()\n",
        "    for n_way in ways:\n",
        "        network_dict[n_way] = dict()\n",
        "        for n_shot in shots:\n",
        "\n",
        "            fsl_network = network(backbone, **kwargs)\n",
        "            fsl_network.load_state_dict(torch.load(f'/content/drive/MyDrive/Research-Project/{key_name}_{n_way}-way_{n_shot}-shot_last_epoch'))\n",
        "            network_dict[n_way][n_shot] = fsl_network.to(device)\n",
        "\n",
        "    return network_dict"
      ]
    },
    {
      "cell_type": "code",
      "execution_count": 3,
      "metadata": {
        "id": "vtteU6zmHB0n"
      },
      "outputs": [],
      "source": [
        "###########################\n",
        "# Load finetuned networks\n",
        "###########################\n",
        "finetuned_networks = dict()"
      ]
    },
    {
      "cell_type": "code",
      "execution_count": 9,
      "metadata": {
        "id": "h1a6yb1IHB0n"
      },
      "outputs": [],
      "source": [
        "# Load Relation Network checkpoints\n",
        "return_layer='layer4.1.bn2'\n",
        "cnn = resnet18()\n",
        "resnet_extractor = create_feature_extractor(cnn, return_nodes=[return_layer])\n",
        "feature_extractor = FeatureExtractor(resnet_extractor, return_layer)\n",
        "\n",
        "finetuned_networks['relation_network'] = load_networks_from_checkpoint('relation_network', n_ways, n_shots, feature_extractor, RelationNetworks, feature_dimension=512)"
      ]
    },
    {
      "cell_type": "code",
      "execution_count": 10,
      "metadata": {
        "id": "UYy26siCHB0n"
      },
      "outputs": [],
      "source": [
        "# Load Matching Network checkpoints\n",
        "return_layer='layer4.1.bn2'\n",
        "cnn = resnet18()\n",
        "cnn.fc = torch.nn.Flatten()\n",
        "\n",
        "finetuned_networks['matching_network'] = load_networks_from_checkpoint('matching_network', n_ways, n_shots, cnn, MatchingNetworks, feature_dimension=512)"
      ]
    },
    {
      "cell_type": "code",
      "execution_count": 12,
      "metadata": {
        "id": "lylccNBaHB0n"
      },
      "outputs": [],
      "source": [
        "# Load Prototypical Network checkpoints\n",
        "cnn = resnet18()\n",
        "cnn.fc = torch.nn.Flatten()\n",
        "finetuned_networks['prototypical'] = load_networks_from_checkpoint('prototypical_network', n_ways, n_shots, cnn, PrototypicalNetworks)"
      ]
    },
    {
      "cell_type": "code",
      "execution_count": 19,
      "metadata": {
        "id": "i_ZA6oPKHB0n",
        "outputId": "6670425f-b5b9-4d49-8d97-3469c440214a",
        "colab": {
          "base_uri": "https://localhost:8080/"
        }
      },
      "outputs": [
        {
          "output_type": "stream",
          "name": "stdout",
          "text": [
            "Evaluating relation_network for 5-way 1-shot: "
          ]
        },
        {
          "output_type": "stream",
          "name": "stderr",
          "text": [
            "100%|██████████| 5/5 [00:04<00:00,  1.12it/s, accuracy=0.752]\n"
          ]
        },
        {
          "output_type": "stream",
          "name": "stdout",
          "text": [
            "\n",
            "Evaluating relation_network for 5-way 5-shot: "
          ]
        },
        {
          "output_type": "stream",
          "name": "stderr",
          "text": [
            "100%|██████████| 5/5 [00:05<00:00,  1.03s/it, accuracy=0.544]"
          ]
        },
        {
          "output_type": "stream",
          "name": "stdout",
          "text": [
            "\n",
            "Evaluating relation_network for 20-way 1-shot: "
          ]
        },
        {
          "output_type": "stream",
          "name": "stderr",
          "text": [
            "\n",
            "100%|██████████| 5/5 [00:12<00:00,  2.46s/it, accuracy=0.634]\n"
          ]
        },
        {
          "output_type": "stream",
          "name": "stdout",
          "text": [
            "\n",
            "Evaluating relation_network for 20-way 5-shot: "
          ]
        },
        {
          "output_type": "stream",
          "name": "stderr",
          "text": [
            "100%|██████████| 5/5 [00:21<00:00,  4.25s/it, accuracy=0.888]"
          ]
        },
        {
          "output_type": "stream",
          "name": "stdout",
          "text": [
            "\n",
            "Evaluating matching_network for 5-way 1-shot: "
          ]
        },
        {
          "output_type": "stream",
          "name": "stderr",
          "text": [
            "\n",
            "100%|██████████| 5/5 [00:03<00:00,  1.42it/s, accuracy=0.912]"
          ]
        },
        {
          "output_type": "stream",
          "name": "stdout",
          "text": [
            "\n",
            "Evaluating matching_network for 5-way 5-shot: "
          ]
        },
        {
          "output_type": "stream",
          "name": "stderr",
          "text": [
            "\n",
            "100%|██████████| 5/5 [00:06<00:00,  1.28s/it, accuracy=0.976]\n"
          ]
        },
        {
          "output_type": "stream",
          "name": "stdout",
          "text": [
            "\n",
            "Evaluating matching_network for 20-way 1-shot: "
          ]
        },
        {
          "output_type": "stream",
          "name": "stderr",
          "text": [
            "100%|██████████| 5/5 [00:11<00:00,  2.24s/it, accuracy=0.848]"
          ]
        },
        {
          "output_type": "stream",
          "name": "stdout",
          "text": [
            "\n",
            "Evaluating matching_network for 20-way 5-shot: "
          ]
        },
        {
          "output_type": "stream",
          "name": "stderr",
          "text": [
            "\n",
            "100%|██████████| 5/5 [00:22<00:00,  4.51s/it, accuracy=0.922]\n"
          ]
        },
        {
          "output_type": "stream",
          "name": "stdout",
          "text": [
            "\n",
            "Evaluating prototypical for 5-way 1-shot: "
          ]
        },
        {
          "output_type": "stream",
          "name": "stderr",
          "text": [
            "100%|██████████| 5/5 [00:02<00:00,  1.79it/s, accuracy=0.904]"
          ]
        },
        {
          "output_type": "stream",
          "name": "stdout",
          "text": [
            "\n",
            "Evaluating prototypical for 5-way 5-shot: "
          ]
        },
        {
          "output_type": "stream",
          "name": "stderr",
          "text": [
            "\n",
            "100%|██████████| 5/5 [00:04<00:00,  1.07it/s, accuracy=0.936]"
          ]
        },
        {
          "output_type": "stream",
          "name": "stdout",
          "text": [
            "\n",
            "Evaluating prototypical for 20-way 1-shot: "
          ]
        },
        {
          "output_type": "stream",
          "name": "stderr",
          "text": [
            "\n",
            "100%|██████████| 5/5 [00:14<00:00,  2.91s/it, accuracy=0.826]\n"
          ]
        },
        {
          "output_type": "stream",
          "name": "stdout",
          "text": [
            "\n",
            "Evaluating prototypical for 20-way 5-shot: "
          ]
        },
        {
          "output_type": "stream",
          "name": "stderr",
          "text": [
            "100%|██████████| 5/5 [00:22<00:00,  4.56s/it, accuracy=0.908]"
          ]
        },
        {
          "output_type": "stream",
          "name": "stdout",
          "text": [
            "\n"
          ]
        },
        {
          "output_type": "stream",
          "name": "stderr",
          "text": [
            "\n"
          ]
        }
      ],
      "source": [
        "finetuned_acc_table = get_accuracy_table(finetuned_networks)\n",
        "finetuned_acc_table"
      ]
    },
    {
      "cell_type": "code",
      "source": [
        "finetuned_acc_table"
      ],
      "metadata": {
        "id": "f1Kn21DnN_ax",
        "outputId": "8540192c-422a-47df-e8e3-9267ea79e431",
        "colab": {
          "base_uri": "https://localhost:8080/",
          "height": 175
        }
      },
      "execution_count": 21,
      "outputs": [
        {
          "output_type": "execute_result",
          "data": {
            "text/plain": [
              "                  5-way        20-way       \n",
              "                 1-shot 5-shot 1-shot 5-shot\n",
              "relation_network  0.752  0.544  0.634  0.888\n",
              "matching_network  0.912  0.976  0.848  0.922\n",
              "prototypical      0.904  0.936  0.826  0.908"
            ],
            "text/html": [
              "\n",
              "\n",
              "  <div id=\"df-361f387a-f1c6-4a8c-a4dd-54c0f6628551\">\n",
              "    <div class=\"colab-df-container\">\n",
              "      <div>\n",
              "<style scoped>\n",
              "    .dataframe tbody tr th:only-of-type {\n",
              "        vertical-align: middle;\n",
              "    }\n",
              "\n",
              "    .dataframe tbody tr th {\n",
              "        vertical-align: top;\n",
              "    }\n",
              "\n",
              "    .dataframe thead tr th {\n",
              "        text-align: left;\n",
              "    }\n",
              "</style>\n",
              "<table border=\"1\" class=\"dataframe\">\n",
              "  <thead>\n",
              "    <tr>\n",
              "      <th></th>\n",
              "      <th colspan=\"2\" halign=\"left\">5-way</th>\n",
              "      <th colspan=\"2\" halign=\"left\">20-way</th>\n",
              "    </tr>\n",
              "    <tr>\n",
              "      <th></th>\n",
              "      <th>1-shot</th>\n",
              "      <th>5-shot</th>\n",
              "      <th>1-shot</th>\n",
              "      <th>5-shot</th>\n",
              "    </tr>\n",
              "  </thead>\n",
              "  <tbody>\n",
              "    <tr>\n",
              "      <th>relation_network</th>\n",
              "      <td>0.752</td>\n",
              "      <td>0.544</td>\n",
              "      <td>0.634</td>\n",
              "      <td>0.888</td>\n",
              "    </tr>\n",
              "    <tr>\n",
              "      <th>matching_network</th>\n",
              "      <td>0.912</td>\n",
              "      <td>0.976</td>\n",
              "      <td>0.848</td>\n",
              "      <td>0.922</td>\n",
              "    </tr>\n",
              "    <tr>\n",
              "      <th>prototypical</th>\n",
              "      <td>0.904</td>\n",
              "      <td>0.936</td>\n",
              "      <td>0.826</td>\n",
              "      <td>0.908</td>\n",
              "    </tr>\n",
              "  </tbody>\n",
              "</table>\n",
              "</div>\n",
              "      <button class=\"colab-df-convert\" onclick=\"convertToInteractive('df-361f387a-f1c6-4a8c-a4dd-54c0f6628551')\"\n",
              "              title=\"Convert this dataframe to an interactive table.\"\n",
              "              style=\"display:none;\">\n",
              "\n",
              "  <svg xmlns=\"http://www.w3.org/2000/svg\" height=\"24px\"viewBox=\"0 0 24 24\"\n",
              "       width=\"24px\">\n",
              "    <path d=\"M0 0h24v24H0V0z\" fill=\"none\"/>\n",
              "    <path d=\"M18.56 5.44l.94 2.06.94-2.06 2.06-.94-2.06-.94-.94-2.06-.94 2.06-2.06.94zm-11 1L8.5 8.5l.94-2.06 2.06-.94-2.06-.94L8.5 2.5l-.94 2.06-2.06.94zm10 10l.94 2.06.94-2.06 2.06-.94-2.06-.94-.94-2.06-.94 2.06-2.06.94z\"/><path d=\"M17.41 7.96l-1.37-1.37c-.4-.4-.92-.59-1.43-.59-.52 0-1.04.2-1.43.59L10.3 9.45l-7.72 7.72c-.78.78-.78 2.05 0 2.83L4 21.41c.39.39.9.59 1.41.59.51 0 1.02-.2 1.41-.59l7.78-7.78 2.81-2.81c.8-.78.8-2.07 0-2.86zM5.41 20L4 18.59l7.72-7.72 1.47 1.35L5.41 20z\"/>\n",
              "  </svg>\n",
              "      </button>\n",
              "\n",
              "\n",
              "\n",
              "    <div id=\"df-f2606a4d-e4d1-4463-bde8-992f629b8825\">\n",
              "      <button class=\"colab-df-quickchart\" onclick=\"quickchart('df-f2606a4d-e4d1-4463-bde8-992f629b8825')\"\n",
              "              title=\"Suggest charts.\"\n",
              "              style=\"display:none;\">\n",
              "\n",
              "<svg xmlns=\"http://www.w3.org/2000/svg\" height=\"24px\"viewBox=\"0 0 24 24\"\n",
              "     width=\"24px\">\n",
              "    <g>\n",
              "        <path d=\"M19 3H5c-1.1 0-2 .9-2 2v14c0 1.1.9 2 2 2h14c1.1 0 2-.9 2-2V5c0-1.1-.9-2-2-2zM9 17H7v-7h2v7zm4 0h-2V7h2v10zm4 0h-2v-4h2v4z\"/>\n",
              "    </g>\n",
              "</svg>\n",
              "      </button>\n",
              "    </div>\n",
              "\n",
              "<style>\n",
              "  .colab-df-quickchart {\n",
              "    background-color: #E8F0FE;\n",
              "    border: none;\n",
              "    border-radius: 50%;\n",
              "    cursor: pointer;\n",
              "    display: none;\n",
              "    fill: #1967D2;\n",
              "    height: 32px;\n",
              "    padding: 0 0 0 0;\n",
              "    width: 32px;\n",
              "  }\n",
              "\n",
              "  .colab-df-quickchart:hover {\n",
              "    background-color: #E2EBFA;\n",
              "    box-shadow: 0px 1px 2px rgba(60, 64, 67, 0.3), 0px 1px 3px 1px rgba(60, 64, 67, 0.15);\n",
              "    fill: #174EA6;\n",
              "  }\n",
              "\n",
              "  [theme=dark] .colab-df-quickchart {\n",
              "    background-color: #3B4455;\n",
              "    fill: #D2E3FC;\n",
              "  }\n",
              "\n",
              "  [theme=dark] .colab-df-quickchart:hover {\n",
              "    background-color: #434B5C;\n",
              "    box-shadow: 0px 1px 3px 1px rgba(0, 0, 0, 0.15);\n",
              "    filter: drop-shadow(0px 1px 2px rgba(0, 0, 0, 0.3));\n",
              "    fill: #FFFFFF;\n",
              "  }\n",
              "</style>\n",
              "\n",
              "    <script>\n",
              "      async function quickchart(key) {\n",
              "        const containerElement = document.querySelector('#' + key);\n",
              "        const charts = await google.colab.kernel.invokeFunction(\n",
              "            'suggestCharts', [key], {});\n",
              "      }\n",
              "    </script>\n",
              "\n",
              "\n",
              "      <script>\n",
              "\n",
              "function displayQuickchartButton(domScope) {\n",
              "  let quickchartButtonEl =\n",
              "    domScope.querySelector('#df-f2606a4d-e4d1-4463-bde8-992f629b8825 button.colab-df-quickchart');\n",
              "  quickchartButtonEl.style.display =\n",
              "    google.colab.kernel.accessAllowed ? 'block' : 'none';\n",
              "}\n",
              "\n",
              "        displayQuickchartButton(document);\n",
              "      </script>\n",
              "      <style>\n",
              "    .colab-df-container {\n",
              "      display:flex;\n",
              "      flex-wrap:wrap;\n",
              "      gap: 12px;\n",
              "    }\n",
              "\n",
              "    .colab-df-convert {\n",
              "      background-color: #E8F0FE;\n",
              "      border: none;\n",
              "      border-radius: 50%;\n",
              "      cursor: pointer;\n",
              "      display: none;\n",
              "      fill: #1967D2;\n",
              "      height: 32px;\n",
              "      padding: 0 0 0 0;\n",
              "      width: 32px;\n",
              "    }\n",
              "\n",
              "    .colab-df-convert:hover {\n",
              "      background-color: #E2EBFA;\n",
              "      box-shadow: 0px 1px 2px rgba(60, 64, 67, 0.3), 0px 1px 3px 1px rgba(60, 64, 67, 0.15);\n",
              "      fill: #174EA6;\n",
              "    }\n",
              "\n",
              "    [theme=dark] .colab-df-convert {\n",
              "      background-color: #3B4455;\n",
              "      fill: #D2E3FC;\n",
              "    }\n",
              "\n",
              "    [theme=dark] .colab-df-convert:hover {\n",
              "      background-color: #434B5C;\n",
              "      box-shadow: 0px 1px 3px 1px rgba(0, 0, 0, 0.15);\n",
              "      filter: drop-shadow(0px 1px 2px rgba(0, 0, 0, 0.3));\n",
              "      fill: #FFFFFF;\n",
              "    }\n",
              "  </style>\n",
              "\n",
              "      <script>\n",
              "        const buttonEl =\n",
              "          document.querySelector('#df-361f387a-f1c6-4a8c-a4dd-54c0f6628551 button.colab-df-convert');\n",
              "        buttonEl.style.display =\n",
              "          google.colab.kernel.accessAllowed ? 'block' : 'none';\n",
              "\n",
              "        async function convertToInteractive(key) {\n",
              "          const element = document.querySelector('#df-361f387a-f1c6-4a8c-a4dd-54c0f6628551');\n",
              "          const dataTable =\n",
              "            await google.colab.kernel.invokeFunction('convertToInteractive',\n",
              "                                                     [key], {});\n",
              "          if (!dataTable) return;\n",
              "\n",
              "          const docLinkHtml = 'Like what you see? Visit the ' +\n",
              "            '<a target=\"_blank\" href=https://colab.research.google.com/notebooks/data_table.ipynb>data table notebook</a>'\n",
              "            + ' to learn more about interactive tables.';\n",
              "          element.innerHTML = '';\n",
              "          dataTable['output_type'] = 'display_data';\n",
              "          await google.colab.output.renderOutput(dataTable, element);\n",
              "          const docLink = document.createElement('div');\n",
              "          docLink.innerHTML = docLinkHtml;\n",
              "          element.appendChild(docLink);\n",
              "        }\n",
              "      </script>\n",
              "    </div>\n",
              "  </div>\n"
            ]
          },
          "metadata": {},
          "execution_count": 21
        }
      ]
    },
    {
      "cell_type": "code",
      "source": [],
      "metadata": {
        "id": "4Uu4dcNyOvMe"
      },
      "execution_count": null,
      "outputs": []
    }
  ],
  "metadata": {
    "accelerator": "GPU",
    "colab": {
      "collapsed_sections": [
        "WBD68iPadsti",
        "4EIjDfwjdwoT"
      ],
      "gpuType": "V100",
      "provenance": [],
      "include_colab_link": true
    },
    "kernelspec": {
      "display_name": "Python 3",
      "name": "python3"
    },
    "language_info": {
      "name": "python"
    }
  },
  "nbformat": 4,
  "nbformat_minor": 0
}