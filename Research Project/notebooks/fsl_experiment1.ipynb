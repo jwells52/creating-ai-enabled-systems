{
  "cells": [
    {
      "cell_type": "markdown",
      "metadata": {
        "id": "view-in-github",
        "colab_type": "text"
      },
      "source": [
        "<a href=\"https://colab.research.google.com/github/jwells52/creating-ai-enabled-systems/blob/main/Research%20Project/notebooks/fsl_experiment1.ipynb\" target=\"_parent\"><img src=\"https://colab.research.google.com/assets/colab-badge.svg\" alt=\"Open In Colab\"/></a>"
      ]
    },
    {
      "cell_type": "markdown",
      "metadata": {
        "id": "WBD68iPadsti"
      },
      "source": [
        "### Install EasyFSL"
      ]
    },
    {
      "cell_type": "code",
      "execution_count": null,
      "metadata": {
        "colab": {
          "base_uri": "https://localhost:8080/"
        },
        "id": "hWg5yaDZRPAS",
        "outputId": "8941dd37-8269-4d82-c624-2c46fdadbf39"
      },
      "outputs": [
        {
          "output_type": "stream",
          "name": "stdout",
          "text": [
            "Collecting easyfsl\n",
            "  Downloading easyfsl-1.4.0-py3-none-any.whl (65 kB)\n",
            "\u001b[?25l     \u001b[90m━━━━━━━━━━━━━━━━━━━━━━━━━━━━━━━━━━━━━━━━\u001b[0m \u001b[32m0.0/65.2 kB\u001b[0m \u001b[31m?\u001b[0m eta \u001b[36m-:--:--\u001b[0m\r\u001b[2K     \u001b[91m━━━━━━━━━━━━━━━━━━━━━━━━━━━━━━━━━━━━━\u001b[0m\u001b[91m╸\u001b[0m\u001b[90m━━\u001b[0m \u001b[32m61.4/65.2 kB\u001b[0m \u001b[31m1.8 MB/s\u001b[0m eta \u001b[36m0:00:01\u001b[0m\r\u001b[2K     \u001b[90m━━━━━━━━━━━━━━━━━━━━━━━━━━━━━━━━━━━━━━━━\u001b[0m \u001b[32m65.2/65.2 kB\u001b[0m \u001b[31m1.5 MB/s\u001b[0m eta \u001b[36m0:00:00\u001b[0m\n",
            "\u001b[?25hRequirement already satisfied: matplotlib>=3.0.0 in /usr/local/lib/python3.10/dist-packages (from easyfsl) (3.7.1)\n",
            "Requirement already satisfied: pandas>=1.4.0 in /usr/local/lib/python3.10/dist-packages (from easyfsl) (1.5.3)\n",
            "Requirement already satisfied: torch>=1.4.0 in /usr/local/lib/python3.10/dist-packages (from easyfsl) (2.0.1+cu118)\n",
            "Requirement already satisfied: torchvision>=0.7.0 in /usr/local/lib/python3.10/dist-packages (from easyfsl) (0.15.2+cu118)\n",
            "Requirement already satisfied: tqdm>=4.1.0 in /usr/local/lib/python3.10/dist-packages (from easyfsl) (4.65.0)\n",
            "Requirement already satisfied: contourpy>=1.0.1 in /usr/local/lib/python3.10/dist-packages (from matplotlib>=3.0.0->easyfsl) (1.1.0)\n",
            "Requirement already satisfied: cycler>=0.10 in /usr/local/lib/python3.10/dist-packages (from matplotlib>=3.0.0->easyfsl) (0.11.0)\n",
            "Requirement already satisfied: fonttools>=4.22.0 in /usr/local/lib/python3.10/dist-packages (from matplotlib>=3.0.0->easyfsl) (4.41.0)\n",
            "Requirement already satisfied: kiwisolver>=1.0.1 in /usr/local/lib/python3.10/dist-packages (from matplotlib>=3.0.0->easyfsl) (1.4.4)\n",
            "Requirement already satisfied: numpy>=1.20 in /usr/local/lib/python3.10/dist-packages (from matplotlib>=3.0.0->easyfsl) (1.22.4)\n",
            "Requirement already satisfied: packaging>=20.0 in /usr/local/lib/python3.10/dist-packages (from matplotlib>=3.0.0->easyfsl) (23.1)\n",
            "Requirement already satisfied: pillow>=6.2.0 in /usr/local/lib/python3.10/dist-packages (from matplotlib>=3.0.0->easyfsl) (8.4.0)\n",
            "Requirement already satisfied: pyparsing>=2.3.1 in /usr/local/lib/python3.10/dist-packages (from matplotlib>=3.0.0->easyfsl) (3.1.0)\n",
            "Requirement already satisfied: python-dateutil>=2.7 in /usr/local/lib/python3.10/dist-packages (from matplotlib>=3.0.0->easyfsl) (2.8.2)\n",
            "Requirement already satisfied: pytz>=2020.1 in /usr/local/lib/python3.10/dist-packages (from pandas>=1.4.0->easyfsl) (2022.7.1)\n",
            "Requirement already satisfied: filelock in /usr/local/lib/python3.10/dist-packages (from torch>=1.4.0->easyfsl) (3.12.2)\n",
            "Requirement already satisfied: typing-extensions in /usr/local/lib/python3.10/dist-packages (from torch>=1.4.0->easyfsl) (4.7.1)\n",
            "Requirement already satisfied: sympy in /usr/local/lib/python3.10/dist-packages (from torch>=1.4.0->easyfsl) (1.11.1)\n",
            "Requirement already satisfied: networkx in /usr/local/lib/python3.10/dist-packages (from torch>=1.4.0->easyfsl) (3.1)\n",
            "Requirement already satisfied: jinja2 in /usr/local/lib/python3.10/dist-packages (from torch>=1.4.0->easyfsl) (3.1.2)\n",
            "Requirement already satisfied: triton==2.0.0 in /usr/local/lib/python3.10/dist-packages (from torch>=1.4.0->easyfsl) (2.0.0)\n",
            "Requirement already satisfied: cmake in /usr/local/lib/python3.10/dist-packages (from triton==2.0.0->torch>=1.4.0->easyfsl) (3.25.2)\n",
            "Requirement already satisfied: lit in /usr/local/lib/python3.10/dist-packages (from triton==2.0.0->torch>=1.4.0->easyfsl) (16.0.6)\n",
            "Requirement already satisfied: requests in /usr/local/lib/python3.10/dist-packages (from torchvision>=0.7.0->easyfsl) (2.27.1)\n",
            "Requirement already satisfied: six>=1.5 in /usr/local/lib/python3.10/dist-packages (from python-dateutil>=2.7->matplotlib>=3.0.0->easyfsl) (1.16.0)\n",
            "Requirement already satisfied: MarkupSafe>=2.0 in /usr/local/lib/python3.10/dist-packages (from jinja2->torch>=1.4.0->easyfsl) (2.1.3)\n",
            "Requirement already satisfied: urllib3<1.27,>=1.21.1 in /usr/local/lib/python3.10/dist-packages (from requests->torchvision>=0.7.0->easyfsl) (1.26.16)\n",
            "Requirement already satisfied: certifi>=2017.4.17 in /usr/local/lib/python3.10/dist-packages (from requests->torchvision>=0.7.0->easyfsl) (2023.5.7)\n",
            "Requirement already satisfied: charset-normalizer~=2.0.0 in /usr/local/lib/python3.10/dist-packages (from requests->torchvision>=0.7.0->easyfsl) (2.0.12)\n",
            "Requirement already satisfied: idna<4,>=2.5 in /usr/local/lib/python3.10/dist-packages (from requests->torchvision>=0.7.0->easyfsl) (3.4)\n",
            "Requirement already satisfied: mpmath>=0.19 in /usr/local/lib/python3.10/dist-packages (from sympy->torch>=1.4.0->easyfsl) (1.3.0)\n",
            "Installing collected packages: easyfsl\n",
            "Successfully installed easyfsl-1.4.0\n"
          ]
        }
      ],
      "source": [
        "%pip install easyfsl"
      ]
    },
    {
      "cell_type": "markdown",
      "metadata": {
        "id": "4EIjDfwjdwoT"
      },
      "source": [
        "### Download Humpback Whale Identification dataset"
      ]
    },
    {
      "cell_type": "code",
      "execution_count": null,
      "metadata": {
        "colab": {
          "base_uri": "https://localhost:8080/"
        },
        "id": "wpFPp8FTD2KY",
        "outputId": "2dd4766e-fe3b-4fb6-8855-613fe404397d"
      },
      "outputs": [
        {
          "output_type": "stream",
          "name": "stdout",
          "text": [
            "Mounted at /content/drive\n"
          ]
        }
      ],
      "source": [
        "from google.colab import drive\n",
        "drive.mount('/content/drive')"
      ]
    },
    {
      "cell_type": "code",
      "execution_count": null,
      "metadata": {
        "id": "aaIJSEeFdNK5"
      },
      "outputs": [],
      "source": [
        "!rm -rf /root/.kaggle && mkdir /root/.kaggle && cp /content/drive/MyDrive/Research-Project/kaggle.json /root/.kaggle/kaggle.json && chmod 600 /root/.kaggle/kaggle.json && kaggle competitions download -c humpback-whale-identification\n",
        "!unzip humpback-whale-identification.zip"
      ]
    },
    {
      "cell_type": "markdown",
      "source": [
        "### Clone GitHub repo"
      ],
      "metadata": {
        "id": "dtM6ET0hOW5c"
      }
    },
    {
      "cell_type": "code",
      "source": [
        "# !git clone https://github.com/jwells52/creating-ai-enabled-systems.git\n",
        "%cd creating-ai-enabled-systems/Research\\ Project"
      ],
      "metadata": {
        "colab": {
          "base_uri": "https://localhost:8080/"
        },
        "id": "Ktmxn-nPOZlR",
        "outputId": "e8cff9c2-bd3c-4e6f-83af-62694825a7ff"
      },
      "execution_count": null,
      "outputs": [
        {
          "output_type": "stream",
          "name": "stdout",
          "text": [
            "/content/creating-ai-enabled-systems/Research Project\n"
          ]
        }
      ]
    },
    {
      "cell_type": "markdown",
      "metadata": {
        "id": "g_HapNgJd1lq"
      },
      "source": [
        "### Imports"
      ]
    },
    {
      "cell_type": "code",
      "execution_count": null,
      "metadata": {
        "id": "U2cTdMEld26V"
      },
      "outputs": [],
      "source": [
        "import os\n",
        "\n",
        "import torch\n",
        "\n",
        "import numpy as np\n",
        "import pandas as pd\n",
        "import matplotlib.pyplot as plt\n",
        "\n",
        "from tqdm import tqdm\n",
        "\n",
        "from easyfsl.methods import PrototypicalNetworks, FewShotClassifier, SimpleShot\n",
        "from easyfsl.utils import evaluate\n",
        "from easyfsl.samplers import TaskSampler\n",
        "\n",
        "from torch import Tensor, nn\n",
        "from torch.optim import SGD, Optimizer, Adam\n",
        "from torch.utils.data import Dataset, DataLoader\n",
        "from torchvision import transforms\n",
        "from torchvision.models import resnet18, resnet34, resnet152\n",
        "\n",
        "from typing import Callable\n",
        "\n",
        "from modules.data_utils import HumpbackWhaleDataset, remove_new_whale_class, create_loaders\n",
        "from modules.train import train_fsl, device, transform\n",
        "from modules.plotting import fsl_plots\n"
      ]
    },
    {
      "cell_type": "markdown",
      "metadata": {
        "id": "WBnJZl4dt0co"
      },
      "source": [
        "### Load dataset"
      ]
    },
    {
      "cell_type": "code",
      "execution_count": null,
      "metadata": {
        "id": "4uF_KyfDueIw"
      },
      "outputs": [],
      "source": [
        "train_df = remove_new_whale_class(\n",
        "  pd.read_csv('/content/creating-ai-enabled-systems/Research Project/data/training_10samples.csv')\n",
        ")\n",
        "\n",
        "valid_df = remove_new_whale_class(\n",
        "    pd.read_csv('/content/creating-ai-enabled-systems/Research Project/data/validation_10samples.csv')\n",
        ")\n"
      ]
    },
    {
      "cell_type": "code",
      "execution_count": null,
      "metadata": {
        "colab": {
          "base_uri": "https://localhost:8080/"
        },
        "id": "ZrIn13-Zh39T",
        "outputId": "a91b5c40-8125-4595-d0e5-4d5acaefffb2"
      },
      "outputs": [
        {
          "output_type": "stream",
          "name": "stdout",
          "text": [
            "Min # of samples for a class in training set = 11\n",
            "Max # of samples for a class in training set = 73\n",
            "# of classes in training set = 181\n"
          ]
        }
      ],
      "source": [
        "print(f\"Min # of samples for a class in training set = {train_df['class_count'].min()}\")\n",
        "print(f\"Max # of samples for a class in training set = {train_df['class_count'].max()}\")\n",
        "print(f\"# of classes in training set = {len(train_df['Id'].unique())}\")\n"
      ]
    },
    {
      "cell_type": "code",
      "source": [
        "print(f\"Min # of samples for a class in validation set = {valid_df['class_count'].min()}\")\n",
        "print(f\"Max # of samples for a class in validation set = {valid_df['class_count'].max()}\")\n",
        "print(f\"# of classes in validation set = {len(valid_df['Id'].unique())}\")"
      ],
      "metadata": {
        "colab": {
          "base_uri": "https://localhost:8080/"
        },
        "id": "_-qRveE1QGeB",
        "outputId": "4201564a-ff5f-4881-935f-688362a91e81"
      },
      "execution_count": null,
      "outputs": [
        {
          "output_type": "stream",
          "name": "stdout",
          "text": [
            "Min # of samples for a class in validation set = 11\n",
            "Max # of samples for a class in validation set = 48\n",
            "# of classes in validation set = 46\n"
          ]
        }
      ]
    },
    {
      "cell_type": "markdown",
      "metadata": {
        "id": "18l-2yvV2QrW"
      },
      "source": [
        "### Set up PyTorch Dataset"
      ]
    },
    {
      "cell_type": "code",
      "execution_count": null,
      "metadata": {
        "id": "psyaOFQ5iYYe"
      },
      "outputs": [],
      "source": [
        "train_set = HumpbackWhaleDataset(\n",
        "    image_dir='/content/train',\n",
        "    labels=train_df,\n",
        "    transform=transform\n",
        ")\n",
        "\n",
        "valid_set = HumpbackWhaleDataset(\n",
        "    image_dir='/content/train',\n",
        "    labels=valid_df,\n",
        "    transform=transform\n",
        ")"
      ]
    },
    {
      "cell_type": "markdown",
      "metadata": {
        "id": "ArafAhfS2d1V"
      },
      "source": [
        "### Train Prototypical Network with ResNet18, ResNet34, and ResNet152 as the feature extractor"
      ]
    },
    {
      "cell_type": "code",
      "source": [
        "# Train a fsl model with 1, 3, and 5 shot learning\n",
        "\n",
        "# Define learning rate and epochs\n",
        "n_epochs = 25\n",
        "learning_rate = 1e-2\n",
        "\n",
        "# Number of Training Task for each epoch\n",
        "# A training task is a random sample of N shots (images) for M classes\n",
        "n_task_per_epoch = 100\n",
        "\n",
        "# Number of Validation tasks for evaluation during training\n",
        "n_validation_tasks = 45\n",
        "\n",
        "n_way   = 5\n",
        "n_shots = 5\n",
        "n_query = 5\n",
        "\n",
        "backbones = ['resnet18', 'resnet34', 'resnet152']\n",
        "\n",
        "train_loss_dict = dict()\n",
        "valid_acc_dict  = dict()\n",
        "for backbone in backbones:\n",
        "  print(f'Training and Evaluating {backbone} as feature extractor')\n",
        "  cnn = torch.hub.load('pytorch/vision:v0.10.0', backbone, pretrained=True)\n",
        "  cnn.fc = torch.nn.Flatten()\n",
        "  cnn = cnn.to(device)\n",
        "\n",
        "  few_shot_classifier = PrototypicalNetworks(cnn).to(device)\n",
        "  loss_fn = torch.nn.CrossEntropyLoss()\n",
        "  optimizer = SGD(few_shot_classifier.parameters(), lr=learning_rate, momentum=0.9, weight_decay=5e-4)\n",
        "\n",
        "  train_loader, valid_loader = create_loaders(\n",
        "      train_set, valid_set,\n",
        "      n_way,\n",
        "      n_shot,\n",
        "      n_query,\n",
        "      n_task_per_epoch,\n",
        "      n_validation_tasks\n",
        "  )\n",
        "\n",
        "  train_losses, valid_accs = train_fsl(\n",
        "      few_shot_classifier,\n",
        "      train_loader,\n",
        "      valid_loader,\n",
        "      optimizer,\n",
        "      loss_fn,\n",
        "      n_epochs=n_epochs,\n",
        "      use_tqdm=True,\n",
        "      save_model=False\n",
        "  )\n",
        "\n",
        "  train_loss_dict[backbone] = train_losses\n",
        "  valid_acc_dict[backbone]  = valid_accs"
      ],
      "metadata": {
        "id": "MdfFbI3LXt0V",
        "outputId": "5c613e6f-c894-4f4c-f8d6-08ac61a9a77d",
        "colab": {
          "base_uri": "https://localhost:8080/"
        }
      },
      "execution_count": null,
      "outputs": [
        {
          "output_type": "stream",
          "name": "stdout",
          "text": [
            "Training and Evaluating 1-shot learning\n",
            "Epoch 1\n"
          ]
        },
        {
          "output_type": "stream",
          "name": "stderr",
          "text": [
            "Training: 100%|██████████| 100/100 [00:32<00:00,  3.08it/s, loss=1.86]\n",
            "Validation: 100%|██████████| 45/45 [00:13<00:00,  3.34it/s, accuracy=0.287]"
          ]
        },
        {
          "output_type": "stream",
          "name": "stdout",
          "text": [
            "Epoch 2\n"
          ]
        },
        {
          "output_type": "stream",
          "name": "stderr",
          "text": [
            "\n",
            "Training: 100%|██████████| 100/100 [00:29<00:00,  3.37it/s, loss=1.64]\n",
            "Validation: 100%|██████████| 45/45 [00:13<00:00,  3.22it/s, accuracy=0.335]"
          ]
        },
        {
          "output_type": "stream",
          "name": "stdout",
          "text": [
            "Epoch 3\n"
          ]
        },
        {
          "output_type": "stream",
          "name": "stderr",
          "text": [
            "\n",
            "Training: 100%|██████████| 100/100 [00:29<00:00,  3.38it/s, loss=1.52]\n",
            "Validation: 100%|██████████| 45/45 [00:13<00:00,  3.23it/s, accuracy=0.342]"
          ]
        },
        {
          "output_type": "stream",
          "name": "stdout",
          "text": [
            "Epoch 4\n"
          ]
        },
        {
          "output_type": "stream",
          "name": "stderr",
          "text": [
            "\n",
            "Training: 100%|██████████| 100/100 [00:29<00:00,  3.36it/s, loss=1.5]\n",
            "Validation: 100%|██████████| 45/45 [00:13<00:00,  3.27it/s, accuracy=0.388]"
          ]
        },
        {
          "output_type": "stream",
          "name": "stdout",
          "text": [
            "Epoch 5\n"
          ]
        },
        {
          "output_type": "stream",
          "name": "stderr",
          "text": [
            "\n",
            "Training: 100%|██████████| 100/100 [00:30<00:00,  3.30it/s, loss=1.44]\n",
            "Validation: 100%|██████████| 45/45 [00:13<00:00,  3.26it/s, accuracy=0.376]"
          ]
        },
        {
          "output_type": "stream",
          "name": "stdout",
          "text": [
            "Epoch 6\n"
          ]
        },
        {
          "output_type": "stream",
          "name": "stderr",
          "text": [
            "\n",
            "Training: 100%|██████████| 100/100 [00:29<00:00,  3.42it/s, loss=1.36]\n",
            "Validation: 100%|██████████| 45/45 [00:13<00:00,  3.34it/s, accuracy=0.504]"
          ]
        },
        {
          "output_type": "stream",
          "name": "stdout",
          "text": [
            "Epoch 7\n"
          ]
        },
        {
          "output_type": "stream",
          "name": "stderr",
          "text": [
            "\n",
            "Training: 100%|██████████| 100/100 [00:29<00:00,  3.42it/s, loss=1.31]\n",
            "Validation: 100%|██████████| 45/45 [00:13<00:00,  3.34it/s, accuracy=0.414]"
          ]
        },
        {
          "output_type": "stream",
          "name": "stdout",
          "text": [
            "Epoch 8\n"
          ]
        },
        {
          "output_type": "stream",
          "name": "stderr",
          "text": [
            "\n",
            "Training: 100%|██████████| 100/100 [00:29<00:00,  3.38it/s, loss=1.21]\n",
            "Validation: 100%|██████████| 45/45 [00:13<00:00,  3.26it/s, accuracy=0.509]"
          ]
        },
        {
          "output_type": "stream",
          "name": "stdout",
          "text": [
            "Epoch 9\n"
          ]
        },
        {
          "output_type": "stream",
          "name": "stderr",
          "text": [
            "\n",
            "Training: 100%|██████████| 100/100 [00:29<00:00,  3.39it/s, loss=1.16]\n",
            "Validation: 100%|██████████| 45/45 [00:13<00:00,  3.22it/s, accuracy=0.518]"
          ]
        },
        {
          "output_type": "stream",
          "name": "stdout",
          "text": [
            "Epoch 10\n"
          ]
        },
        {
          "output_type": "stream",
          "name": "stderr",
          "text": [
            "\n",
            "Training: 100%|██████████| 100/100 [00:29<00:00,  3.35it/s, loss=1.17]\n",
            "Validation: 100%|██████████| 45/45 [00:13<00:00,  3.31it/s, accuracy=0.515]"
          ]
        },
        {
          "output_type": "stream",
          "name": "stdout",
          "text": [
            "Epoch 11\n"
          ]
        },
        {
          "output_type": "stream",
          "name": "stderr",
          "text": [
            "\n",
            "Training: 100%|██████████| 100/100 [00:29<00:00,  3.38it/s, loss=1.08]\n",
            "Validation: 100%|██████████| 45/45 [00:13<00:00,  3.22it/s, accuracy=0.519]"
          ]
        },
        {
          "output_type": "stream",
          "name": "stdout",
          "text": [
            "Epoch 12\n"
          ]
        },
        {
          "output_type": "stream",
          "name": "stderr",
          "text": [
            "\n",
            "Training: 100%|██████████| 100/100 [00:29<00:00,  3.35it/s, loss=1.09]\n",
            "Validation: 100%|██████████| 45/45 [00:13<00:00,  3.32it/s, accuracy=0.555]"
          ]
        },
        {
          "output_type": "stream",
          "name": "stdout",
          "text": [
            "Epoch 13\n"
          ]
        },
        {
          "output_type": "stream",
          "name": "stderr",
          "text": [
            "\n",
            "Training: 100%|██████████| 100/100 [00:29<00:00,  3.40it/s, loss=1.01]\n",
            "Validation: 100%|██████████| 45/45 [00:13<00:00,  3.38it/s, accuracy=0.617]"
          ]
        },
        {
          "output_type": "stream",
          "name": "stdout",
          "text": [
            "Epoch 14\n"
          ]
        },
        {
          "output_type": "stream",
          "name": "stderr",
          "text": [
            "\n",
            "Training: 100%|██████████| 100/100 [00:29<00:00,  3.40it/s, loss=0.964]\n",
            "Validation: 100%|██████████| 45/45 [00:13<00:00,  3.28it/s, accuracy=0.562]"
          ]
        },
        {
          "output_type": "stream",
          "name": "stdout",
          "text": [
            "Epoch 15\n"
          ]
        },
        {
          "output_type": "stream",
          "name": "stderr",
          "text": [
            "\n",
            "Training: 100%|██████████| 100/100 [00:29<00:00,  3.43it/s, loss=0.922]\n",
            "Validation: 100%|██████████| 45/45 [00:13<00:00,  3.27it/s, accuracy=0.574]"
          ]
        },
        {
          "output_type": "stream",
          "name": "stdout",
          "text": [
            "Epoch 16\n"
          ]
        },
        {
          "output_type": "stream",
          "name": "stderr",
          "text": [
            "\n",
            "Training: 100%|██████████| 100/100 [00:29<00:00,  3.36it/s, loss=0.781]\n",
            "Validation: 100%|██████████| 45/45 [00:13<00:00,  3.28it/s, accuracy=0.603]"
          ]
        },
        {
          "output_type": "stream",
          "name": "stdout",
          "text": [
            "Epoch 17\n"
          ]
        },
        {
          "output_type": "stream",
          "name": "stderr",
          "text": [
            "\n",
            "Training: 100%|██████████| 100/100 [00:29<00:00,  3.34it/s, loss=0.83]\n",
            "Validation: 100%|██████████| 45/45 [00:13<00:00,  3.33it/s, accuracy=0.577]"
          ]
        },
        {
          "output_type": "stream",
          "name": "stdout",
          "text": [
            "Epoch 18\n"
          ]
        },
        {
          "output_type": "stream",
          "name": "stderr",
          "text": [
            "\n",
            "Training: 100%|██████████| 100/100 [00:29<00:00,  3.34it/s, loss=0.844]\n",
            "Validation: 100%|██████████| 45/45 [00:14<00:00,  3.20it/s, accuracy=0.628]"
          ]
        },
        {
          "output_type": "stream",
          "name": "stdout",
          "text": [
            "Epoch 19\n"
          ]
        },
        {
          "output_type": "stream",
          "name": "stderr",
          "text": [
            "\n",
            "Training: 100%|██████████| 100/100 [00:29<00:00,  3.41it/s, loss=0.772]\n",
            "Validation: 100%|██████████| 45/45 [00:13<00:00,  3.29it/s, accuracy=0.62]"
          ]
        },
        {
          "output_type": "stream",
          "name": "stdout",
          "text": [
            "Epoch 20\n"
          ]
        },
        {
          "output_type": "stream",
          "name": "stderr",
          "text": [
            "\n",
            "Training: 100%|██████████| 100/100 [00:29<00:00,  3.35it/s, loss=0.774]\n",
            "Validation: 100%|██████████| 45/45 [00:13<00:00,  3.45it/s, accuracy=0.676]"
          ]
        },
        {
          "output_type": "stream",
          "name": "stdout",
          "text": [
            "Epoch 21\n"
          ]
        },
        {
          "output_type": "stream",
          "name": "stderr",
          "text": [
            "\n",
            "Training: 100%|██████████| 100/100 [00:29<00:00,  3.35it/s, loss=0.704]\n",
            "Validation: 100%|██████████| 45/45 [00:13<00:00,  3.27it/s, accuracy=0.627]"
          ]
        },
        {
          "output_type": "stream",
          "name": "stdout",
          "text": [
            "Epoch 22\n"
          ]
        },
        {
          "output_type": "stream",
          "name": "stderr",
          "text": [
            "\n",
            "Training: 100%|██████████| 100/100 [00:29<00:00,  3.42it/s, loss=0.694]\n",
            "Validation: 100%|██████████| 45/45 [00:13<00:00,  3.27it/s, accuracy=0.626]"
          ]
        },
        {
          "output_type": "stream",
          "name": "stdout",
          "text": [
            "Epoch 23\n"
          ]
        },
        {
          "output_type": "stream",
          "name": "stderr",
          "text": [
            "\n",
            "Training: 100%|██████████| 100/100 [00:29<00:00,  3.38it/s, loss=0.629]\n",
            "Validation: 100%|██████████| 45/45 [00:13<00:00,  3.35it/s, accuracy=0.684]"
          ]
        },
        {
          "output_type": "stream",
          "name": "stdout",
          "text": [
            "Epoch 24\n"
          ]
        },
        {
          "output_type": "stream",
          "name": "stderr",
          "text": [
            "\n",
            "Training: 100%|██████████| 100/100 [00:29<00:00,  3.37it/s, loss=0.651]\n",
            "Validation: 100%|██████████| 45/45 [00:14<00:00,  3.21it/s, accuracy=0.65]"
          ]
        },
        {
          "output_type": "stream",
          "name": "stdout",
          "text": [
            "Epoch 25\n"
          ]
        },
        {
          "output_type": "stream",
          "name": "stderr",
          "text": [
            "\n",
            "Training: 100%|██████████| 100/100 [00:29<00:00,  3.36it/s, loss=0.581]\n",
            "Validation: 100%|██████████| 45/45 [00:14<00:00,  3.12it/s, accuracy=0.66]\n"
          ]
        },
        {
          "output_type": "stream",
          "name": "stdout",
          "text": [
            "Saving state of model checkpoint at last epoch to /content/drive/MyDrive/prototypical_network_resnet12_last_epoch\n",
            "Training and Evaluating 3-shot learning\n",
            "Epoch 1\n"
          ]
        },
        {
          "output_type": "stream",
          "name": "stderr",
          "text": [
            "Training: 100%|██████████| 100/100 [00:39<00:00,  2.51it/s, loss=1.69]\n",
            "Validation: 100%|██████████| 45/45 [00:18<00:00,  2.45it/s, accuracy=0.359]"
          ]
        },
        {
          "output_type": "stream",
          "name": "stdout",
          "text": [
            "Epoch 2\n"
          ]
        },
        {
          "output_type": "stream",
          "name": "stderr",
          "text": [
            "\n",
            "Training: 100%|██████████| 100/100 [00:40<00:00,  2.49it/s, loss=1.49]\n",
            "Validation: 100%|██████████| 45/45 [00:18<00:00,  2.41it/s, accuracy=0.434]"
          ]
        },
        {
          "output_type": "stream",
          "name": "stdout",
          "text": [
            "Epoch 3\n"
          ]
        },
        {
          "output_type": "stream",
          "name": "stderr",
          "text": [
            "\n",
            "Training: 100%|██████████| 100/100 [00:39<00:00,  2.53it/s, loss=1.38]\n",
            "Validation: 100%|██████████| 45/45 [00:18<00:00,  2.42it/s, accuracy=0.463]"
          ]
        },
        {
          "output_type": "stream",
          "name": "stdout",
          "text": [
            "Epoch 4\n"
          ]
        },
        {
          "output_type": "stream",
          "name": "stderr",
          "text": [
            "\n",
            "Training: 100%|██████████| 100/100 [00:40<00:00,  2.49it/s, loss=1.22]\n",
            "Validation: 100%|██████████| 45/45 [00:18<00:00,  2.39it/s, accuracy=0.482]"
          ]
        },
        {
          "output_type": "stream",
          "name": "stdout",
          "text": [
            "Epoch 5\n"
          ]
        },
        {
          "output_type": "stream",
          "name": "stderr",
          "text": [
            "\n",
            "Training: 100%|██████████| 100/100 [00:39<00:00,  2.50it/s, loss=1.18]\n",
            "Validation: 100%|██████████| 45/45 [00:18<00:00,  2.49it/s, accuracy=0.515]"
          ]
        },
        {
          "output_type": "stream",
          "name": "stdout",
          "text": [
            "Epoch 6\n"
          ]
        },
        {
          "output_type": "stream",
          "name": "stderr",
          "text": [
            "\n",
            "Training: 100%|██████████| 100/100 [00:39<00:00,  2.53it/s, loss=1.08]\n",
            "Validation: 100%|██████████| 45/45 [00:18<00:00,  2.48it/s, accuracy=0.588]"
          ]
        },
        {
          "output_type": "stream",
          "name": "stdout",
          "text": [
            "Epoch 7\n"
          ]
        },
        {
          "output_type": "stream",
          "name": "stderr",
          "text": [
            "\n",
            "Training: 100%|██████████| 100/100 [00:39<00:00,  2.53it/s, loss=1.02]\n",
            "Validation: 100%|██████████| 45/45 [00:18<00:00,  2.42it/s, accuracy=0.556]"
          ]
        },
        {
          "output_type": "stream",
          "name": "stdout",
          "text": [
            "Epoch 8\n"
          ]
        },
        {
          "output_type": "stream",
          "name": "stderr",
          "text": [
            "\n",
            "Training: 100%|██████████| 100/100 [00:39<00:00,  2.53it/s, loss=0.976]\n",
            "Validation: 100%|██████████| 45/45 [00:18<00:00,  2.41it/s, accuracy=0.547]"
          ]
        },
        {
          "output_type": "stream",
          "name": "stdout",
          "text": [
            "Epoch 9\n"
          ]
        },
        {
          "output_type": "stream",
          "name": "stderr",
          "text": [
            "\n",
            "Training: 100%|██████████| 100/100 [00:39<00:00,  2.50it/s, loss=0.883]\n",
            "Validation: 100%|██████████| 45/45 [00:18<00:00,  2.48it/s, accuracy=0.63]"
          ]
        },
        {
          "output_type": "stream",
          "name": "stdout",
          "text": [
            "Epoch 10\n"
          ]
        },
        {
          "output_type": "stream",
          "name": "stderr",
          "text": [
            "\n",
            "Training: 100%|██████████| 100/100 [00:39<00:00,  2.51it/s, loss=0.827]\n",
            "Validation: 100%|██████████| 45/45 [00:18<00:00,  2.46it/s, accuracy=0.672]"
          ]
        },
        {
          "output_type": "stream",
          "name": "stdout",
          "text": [
            "Epoch 11\n"
          ]
        },
        {
          "output_type": "stream",
          "name": "stderr",
          "text": [
            "\n",
            "Training: 100%|██████████| 100/100 [00:39<00:00,  2.51it/s, loss=0.762]\n",
            "Validation: 100%|██████████| 45/45 [00:18<00:00,  2.46it/s, accuracy=0.662]"
          ]
        },
        {
          "output_type": "stream",
          "name": "stdout",
          "text": [
            "Epoch 12\n"
          ]
        },
        {
          "output_type": "stream",
          "name": "stderr",
          "text": [
            "\n",
            "Training: 100%|██████████| 100/100 [00:40<00:00,  2.48it/s, loss=0.765]\n",
            "Validation: 100%|██████████| 45/45 [00:18<00:00,  2.46it/s, accuracy=0.678]"
          ]
        },
        {
          "output_type": "stream",
          "name": "stdout",
          "text": [
            "Epoch 13\n"
          ]
        },
        {
          "output_type": "stream",
          "name": "stderr",
          "text": [
            "\n",
            "Training: 100%|██████████| 100/100 [00:40<00:00,  2.50it/s, loss=0.726]\n",
            "Validation: 100%|██████████| 45/45 [00:18<00:00,  2.43it/s, accuracy=0.691]"
          ]
        },
        {
          "output_type": "stream",
          "name": "stdout",
          "text": [
            "Epoch 14\n"
          ]
        },
        {
          "output_type": "stream",
          "name": "stderr",
          "text": [
            "\n",
            "Training: 100%|██████████| 100/100 [00:40<00:00,  2.49it/s, loss=0.591]\n",
            "Validation: 100%|██████████| 45/45 [00:17<00:00,  2.52it/s, accuracy=0.715]"
          ]
        },
        {
          "output_type": "stream",
          "name": "stdout",
          "text": [
            "Epoch 15\n"
          ]
        },
        {
          "output_type": "stream",
          "name": "stderr",
          "text": [
            "\n",
            "Training: 100%|██████████| 100/100 [00:39<00:00,  2.55it/s, loss=0.629]\n",
            "Validation: 100%|██████████| 45/45 [00:18<00:00,  2.45it/s, accuracy=0.706]"
          ]
        },
        {
          "output_type": "stream",
          "name": "stdout",
          "text": [
            "Epoch 16\n"
          ]
        },
        {
          "output_type": "stream",
          "name": "stderr",
          "text": [
            "\n",
            "Training: 100%|██████████| 100/100 [00:39<00:00,  2.51it/s, loss=0.518]\n",
            "Validation: 100%|██████████| 45/45 [00:17<00:00,  2.52it/s, accuracy=0.735]"
          ]
        },
        {
          "output_type": "stream",
          "name": "stdout",
          "text": [
            "Epoch 17\n"
          ]
        },
        {
          "output_type": "stream",
          "name": "stderr",
          "text": [
            "\n",
            "Training: 100%|██████████| 100/100 [00:40<00:00,  2.49it/s, loss=0.488]\n",
            "Validation: 100%|██████████| 45/45 [00:18<00:00,  2.46it/s, accuracy=0.725]"
          ]
        },
        {
          "output_type": "stream",
          "name": "stdout",
          "text": [
            "Epoch 18\n"
          ]
        },
        {
          "output_type": "stream",
          "name": "stderr",
          "text": [
            "\n",
            "Training: 100%|██████████| 100/100 [00:39<00:00,  2.52it/s, loss=0.453]\n",
            "Validation: 100%|██████████| 45/45 [00:18<00:00,  2.45it/s, accuracy=0.768]"
          ]
        },
        {
          "output_type": "stream",
          "name": "stdout",
          "text": [
            "Epoch 19\n"
          ]
        },
        {
          "output_type": "stream",
          "name": "stderr",
          "text": [
            "\n",
            "Training: 100%|██████████| 100/100 [00:39<00:00,  2.51it/s, loss=0.426]\n",
            "Validation: 100%|██████████| 45/45 [00:18<00:00,  2.37it/s, accuracy=0.751]"
          ]
        },
        {
          "output_type": "stream",
          "name": "stdout",
          "text": [
            "Epoch 20\n"
          ]
        },
        {
          "output_type": "stream",
          "name": "stderr",
          "text": [
            "\n",
            "Training: 100%|██████████| 100/100 [00:39<00:00,  2.53it/s, loss=0.406]\n",
            "Validation: 100%|██████████| 45/45 [00:18<00:00,  2.44it/s, accuracy=0.754]"
          ]
        },
        {
          "output_type": "stream",
          "name": "stdout",
          "text": [
            "Epoch 21\n"
          ]
        },
        {
          "output_type": "stream",
          "name": "stderr",
          "text": [
            "\n",
            "Training: 100%|██████████| 100/100 [00:39<00:00,  2.51it/s, loss=0.374]\n",
            "Validation: 100%|██████████| 45/45 [00:18<00:00,  2.44it/s, accuracy=0.784]"
          ]
        },
        {
          "output_type": "stream",
          "name": "stdout",
          "text": [
            "Epoch 22\n"
          ]
        },
        {
          "output_type": "stream",
          "name": "stderr",
          "text": [
            "\n",
            "Training: 100%|██████████| 100/100 [00:39<00:00,  2.55it/s, loss=0.406]\n",
            "Validation: 100%|██████████| 45/45 [00:17<00:00,  2.51it/s, accuracy=0.764]"
          ]
        },
        {
          "output_type": "stream",
          "name": "stdout",
          "text": [
            "Epoch 23\n"
          ]
        },
        {
          "output_type": "stream",
          "name": "stderr",
          "text": [
            "\n",
            "Training: 100%|██████████| 100/100 [00:39<00:00,  2.55it/s, loss=0.305]\n",
            "Validation: 100%|██████████| 45/45 [00:18<00:00,  2.45it/s, accuracy=0.762]"
          ]
        },
        {
          "output_type": "stream",
          "name": "stdout",
          "text": [
            "Epoch 24\n"
          ]
        },
        {
          "output_type": "stream",
          "name": "stderr",
          "text": [
            "\n",
            "Training: 100%|██████████| 100/100 [00:40<00:00,  2.50it/s, loss=0.274]\n",
            "Validation: 100%|██████████| 45/45 [00:17<00:00,  2.52it/s, accuracy=0.784]"
          ]
        },
        {
          "output_type": "stream",
          "name": "stdout",
          "text": [
            "Epoch 25\n"
          ]
        },
        {
          "output_type": "stream",
          "name": "stderr",
          "text": [
            "\n",
            "Training: 100%|██████████| 100/100 [00:39<00:00,  2.55it/s, loss=0.304]\n",
            "Validation: 100%|██████████| 45/45 [00:18<00:00,  2.49it/s, accuracy=0.799]\n"
          ]
        },
        {
          "output_type": "stream",
          "name": "stdout",
          "text": [
            "Saving state of model checkpoint at last epoch to /content/drive/MyDrive/prototypical_network_resnet12_last_epoch\n",
            "Training and Evaluating 5-shot learning\n",
            "Epoch 1\n"
          ]
        },
        {
          "output_type": "stream",
          "name": "stderr",
          "text": [
            "Training: 100%|██████████| 100/100 [00:49<00:00,  2.02it/s, loss=1.63]\n",
            "Validation: 100%|██████████| 45/45 [00:22<00:00,  1.97it/s, accuracy=0.365]"
          ]
        },
        {
          "output_type": "stream",
          "name": "stdout",
          "text": [
            "Epoch 2\n"
          ]
        },
        {
          "output_type": "stream",
          "name": "stderr",
          "text": [
            "\n",
            "Training: 100%|██████████| 100/100 [00:50<00:00,  1.99it/s, loss=1.46]\n",
            "Validation: 100%|██████████| 45/45 [00:23<00:00,  1.92it/s, accuracy=0.43]"
          ]
        },
        {
          "output_type": "stream",
          "name": "stdout",
          "text": [
            "Epoch 3\n"
          ]
        },
        {
          "output_type": "stream",
          "name": "stderr",
          "text": [
            "\n",
            "Training: 100%|██████████| 100/100 [00:50<00:00,  1.99it/s, loss=1.31]\n",
            "Validation: 100%|██████████| 45/45 [00:22<00:00,  2.00it/s, accuracy=0.496]"
          ]
        },
        {
          "output_type": "stream",
          "name": "stdout",
          "text": [
            "Epoch 4\n"
          ]
        },
        {
          "output_type": "stream",
          "name": "stderr",
          "text": [
            "\n",
            "Training: 100%|██████████| 100/100 [00:49<00:00,  2.02it/s, loss=1.19]\n",
            "Validation: 100%|██████████| 45/45 [00:22<00:00,  2.00it/s, accuracy=0.522]"
          ]
        },
        {
          "output_type": "stream",
          "name": "stdout",
          "text": [
            "Epoch 5\n"
          ]
        },
        {
          "output_type": "stream",
          "name": "stderr",
          "text": [
            "\n",
            "Training: 100%|██████████| 100/100 [00:49<00:00,  2.02it/s, loss=1.11]\n",
            "Validation: 100%|██████████| 45/45 [00:22<00:00,  1.97it/s, accuracy=0.569]"
          ]
        },
        {
          "output_type": "stream",
          "name": "stdout",
          "text": [
            "Epoch 6\n"
          ]
        },
        {
          "output_type": "stream",
          "name": "stderr",
          "text": [
            "\n",
            "Training: 100%|██████████| 100/100 [00:49<00:00,  2.01it/s, loss=0.998]\n",
            "Validation: 100%|██████████| 45/45 [00:22<00:00,  1.99it/s, accuracy=0.6]"
          ]
        },
        {
          "output_type": "stream",
          "name": "stdout",
          "text": [
            "Epoch 7\n"
          ]
        },
        {
          "output_type": "stream",
          "name": "stderr",
          "text": [
            "\n",
            "Training: 100%|██████████| 100/100 [00:49<00:00,  2.00it/s, loss=0.921]\n",
            "Validation: 100%|██████████| 45/45 [00:23<00:00,  1.95it/s, accuracy=0.633]"
          ]
        },
        {
          "output_type": "stream",
          "name": "stdout",
          "text": [
            "Epoch 8\n"
          ]
        },
        {
          "output_type": "stream",
          "name": "stderr",
          "text": [
            "\n",
            "Training: 100%|██████████| 100/100 [00:50<00:00,  2.00it/s, loss=0.772]\n",
            "Validation: 100%|██████████| 45/45 [00:22<00:00,  1.96it/s, accuracy=0.648]"
          ]
        },
        {
          "output_type": "stream",
          "name": "stdout",
          "text": [
            "Epoch 9\n"
          ]
        },
        {
          "output_type": "stream",
          "name": "stderr",
          "text": [
            "\n",
            "Training: 100%|██████████| 100/100 [00:49<00:00,  2.00it/s, loss=0.798]\n",
            "Validation: 100%|██████████| 45/45 [00:23<00:00,  1.92it/s, accuracy=0.704]"
          ]
        },
        {
          "output_type": "stream",
          "name": "stdout",
          "text": [
            "Epoch 10\n"
          ]
        },
        {
          "output_type": "stream",
          "name": "stderr",
          "text": [
            "\n",
            "Training: 100%|██████████| 100/100 [00:49<00:00,  2.01it/s, loss=0.765]\n",
            "Validation: 100%|██████████| 45/45 [00:23<00:00,  1.93it/s, accuracy=0.667]"
          ]
        },
        {
          "output_type": "stream",
          "name": "stdout",
          "text": [
            "Epoch 11\n"
          ]
        },
        {
          "output_type": "stream",
          "name": "stderr",
          "text": [
            "\n",
            "Training: 100%|██████████| 100/100 [00:49<00:00,  2.02it/s, loss=0.649]\n",
            "Validation: 100%|██████████| 45/45 [00:23<00:00,  1.94it/s, accuracy=0.684]"
          ]
        },
        {
          "output_type": "stream",
          "name": "stdout",
          "text": [
            "Epoch 12\n"
          ]
        },
        {
          "output_type": "stream",
          "name": "stderr",
          "text": [
            "\n",
            "Training: 100%|██████████| 100/100 [00:50<00:00,  1.99it/s, loss=0.602]\n",
            "Validation: 100%|██████████| 45/45 [00:23<00:00,  1.94it/s, accuracy=0.746]"
          ]
        },
        {
          "output_type": "stream",
          "name": "stdout",
          "text": [
            "Epoch 13\n"
          ]
        },
        {
          "output_type": "stream",
          "name": "stderr",
          "text": [
            "\n",
            "Training: 100%|██████████| 100/100 [00:50<00:00,  1.98it/s, loss=0.56]\n",
            "Validation: 100%|██████████| 45/45 [00:23<00:00,  1.88it/s, accuracy=0.732]"
          ]
        },
        {
          "output_type": "stream",
          "name": "stdout",
          "text": [
            "Epoch 14\n"
          ]
        },
        {
          "output_type": "stream",
          "name": "stderr",
          "text": [
            "\n",
            "Training: 100%|██████████| 100/100 [00:49<00:00,  2.00it/s, loss=0.497]\n",
            "Validation: 100%|██████████| 45/45 [00:23<00:00,  1.92it/s, accuracy=0.749]"
          ]
        },
        {
          "output_type": "stream",
          "name": "stdout",
          "text": [
            "Epoch 15\n"
          ]
        },
        {
          "output_type": "stream",
          "name": "stderr",
          "text": [
            "\n",
            "Training: 100%|██████████| 100/100 [00:50<00:00,  1.99it/s, loss=0.46]\n",
            "Validation: 100%|██████████| 45/45 [00:23<00:00,  1.91it/s, accuracy=0.767]"
          ]
        },
        {
          "output_type": "stream",
          "name": "stdout",
          "text": [
            "Epoch 16\n"
          ]
        },
        {
          "output_type": "stream",
          "name": "stderr",
          "text": [
            "\n",
            "Training: 100%|██████████| 100/100 [00:50<00:00,  1.99it/s, loss=0.472]\n",
            "Validation: 100%|██████████| 45/45 [00:23<00:00,  1.95it/s, accuracy=0.779]"
          ]
        },
        {
          "output_type": "stream",
          "name": "stdout",
          "text": [
            "Epoch 17\n"
          ]
        },
        {
          "output_type": "stream",
          "name": "stderr",
          "text": [
            "\n",
            "Training: 100%|██████████| 100/100 [00:49<00:00,  2.01it/s, loss=0.383]\n",
            "Validation: 100%|██████████| 45/45 [00:22<00:00,  1.98it/s, accuracy=0.74]"
          ]
        },
        {
          "output_type": "stream",
          "name": "stdout",
          "text": [
            "Epoch 18\n"
          ]
        },
        {
          "output_type": "stream",
          "name": "stderr",
          "text": [
            "\n",
            "Training: 100%|██████████| 100/100 [00:49<00:00,  2.02it/s, loss=0.374]\n",
            "Validation: 100%|██████████| 45/45 [00:23<00:00,  1.92it/s, accuracy=0.78]"
          ]
        },
        {
          "output_type": "stream",
          "name": "stdout",
          "text": [
            "Epoch 19\n"
          ]
        },
        {
          "output_type": "stream",
          "name": "stderr",
          "text": [
            "\n",
            "Training: 100%|██████████| 100/100 [00:49<00:00,  2.02it/s, loss=0.343]\n",
            "Validation: 100%|██████████| 45/45 [00:23<00:00,  1.93it/s, accuracy=0.781]"
          ]
        },
        {
          "output_type": "stream",
          "name": "stdout",
          "text": [
            "Epoch 20\n"
          ]
        },
        {
          "output_type": "stream",
          "name": "stderr",
          "text": [
            "\n",
            "Training: 100%|██████████| 100/100 [00:49<00:00,  2.02it/s, loss=0.331]\n",
            "Validation: 100%|██████████| 45/45 [00:22<00:00,  1.98it/s, accuracy=0.806]"
          ]
        },
        {
          "output_type": "stream",
          "name": "stdout",
          "text": [
            "Epoch 21\n"
          ]
        },
        {
          "output_type": "stream",
          "name": "stderr",
          "text": [
            "\n",
            "Training: 100%|██████████| 100/100 [00:50<00:00,  2.00it/s, loss=0.32]\n",
            "Validation: 100%|██████████| 45/45 [00:22<00:00,  1.96it/s, accuracy=0.815]"
          ]
        },
        {
          "output_type": "stream",
          "name": "stdout",
          "text": [
            "Epoch 22\n"
          ]
        },
        {
          "output_type": "stream",
          "name": "stderr",
          "text": [
            "\n",
            "Training: 100%|██████████| 100/100 [00:50<00:00,  1.99it/s, loss=0.314]\n",
            "Validation: 100%|██████████| 45/45 [00:22<00:00,  1.99it/s, accuracy=0.778]"
          ]
        },
        {
          "output_type": "stream",
          "name": "stdout",
          "text": [
            "Epoch 23\n"
          ]
        },
        {
          "output_type": "stream",
          "name": "stderr",
          "text": [
            "\n",
            "Training: 100%|██████████| 100/100 [00:49<00:00,  2.01it/s, loss=0.299]\n",
            "Validation: 100%|██████████| 45/45 [00:23<00:00,  1.94it/s, accuracy=0.825]"
          ]
        },
        {
          "output_type": "stream",
          "name": "stdout",
          "text": [
            "Epoch 24\n"
          ]
        },
        {
          "output_type": "stream",
          "name": "stderr",
          "text": [
            "\n",
            "Training: 100%|██████████| 100/100 [00:49<00:00,  2.00it/s, loss=0.298]\n",
            "Validation: 100%|██████████| 45/45 [00:23<00:00,  1.95it/s, accuracy=0.828]"
          ]
        },
        {
          "output_type": "stream",
          "name": "stdout",
          "text": [
            "Epoch 25\n"
          ]
        },
        {
          "output_type": "stream",
          "name": "stderr",
          "text": [
            "\n",
            "Training: 100%|██████████| 100/100 [00:49<00:00,  2.02it/s, loss=0.228]\n",
            "Validation: 100%|██████████| 45/45 [00:23<00:00,  1.95it/s, accuracy=0.852]\n"
          ]
        },
        {
          "output_type": "stream",
          "name": "stdout",
          "text": [
            "Saving state of model checkpoint at last epoch to /content/drive/MyDrive/prototypical_network_resnet12_last_epoch\n"
          ]
        }
      ]
    },
    {
      "cell_type": "code",
      "source": [
        "for backbone in backbones:\n",
        "  fig,ax = plt.subplots()\n",
        "\n",
        "  plt.title(f'Prototypical Network with {backbone} Learning Curves')\n",
        "\n",
        "  ax.plot(train_losses[backbone], color='blue')\n",
        "  ax.set_xlabel(\"epochs\")\n",
        "  ax.set_ylabel('Training loss')\n",
        "\n",
        "  ax2=ax.twinx()\n",
        "  ax2.plot(valid_accs[backbone], color='orange')\n",
        "  ax2.set_ylabel('Validation accuracy')\n",
        "\n",
        "  plt.show()\n",
        "  fig.savefig(f'/content/prototypical_network_{backbone}_learning_curves_100epochs.png', format='png')"
      ],
      "metadata": {
        "id": "rMlfaIFwuVfa"
      },
      "execution_count": null,
      "outputs": []
    },
    {
      "cell_type": "markdown",
      "source": [
        "# 5-fold cross validation for the following shots\n",
        "\n",
        "* 1-shot 10-way\n",
        "* 5-shot 10-way\n",
        "* 10-shot 10-way"
      ],
      "metadata": {
        "id": "uNMcNst5M2bU"
      }
    },
    {
      "cell_type": "code",
      "source": [
        "# Number of Training Task for each epoch\n",
        "# A training task is a random sample of N shots (images) for M classes\n",
        "n_task_per_epoch = 40\n",
        "\n",
        "# Number of Validation tasks for evaluation during training\n",
        "n_validation_tasks = 20\n",
        "\n",
        "n_way   = 10\n",
        "n_shot  = 1\n",
        "n_query = 10"
      ],
      "metadata": {
        "id": "IRDculIDQIKW"
      },
      "execution_count": null,
      "outputs": []
    },
    {
      "cell_type": "code",
      "source": [
        "n_epochs = 100\n",
        "learning_rate = 1e-2\n",
        "\n",
        "# loss_fn = torch.nn.CrossEntropyLoss()\n",
        "# optimizer = SGD(few_shot_classifier.parameters(), lr=learning_rate, momentum=0.9, weight_decay=5e-4)"
      ],
      "metadata": {
        "id": "_e9Q2RlbSLsP"
      },
      "execution_count": null,
      "outputs": []
    },
    {
      "cell_type": "code",
      "source": [
        "# Load dataset\n",
        "images_and_ids = pd.read_csv('/content/creating-ai-enabled-systems/Research Project/data/images_and_ids.csv')\n",
        "images_and_ids = images_and_ids[images_and_ids['class_count'] > 10]\n",
        "images_and_ids"
      ],
      "metadata": {
        "colab": {
          "base_uri": "https://localhost:8080/",
          "height": 424
        },
        "id": "U-1HxSVwNjpi",
        "outputId": "b1d6d304-7569-40a9-e245-eef2762b0b35"
      },
      "execution_count": null,
      "outputs": [
        {
          "output_type": "execute_result",
          "data": {
            "text/plain": [
              "               Image         Id  class_count\n",
              "0      0000e88ab.jpg  w_f48451c           14\n",
              "3      000a6daec.jpg  w_dd88965           16\n",
              "6      001cae55b.jpg  w_581ba42           14\n",
              "11     004e8ad5b.jpg  w_3de579a           54\n",
              "12     004f87702.jpg  w_1d0830e           11\n",
              "...              ...        ...          ...\n",
              "15688  ffca5cb22.jpg  w_51e7506           15\n",
              "15689  ffcd5efdc.jpg  w_f765256           34\n",
              "15691  ffe52d320.jpg  w_bc285a6           21\n",
              "15693  ffef89eed.jpg  w_9c506f6           62\n",
              "15695  fff9002e0.jpg  w_bd1c3d5           12\n",
              "\n",
              "[4354 rows x 3 columns]"
            ],
            "text/html": [
              "\n",
              "\n",
              "  <div id=\"df-24847a76-f442-40ad-abd3-60ce85694d24\">\n",
              "    <div class=\"colab-df-container\">\n",
              "      <div>\n",
              "<style scoped>\n",
              "    .dataframe tbody tr th:only-of-type {\n",
              "        vertical-align: middle;\n",
              "    }\n",
              "\n",
              "    .dataframe tbody tr th {\n",
              "        vertical-align: top;\n",
              "    }\n",
              "\n",
              "    .dataframe thead th {\n",
              "        text-align: right;\n",
              "    }\n",
              "</style>\n",
              "<table border=\"1\" class=\"dataframe\">\n",
              "  <thead>\n",
              "    <tr style=\"text-align: right;\">\n",
              "      <th></th>\n",
              "      <th>Image</th>\n",
              "      <th>Id</th>\n",
              "      <th>class_count</th>\n",
              "    </tr>\n",
              "  </thead>\n",
              "  <tbody>\n",
              "    <tr>\n",
              "      <th>0</th>\n",
              "      <td>0000e88ab.jpg</td>\n",
              "      <td>w_f48451c</td>\n",
              "      <td>14</td>\n",
              "    </tr>\n",
              "    <tr>\n",
              "      <th>3</th>\n",
              "      <td>000a6daec.jpg</td>\n",
              "      <td>w_dd88965</td>\n",
              "      <td>16</td>\n",
              "    </tr>\n",
              "    <tr>\n",
              "      <th>6</th>\n",
              "      <td>001cae55b.jpg</td>\n",
              "      <td>w_581ba42</td>\n",
              "      <td>14</td>\n",
              "    </tr>\n",
              "    <tr>\n",
              "      <th>11</th>\n",
              "      <td>004e8ad5b.jpg</td>\n",
              "      <td>w_3de579a</td>\n",
              "      <td>54</td>\n",
              "    </tr>\n",
              "    <tr>\n",
              "      <th>12</th>\n",
              "      <td>004f87702.jpg</td>\n",
              "      <td>w_1d0830e</td>\n",
              "      <td>11</td>\n",
              "    </tr>\n",
              "    <tr>\n",
              "      <th>...</th>\n",
              "      <td>...</td>\n",
              "      <td>...</td>\n",
              "      <td>...</td>\n",
              "    </tr>\n",
              "    <tr>\n",
              "      <th>15688</th>\n",
              "      <td>ffca5cb22.jpg</td>\n",
              "      <td>w_51e7506</td>\n",
              "      <td>15</td>\n",
              "    </tr>\n",
              "    <tr>\n",
              "      <th>15689</th>\n",
              "      <td>ffcd5efdc.jpg</td>\n",
              "      <td>w_f765256</td>\n",
              "      <td>34</td>\n",
              "    </tr>\n",
              "    <tr>\n",
              "      <th>15691</th>\n",
              "      <td>ffe52d320.jpg</td>\n",
              "      <td>w_bc285a6</td>\n",
              "      <td>21</td>\n",
              "    </tr>\n",
              "    <tr>\n",
              "      <th>15693</th>\n",
              "      <td>ffef89eed.jpg</td>\n",
              "      <td>w_9c506f6</td>\n",
              "      <td>62</td>\n",
              "    </tr>\n",
              "    <tr>\n",
              "      <th>15695</th>\n",
              "      <td>fff9002e0.jpg</td>\n",
              "      <td>w_bd1c3d5</td>\n",
              "      <td>12</td>\n",
              "    </tr>\n",
              "  </tbody>\n",
              "</table>\n",
              "<p>4354 rows × 3 columns</p>\n",
              "</div>\n",
              "      <button class=\"colab-df-convert\" onclick=\"convertToInteractive('df-24847a76-f442-40ad-abd3-60ce85694d24')\"\n",
              "              title=\"Convert this dataframe to an interactive table.\"\n",
              "              style=\"display:none;\">\n",
              "\n",
              "  <svg xmlns=\"http://www.w3.org/2000/svg\" height=\"24px\"viewBox=\"0 0 24 24\"\n",
              "       width=\"24px\">\n",
              "    <path d=\"M0 0h24v24H0V0z\" fill=\"none\"/>\n",
              "    <path d=\"M18.56 5.44l.94 2.06.94-2.06 2.06-.94-2.06-.94-.94-2.06-.94 2.06-2.06.94zm-11 1L8.5 8.5l.94-2.06 2.06-.94-2.06-.94L8.5 2.5l-.94 2.06-2.06.94zm10 10l.94 2.06.94-2.06 2.06-.94-2.06-.94-.94-2.06-.94 2.06-2.06.94z\"/><path d=\"M17.41 7.96l-1.37-1.37c-.4-.4-.92-.59-1.43-.59-.52 0-1.04.2-1.43.59L10.3 9.45l-7.72 7.72c-.78.78-.78 2.05 0 2.83L4 21.41c.39.39.9.59 1.41.59.51 0 1.02-.2 1.41-.59l7.78-7.78 2.81-2.81c.8-.78.8-2.07 0-2.86zM5.41 20L4 18.59l7.72-7.72 1.47 1.35L5.41 20z\"/>\n",
              "  </svg>\n",
              "      </button>\n",
              "\n",
              "\n",
              "\n",
              "    <div id=\"df-ff161a61-5923-443f-8590-d35ed2d69c93\">\n",
              "      <button class=\"colab-df-quickchart\" onclick=\"quickchart('df-ff161a61-5923-443f-8590-d35ed2d69c93')\"\n",
              "              title=\"Suggest charts.\"\n",
              "              style=\"display:none;\">\n",
              "\n",
              "<svg xmlns=\"http://www.w3.org/2000/svg\" height=\"24px\"viewBox=\"0 0 24 24\"\n",
              "     width=\"24px\">\n",
              "    <g>\n",
              "        <path d=\"M19 3H5c-1.1 0-2 .9-2 2v14c0 1.1.9 2 2 2h14c1.1 0 2-.9 2-2V5c0-1.1-.9-2-2-2zM9 17H7v-7h2v7zm4 0h-2V7h2v10zm4 0h-2v-4h2v4z\"/>\n",
              "    </g>\n",
              "</svg>\n",
              "      </button>\n",
              "    </div>\n",
              "\n",
              "<style>\n",
              "  .colab-df-quickchart {\n",
              "    background-color: #E8F0FE;\n",
              "    border: none;\n",
              "    border-radius: 50%;\n",
              "    cursor: pointer;\n",
              "    display: none;\n",
              "    fill: #1967D2;\n",
              "    height: 32px;\n",
              "    padding: 0 0 0 0;\n",
              "    width: 32px;\n",
              "  }\n",
              "\n",
              "  .colab-df-quickchart:hover {\n",
              "    background-color: #E2EBFA;\n",
              "    box-shadow: 0px 1px 2px rgba(60, 64, 67, 0.3), 0px 1px 3px 1px rgba(60, 64, 67, 0.15);\n",
              "    fill: #174EA6;\n",
              "  }\n",
              "\n",
              "  [theme=dark] .colab-df-quickchart {\n",
              "    background-color: #3B4455;\n",
              "    fill: #D2E3FC;\n",
              "  }\n",
              "\n",
              "  [theme=dark] .colab-df-quickchart:hover {\n",
              "    background-color: #434B5C;\n",
              "    box-shadow: 0px 1px 3px 1px rgba(0, 0, 0, 0.15);\n",
              "    filter: drop-shadow(0px 1px 2px rgba(0, 0, 0, 0.3));\n",
              "    fill: #FFFFFF;\n",
              "  }\n",
              "</style>\n",
              "\n",
              "    <script>\n",
              "      async function quickchart(key) {\n",
              "        const containerElement = document.querySelector('#' + key);\n",
              "        const charts = await google.colab.kernel.invokeFunction(\n",
              "            'suggestCharts', [key], {});\n",
              "      }\n",
              "    </script>\n",
              "\n",
              "      <script>\n",
              "\n",
              "function displayQuickchartButton(domScope) {\n",
              "  let quickchartButtonEl =\n",
              "    domScope.querySelector('#df-ff161a61-5923-443f-8590-d35ed2d69c93 button.colab-df-quickchart');\n",
              "  quickchartButtonEl.style.display =\n",
              "    google.colab.kernel.accessAllowed ? 'block' : 'none';\n",
              "}\n",
              "\n",
              "        displayQuickchartButton(document);\n",
              "      </script>\n",
              "      <style>\n",
              "    .colab-df-container {\n",
              "      display:flex;\n",
              "      flex-wrap:wrap;\n",
              "      gap: 12px;\n",
              "    }\n",
              "\n",
              "    .colab-df-convert {\n",
              "      background-color: #E8F0FE;\n",
              "      border: none;\n",
              "      border-radius: 50%;\n",
              "      cursor: pointer;\n",
              "      display: none;\n",
              "      fill: #1967D2;\n",
              "      height: 32px;\n",
              "      padding: 0 0 0 0;\n",
              "      width: 32px;\n",
              "    }\n",
              "\n",
              "    .colab-df-convert:hover {\n",
              "      background-color: #E2EBFA;\n",
              "      box-shadow: 0px 1px 2px rgba(60, 64, 67, 0.3), 0px 1px 3px 1px rgba(60, 64, 67, 0.15);\n",
              "      fill: #174EA6;\n",
              "    }\n",
              "\n",
              "    [theme=dark] .colab-df-convert {\n",
              "      background-color: #3B4455;\n",
              "      fill: #D2E3FC;\n",
              "    }\n",
              "\n",
              "    [theme=dark] .colab-df-convert:hover {\n",
              "      background-color: #434B5C;\n",
              "      box-shadow: 0px 1px 3px 1px rgba(0, 0, 0, 0.15);\n",
              "      filter: drop-shadow(0px 1px 2px rgba(0, 0, 0, 0.3));\n",
              "      fill: #FFFFFF;\n",
              "    }\n",
              "  </style>\n",
              "\n",
              "      <script>\n",
              "        const buttonEl =\n",
              "          document.querySelector('#df-24847a76-f442-40ad-abd3-60ce85694d24 button.colab-df-convert');\n",
              "        buttonEl.style.display =\n",
              "          google.colab.kernel.accessAllowed ? 'block' : 'none';\n",
              "\n",
              "        async function convertToInteractive(key) {\n",
              "          const element = document.querySelector('#df-24847a76-f442-40ad-abd3-60ce85694d24');\n",
              "          const dataTable =\n",
              "            await google.colab.kernel.invokeFunction('convertToInteractive',\n",
              "                                                     [key], {});\n",
              "          if (!dataTable) return;\n",
              "\n",
              "          const docLinkHtml = 'Like what you see? Visit the ' +\n",
              "            '<a target=\"_blank\" href=https://colab.research.google.com/notebooks/data_table.ipynb>data table notebook</a>'\n",
              "            + ' to learn more about interactive tables.';\n",
              "          element.innerHTML = '';\n",
              "          dataTable['output_type'] = 'display_data';\n",
              "          await google.colab.output.renderOutput(dataTable, element);\n",
              "          const docLink = document.createElement('div');\n",
              "          docLink.innerHTML = docLinkHtml;\n",
              "          element.appendChild(docLink);\n",
              "        }\n",
              "      </script>\n",
              "    </div>\n",
              "  </div>\n"
            ]
          },
          "metadata": {},
          "execution_count": 12
        }
      ]
    },
    {
      "cell_type": "code",
      "source": [
        "whale_ids = np.unique(images_and_ids['Id'])\n",
        "len(whale_ids)"
      ],
      "metadata": {
        "colab": {
          "base_uri": "https://localhost:8080/"
        },
        "id": "0ytLknbJNv8T",
        "outputId": "e03ef247-8b43-4229-fdca-5b80ad57c0e4"
      },
      "execution_count": null,
      "outputs": [
        {
          "output_type": "execute_result",
          "data": {
            "text/plain": [
              "227"
            ]
          },
          "metadata": {},
          "execution_count": 13
        }
      ]
    },
    {
      "cell_type": "code",
      "source": [
        "# Create folds\n",
        "num_folds = 5\n",
        "folds = []\n",
        "for i in range(num_folds):\n",
        "  start_fold = (len(whale_ids)//num_folds)*i\n",
        "  end_fold   = (len(whale_ids)//num_folds)*(i+1)\n",
        "  if i == num_folds-1:\n",
        "    end_fold = len(whale_ids)\n",
        "\n",
        "  fold = whale_ids[start_fold:end_fold]\n",
        "  folds += [fold]"
      ],
      "metadata": {
        "id": "sctpU_DwNMgA"
      },
      "execution_count": null,
      "outputs": []
    },
    {
      "cell_type": "code",
      "source": [
        "transform = transforms.Compose(\n",
        "        [\n",
        "              transforms.Grayscale(num_output_channels=3),\n",
        "              transforms.Resize((256, 512)),\n",
        "              transforms.ToTensor(),\n",
        "        ])"
      ],
      "metadata": {
        "id": "wE4IILf7Q5ED"
      },
      "execution_count": null,
      "outputs": []
    },
    {
      "cell_type": "code",
      "source": [
        "train_losses_mean, train_losses_std = [], []\n",
        "valid_accs_mean, valid_accs_std     = [], []\n",
        "for fold in range(num_folds):\n",
        "  torch.cuda.empty_cache()\n",
        "  print(f'Fold {fold+1}')\n",
        "\n",
        "  # Creating training/validation folds\n",
        "  validation_fold = folds[i]\n",
        "  training_folds = []\n",
        "  for i in range(num_folds):\n",
        "    if i != fold:\n",
        "      training_folds.extend(folds[i])\n",
        "\n",
        "  train_df = images_and_ids[images_and_ids['Id'].isin(training_folds)]\n",
        "  valid_df = images_and_ids[images_and_ids['Id'].isin(validation_fold)]\n",
        "\n",
        "\n",
        "  # Creating training/validation PyTorch datasets\n",
        "  train_set = HumpbackWhaleDataset(\n",
        "      image_dir='/content/train',\n",
        "      labels=train_df,\n",
        "      transform=transform\n",
        "\n",
        "  )\n",
        "\n",
        "  valid_set = HumpbackWhaleDataset(\n",
        "      image_dir='/content/train',\n",
        "      labels=valid_df,\n",
        "      transform=transform\n",
        "  )\n",
        "\n",
        "  # Create TaskSamplers\n",
        "  train_sampler = TaskSampler(\n",
        "      train_set, n_way=n_way, n_shot=n_shot, n_query=n_query, n_tasks=n_task_per_epoch\n",
        "  )\n",
        "\n",
        "  valid_sampler = TaskSampler(\n",
        "      valid_set, n_way=n_way, n_shot=n_shot, n_query=n_query, n_tasks=n_validation_tasks\n",
        "  )\n",
        "\n",
        "  # Create DataLoaders\n",
        "  train_loader = DataLoader(\n",
        "      train_set,\n",
        "      batch_sampler=train_sampler,\n",
        "      num_workers=12,\n",
        "      pin_memory=True,\n",
        "      collate_fn=train_sampler.episodic_collate_fn\n",
        "  )\n",
        "\n",
        "  valid_loader = DataLoader(\n",
        "      valid_set,\n",
        "      batch_sampler=valid_sampler,\n",
        "      num_workers=12,\n",
        "      pin_memory=True,\n",
        "      collate_fn=valid_sampler.episodic_collate_fn\n",
        "  )\n",
        "\n",
        "  # Train and Validate\n",
        "  cnn = resnet12().to(device)\n",
        "  few_shot_classifier = PrototypicalNetworks(cnn).to(device)\n",
        "\n",
        "  loss_fn = torch.nn.CrossEntropyLoss()\n",
        "  optimizer = SGD(few_shot_classifier.parameters(), lr=learning_rate, momentum=0.9, weight_decay=5e-4)\n",
        "\n",
        "  train_losses = []\n",
        "  valid_accs = []\n",
        "  for epoch in tqdm(range(n_epochs)):\n",
        "      epoch_loss = training_epoch(few_shot_classifier, train_loader, optimizer, loss_fn)\n",
        "      train_losses += [epoch_loss]\n",
        "\n",
        "      valid_acc = evaluate(\n",
        "          few_shot_classifier, valid_loader, device=device, use_tqdm=False\n",
        "      )\n",
        "\n",
        "      valid_accs += [valid_acc]\n",
        "\n",
        "      optimizer.step()\n",
        "\n",
        "\n",
        "  train_losses_mean += [np.mean(train_losses)]\n",
        "  train_losses_std  += [np.std(train_losses)]\n",
        "\n",
        "  valid_accs_mean += [np.mean(valid_accs)]\n",
        "  valid_accs_std  += [np.std(valid_accs)]\n",
        "\n",
        "  print(f'Average fold validation accuracy = {np.mean(valid_accs)} {chr(177)}{np.std(valid_accs)}')"
      ],
      "metadata": {
        "colab": {
          "base_uri": "https://localhost:8080/",
          "height": 603
        },
        "id": "_BlrBNF1M5YN",
        "outputId": "4ff84380-7c1a-450b-de4d-ac8c68c2a5ce"
      },
      "execution_count": null,
      "outputs": [
        {
          "output_type": "stream",
          "name": "stdout",
          "text": [
            "Fold 1\n"
          ]
        },
        {
          "output_type": "stream",
          "name": "stderr",
          "text": [
            "  0%|          | 0/100 [00:18<?, ?it/s]\n"
          ]
        },
        {
          "output_type": "error",
          "ename": "OutOfMemoryError",
          "evalue": "ignored",
          "traceback": [
            "\u001b[0;31m---------------------------------------------------------------------------\u001b[0m",
            "\u001b[0;31mOutOfMemoryError\u001b[0m                          Traceback (most recent call last)",
            "\u001b[0;32m<ipython-input-16-25c5410d33ec>\u001b[0m in \u001b[0;36m<cell line: 3>\u001b[0;34m()\u001b[0m\n\u001b[1;32m     66\u001b[0m   \u001b[0mvalid_accs\u001b[0m \u001b[0;34m=\u001b[0m \u001b[0;34m[\u001b[0m\u001b[0;34m]\u001b[0m\u001b[0;34m\u001b[0m\u001b[0;34m\u001b[0m\u001b[0m\n\u001b[1;32m     67\u001b[0m   \u001b[0;32mfor\u001b[0m \u001b[0mepoch\u001b[0m \u001b[0;32min\u001b[0m \u001b[0mtqdm\u001b[0m\u001b[0;34m(\u001b[0m\u001b[0mrange\u001b[0m\u001b[0;34m(\u001b[0m\u001b[0mn_epochs\u001b[0m\u001b[0;34m)\u001b[0m\u001b[0;34m)\u001b[0m\u001b[0;34m:\u001b[0m\u001b[0;34m\u001b[0m\u001b[0;34m\u001b[0m\u001b[0m\n\u001b[0;32m---> 68\u001b[0;31m       \u001b[0mepoch_loss\u001b[0m \u001b[0;34m=\u001b[0m \u001b[0mtraining_epoch\u001b[0m\u001b[0;34m(\u001b[0m\u001b[0mfew_shot_classifier\u001b[0m\u001b[0;34m,\u001b[0m \u001b[0mtrain_loader\u001b[0m\u001b[0;34m,\u001b[0m \u001b[0moptimizer\u001b[0m\u001b[0;34m,\u001b[0m \u001b[0mloss_fn\u001b[0m\u001b[0;34m)\u001b[0m\u001b[0;34m\u001b[0m\u001b[0;34m\u001b[0m\u001b[0m\n\u001b[0m\u001b[1;32m     69\u001b[0m       \u001b[0mtrain_losses\u001b[0m \u001b[0;34m+=\u001b[0m \u001b[0;34m[\u001b[0m\u001b[0mepoch_loss\u001b[0m\u001b[0;34m]\u001b[0m\u001b[0;34m\u001b[0m\u001b[0;34m\u001b[0m\u001b[0m\n\u001b[1;32m     70\u001b[0m \u001b[0;34m\u001b[0m\u001b[0m\n",
            "\u001b[0;32m<ipython-input-9-f6a0fbc448dc>\u001b[0m in \u001b[0;36mtraining_epoch\u001b[0;34m(model, data_loader, optimizer, loss_fn)\u001b[0m\n\u001b[1;32m     21\u001b[0m             \u001b[0msupport_images\u001b[0m\u001b[0;34m.\u001b[0m\u001b[0mto\u001b[0m\u001b[0;34m(\u001b[0m\u001b[0mdevice\u001b[0m\u001b[0;34m)\u001b[0m\u001b[0;34m,\u001b[0m \u001b[0msupport_labels\u001b[0m\u001b[0;34m.\u001b[0m\u001b[0mto\u001b[0m\u001b[0;34m(\u001b[0m\u001b[0mdevice\u001b[0m\u001b[0;34m)\u001b[0m\u001b[0;34m\u001b[0m\u001b[0;34m\u001b[0m\u001b[0m\n\u001b[1;32m     22\u001b[0m         )\n\u001b[0;32m---> 23\u001b[0;31m         \u001b[0mclassification_scores\u001b[0m \u001b[0;34m=\u001b[0m \u001b[0mmodel\u001b[0m\u001b[0;34m(\u001b[0m\u001b[0mquery_images\u001b[0m\u001b[0;34m.\u001b[0m\u001b[0mto\u001b[0m\u001b[0;34m(\u001b[0m\u001b[0mdevice\u001b[0m\u001b[0;34m)\u001b[0m\u001b[0;34m)\u001b[0m\u001b[0;34m\u001b[0m\u001b[0;34m\u001b[0m\u001b[0m\n\u001b[0m\u001b[1;32m     24\u001b[0m \u001b[0;34m\u001b[0m\u001b[0m\n\u001b[1;32m     25\u001b[0m         \u001b[0mloss\u001b[0m \u001b[0;34m=\u001b[0m \u001b[0mloss_fn\u001b[0m\u001b[0;34m(\u001b[0m\u001b[0mclassification_scores\u001b[0m\u001b[0;34m,\u001b[0m \u001b[0mquery_labels\u001b[0m\u001b[0;34m.\u001b[0m\u001b[0mto\u001b[0m\u001b[0;34m(\u001b[0m\u001b[0mdevice\u001b[0m\u001b[0;34m)\u001b[0m\u001b[0;34m)\u001b[0m\u001b[0;34m\u001b[0m\u001b[0;34m\u001b[0m\u001b[0m\n",
            "\u001b[0;32m/usr/local/lib/python3.10/dist-packages/torch/nn/modules/module.py\u001b[0m in \u001b[0;36m_call_impl\u001b[0;34m(self, *args, **kwargs)\u001b[0m\n\u001b[1;32m   1499\u001b[0m                 \u001b[0;32mor\u001b[0m \u001b[0m_global_backward_pre_hooks\u001b[0m \u001b[0;32mor\u001b[0m \u001b[0m_global_backward_hooks\u001b[0m\u001b[0;34m\u001b[0m\u001b[0;34m\u001b[0m\u001b[0m\n\u001b[1;32m   1500\u001b[0m                 or _global_forward_hooks or _global_forward_pre_hooks):\n\u001b[0;32m-> 1501\u001b[0;31m             \u001b[0;32mreturn\u001b[0m \u001b[0mforward_call\u001b[0m\u001b[0;34m(\u001b[0m\u001b[0;34m*\u001b[0m\u001b[0margs\u001b[0m\u001b[0;34m,\u001b[0m \u001b[0;34m**\u001b[0m\u001b[0mkwargs\u001b[0m\u001b[0;34m)\u001b[0m\u001b[0;34m\u001b[0m\u001b[0;34m\u001b[0m\u001b[0m\n\u001b[0m\u001b[1;32m   1502\u001b[0m         \u001b[0;31m# Do not call functions when jit is used\u001b[0m\u001b[0;34m\u001b[0m\u001b[0;34m\u001b[0m\u001b[0m\n\u001b[1;32m   1503\u001b[0m         \u001b[0mfull_backward_hooks\u001b[0m\u001b[0;34m,\u001b[0m \u001b[0mnon_full_backward_hooks\u001b[0m \u001b[0;34m=\u001b[0m \u001b[0;34m[\u001b[0m\u001b[0;34m]\u001b[0m\u001b[0;34m,\u001b[0m \u001b[0;34m[\u001b[0m\u001b[0;34m]\u001b[0m\u001b[0;34m\u001b[0m\u001b[0;34m\u001b[0m\u001b[0m\n",
            "\u001b[0;32m/usr/local/lib/python3.10/dist-packages/easyfsl/methods/prototypical_networks.py\u001b[0m in \u001b[0;36mforward\u001b[0;34m(self, query_images)\u001b[0m\n\u001b[1;32m     45\u001b[0m         \"\"\"\n\u001b[1;32m     46\u001b[0m         \u001b[0;31m# Extract the features of query images\u001b[0m\u001b[0;34m\u001b[0m\u001b[0;34m\u001b[0m\u001b[0m\n\u001b[0;32m---> 47\u001b[0;31m         \u001b[0mquery_features\u001b[0m \u001b[0;34m=\u001b[0m \u001b[0mself\u001b[0m\u001b[0;34m.\u001b[0m\u001b[0mbackbone\u001b[0m\u001b[0;34m.\u001b[0m\u001b[0mforward\u001b[0m\u001b[0;34m(\u001b[0m\u001b[0mquery_images\u001b[0m\u001b[0;34m)\u001b[0m\u001b[0;34m\u001b[0m\u001b[0;34m\u001b[0m\u001b[0m\n\u001b[0m\u001b[1;32m     48\u001b[0m         \u001b[0mself\u001b[0m\u001b[0;34m.\u001b[0m\u001b[0m_raise_error_if_features_are_multi_dimensional\u001b[0m\u001b[0;34m(\u001b[0m\u001b[0mquery_features\u001b[0m\u001b[0;34m)\u001b[0m\u001b[0;34m\u001b[0m\u001b[0;34m\u001b[0m\u001b[0m\n\u001b[1;32m     49\u001b[0m \u001b[0;34m\u001b[0m\u001b[0m\n",
            "\u001b[0;32m/usr/local/lib/python3.10/dist-packages/easyfsl/modules/resnet.py\u001b[0m in \u001b[0;36mforward\u001b[0;34m(self, x)\u001b[0m\n\u001b[1;32m    117\u001b[0m         \"\"\"\n\u001b[1;32m    118\u001b[0m         x = self.layer4(\n\u001b[0;32m--> 119\u001b[0;31m             \u001b[0mself\u001b[0m\u001b[0;34m.\u001b[0m\u001b[0mlayer3\u001b[0m\u001b[0;34m(\u001b[0m\u001b[0mself\u001b[0m\u001b[0;34m.\u001b[0m\u001b[0mlayer2\u001b[0m\u001b[0;34m(\u001b[0m\u001b[0mself\u001b[0m\u001b[0;34m.\u001b[0m\u001b[0mlayer1\u001b[0m\u001b[0;34m(\u001b[0m\u001b[0mself\u001b[0m\u001b[0;34m.\u001b[0m\u001b[0mrelu\u001b[0m\u001b[0;34m(\u001b[0m\u001b[0mself\u001b[0m\u001b[0;34m.\u001b[0m\u001b[0mbn1\u001b[0m\u001b[0;34m(\u001b[0m\u001b[0mself\u001b[0m\u001b[0;34m.\u001b[0m\u001b[0mconv1\u001b[0m\u001b[0;34m(\u001b[0m\u001b[0mx\u001b[0m\u001b[0;34m)\u001b[0m\u001b[0;34m)\u001b[0m\u001b[0;34m)\u001b[0m\u001b[0;34m)\u001b[0m\u001b[0;34m)\u001b[0m\u001b[0;34m)\u001b[0m\u001b[0;34m\u001b[0m\u001b[0;34m\u001b[0m\u001b[0m\n\u001b[0m\u001b[1;32m    120\u001b[0m         )\n\u001b[1;32m    121\u001b[0m \u001b[0;34m\u001b[0m\u001b[0m\n",
            "\u001b[0;32m/usr/local/lib/python3.10/dist-packages/torch/nn/modules/module.py\u001b[0m in \u001b[0;36m_call_impl\u001b[0;34m(self, *args, **kwargs)\u001b[0m\n\u001b[1;32m   1499\u001b[0m                 \u001b[0;32mor\u001b[0m \u001b[0m_global_backward_pre_hooks\u001b[0m \u001b[0;32mor\u001b[0m \u001b[0m_global_backward_hooks\u001b[0m\u001b[0;34m\u001b[0m\u001b[0;34m\u001b[0m\u001b[0m\n\u001b[1;32m   1500\u001b[0m                 or _global_forward_hooks or _global_forward_pre_hooks):\n\u001b[0;32m-> 1501\u001b[0;31m             \u001b[0;32mreturn\u001b[0m \u001b[0mforward_call\u001b[0m\u001b[0;34m(\u001b[0m\u001b[0;34m*\u001b[0m\u001b[0margs\u001b[0m\u001b[0;34m,\u001b[0m \u001b[0;34m**\u001b[0m\u001b[0mkwargs\u001b[0m\u001b[0;34m)\u001b[0m\u001b[0;34m\u001b[0m\u001b[0;34m\u001b[0m\u001b[0m\n\u001b[0m\u001b[1;32m   1502\u001b[0m         \u001b[0;31m# Do not call functions when jit is used\u001b[0m\u001b[0;34m\u001b[0m\u001b[0;34m\u001b[0m\u001b[0m\n\u001b[1;32m   1503\u001b[0m         \u001b[0mfull_backward_hooks\u001b[0m\u001b[0;34m,\u001b[0m \u001b[0mnon_full_backward_hooks\u001b[0m \u001b[0;34m=\u001b[0m \u001b[0;34m[\u001b[0m\u001b[0;34m]\u001b[0m\u001b[0;34m,\u001b[0m \u001b[0;34m[\u001b[0m\u001b[0;34m]\u001b[0m\u001b[0;34m\u001b[0m\u001b[0;34m\u001b[0m\u001b[0m\n",
            "\u001b[0;32m/usr/local/lib/python3.10/dist-packages/torch/nn/modules/container.py\u001b[0m in \u001b[0;36mforward\u001b[0;34m(self, input)\u001b[0m\n\u001b[1;32m    215\u001b[0m     \u001b[0;32mdef\u001b[0m \u001b[0mforward\u001b[0m\u001b[0;34m(\u001b[0m\u001b[0mself\u001b[0m\u001b[0;34m,\u001b[0m \u001b[0minput\u001b[0m\u001b[0;34m)\u001b[0m\u001b[0;34m:\u001b[0m\u001b[0;34m\u001b[0m\u001b[0;34m\u001b[0m\u001b[0m\n\u001b[1;32m    216\u001b[0m         \u001b[0;32mfor\u001b[0m \u001b[0mmodule\u001b[0m \u001b[0;32min\u001b[0m \u001b[0mself\u001b[0m\u001b[0;34m:\u001b[0m\u001b[0;34m\u001b[0m\u001b[0;34m\u001b[0m\u001b[0m\n\u001b[0;32m--> 217\u001b[0;31m             \u001b[0minput\u001b[0m \u001b[0;34m=\u001b[0m \u001b[0mmodule\u001b[0m\u001b[0;34m(\u001b[0m\u001b[0minput\u001b[0m\u001b[0;34m)\u001b[0m\u001b[0;34m\u001b[0m\u001b[0;34m\u001b[0m\u001b[0m\n\u001b[0m\u001b[1;32m    218\u001b[0m         \u001b[0;32mreturn\u001b[0m \u001b[0minput\u001b[0m\u001b[0;34m\u001b[0m\u001b[0;34m\u001b[0m\u001b[0m\n\u001b[1;32m    219\u001b[0m \u001b[0;34m\u001b[0m\u001b[0m\n",
            "\u001b[0;32m/usr/local/lib/python3.10/dist-packages/torch/nn/modules/module.py\u001b[0m in \u001b[0;36m_call_impl\u001b[0;34m(self, *args, **kwargs)\u001b[0m\n\u001b[1;32m   1499\u001b[0m                 \u001b[0;32mor\u001b[0m \u001b[0m_global_backward_pre_hooks\u001b[0m \u001b[0;32mor\u001b[0m \u001b[0m_global_backward_hooks\u001b[0m\u001b[0;34m\u001b[0m\u001b[0;34m\u001b[0m\u001b[0m\n\u001b[1;32m   1500\u001b[0m                 or _global_forward_hooks or _global_forward_pre_hooks):\n\u001b[0;32m-> 1501\u001b[0;31m             \u001b[0;32mreturn\u001b[0m \u001b[0mforward_call\u001b[0m\u001b[0;34m(\u001b[0m\u001b[0;34m*\u001b[0m\u001b[0margs\u001b[0m\u001b[0;34m,\u001b[0m \u001b[0;34m**\u001b[0m\u001b[0mkwargs\u001b[0m\u001b[0;34m)\u001b[0m\u001b[0;34m\u001b[0m\u001b[0;34m\u001b[0m\u001b[0m\n\u001b[0m\u001b[1;32m   1502\u001b[0m         \u001b[0;31m# Do not call functions when jit is used\u001b[0m\u001b[0;34m\u001b[0m\u001b[0;34m\u001b[0m\u001b[0m\n\u001b[1;32m   1503\u001b[0m         \u001b[0mfull_backward_hooks\u001b[0m\u001b[0;34m,\u001b[0m \u001b[0mnon_full_backward_hooks\u001b[0m \u001b[0;34m=\u001b[0m \u001b[0;34m[\u001b[0m\u001b[0;34m]\u001b[0m\u001b[0;34m,\u001b[0m \u001b[0;34m[\u001b[0m\u001b[0;34m]\u001b[0m\u001b[0;34m\u001b[0m\u001b[0;34m\u001b[0m\u001b[0m\n",
            "\u001b[0;32m/usr/local/lib/python3.10/dist-packages/torchvision/models/resnet.py\u001b[0m in \u001b[0;36mforward\u001b[0;34m(self, x)\u001b[0m\n\u001b[1;32m     98\u001b[0m \u001b[0;34m\u001b[0m\u001b[0m\n\u001b[1;32m     99\u001b[0m         \u001b[0;32mif\u001b[0m \u001b[0mself\u001b[0m\u001b[0;34m.\u001b[0m\u001b[0mdownsample\u001b[0m \u001b[0;32mis\u001b[0m \u001b[0;32mnot\u001b[0m \u001b[0;32mNone\u001b[0m\u001b[0;34m:\u001b[0m\u001b[0;34m\u001b[0m\u001b[0;34m\u001b[0m\u001b[0m\n\u001b[0;32m--> 100\u001b[0;31m             \u001b[0midentity\u001b[0m \u001b[0;34m=\u001b[0m \u001b[0mself\u001b[0m\u001b[0;34m.\u001b[0m\u001b[0mdownsample\u001b[0m\u001b[0;34m(\u001b[0m\u001b[0mx\u001b[0m\u001b[0;34m)\u001b[0m\u001b[0;34m\u001b[0m\u001b[0;34m\u001b[0m\u001b[0m\n\u001b[0m\u001b[1;32m    101\u001b[0m \u001b[0;34m\u001b[0m\u001b[0m\n\u001b[1;32m    102\u001b[0m         \u001b[0mout\u001b[0m \u001b[0;34m+=\u001b[0m \u001b[0midentity\u001b[0m\u001b[0;34m\u001b[0m\u001b[0;34m\u001b[0m\u001b[0m\n",
            "\u001b[0;32m/usr/local/lib/python3.10/dist-packages/torch/nn/modules/module.py\u001b[0m in \u001b[0;36m_call_impl\u001b[0;34m(self, *args, **kwargs)\u001b[0m\n\u001b[1;32m   1499\u001b[0m                 \u001b[0;32mor\u001b[0m \u001b[0m_global_backward_pre_hooks\u001b[0m \u001b[0;32mor\u001b[0m \u001b[0m_global_backward_hooks\u001b[0m\u001b[0;34m\u001b[0m\u001b[0;34m\u001b[0m\u001b[0m\n\u001b[1;32m   1500\u001b[0m                 or _global_forward_hooks or _global_forward_pre_hooks):\n\u001b[0;32m-> 1501\u001b[0;31m             \u001b[0;32mreturn\u001b[0m \u001b[0mforward_call\u001b[0m\u001b[0;34m(\u001b[0m\u001b[0;34m*\u001b[0m\u001b[0margs\u001b[0m\u001b[0;34m,\u001b[0m \u001b[0;34m**\u001b[0m\u001b[0mkwargs\u001b[0m\u001b[0;34m)\u001b[0m\u001b[0;34m\u001b[0m\u001b[0;34m\u001b[0m\u001b[0m\n\u001b[0m\u001b[1;32m   1502\u001b[0m         \u001b[0;31m# Do not call functions when jit is used\u001b[0m\u001b[0;34m\u001b[0m\u001b[0;34m\u001b[0m\u001b[0m\n\u001b[1;32m   1503\u001b[0m         \u001b[0mfull_backward_hooks\u001b[0m\u001b[0;34m,\u001b[0m \u001b[0mnon_full_backward_hooks\u001b[0m \u001b[0;34m=\u001b[0m \u001b[0;34m[\u001b[0m\u001b[0;34m]\u001b[0m\u001b[0;34m,\u001b[0m \u001b[0;34m[\u001b[0m\u001b[0;34m]\u001b[0m\u001b[0;34m\u001b[0m\u001b[0;34m\u001b[0m\u001b[0m\n",
            "\u001b[0;32m/usr/local/lib/python3.10/dist-packages/torch/nn/modules/container.py\u001b[0m in \u001b[0;36mforward\u001b[0;34m(self, input)\u001b[0m\n\u001b[1;32m    215\u001b[0m     \u001b[0;32mdef\u001b[0m \u001b[0mforward\u001b[0m\u001b[0;34m(\u001b[0m\u001b[0mself\u001b[0m\u001b[0;34m,\u001b[0m \u001b[0minput\u001b[0m\u001b[0;34m)\u001b[0m\u001b[0;34m:\u001b[0m\u001b[0;34m\u001b[0m\u001b[0;34m\u001b[0m\u001b[0m\n\u001b[1;32m    216\u001b[0m         \u001b[0;32mfor\u001b[0m \u001b[0mmodule\u001b[0m \u001b[0;32min\u001b[0m \u001b[0mself\u001b[0m\u001b[0;34m:\u001b[0m\u001b[0;34m\u001b[0m\u001b[0;34m\u001b[0m\u001b[0m\n\u001b[0;32m--> 217\u001b[0;31m             \u001b[0minput\u001b[0m \u001b[0;34m=\u001b[0m \u001b[0mmodule\u001b[0m\u001b[0;34m(\u001b[0m\u001b[0minput\u001b[0m\u001b[0;34m)\u001b[0m\u001b[0;34m\u001b[0m\u001b[0;34m\u001b[0m\u001b[0m\n\u001b[0m\u001b[1;32m    218\u001b[0m         \u001b[0;32mreturn\u001b[0m \u001b[0minput\u001b[0m\u001b[0;34m\u001b[0m\u001b[0;34m\u001b[0m\u001b[0m\n\u001b[1;32m    219\u001b[0m \u001b[0;34m\u001b[0m\u001b[0m\n",
            "\u001b[0;32m/usr/local/lib/python3.10/dist-packages/torch/nn/modules/module.py\u001b[0m in \u001b[0;36m_call_impl\u001b[0;34m(self, *args, **kwargs)\u001b[0m\n\u001b[1;32m   1499\u001b[0m                 \u001b[0;32mor\u001b[0m \u001b[0m_global_backward_pre_hooks\u001b[0m \u001b[0;32mor\u001b[0m \u001b[0m_global_backward_hooks\u001b[0m\u001b[0;34m\u001b[0m\u001b[0;34m\u001b[0m\u001b[0m\n\u001b[1;32m   1500\u001b[0m                 or _global_forward_hooks or _global_forward_pre_hooks):\n\u001b[0;32m-> 1501\u001b[0;31m             \u001b[0;32mreturn\u001b[0m \u001b[0mforward_call\u001b[0m\u001b[0;34m(\u001b[0m\u001b[0;34m*\u001b[0m\u001b[0margs\u001b[0m\u001b[0;34m,\u001b[0m \u001b[0;34m**\u001b[0m\u001b[0mkwargs\u001b[0m\u001b[0;34m)\u001b[0m\u001b[0;34m\u001b[0m\u001b[0;34m\u001b[0m\u001b[0m\n\u001b[0m\u001b[1;32m   1502\u001b[0m         \u001b[0;31m# Do not call functions when jit is used\u001b[0m\u001b[0;34m\u001b[0m\u001b[0;34m\u001b[0m\u001b[0m\n\u001b[1;32m   1503\u001b[0m         \u001b[0mfull_backward_hooks\u001b[0m\u001b[0;34m,\u001b[0m \u001b[0mnon_full_backward_hooks\u001b[0m \u001b[0;34m=\u001b[0m \u001b[0;34m[\u001b[0m\u001b[0;34m]\u001b[0m\u001b[0;34m,\u001b[0m \u001b[0;34m[\u001b[0m\u001b[0;34m]\u001b[0m\u001b[0;34m\u001b[0m\u001b[0;34m\u001b[0m\u001b[0m\n",
            "\u001b[0;32m/usr/local/lib/python3.10/dist-packages/torch/nn/modules/batchnorm.py\u001b[0m in \u001b[0;36mforward\u001b[0;34m(self, input)\u001b[0m\n\u001b[1;32m    169\u001b[0m         \u001b[0mused\u001b[0m \u001b[0;32mfor\u001b[0m \u001b[0mnormalization\u001b[0m \u001b[0;34m(\u001b[0m\u001b[0mi\u001b[0m\u001b[0;34m.\u001b[0m\u001b[0me\u001b[0m\u001b[0;34m.\u001b[0m \u001b[0;32min\u001b[0m \u001b[0meval\u001b[0m \u001b[0mmode\u001b[0m \u001b[0mwhen\u001b[0m \u001b[0mbuffers\u001b[0m \u001b[0mare\u001b[0m \u001b[0;32mnot\u001b[0m \u001b[0;32mNone\u001b[0m\u001b[0;34m)\u001b[0m\u001b[0;34m.\u001b[0m\u001b[0;34m\u001b[0m\u001b[0;34m\u001b[0m\u001b[0m\n\u001b[1;32m    170\u001b[0m         \"\"\"\n\u001b[0;32m--> 171\u001b[0;31m         return F.batch_norm(\n\u001b[0m\u001b[1;32m    172\u001b[0m             \u001b[0minput\u001b[0m\u001b[0;34m,\u001b[0m\u001b[0;34m\u001b[0m\u001b[0;34m\u001b[0m\u001b[0m\n\u001b[1;32m    173\u001b[0m             \u001b[0;31m# If buffers are not to be tracked, ensure that they won't be updated\u001b[0m\u001b[0;34m\u001b[0m\u001b[0;34m\u001b[0m\u001b[0m\n",
            "\u001b[0;32m/usr/local/lib/python3.10/dist-packages/torch/nn/functional.py\u001b[0m in \u001b[0;36mbatch_norm\u001b[0;34m(input, running_mean, running_var, weight, bias, training, momentum, eps)\u001b[0m\n\u001b[1;32m   2448\u001b[0m         \u001b[0m_verify_batch_size\u001b[0m\u001b[0;34m(\u001b[0m\u001b[0minput\u001b[0m\u001b[0;34m.\u001b[0m\u001b[0msize\u001b[0m\u001b[0;34m(\u001b[0m\u001b[0;34m)\u001b[0m\u001b[0;34m)\u001b[0m\u001b[0;34m\u001b[0m\u001b[0;34m\u001b[0m\u001b[0m\n\u001b[1;32m   2449\u001b[0m \u001b[0;34m\u001b[0m\u001b[0m\n\u001b[0;32m-> 2450\u001b[0;31m     return torch.batch_norm(\n\u001b[0m\u001b[1;32m   2451\u001b[0m         \u001b[0minput\u001b[0m\u001b[0;34m,\u001b[0m \u001b[0mweight\u001b[0m\u001b[0;34m,\u001b[0m \u001b[0mbias\u001b[0m\u001b[0;34m,\u001b[0m \u001b[0mrunning_mean\u001b[0m\u001b[0;34m,\u001b[0m \u001b[0mrunning_var\u001b[0m\u001b[0;34m,\u001b[0m \u001b[0mtraining\u001b[0m\u001b[0;34m,\u001b[0m \u001b[0mmomentum\u001b[0m\u001b[0;34m,\u001b[0m \u001b[0meps\u001b[0m\u001b[0;34m,\u001b[0m \u001b[0mtorch\u001b[0m\u001b[0;34m.\u001b[0m\u001b[0mbackends\u001b[0m\u001b[0;34m.\u001b[0m\u001b[0mcudnn\u001b[0m\u001b[0;34m.\u001b[0m\u001b[0menabled\u001b[0m\u001b[0;34m\u001b[0m\u001b[0;34m\u001b[0m\u001b[0m\n\u001b[1;32m   2452\u001b[0m     )\n",
            "\u001b[0;31mOutOfMemoryError\u001b[0m: CUDA out of memory. Tried to allocate 1000.00 MiB (GPU 0; 39.56 GiB total capacity; 37.57 GiB already allocated; 84.56 MiB free; 37.85 GiB reserved in total by PyTorch) If reserved memory is >> allocated memory try setting max_split_size_mb to avoid fragmentation.  See documentation for Memory Management and PYTORCH_CUDA_ALLOC_CONF"
          ]
        }
      ]
    },
    {
      "cell_type": "code",
      "source": [],
      "metadata": {
        "id": "wpOdS44Esj2C"
      },
      "execution_count": null,
      "outputs": []
    }
  ],
  "metadata": {
    "accelerator": "GPU",
    "colab": {
      "collapsed_sections": [
        "WBD68iPadsti",
        "4EIjDfwjdwoT"
      ],
      "gpuType": "A100",
      "provenance": [],
      "include_colab_link": true
    },
    "kernelspec": {
      "display_name": "Python 3",
      "name": "python3"
    },
    "language_info": {
      "name": "python"
    }
  },
  "nbformat": 4,
  "nbformat_minor": 0
}