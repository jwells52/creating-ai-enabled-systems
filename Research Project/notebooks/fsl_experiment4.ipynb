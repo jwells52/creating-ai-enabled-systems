{
  "cells": [
    {
      "cell_type": "markdown",
      "metadata": {
        "id": "view-in-github",
        "colab_type": "text"
      },
      "source": [
        "<a href=\"https://colab.research.google.com/github/jwells52/creating-ai-enabled-systems/blob/main/Research%20Project/notebooks/fsl_experiment4.ipynb\" target=\"_parent\"><img src=\"https://colab.research.google.com/assets/colab-badge.svg\" alt=\"Open In Colab\"/></a>"
      ]
    },
    {
      "cell_type": "markdown",
      "metadata": {
        "id": "WBD68iPadsti"
      },
      "source": [
        "### Install EasyFSL"
      ]
    },
    {
      "cell_type": "code",
      "execution_count": 1,
      "metadata": {
        "colab": {
          "base_uri": "https://localhost:8080/"
        },
        "id": "hWg5yaDZRPAS",
        "outputId": "69f63e62-aefb-4727-f183-3df6ce49e412"
      },
      "outputs": [
        {
          "output_type": "stream",
          "name": "stdout",
          "text": [
            "Collecting easyfsl\n",
            "  Downloading easyfsl-1.4.0-py3-none-any.whl (65 kB)\n",
            "\u001b[2K     \u001b[90m━━━━━━━━━━━━━━━━━━━━━━━━━━━━━━━━━━━━━━━\u001b[0m \u001b[32m65.2/65.2 kB\u001b[0m \u001b[31m833.6 kB/s\u001b[0m eta \u001b[36m0:00:00\u001b[0m\n",
            "\u001b[?25hRequirement already satisfied: matplotlib>=3.0.0 in /usr/local/lib/python3.10/dist-packages (from easyfsl) (3.7.1)\n",
            "Requirement already satisfied: pandas>=1.4.0 in /usr/local/lib/python3.10/dist-packages (from easyfsl) (1.5.3)\n",
            "Requirement already satisfied: torch>=1.4.0 in /usr/local/lib/python3.10/dist-packages (from easyfsl) (2.0.1+cu118)\n",
            "Requirement already satisfied: torchvision>=0.7.0 in /usr/local/lib/python3.10/dist-packages (from easyfsl) (0.15.2+cu118)\n",
            "Requirement already satisfied: tqdm>=4.1.0 in /usr/local/lib/python3.10/dist-packages (from easyfsl) (4.65.0)\n",
            "Requirement already satisfied: contourpy>=1.0.1 in /usr/local/lib/python3.10/dist-packages (from matplotlib>=3.0.0->easyfsl) (1.1.0)\n",
            "Requirement already satisfied: cycler>=0.10 in /usr/local/lib/python3.10/dist-packages (from matplotlib>=3.0.0->easyfsl) (0.11.0)\n",
            "Requirement already satisfied: fonttools>=4.22.0 in /usr/local/lib/python3.10/dist-packages (from matplotlib>=3.0.0->easyfsl) (4.41.1)\n",
            "Requirement already satisfied: kiwisolver>=1.0.1 in /usr/local/lib/python3.10/dist-packages (from matplotlib>=3.0.0->easyfsl) (1.4.4)\n",
            "Requirement already satisfied: numpy>=1.20 in /usr/local/lib/python3.10/dist-packages (from matplotlib>=3.0.0->easyfsl) (1.22.4)\n",
            "Requirement already satisfied: packaging>=20.0 in /usr/local/lib/python3.10/dist-packages (from matplotlib>=3.0.0->easyfsl) (23.1)\n",
            "Requirement already satisfied: pillow>=6.2.0 in /usr/local/lib/python3.10/dist-packages (from matplotlib>=3.0.0->easyfsl) (9.4.0)\n",
            "Requirement already satisfied: pyparsing>=2.3.1 in /usr/local/lib/python3.10/dist-packages (from matplotlib>=3.0.0->easyfsl) (3.1.0)\n",
            "Requirement already satisfied: python-dateutil>=2.7 in /usr/local/lib/python3.10/dist-packages (from matplotlib>=3.0.0->easyfsl) (2.8.2)\n",
            "Requirement already satisfied: pytz>=2020.1 in /usr/local/lib/python3.10/dist-packages (from pandas>=1.4.0->easyfsl) (2022.7.1)\n",
            "Requirement already satisfied: filelock in /usr/local/lib/python3.10/dist-packages (from torch>=1.4.0->easyfsl) (3.12.2)\n",
            "Requirement already satisfied: typing-extensions in /usr/local/lib/python3.10/dist-packages (from torch>=1.4.0->easyfsl) (4.7.1)\n",
            "Requirement already satisfied: sympy in /usr/local/lib/python3.10/dist-packages (from torch>=1.4.0->easyfsl) (1.11.1)\n",
            "Requirement already satisfied: networkx in /usr/local/lib/python3.10/dist-packages (from torch>=1.4.0->easyfsl) (3.1)\n",
            "Requirement already satisfied: jinja2 in /usr/local/lib/python3.10/dist-packages (from torch>=1.4.0->easyfsl) (3.1.2)\n",
            "Requirement already satisfied: triton==2.0.0 in /usr/local/lib/python3.10/dist-packages (from torch>=1.4.0->easyfsl) (2.0.0)\n",
            "Requirement already satisfied: cmake in /usr/local/lib/python3.10/dist-packages (from triton==2.0.0->torch>=1.4.0->easyfsl) (3.25.2)\n",
            "Requirement already satisfied: lit in /usr/local/lib/python3.10/dist-packages (from triton==2.0.0->torch>=1.4.0->easyfsl) (16.0.6)\n",
            "Requirement already satisfied: requests in /usr/local/lib/python3.10/dist-packages (from torchvision>=0.7.0->easyfsl) (2.27.1)\n",
            "Requirement already satisfied: six>=1.5 in /usr/local/lib/python3.10/dist-packages (from python-dateutil>=2.7->matplotlib>=3.0.0->easyfsl) (1.16.0)\n",
            "Requirement already satisfied: MarkupSafe>=2.0 in /usr/local/lib/python3.10/dist-packages (from jinja2->torch>=1.4.0->easyfsl) (2.1.3)\n",
            "Requirement already satisfied: urllib3<1.27,>=1.21.1 in /usr/local/lib/python3.10/dist-packages (from requests->torchvision>=0.7.0->easyfsl) (1.26.16)\n",
            "Requirement already satisfied: certifi>=2017.4.17 in /usr/local/lib/python3.10/dist-packages (from requests->torchvision>=0.7.0->easyfsl) (2023.7.22)\n",
            "Requirement already satisfied: charset-normalizer~=2.0.0 in /usr/local/lib/python3.10/dist-packages (from requests->torchvision>=0.7.0->easyfsl) (2.0.12)\n",
            "Requirement already satisfied: idna<4,>=2.5 in /usr/local/lib/python3.10/dist-packages (from requests->torchvision>=0.7.0->easyfsl) (3.4)\n",
            "Requirement already satisfied: mpmath>=0.19 in /usr/local/lib/python3.10/dist-packages (from sympy->torch>=1.4.0->easyfsl) (1.3.0)\n",
            "Installing collected packages: easyfsl\n",
            "Successfully installed easyfsl-1.4.0\n"
          ]
        }
      ],
      "source": [
        "%pip install easyfsl"
      ]
    },
    {
      "cell_type": "markdown",
      "metadata": {
        "id": "4EIjDfwjdwoT"
      },
      "source": [
        "### Download Humpback Whale Identification dataset"
      ]
    },
    {
      "cell_type": "code",
      "execution_count": 3,
      "metadata": {
        "colab": {
          "base_uri": "https://localhost:8080/"
        },
        "id": "wpFPp8FTD2KY",
        "outputId": "c1193f13-a8b8-4849-91eb-b28a54f12e84"
      },
      "outputs": [
        {
          "output_type": "stream",
          "name": "stdout",
          "text": [
            "Mounted at /content/drive\n"
          ]
        }
      ],
      "source": [
        "from google.colab import drive\n",
        "drive.mount('/content/drive')"
      ]
    },
    {
      "cell_type": "code",
      "execution_count": 4,
      "metadata": {
        "id": "aaIJSEeFdNK5",
        "colab": {
          "base_uri": "https://localhost:8080/"
        },
        "outputId": "7794d812-aac1-4cf4-ec21-369c276e530c"
      },
      "outputs": [
        {
          "output_type": "stream",
          "name": "stdout",
          "text": [
            "Downloading humpback-whale-identification.zip to /content\n",
            "100% 5.50G/5.51G [02:27<00:00, 39.3MB/s]\n",
            "100% 5.51G/5.51G [02:27<00:00, 40.2MB/s]\n"
          ]
        }
      ],
      "source": [
        "!rm -rf /root/.kaggle && mkdir /root/.kaggle && cp /content/drive/MyDrive/Research-Project/kaggle.json /root/.kaggle/kaggle.json && chmod 600 /root/.kaggle/kaggle.json && kaggle competitions download -c humpback-whale-identification"
      ]
    },
    {
      "cell_type": "code",
      "source": [
        "%%capture\n",
        "\n",
        "!unzip humpback-whale-identification.zip"
      ],
      "metadata": {
        "id": "GIpppcnbmD6R"
      },
      "execution_count": 5,
      "outputs": []
    },
    {
      "cell_type": "markdown",
      "source": [
        "### Clone GitHub repo"
      ],
      "metadata": {
        "id": "dtM6ET0hOW5c"
      }
    },
    {
      "cell_type": "code",
      "source": [
        "import os\n",
        "\n",
        "if os.path.exists('/content/creating-ai-enabled-systems/Research Project') == False:\n",
        "  !git clone https://github.com/jwells52/creating-ai-enabled-systems.git\n",
        "\n",
        "%cd creating-ai-enabled-systems/Research\\ Project"
      ],
      "metadata": {
        "colab": {
          "base_uri": "https://localhost:8080/"
        },
        "id": "Ktmxn-nPOZlR",
        "outputId": "0edfdd5d-9dfd-4846-f2b6-f30cf1571fc7"
      },
      "execution_count": 1,
      "outputs": [
        {
          "output_type": "stream",
          "name": "stdout",
          "text": [
            "/content/creating-ai-enabled-systems/Research Project\n"
          ]
        }
      ]
    },
    {
      "cell_type": "markdown",
      "metadata": {
        "id": "g_HapNgJd1lq"
      },
      "source": [
        "### Imports"
      ]
    },
    {
      "cell_type": "code",
      "execution_count": 2,
      "metadata": {
        "id": "U2cTdMEld26V"
      },
      "outputs": [],
      "source": [
        "import torch\n",
        "\n",
        "import numpy as np\n",
        "import pandas as pd\n",
        "import matplotlib.pyplot as plt\n",
        "\n",
        "from tqdm import tqdm\n",
        "\n",
        "from easyfsl.methods import PrototypicalNetworks, FewShotClassifier, SimpleShot\n",
        "from easyfsl.utils import evaluate\n",
        "from easyfsl.samplers import TaskSampler\n",
        "\n",
        "from torch import Tensor, nn\n",
        "from torch.optim import SGD, Optimizer, Adam\n",
        "from torch.utils.data import Dataset, DataLoader\n",
        "from torchvision import transforms\n",
        "from torchvision.models import resnet18, resnet34, resnet152\n",
        "\n",
        "from typing import Callable\n",
        "\n",
        "from modules.data_utils import HumpbackWhaleDataset, remove_new_whale_class, create_loaders\n",
        "from modules.train import train_fsl, device, transform\n",
        "from modules.plotting import fsl_plots\n"
      ]
    },
    {
      "cell_type": "markdown",
      "metadata": {
        "id": "WBnJZl4dt0co"
      },
      "source": [
        "### Load dataset"
      ]
    },
    {
      "cell_type": "code",
      "execution_count": 3,
      "metadata": {
        "id": "4uF_KyfDueIw"
      },
      "outputs": [],
      "source": [
        "train_df = remove_new_whale_class(\n",
        "  pd.read_csv('/content/creating-ai-enabled-systems/Research Project/data/training_10samples.csv')\n",
        ")\n",
        "\n",
        "valid_df = remove_new_whale_class(\n",
        "    pd.read_csv('/content/creating-ai-enabled-systems/Research Project/data/validation_10samples.csv')\n",
        ")\n"
      ]
    },
    {
      "cell_type": "code",
      "execution_count": 4,
      "metadata": {
        "colab": {
          "base_uri": "https://localhost:8080/"
        },
        "id": "ZrIn13-Zh39T",
        "outputId": "e57fec1a-3c0b-4ed0-86f8-604ac07a6700"
      },
      "outputs": [
        {
          "output_type": "stream",
          "name": "stdout",
          "text": [
            "Min # of samples for a class in training set = 11\n",
            "Max # of samples for a class in training set = 73\n",
            "# of classes in training set = 181\n"
          ]
        }
      ],
      "source": [
        "print(f\"Min # of samples for a class in training set = {train_df['class_count'].min()}\")\n",
        "print(f\"Max # of samples for a class in training set = {train_df['class_count'].max()}\")\n",
        "print(f\"# of classes in training set = {len(train_df['Id'].unique())}\")\n"
      ]
    },
    {
      "cell_type": "code",
      "source": [
        "print(f\"Min # of samples for a class in validation set = {valid_df['class_count'].min()}\")\n",
        "print(f\"Max # of samples for a class in validation set = {valid_df['class_count'].max()}\")\n",
        "print(f\"# of classes in validation set = {len(valid_df['Id'].unique())}\")"
      ],
      "metadata": {
        "colab": {
          "base_uri": "https://localhost:8080/"
        },
        "id": "_-qRveE1QGeB",
        "outputId": "f9f9e199-106f-423b-8d6d-52d193f0d138"
      },
      "execution_count": 5,
      "outputs": [
        {
          "output_type": "stream",
          "name": "stdout",
          "text": [
            "Min # of samples for a class in validation set = 11\n",
            "Max # of samples for a class in validation set = 48\n",
            "# of classes in validation set = 46\n"
          ]
        }
      ]
    },
    {
      "cell_type": "markdown",
      "metadata": {
        "id": "18l-2yvV2QrW"
      },
      "source": [
        "### Set up PyTorch Dataset"
      ]
    },
    {
      "cell_type": "code",
      "execution_count": 6,
      "metadata": {
        "id": "psyaOFQ5iYYe"
      },
      "outputs": [],
      "source": [
        "train_set = HumpbackWhaleDataset(\n",
        "    image_dir='/content/train',\n",
        "    labels=train_df,\n",
        "    transform=transform\n",
        ")\n",
        "\n",
        "valid_set = HumpbackWhaleDataset(\n",
        "    image_dir='/content/train',\n",
        "    labels=valid_df,\n",
        "    transform=transform\n",
        ")"
      ]
    },
    {
      "cell_type": "markdown",
      "metadata": {
        "id": "ArafAhfS2d1V"
      },
      "source": [
        "### Train network 1, 5, 10, and 20 way learning"
      ]
    },
    {
      "cell_type": "code",
      "source": [
        "# Train a fsl model with 1, 3, and 5 shot learning\n",
        "\n",
        "# Define learning rate and epochs\n",
        "n_epochs = 10\n",
        "learning_rate = 1e-2\n",
        "\n",
        "# Number of Training Task for each epoch\n",
        "# A training task is a random sample of N shots (images) for M classes\n",
        "n_task_per_epoch = 100\n",
        "\n",
        "# Number of Validation tasks for evaluation during training\n",
        "n_validation_tasks = 45\n",
        "\n",
        "n_ways  = [5, 10, 20]\n",
        "n_shot  = 5\n",
        "n_query = 5\n",
        "\n",
        "train_loss_dict = dict()\n",
        "valid_acc_dict  = dict()\n",
        "for n_way in n_ways:\n",
        "  print(f'Training and Evaluating {n_way}-way {n_shot}-shot learning')\n",
        "  cnn = resnet18().to(device)\n",
        "  cnn.fc = torch.nn.Flatten()\n",
        "  few_shot_classifier = PrototypicalNetworks(cnn).to(device)\n",
        "\n",
        "  loss_fn = torch.nn.CrossEntropyLoss()\n",
        "  optimizer = SGD(few_shot_classifier.parameters(), lr=learning_rate, momentum=0.9, weight_decay=5e-4)\n",
        "\n",
        "  train_loader, valid_loader = create_loaders(\n",
        "      train_set, valid_set,\n",
        "      n_way,\n",
        "      n_shot,\n",
        "      n_query,\n",
        "      n_task_per_epoch,\n",
        "      n_validation_tasks\n",
        "  )\n",
        "\n",
        "  train_losses, valid_accs = train_fsl(\n",
        "      few_shot_classifier,\n",
        "      train_loader,\n",
        "      valid_loader,\n",
        "      optimizer,\n",
        "      loss_fn,\n",
        "      n_epochs=n_epochs,\n",
        "      use_tqdm=True,\n",
        "      save_model=False\n",
        "  )\n",
        "\n",
        "  train_loss_dict[n_way] = train_losses\n",
        "  valid_acc_dict[n_way]  = valid_accs"
      ],
      "metadata": {
        "id": "MdfFbI3LXt0V",
        "outputId": "dff47991-4e02-41e5-ecce-ffd1847e2090",
        "colab": {
          "base_uri": "https://localhost:8080/"
        }
      },
      "execution_count": 7,
      "outputs": [
        {
          "output_type": "stream",
          "name": "stdout",
          "text": [
            "Training and Evaluating 5-way 5-shot learning\n",
            "\n",
            "Epoch 1 "
          ]
        },
        {
          "output_type": "stream",
          "name": "stderr",
          "text": [
            "Training: 100%|██████████| 100/100 [01:20<00:00,  1.24it/s, loss=1.5]\n",
            "Validation: 100%|██████████| 45/45 [00:32<00:00,  1.41it/s, accuracy=0.444]"
          ]
        },
        {
          "output_type": "stream",
          "name": "stdout",
          "text": [
            "\n",
            "Epoch 2 "
          ]
        },
        {
          "output_type": "stream",
          "name": "stderr",
          "text": [
            "\n",
            "Training: 100%|██████████| 100/100 [01:15<00:00,  1.32it/s, loss=1.19]\n",
            "Validation: 100%|██████████| 45/45 [00:33<00:00,  1.34it/s, accuracy=0.536]"
          ]
        },
        {
          "output_type": "stream",
          "name": "stdout",
          "text": [
            "\n",
            "Epoch 3 "
          ]
        },
        {
          "output_type": "stream",
          "name": "stderr",
          "text": [
            "\n",
            "Training: 100%|██████████| 100/100 [01:15<00:00,  1.32it/s, loss=0.992]\n",
            "Validation: 100%|██████████| 45/45 [00:31<00:00,  1.44it/s, accuracy=0.588]"
          ]
        },
        {
          "output_type": "stream",
          "name": "stdout",
          "text": [
            "\n",
            "Epoch 4 "
          ]
        },
        {
          "output_type": "stream",
          "name": "stderr",
          "text": [
            "\n",
            "Training: 100%|██████████| 100/100 [01:17<00:00,  1.28it/s, loss=0.891]\n",
            "Validation: 100%|██████████| 45/45 [00:32<00:00,  1.39it/s, accuracy=0.597]"
          ]
        },
        {
          "output_type": "stream",
          "name": "stdout",
          "text": [
            "\n",
            "Epoch 5 "
          ]
        },
        {
          "output_type": "stream",
          "name": "stderr",
          "text": [
            "\n",
            "Training: 100%|██████████| 100/100 [01:14<00:00,  1.34it/s, loss=0.798]\n",
            "Validation: 100%|██████████| 45/45 [00:32<00:00,  1.40it/s, accuracy=0.653]"
          ]
        },
        {
          "output_type": "stream",
          "name": "stdout",
          "text": [
            "\n",
            "Epoch 6 "
          ]
        },
        {
          "output_type": "stream",
          "name": "stderr",
          "text": [
            "\n",
            "Training: 100%|██████████| 100/100 [01:14<00:00,  1.34it/s, loss=0.756]\n",
            "Validation: 100%|██████████| 45/45 [00:33<00:00,  1.36it/s, accuracy=0.735]"
          ]
        },
        {
          "output_type": "stream",
          "name": "stdout",
          "text": [
            "\n",
            "Epoch 7 "
          ]
        },
        {
          "output_type": "stream",
          "name": "stderr",
          "text": [
            "\n",
            "Training: 100%|██████████| 100/100 [01:14<00:00,  1.34it/s, loss=0.671]\n",
            "Validation: 100%|██████████| 45/45 [00:31<00:00,  1.44it/s, accuracy=0.717]"
          ]
        },
        {
          "output_type": "stream",
          "name": "stdout",
          "text": [
            "\n",
            "Epoch 8 "
          ]
        },
        {
          "output_type": "stream",
          "name": "stderr",
          "text": [
            "\n",
            "Training: 100%|██████████| 100/100 [01:14<00:00,  1.34it/s, loss=0.577]\n",
            "Validation: 100%|██████████| 45/45 [00:34<00:00,  1.29it/s, accuracy=0.709]"
          ]
        },
        {
          "output_type": "stream",
          "name": "stdout",
          "text": [
            "\n",
            "Epoch 9 "
          ]
        },
        {
          "output_type": "stream",
          "name": "stderr",
          "text": [
            "\n",
            "Training: 100%|██████████| 100/100 [01:16<00:00,  1.31it/s, loss=0.533]\n",
            "Validation: 100%|██████████| 45/45 [00:32<00:00,  1.39it/s, accuracy=0.733]"
          ]
        },
        {
          "output_type": "stream",
          "name": "stdout",
          "text": [
            "\n",
            "Epoch 10 "
          ]
        },
        {
          "output_type": "stream",
          "name": "stderr",
          "text": [
            "\n",
            "Training: 100%|██████████| 100/100 [01:18<00:00,  1.27it/s, loss=0.506]\n",
            "Validation: 100%|██████████| 45/45 [00:33<00:00,  1.36it/s, accuracy=0.775]\n"
          ]
        },
        {
          "output_type": "stream",
          "name": "stdout",
          "text": [
            "Saving state of model checkpoint at last epoch to /content/drive/MyDrive/prototypical_network_resnet12_last_epoch\n",
            "Training and Evaluating 10-way 5-shot learning\n",
            "\n",
            "Epoch 1 "
          ]
        },
        {
          "output_type": "stream",
          "name": "stderr",
          "text": [
            "Training: 100%|██████████| 100/100 [02:31<00:00,  1.52s/it, loss=1.99]\n",
            "Validation: 100%|██████████| 45/45 [01:05<00:00,  1.45s/it, accuracy=0.372]"
          ]
        },
        {
          "output_type": "stream",
          "name": "stdout",
          "text": [
            "\n",
            "Epoch 2 "
          ]
        },
        {
          "output_type": "stream",
          "name": "stderr",
          "text": [
            "\n",
            "Training: 100%|██████████| 100/100 [02:30<00:00,  1.50s/it, loss=1.49]\n",
            "Validation: 100%|██████████| 45/45 [01:05<00:00,  1.46s/it, accuracy=0.484]"
          ]
        },
        {
          "output_type": "stream",
          "name": "stdout",
          "text": [
            "\n",
            "Epoch 3 "
          ]
        },
        {
          "output_type": "stream",
          "name": "stderr",
          "text": [
            "\n",
            "Training: 100%|██████████| 100/100 [02:28<00:00,  1.48s/it, loss=1.25]\n",
            "Validation: 100%|██████████| 45/45 [01:02<00:00,  1.39s/it, accuracy=0.519]"
          ]
        },
        {
          "output_type": "stream",
          "name": "stdout",
          "text": [
            "\n",
            "Epoch 4 "
          ]
        },
        {
          "output_type": "stream",
          "name": "stderr",
          "text": [
            "\n",
            "Training: 100%|██████████| 100/100 [02:29<00:00,  1.50s/it, loss=0.988]\n",
            "Validation: 100%|██████████| 45/45 [01:03<00:00,  1.41s/it, accuracy=0.587]"
          ]
        },
        {
          "output_type": "stream",
          "name": "stdout",
          "text": [
            "\n",
            "Epoch 5 "
          ]
        },
        {
          "output_type": "stream",
          "name": "stderr",
          "text": [
            "\n",
            "Training: 100%|██████████| 100/100 [02:29<00:00,  1.49s/it, loss=0.852]\n",
            "Validation: 100%|██████████| 45/45 [01:03<00:00,  1.41s/it, accuracy=0.614]"
          ]
        },
        {
          "output_type": "stream",
          "name": "stdout",
          "text": [
            "\n",
            "Epoch 6 "
          ]
        },
        {
          "output_type": "stream",
          "name": "stderr",
          "text": [
            "\n",
            "Training: 100%|██████████| 100/100 [02:28<00:00,  1.48s/it, loss=0.639]\n",
            "Validation: 100%|██████████| 45/45 [01:06<00:00,  1.47s/it, accuracy=0.677]"
          ]
        },
        {
          "output_type": "stream",
          "name": "stdout",
          "text": [
            "\n",
            "Epoch 7 "
          ]
        },
        {
          "output_type": "stream",
          "name": "stderr",
          "text": [
            "\n",
            "Training: 100%|██████████| 100/100 [02:28<00:00,  1.49s/it, loss=0.553]\n",
            "Validation: 100%|██████████| 45/45 [01:05<00:00,  1.46s/it, accuracy=0.708]"
          ]
        },
        {
          "output_type": "stream",
          "name": "stdout",
          "text": [
            "\n",
            "Epoch 8 "
          ]
        },
        {
          "output_type": "stream",
          "name": "stderr",
          "text": [
            "\n",
            "Training: 100%|██████████| 100/100 [02:28<00:00,  1.48s/it, loss=0.439]\n",
            "Validation: 100%|██████████| 45/45 [01:05<00:00,  1.45s/it, accuracy=0.671]"
          ]
        },
        {
          "output_type": "stream",
          "name": "stdout",
          "text": [
            "\n",
            "Epoch 9 "
          ]
        },
        {
          "output_type": "stream",
          "name": "stderr",
          "text": [
            "\n",
            "Training: 100%|██████████| 100/100 [02:27<00:00,  1.47s/it, loss=0.342]\n",
            "Validation: 100%|██████████| 45/45 [01:03<00:00,  1.41s/it, accuracy=0.755]"
          ]
        },
        {
          "output_type": "stream",
          "name": "stdout",
          "text": [
            "\n",
            "Epoch 10 "
          ]
        },
        {
          "output_type": "stream",
          "name": "stderr",
          "text": [
            "\n",
            "Training: 100%|██████████| 100/100 [02:30<00:00,  1.50s/it, loss=0.289]\n",
            "Validation: 100%|██████████| 45/45 [01:05<00:00,  1.45s/it, accuracy=0.764]\n"
          ]
        },
        {
          "output_type": "stream",
          "name": "stdout",
          "text": [
            "Saving state of model checkpoint at last epoch to /content/drive/MyDrive/prototypical_network_resnet12_last_epoch\n",
            "Training and Evaluating 20-way 5-shot learning\n",
            "\n",
            "Epoch 1 "
          ]
        },
        {
          "output_type": "stream",
          "name": "stderr",
          "text": [
            "Training: 100%|██████████| 100/100 [05:03<00:00,  3.03s/it, loss=2.44]\n",
            "Validation: 100%|██████████| 45/45 [02:42<00:00,  3.62s/it, accuracy=0.219]"
          ]
        },
        {
          "output_type": "stream",
          "name": "stdout",
          "text": [
            "\n",
            "Epoch 2 "
          ]
        },
        {
          "output_type": "stream",
          "name": "stderr",
          "text": [
            "\n",
            "Training: 100%|██████████| 100/100 [05:06<00:00,  3.07s/it, loss=1.73]\n",
            "Validation: 100%|██████████| 45/45 [02:38<00:00,  3.53s/it, accuracy=0.429]"
          ]
        },
        {
          "output_type": "stream",
          "name": "stdout",
          "text": [
            "\n",
            "Epoch 3 "
          ]
        },
        {
          "output_type": "stream",
          "name": "stderr",
          "text": [
            "\n",
            "Training: 100%|██████████| 100/100 [05:13<00:00,  3.13s/it, loss=1.25]\n",
            "Validation: 100%|██████████| 45/45 [02:52<00:00,  3.84s/it, accuracy=0.461]"
          ]
        },
        {
          "output_type": "stream",
          "name": "stdout",
          "text": [
            "\n",
            "Epoch 4 "
          ]
        },
        {
          "output_type": "stream",
          "name": "stderr",
          "text": [
            "\n",
            "Training: 100%|██████████| 100/100 [04:59<00:00,  2.99s/it, loss=0.895]\n",
            "Validation: 100%|██████████| 45/45 [02:05<00:00,  2.79s/it, accuracy=0.55]"
          ]
        },
        {
          "output_type": "stream",
          "name": "stdout",
          "text": [
            "\n",
            "Epoch 5 "
          ]
        },
        {
          "output_type": "stream",
          "name": "stderr",
          "text": [
            "\n",
            "Training: 100%|██████████| 100/100 [05:12<00:00,  3.13s/it, loss=0.591]\n",
            "Validation: 100%|██████████| 45/45 [02:15<00:00,  3.01s/it, accuracy=0.654]"
          ]
        },
        {
          "output_type": "stream",
          "name": "stdout",
          "text": [
            "\n",
            "Epoch 6 "
          ]
        },
        {
          "output_type": "stream",
          "name": "stderr",
          "text": [
            "\n",
            "Training: 100%|██████████| 100/100 [04:58<00:00,  2.99s/it, loss=0.425]\n",
            "Validation: 100%|██████████| 45/45 [02:13<00:00,  2.96s/it, accuracy=0.664]"
          ]
        },
        {
          "output_type": "stream",
          "name": "stdout",
          "text": [
            "\n",
            "Epoch 7 "
          ]
        },
        {
          "output_type": "stream",
          "name": "stderr",
          "text": [
            "\n",
            "Training: 100%|██████████| 100/100 [04:59<00:00,  2.99s/it, loss=0.286]\n",
            "Validation: 100%|██████████| 45/45 [02:10<00:00,  2.91s/it, accuracy=0.665]"
          ]
        },
        {
          "output_type": "stream",
          "name": "stdout",
          "text": [
            "\n",
            "Epoch 8 "
          ]
        },
        {
          "output_type": "stream",
          "name": "stderr",
          "text": [
            "\n",
            "Training: 100%|██████████| 100/100 [05:03<00:00,  3.03s/it, loss=0.193]\n",
            "Validation: 100%|██████████| 45/45 [02:06<00:00,  2.81s/it, accuracy=0.661]"
          ]
        },
        {
          "output_type": "stream",
          "name": "stdout",
          "text": [
            "\n",
            "Epoch 9 "
          ]
        },
        {
          "output_type": "stream",
          "name": "stderr",
          "text": [
            "\n",
            "Training: 100%|██████████| 100/100 [05:02<00:00,  3.02s/it, loss=0.137]\n",
            "Validation: 100%|██████████| 45/45 [02:05<00:00,  2.79s/it, accuracy=0.683]"
          ]
        },
        {
          "output_type": "stream",
          "name": "stdout",
          "text": [
            "\n",
            "Epoch 10 "
          ]
        },
        {
          "output_type": "stream",
          "name": "stderr",
          "text": [
            "\n",
            "Training: 100%|██████████| 100/100 [04:58<00:00,  2.98s/it, loss=0.0998]\n",
            "Validation: 100%|██████████| 45/45 [02:10<00:00,  2.90s/it, accuracy=0.692]\n"
          ]
        },
        {
          "output_type": "stream",
          "name": "stdout",
          "text": [
            "Saving state of model checkpoint at last epoch to /content/drive/MyDrive/prototypical_network_resnet12_last_epoch\n"
          ]
        }
      ]
    },
    {
      "cell_type": "code",
      "source": [
        "def fsl_plots(dict, title, parameter='way', xlabel='Epochs', ylabel='Loss', save_plot=False, save_path=None):\n",
        "  fig, ax = plt.subplots()\n",
        "\n",
        "  plt.title(title)\n",
        "\n",
        "  for key, values in dict.items():\n",
        "    ax.plot(values, label=f'{key}-{parameter}')\n",
        "\n",
        "  ax.set_xlabel(xlabel)\n",
        "  ax.set_ylabel(ylabel)\n",
        "\n",
        "  ax.legend()\n",
        "  if save_plot:\n",
        "    plt.savefig(save_path)"
      ],
      "metadata": {
        "id": "HPhTlrVLK3yY"
      },
      "execution_count": 9,
      "outputs": []
    },
    {
      "cell_type": "code",
      "source": [
        "fsl_plots(\n",
        "    valid_acc_dict,\n",
        "    title='Validation Accuracy on Varying Ways',\n",
        "    ylabel='Accuracy',\n",
        "    save_plot=True,\n",
        "    save_path='/content/drive/MyDrive/Research-Project/ways_experiment_valid_acc.png'\n",
        "  )"
      ],
      "metadata": {
        "id": "ir6RbsPabMC7",
        "outputId": "f9ad7ef2-f0a9-4cdb-eac0-6a60e4304341",
        "colab": {
          "base_uri": "https://localhost:8080/",
          "height": 472
        }
      },
      "execution_count": 14,
      "outputs": [
        {
          "output_type": "display_data",
          "data": {
            "text/plain": [
              "<Figure size 640x480 with 1 Axes>"
            ],
            "image/png": "[encoded data removed]"
          },
          "metadata": {}
        }
      ]
    },
    {
      "cell_type": "code",
      "source": [
        "fsl_plots(\n",
        "    train_loss_dict,\n",
        "    title='Training Loss on Varying Ways',\n",
        "    ylabel='Loss',\n",
        "    save_plot=True,\n",
        "    save_path='/content/drive/MyDrive/Research-Project/ways_experiment_train_loss.png'\n",
        "\n",
        "  )"
      ],
      "metadata": {
        "id": "_R4jHMarVKMj",
        "outputId": "0b655836-6075-4321-d0cb-8304319b0d91",
        "colab": {
          "base_uri": "https://localhost:8080/",
          "height": 472
        }
      },
      "execution_count": 12,
      "outputs": [
        {
          "output_type": "display_data",
          "data": {
            "text/plain": [
              "<Figure size 640x480 with 1 Axes>"
            ],
            "image/png": "[encoded data removed]"
          },
          "metadata": {}
        }
      ]
    }
  ],
  "metadata": {
    "accelerator": "GPU",
    "colab": {
      "collapsed_sections": [
        "WBD68iPadsti",
        "4EIjDfwjdwoT"
      ],
      "gpuType": "V100",
      "provenance": [],
      "include_colab_link": true
    },
    "kernelspec": {
      "display_name": "Python 3",
      "name": "python3"
    },
    "language_info": {
      "name": "python"
    }
  },
  "nbformat": 4,
  "nbformat_minor": 0
}