{
  "cells": [
    {
      "cell_type": "markdown",
      "metadata": {
        "id": "WBD68iPadsti"
      },
      "source": [
        "### Install EasyFSL"
      ]
    },
    {
      "cell_type": "code",
      "execution_count": 1,
      "metadata": {
        "colab": {
          "base_uri": "https://localhost:8080/"
        },
        "id": "hWg5yaDZRPAS",
        "outputId": "a18613b4-ee5e-4d52-d8d8-0780e2098639"
      },
      "outputs": [
        {
          "output_type": "stream",
          "name": "stdout",
          "text": [
            "Collecting easyfsl\n",
            "  Downloading easyfsl-1.4.0-py3-none-any.whl (65 kB)\n",
            "\u001b[?25l     \u001b[90m━━━━━━━━━━━━━━━━━━━━━━━━━━━━━━━━━━━━━━━━\u001b[0m \u001b[32m0.0/65.2 kB\u001b[0m \u001b[31m?\u001b[0m eta \u001b[36m-:--:--\u001b[0m\r\u001b[2K     \u001b[90m━━━━━━━━━━━━━━━━━━━━━━━━━━━━━━━━━━━━━━━━\u001b[0m \u001b[32m65.2/65.2 kB\u001b[0m \u001b[31m6.5 MB/s\u001b[0m eta \u001b[36m0:00:00\u001b[0m\n",
            "\u001b[?25hRequirement already satisfied: matplotlib>=3.0.0 in /usr/local/lib/python3.10/dist-packages (from easyfsl) (3.7.1)\n",
            "Requirement already satisfied: pandas>=1.4.0 in /usr/local/lib/python3.10/dist-packages (from easyfsl) (1.5.3)\n",
            "Requirement already satisfied: torch>=1.4.0 in /usr/local/lib/python3.10/dist-packages (from easyfsl) (2.0.1+cu118)\n",
            "Requirement already satisfied: torchvision>=0.7.0 in /usr/local/lib/python3.10/dist-packages (from easyfsl) (0.15.2+cu118)\n",
            "Requirement already satisfied: tqdm>=4.1.0 in /usr/local/lib/python3.10/dist-packages (from easyfsl) (4.65.0)\n",
            "Requirement already satisfied: contourpy>=1.0.1 in /usr/local/lib/python3.10/dist-packages (from matplotlib>=3.0.0->easyfsl) (1.1.0)\n",
            "Requirement already satisfied: cycler>=0.10 in /usr/local/lib/python3.10/dist-packages (from matplotlib>=3.0.0->easyfsl) (0.11.0)\n",
            "Requirement already satisfied: fonttools>=4.22.0 in /usr/local/lib/python3.10/dist-packages (from matplotlib>=3.0.0->easyfsl) (4.40.0)\n",
            "Requirement already satisfied: kiwisolver>=1.0.1 in /usr/local/lib/python3.10/dist-packages (from matplotlib>=3.0.0->easyfsl) (1.4.4)\n",
            "Requirement already satisfied: numpy>=1.20 in /usr/local/lib/python3.10/dist-packages (from matplotlib>=3.0.0->easyfsl) (1.22.4)\n",
            "Requirement already satisfied: packaging>=20.0 in /usr/local/lib/python3.10/dist-packages (from matplotlib>=3.0.0->easyfsl) (23.1)\n",
            "Requirement already satisfied: pillow>=6.2.0 in /usr/local/lib/python3.10/dist-packages (from matplotlib>=3.0.0->easyfsl) (8.4.0)\n",
            "Requirement already satisfied: pyparsing>=2.3.1 in /usr/local/lib/python3.10/dist-packages (from matplotlib>=3.0.0->easyfsl) (3.1.0)\n",
            "Requirement already satisfied: python-dateutil>=2.7 in /usr/local/lib/python3.10/dist-packages (from matplotlib>=3.0.0->easyfsl) (2.8.2)\n",
            "Requirement already satisfied: pytz>=2020.1 in /usr/local/lib/python3.10/dist-packages (from pandas>=1.4.0->easyfsl) (2022.7.1)\n",
            "Requirement already satisfied: filelock in /usr/local/lib/python3.10/dist-packages (from torch>=1.4.0->easyfsl) (3.12.2)\n",
            "Requirement already satisfied: typing-extensions in /usr/local/lib/python3.10/dist-packages (from torch>=1.4.0->easyfsl) (4.6.3)\n",
            "Requirement already satisfied: sympy in /usr/local/lib/python3.10/dist-packages (from torch>=1.4.0->easyfsl) (1.11.1)\n",
            "Requirement already satisfied: networkx in /usr/local/lib/python3.10/dist-packages (from torch>=1.4.0->easyfsl) (3.1)\n",
            "Requirement already satisfied: jinja2 in /usr/local/lib/python3.10/dist-packages (from torch>=1.4.0->easyfsl) (3.1.2)\n",
            "Requirement already satisfied: triton==2.0.0 in /usr/local/lib/python3.10/dist-packages (from torch>=1.4.0->easyfsl) (2.0.0)\n",
            "Requirement already satisfied: cmake in /usr/local/lib/python3.10/dist-packages (from triton==2.0.0->torch>=1.4.0->easyfsl) (3.25.2)\n",
            "Requirement already satisfied: lit in /usr/local/lib/python3.10/dist-packages (from triton==2.0.0->torch>=1.4.0->easyfsl) (16.0.6)\n",
            "Requirement already satisfied: requests in /usr/local/lib/python3.10/dist-packages (from torchvision>=0.7.0->easyfsl) (2.27.1)\n",
            "Requirement already satisfied: six>=1.5 in /usr/local/lib/python3.10/dist-packages (from python-dateutil>=2.7->matplotlib>=3.0.0->easyfsl) (1.16.0)\n",
            "Requirement already satisfied: MarkupSafe>=2.0 in /usr/local/lib/python3.10/dist-packages (from jinja2->torch>=1.4.0->easyfsl) (2.1.3)\n",
            "Requirement already satisfied: urllib3<1.27,>=1.21.1 in /usr/local/lib/python3.10/dist-packages (from requests->torchvision>=0.7.0->easyfsl) (1.26.16)\n",
            "Requirement already satisfied: certifi>=2017.4.17 in /usr/local/lib/python3.10/dist-packages (from requests->torchvision>=0.7.0->easyfsl) (2023.5.7)\n",
            "Requirement already satisfied: charset-normalizer~=2.0.0 in /usr/local/lib/python3.10/dist-packages (from requests->torchvision>=0.7.0->easyfsl) (2.0.12)\n",
            "Requirement already satisfied: idna<4,>=2.5 in /usr/local/lib/python3.10/dist-packages (from requests->torchvision>=0.7.0->easyfsl) (3.4)\n",
            "Requirement already satisfied: mpmath>=0.19 in /usr/local/lib/python3.10/dist-packages (from sympy->torch>=1.4.0->easyfsl) (1.3.0)\n",
            "Installing collected packages: easyfsl\n",
            "Successfully installed easyfsl-1.4.0\n"
          ]
        }
      ],
      "source": [
        "%pip install easyfsl"
      ]
    },
    {
      "cell_type": "markdown",
      "metadata": {
        "id": "4EIjDfwjdwoT"
      },
      "source": [
        "### Download Humpback Whale Identification dataset"
      ]
    },
    {
      "cell_type": "code",
      "execution_count": 5,
      "metadata": {
        "colab": {
          "base_uri": "https://localhost:8080/"
        },
        "id": "wpFPp8FTD2KY",
        "outputId": "148ec8c0-298c-48d3-8cea-8b5400de17a9"
      },
      "outputs": [
        {
          "output_type": "stream",
          "name": "stdout",
          "text": [
            "Mounted at /content/drive\n"
          ]
        }
      ],
      "source": [
        "from google.colab import drive\n",
        "drive.mount('/content/drive')"
      ]
    },
    {
      "cell_type": "code",
      "execution_count": null,
      "metadata": {
        "id": "aaIJSEeFdNK5"
      },
      "outputs": [],
      "source": [
        "!rm -rf /root/.kaggle && mkdir /root/.kaggle && cp /content/drive/MyDrive/Research-Project/kaggle.json /root/.kaggle/kaggle.json && chmod 600 /root/.kaggle/kaggle.json && kaggle competitions download -c humpback-whale-identification\n",
        "!unzip humpback-whale-identification.zip"
      ]
    },
    {
      "cell_type": "markdown",
      "source": [
        "### Clone GitHub repo"
      ],
      "metadata": {
        "id": "dtM6ET0hOW5c"
      }
    },
    {
      "cell_type": "code",
      "source": [
        "!git clone https://github.com/jwells52/creating-ai-enabled-systems.git\n",
        "%cd creating-ai-enabled-systems/Research\\ Project"
      ],
      "metadata": {
        "colab": {
          "base_uri": "https://localhost:8080/"
        },
        "id": "Ktmxn-nPOZlR",
        "outputId": "edaf996f-4662-4da2-c2a7-468c439e59f7"
      },
      "execution_count": 12,
      "outputs": [
        {
          "output_type": "stream",
          "name": "stdout",
          "text": [
            "Cloning into 'creating-ai-enabled-systems'...\n",
            "remote: Enumerating objects: 116, done.\u001b[K\n",
            "remote: Counting objects: 100% (23/23), done.\u001b[K\n",
            "remote: Compressing objects: 100% (16/16), done.\u001b[K\n",
            "remote: Total 116 (delta 7), reused 21 (delta 6), pack-reused 93\u001b[K\n",
            "Receiving objects: 100% (116/116), 43.49 MiB | 17.83 MiB/s, done.\n",
            "Resolving deltas: 100% (37/37), done.\n",
            "/content/creating-ai-enabled-systems\n"
          ]
        }
      ]
    },
    {
      "cell_type": "markdown",
      "metadata": {
        "id": "g_HapNgJd1lq"
      },
      "source": [
        "### Imports"
      ]
    },
    {
      "cell_type": "code",
      "execution_count": 109,
      "metadata": {
        "id": "U2cTdMEld26V"
      },
      "outputs": [],
      "source": [
        "import os\n",
        "import sys\n",
        "\n",
        "import torch\n",
        "import random\n",
        "\n",
        "import numpy as np\n",
        "import pandas as pd\n",
        "import matplotlib.pyplot as plt\n",
        "\n",
        "from tqdm import tqdm\n",
        "\n",
        "from easyfsl.modules import resnet12\n",
        "from easyfsl.methods import PrototypicalNetworks, FewShotClassifier\n",
        "from easyfsl.utils import evaluate\n",
        "from easyfsl.samplers import TaskSampler\n",
        "\n",
        "from torch import Tensor, nn\n",
        "from torch.optim import SGD, Optimizer, Adam\n",
        "from torch.utils.data import Dataset, DataLoader\n",
        "from torchvision import transforms\n",
        "\n",
        "from typing import Callable\n",
        "\n",
        "from modules.datasets import HumpbackWhaleDataset\n",
        "\n",
        "device = 'cuda' if torch.cuda.is_available() else 'cpu'\n",
        "\n",
        "random_seed = 0\n",
        "np.random.seed(random_seed)\n",
        "torch.manual_seed(random_seed)\n",
        "random.seed(random_seed)\n",
        "torch.backends.cudnn.deterministic = True\n",
        "torch.backends.cudnn.benchmark = False"
      ]
    },
    {
      "cell_type": "markdown",
      "metadata": {
        "id": "WBnJZl4dt0co"
      },
      "source": [
        "### Load dataset"
      ]
    },
    {
      "cell_type": "code",
      "execution_count": 126,
      "metadata": {
        "id": "4uF_KyfDueIw"
      },
      "outputs": [],
      "source": [
        "train_df = pd.read_csv('/content/creating-ai-enabled-systems/Research Project/data/training_10samples.csv')\n",
        "valid_df = pd.read_csv('/content/creating-ai-enabled-systems/Research Project/data/validation_10samples.csv')\n",
        "\n",
        "\n",
        "# Remove new_whale class\n",
        "train_df = train_df[train_df['Id'] != 'new_whale']\n",
        "valid_df = valid_df[valid_df['Id'] != 'new_whale']"
      ]
    },
    {
      "cell_type": "code",
      "execution_count": 127,
      "metadata": {
        "id": "JLZpbTwMx6OG"
      },
      "outputs": [],
      "source": [
        "# def class_count(df, label):\n",
        "#   return len(df[df['Id'] == label])\n",
        "\n",
        "# df['class_count'] = df['Id'].apply(lambda label: class_count(df, label))"
      ]
    },
    {
      "cell_type": "code",
      "execution_count": 128,
      "metadata": {
        "id": "omqpmHUfg4BR"
      },
      "outputs": [],
      "source": [
        "# Filter out classes that have less than 5 samples\n",
        "# This is so we can easily implement Few Shot Learning for initial experiments\n",
        "\n",
        "# nshot_df = df[df['class_count'] > 10]\n",
        "# nshot_df = df.copy()\n",
        "# nshot_df.sample(frac=1).reset_index(drop=True, inplace=True) # Shuffle data"
      ]
    },
    {
      "cell_type": "code",
      "execution_count": 142,
      "metadata": {
        "colab": {
          "base_uri": "https://localhost:8080/"
        },
        "id": "ZrIn13-Zh39T",
        "outputId": "f305be55-674d-4762-eaae-8aba141d2258"
      },
      "outputs": [
        {
          "output_type": "stream",
          "name": "stdout",
          "text": [
            "Min # of samples for a class in training set = 11\n",
            "Max # of samples for a class in training set = 73\n",
            "# of classes in training set = 181\n"
          ]
        }
      ],
      "source": [
        "print(f\"Min # of samples for a class in training set = {train_df['class_count'].min()}\")\n",
        "print(f\"Max # of samples for a class in training set = {train_df['class_count'].max()}\")\n",
        "print(f\"# of classes in training set = {len(train_df['Id'].unique())}\")\n"
      ]
    },
    {
      "cell_type": "code",
      "source": [
        "print(f\"Min # of samples for a class in validation set = {valid_df['class_count'].min()}\")\n",
        "print(f\"Max # of samples for a class in validation set = {valid_df['class_count'].max()}\")\n",
        "print(f\"# of classes in validation set = {len(valid_df['Id'].unique())}\")"
      ],
      "metadata": {
        "colab": {
          "base_uri": "https://localhost:8080/"
        },
        "id": "_-qRveE1QGeB",
        "outputId": "3af00ac3-4a91-482e-cf39-c06c39e60a27"
      },
      "execution_count": 143,
      "outputs": [
        {
          "output_type": "stream",
          "name": "stdout",
          "text": [
            "Min # of samples for a class in validation set = 11\n",
            "Max # of samples for a class in validation set = 48\n",
            "# of classes in validation set = 46\n"
          ]
        }
      ]
    },
    {
      "cell_type": "markdown",
      "metadata": {
        "id": "mHyIP3rX2acR"
      },
      "source": [
        "### Define few shot learning network"
      ]
    },
    {
      "cell_type": "code",
      "execution_count": 144,
      "metadata": {
        "id": "o7L3wTG12YbT"
      },
      "outputs": [],
      "source": [
        "cnn = resnet12()\n",
        "few_shot_classifier = PrototypicalNetworks(cnn).to(device)"
      ]
    },
    {
      "cell_type": "markdown",
      "metadata": {
        "id": "18l-2yvV2QrW"
      },
      "source": [
        "### Set up training"
      ]
    },
    {
      "cell_type": "code",
      "execution_count": 145,
      "metadata": {
        "id": "psyaOFQ5iYYe"
      },
      "outputs": [],
      "source": [
        "train_set = HumpbackWhaleDataset(\n",
        "    image_dir='/content/train',\n",
        "    labels=train_df,\n",
        "    transform=transforms.Compose(\n",
        "      [\n",
        "            transforms.Grayscale(num_output_channels=3),\n",
        "            transforms.Resize((256, 512)),\n",
        "            transforms.RandomHorizontalFlip(),\n",
        "            transforms.ToTensor(),\n",
        "      ])\n",
        ")\n",
        "\n",
        "valid_set = HumpbackWhaleDataset(\n",
        "    image_dir='/content/train',\n",
        "    labels=valid_df,\n",
        "    transform=transforms.Compose(\n",
        "      [\n",
        "            transforms.Grayscale(num_output_channels=3),\n",
        "            transforms.Resize((256, 512)),\n",
        "            transforms.ToTensor(),\n",
        "      ])\n",
        ")"
      ]
    },
    {
      "cell_type": "code",
      "execution_count": 146,
      "metadata": {
        "colab": {
          "base_uri": "https://localhost:8080/",
          "height": 331
        },
        "id": "5rp2tdts5WsV",
        "outputId": "187926bd-77a1-42a4-86f3-f58df8b38bbd"
      },
      "outputs": [
        {
          "output_type": "execute_result",
          "data": {
            "text/plain": [
              "<matplotlib.image.AxesImage at 0x7ff4e9ec6860>"
            ]
          },
          "metadata": {},
          "execution_count": 146
        },
        {
          "output_type": "display_data",
          "data": {
            "text/plain": [
              "<Figure size 640x480 with 1 Axes>"
            ],
            "image/png": "[encoded data removed]"
          },
          "metadata": {}
        }
      ],
      "source": [
        "plt.imshow(next(iter(train_set))[0].permute(1, 2, 0).numpy())"
      ]
    },
    {
      "cell_type": "code",
      "source": [
        "plt.imshow(next(iter(valid_set))[0].permute(1, 2, 0).numpy())\n"
      ],
      "metadata": {
        "colab": {
          "base_uri": "https://localhost:8080/",
          "height": 331
        },
        "id": "5brOHGZHQV6H",
        "outputId": "07020fd3-33be-41d8-fe6f-682ce4f73769"
      },
      "execution_count": 147,
      "outputs": [
        {
          "output_type": "execute_result",
          "data": {
            "text/plain": [
              "<matplotlib.image.AxesImage at 0x7ff3ca1371f0>"
            ]
          },
          "metadata": {},
          "execution_count": 147
        },
        {
          "output_type": "display_data",
          "data": {
            "text/plain": [
              "<Figure size 640x480 with 1 Axes>"
            ],
            "image/png": "[encoded data removed]"
          },
          "metadata": {}
        }
      ]
    },
    {
      "cell_type": "code",
      "source": [
        "# Number of Training Task for each epoch\n",
        "# A training task is a random sample of N shots (images) for M classes\n",
        "n_task_per_epoch = 100\n",
        "\n",
        "# Number of Validation tasks for evaluation during training\n",
        "n_validation_tasks = 20\n",
        "\n",
        "n_way   = 5\n",
        "n_shot  = 5\n",
        "n_query = 5"
      ],
      "metadata": {
        "id": "7Y1E42L9Qx26"
      },
      "execution_count": 148,
      "outputs": []
    },
    {
      "cell_type": "code",
      "execution_count": 149,
      "metadata": {
        "id": "7pQbpV0qiYWR"
      },
      "outputs": [],
      "source": [
        "train_sampler = TaskSampler(\n",
        "    train_set, n_way=n_way, n_shot=n_shot, n_query=n_query, n_tasks=n_task_per_epoch\n",
        ")\n",
        "\n",
        "valid_sampler = TaskSampler(\n",
        "    valid_set, n_way=n_way, n_shot=n_shot, n_query=n_query, n_tasks=n_validation_tasks\n",
        ")"
      ]
    },
    {
      "cell_type": "code",
      "execution_count": 150,
      "metadata": {
        "id": "_p4QMWTjiYT9"
      },
      "outputs": [],
      "source": [
        "train_loader = DataLoader(\n",
        "    train_set,\n",
        "    batch_sampler=train_sampler,\n",
        "    num_workers=12,\n",
        "    pin_memory=True,\n",
        "    collate_fn=train_sampler.episodic_collate_fn\n",
        ")\n",
        "\n",
        "valid_loader = DataLoader(\n",
        "    valid_set,\n",
        "    batch_sampler=valid_sampler,\n",
        "    num_workers=12,\n",
        "    pin_memory=True,\n",
        "    collate_fn=valid_sampler.episodic_collate_fn\n",
        ")"
      ]
    },
    {
      "cell_type": "code",
      "execution_count": 151,
      "metadata": {
        "id": "YU2_sS3viYKv"
      },
      "outputs": [],
      "source": [
        "n_epochs = 100\n",
        "learning_rate = 1e-2\n",
        "\n",
        "loss_fn = torch.nn.CrossEntropyLoss()"
      ]
    },
    {
      "cell_type": "code",
      "execution_count": 152,
      "metadata": {
        "id": "YGIfXVahiYIR"
      },
      "outputs": [],
      "source": [
        "# optimizer = Adam(few_shot_classifier.parameters(), lr=learning_rate)\n",
        "optimizer = SGD(few_shot_classifier.parameters(), lr=learning_rate, momentum=0.9, weight_decay=5e-4)"
      ]
    },
    {
      "cell_type": "markdown",
      "metadata": {
        "id": "xkqoRurQt49z"
      },
      "source": [
        "### Training functions"
      ]
    },
    {
      "cell_type": "code",
      "execution_count": 153,
      "metadata": {
        "id": "tXrGlszPH_ui"
      },
      "outputs": [],
      "source": [
        "def training_epoch(\n",
        "    model: FewShotClassifier,\n",
        "    data_loader: DataLoader,\n",
        "    optimizer: Optimizer,\n",
        "    loss_fn: Callable\n",
        "):\n",
        "    all_loss = []\n",
        "    model.train()\n",
        "    with tqdm(\n",
        "        enumerate(data_loader), total=len(data_loader), desc=\"Training\"\n",
        "    ) as tqdm_train:\n",
        "        for episode_index, (\n",
        "            support_images,\n",
        "            support_labels,\n",
        "            query_images,\n",
        "            query_labels,\n",
        "            _,\n",
        "        ) in tqdm_train:\n",
        "            optimizer.zero_grad()\n",
        "            model.process_support_set(\n",
        "                support_images.to(device), support_labels.to(device)\n",
        "            )\n",
        "            classification_scores = model(query_images.to(device))\n",
        "\n",
        "            loss = loss_fn(classification_scores, query_labels.to(device))\n",
        "            loss.backward()\n",
        "            optimizer.step()\n",
        "\n",
        "            all_loss += [loss.item()]\n",
        "\n",
        "            tqdm_train.set_postfix(loss=np.mean(all_loss))\n",
        "\n",
        "    return np.mean(all_loss)"
      ]
    },
    {
      "cell_type": "markdown",
      "metadata": {
        "id": "ArafAhfS2d1V"
      },
      "source": [
        "### Train network"
      ]
    },
    {
      "cell_type": "code",
      "execution_count": 154,
      "metadata": {
        "colab": {
          "base_uri": "https://localhost:8080/"
        },
        "id": "cgH6JpLE1k_6",
        "outputId": "e5df94bb-0d64-4d10-b4ae-e4b48ee22782"
      },
      "outputs": [
        {
          "output_type": "stream",
          "name": "stdout",
          "text": [
            "Epoch 1\n"
          ]
        },
        {
          "output_type": "stream",
          "name": "stderr",
          "text": [
            "Training: 100%|██████████| 100/100 [00:48<00:00,  2.05it/s, loss=1.55]\n",
            "Validation: 100%|██████████| 20/20 [00:04<00:00,  4.29it/s, accuracy=0.37]\n"
          ]
        },
        {
          "output_type": "stream",
          "name": "stdout",
          "text": [
            "Best performing model, saving state to /content/drive/MyDrive/prototypical_network_v2\n",
            "\n",
            "Epoch 2\n"
          ]
        },
        {
          "output_type": "stream",
          "name": "stderr",
          "text": [
            "Training: 100%|██████████| 100/100 [00:48<00:00,  2.06it/s, loss=1.37]\n",
            "Validation: 100%|██████████| 20/20 [00:05<00:00,  3.97it/s, accuracy=0.344]"
          ]
        },
        {
          "output_type": "stream",
          "name": "stdout",
          "text": [
            "\n",
            "\n",
            "Epoch 3\n"
          ]
        },
        {
          "output_type": "stream",
          "name": "stderr",
          "text": [
            "\n",
            "Training: 100%|██████████| 100/100 [00:48<00:00,  2.05it/s, loss=1.29]\n",
            "Validation: 100%|██████████| 20/20 [00:04<00:00,  4.20it/s, accuracy=0.358]"
          ]
        },
        {
          "output_type": "stream",
          "name": "stdout",
          "text": [
            "\n",
            "\n",
            "Epoch 4\n"
          ]
        },
        {
          "output_type": "stream",
          "name": "stderr",
          "text": [
            "\n",
            "Training: 100%|██████████| 100/100 [00:48<00:00,  2.06it/s, loss=1.21]\n",
            "Validation: 100%|██████████| 20/20 [00:04<00:00,  4.28it/s, accuracy=0.46]\n"
          ]
        },
        {
          "output_type": "stream",
          "name": "stdout",
          "text": [
            "Best performing model, saving state to /content/drive/MyDrive/prototypical_network_v2\n",
            "\n",
            "Epoch 5\n"
          ]
        },
        {
          "output_type": "stream",
          "name": "stderr",
          "text": [
            "Training: 100%|██████████| 100/100 [00:48<00:00,  2.06it/s, loss=1.14]\n",
            "Validation: 100%|██████████| 20/20 [00:04<00:00,  4.29it/s, accuracy=0.518]\n"
          ]
        },
        {
          "output_type": "stream",
          "name": "stdout",
          "text": [
            "Best performing model, saving state to /content/drive/MyDrive/prototypical_network_v2\n",
            "\n",
            "Epoch 6\n"
          ]
        },
        {
          "output_type": "stream",
          "name": "stderr",
          "text": [
            "Training: 100%|██████████| 100/100 [00:48<00:00,  2.05it/s, loss=1.07]\n",
            "Validation: 100%|██████████| 20/20 [00:04<00:00,  4.14it/s, accuracy=0.484]"
          ]
        },
        {
          "output_type": "stream",
          "name": "stdout",
          "text": [
            "\n",
            "\n",
            "Epoch 7\n"
          ]
        },
        {
          "output_type": "stream",
          "name": "stderr",
          "text": [
            "\n",
            "Training: 100%|██████████| 100/100 [00:48<00:00,  2.05it/s, loss=1.09]\n",
            "Validation: 100%|██████████| 20/20 [00:04<00:00,  4.18it/s, accuracy=0.516]"
          ]
        },
        {
          "output_type": "stream",
          "name": "stdout",
          "text": [
            "\n",
            "\n",
            "Epoch 8\n"
          ]
        },
        {
          "output_type": "stream",
          "name": "stderr",
          "text": [
            "\n",
            "Training: 100%|██████████| 100/100 [00:48<00:00,  2.07it/s, loss=1.08]\n",
            "Validation: 100%|██████████| 20/20 [00:04<00:00,  4.18it/s, accuracy=0.53]\n"
          ]
        },
        {
          "output_type": "stream",
          "name": "stdout",
          "text": [
            "Best performing model, saving state to /content/drive/MyDrive/prototypical_network_v2\n",
            "\n",
            "Epoch 9\n"
          ]
        },
        {
          "output_type": "stream",
          "name": "stderr",
          "text": [
            "Training: 100%|██████████| 100/100 [00:48<00:00,  2.05it/s, loss=1.08]\n",
            "Validation: 100%|██████████| 20/20 [00:05<00:00,  3.99it/s, accuracy=0.568]\n"
          ]
        },
        {
          "output_type": "stream",
          "name": "stdout",
          "text": [
            "Best performing model, saving state to /content/drive/MyDrive/prototypical_network_v2\n",
            "\n",
            "Epoch 10\n"
          ]
        },
        {
          "output_type": "stream",
          "name": "stderr",
          "text": [
            "Training: 100%|██████████| 100/100 [00:48<00:00,  2.05it/s, loss=0.992]\n",
            "Validation: 100%|██████████| 20/20 [00:04<00:00,  4.04it/s, accuracy=0.554]"
          ]
        },
        {
          "output_type": "stream",
          "name": "stdout",
          "text": [
            "\n",
            "\n",
            "Epoch 11\n"
          ]
        },
        {
          "output_type": "stream",
          "name": "stderr",
          "text": [
            "\n",
            "Training: 100%|██████████| 100/100 [00:48<00:00,  2.06it/s, loss=1.02]\n",
            "Validation: 100%|██████████| 20/20 [00:04<00:00,  4.32it/s, accuracy=0.558]"
          ]
        },
        {
          "output_type": "stream",
          "name": "stdout",
          "text": [
            "\n",
            "\n",
            "Epoch 12\n"
          ]
        },
        {
          "output_type": "stream",
          "name": "stderr",
          "text": [
            "\n",
            "Training: 100%|██████████| 100/100 [00:48<00:00,  2.05it/s, loss=0.956]\n",
            "Validation: 100%|██████████| 20/20 [00:04<00:00,  4.24it/s, accuracy=0.506]"
          ]
        },
        {
          "output_type": "stream",
          "name": "stdout",
          "text": [
            "\n",
            "\n",
            "Epoch 13\n"
          ]
        },
        {
          "output_type": "stream",
          "name": "stderr",
          "text": [
            "\n",
            "Training: 100%|██████████| 100/100 [00:48<00:00,  2.05it/s, loss=0.951]\n",
            "Validation: 100%|██████████| 20/20 [00:04<00:00,  4.39it/s, accuracy=0.584]\n"
          ]
        },
        {
          "output_type": "stream",
          "name": "stdout",
          "text": [
            "Best performing model, saving state to /content/drive/MyDrive/prototypical_network_v2\n",
            "\n",
            "Epoch 14\n"
          ]
        },
        {
          "output_type": "stream",
          "name": "stderr",
          "text": [
            "Training: 100%|██████████| 100/100 [00:48<00:00,  2.06it/s, loss=0.918]\n",
            "Validation: 100%|██████████| 20/20 [00:04<00:00,  4.12it/s, accuracy=0.564]"
          ]
        },
        {
          "output_type": "stream",
          "name": "stdout",
          "text": [
            "\n",
            "\n",
            "Epoch 15\n"
          ]
        },
        {
          "output_type": "stream",
          "name": "stderr",
          "text": [
            "\n",
            "Training: 100%|██████████| 100/100 [00:48<00:00,  2.06it/s, loss=0.889]\n",
            "Validation: 100%|██████████| 20/20 [00:04<00:00,  4.10it/s, accuracy=0.718]\n"
          ]
        },
        {
          "output_type": "stream",
          "name": "stdout",
          "text": [
            "Best performing model, saving state to /content/drive/MyDrive/prototypical_network_v2\n",
            "\n",
            "Epoch 16\n"
          ]
        },
        {
          "output_type": "stream",
          "name": "stderr",
          "text": [
            "Training: 100%|██████████| 100/100 [00:48<00:00,  2.05it/s, loss=0.845]\n",
            "Validation: 100%|██████████| 20/20 [00:04<00:00,  4.38it/s, accuracy=0.64]"
          ]
        },
        {
          "output_type": "stream",
          "name": "stdout",
          "text": [
            "\n",
            "\n",
            "Epoch 17\n"
          ]
        },
        {
          "output_type": "stream",
          "name": "stderr",
          "text": [
            "\n",
            "Training: 100%|██████████| 100/100 [00:48<00:00,  2.06it/s, loss=0.844]\n",
            "Validation: 100%|██████████| 20/20 [00:04<00:00,  4.21it/s, accuracy=0.554]"
          ]
        },
        {
          "output_type": "stream",
          "name": "stdout",
          "text": [
            "\n",
            "\n",
            "Epoch 18\n"
          ]
        },
        {
          "output_type": "stream",
          "name": "stderr",
          "text": [
            "\n",
            "Training: 100%|██████████| 100/100 [00:48<00:00,  2.07it/s, loss=0.843]\n",
            "Validation: 100%|██████████| 20/20 [00:04<00:00,  4.26it/s, accuracy=0.62]"
          ]
        },
        {
          "output_type": "stream",
          "name": "stdout",
          "text": [
            "\n",
            "\n",
            "Epoch 19\n"
          ]
        },
        {
          "output_type": "stream",
          "name": "stderr",
          "text": [
            "\n",
            "Training: 100%|██████████| 100/100 [00:48<00:00,  2.05it/s, loss=0.801]\n",
            "Validation: 100%|██████████| 20/20 [00:04<00:00,  4.27it/s, accuracy=0.66]"
          ]
        },
        {
          "output_type": "stream",
          "name": "stdout",
          "text": [
            "\n",
            "\n",
            "Epoch 20\n"
          ]
        },
        {
          "output_type": "stream",
          "name": "stderr",
          "text": [
            "\n",
            "Training: 100%|██████████| 100/100 [00:48<00:00,  2.06it/s, loss=0.767]\n",
            "Validation: 100%|██████████| 20/20 [00:04<00:00,  4.09it/s, accuracy=0.686]"
          ]
        },
        {
          "output_type": "stream",
          "name": "stdout",
          "text": [
            "\n",
            "\n",
            "Epoch 21\n"
          ]
        },
        {
          "output_type": "stream",
          "name": "stderr",
          "text": [
            "\n",
            "Training: 100%|██████████| 100/100 [00:48<00:00,  2.05it/s, loss=0.77]\n",
            "Validation: 100%|██████████| 20/20 [00:04<00:00,  4.06it/s, accuracy=0.566]"
          ]
        },
        {
          "output_type": "stream",
          "name": "stdout",
          "text": [
            "\n",
            "\n",
            "Epoch 22\n"
          ]
        },
        {
          "output_type": "stream",
          "name": "stderr",
          "text": [
            "\n",
            "Training: 100%|██████████| 100/100 [00:48<00:00,  2.04it/s, loss=0.712]\n",
            "Validation: 100%|██████████| 20/20 [00:04<00:00,  4.30it/s, accuracy=0.654]"
          ]
        },
        {
          "output_type": "stream",
          "name": "stdout",
          "text": [
            "\n",
            "\n",
            "Epoch 23\n"
          ]
        },
        {
          "output_type": "stream",
          "name": "stderr",
          "text": [
            "\n",
            "Training: 100%|██████████| 100/100 [00:48<00:00,  2.05it/s, loss=0.732]\n",
            "Validation: 100%|██████████| 20/20 [00:04<00:00,  4.14it/s, accuracy=0.676]"
          ]
        },
        {
          "output_type": "stream",
          "name": "stdout",
          "text": [
            "\n",
            "\n",
            "Epoch 24\n"
          ]
        },
        {
          "output_type": "stream",
          "name": "stderr",
          "text": [
            "\n",
            "Training: 100%|██████████| 100/100 [00:48<00:00,  2.06it/s, loss=0.694]\n",
            "Validation: 100%|██████████| 20/20 [00:04<00:00,  4.19it/s, accuracy=0.648]"
          ]
        },
        {
          "output_type": "stream",
          "name": "stdout",
          "text": [
            "\n",
            "\n",
            "Epoch 25\n"
          ]
        },
        {
          "output_type": "stream",
          "name": "stderr",
          "text": [
            "\n",
            "Training: 100%|██████████| 100/100 [00:48<00:00,  2.05it/s, loss=0.728]\n",
            "Validation: 100%|██████████| 20/20 [00:04<00:00,  4.34it/s, accuracy=0.702]"
          ]
        },
        {
          "output_type": "stream",
          "name": "stdout",
          "text": [
            "\n",
            "\n",
            "Epoch 26\n"
          ]
        },
        {
          "output_type": "stream",
          "name": "stderr",
          "text": [
            "\n",
            "Training: 100%|██████████| 100/100 [00:48<00:00,  2.05it/s, loss=0.666]\n",
            "Validation: 100%|██████████| 20/20 [00:04<00:00,  4.18it/s, accuracy=0.67]"
          ]
        },
        {
          "output_type": "stream",
          "name": "stdout",
          "text": [
            "\n",
            "\n",
            "Epoch 27\n"
          ]
        },
        {
          "output_type": "stream",
          "name": "stderr",
          "text": [
            "\n",
            "Training: 100%|██████████| 100/100 [00:49<00:00,  2.04it/s, loss=0.629]\n",
            "Validation: 100%|██████████| 20/20 [00:04<00:00,  4.31it/s, accuracy=0.764]\n"
          ]
        },
        {
          "output_type": "stream",
          "name": "stdout",
          "text": [
            "Best performing model, saving state to /content/drive/MyDrive/prototypical_network_v2\n",
            "\n",
            "Epoch 28\n"
          ]
        },
        {
          "output_type": "stream",
          "name": "stderr",
          "text": [
            "Training: 100%|██████████| 100/100 [00:48<00:00,  2.05it/s, loss=0.698]\n",
            "Validation: 100%|██████████| 20/20 [00:04<00:00,  4.00it/s, accuracy=0.64]"
          ]
        },
        {
          "output_type": "stream",
          "name": "stdout",
          "text": [
            "\n",
            "\n",
            "Epoch 29\n"
          ]
        },
        {
          "output_type": "stream",
          "name": "stderr",
          "text": [
            "\n",
            "Training: 100%|██████████| 100/100 [00:48<00:00,  2.04it/s, loss=0.652]\n",
            "Validation: 100%|██████████| 20/20 [00:04<00:00,  4.01it/s, accuracy=0.726]"
          ]
        },
        {
          "output_type": "stream",
          "name": "stdout",
          "text": [
            "\n",
            "\n",
            "Epoch 30\n"
          ]
        },
        {
          "output_type": "stream",
          "name": "stderr",
          "text": [
            "\n",
            "Training: 100%|██████████| 100/100 [00:48<00:00,  2.05it/s, loss=0.6]\n",
            "Validation: 100%|██████████| 20/20 [00:04<00:00,  4.18it/s, accuracy=0.73]"
          ]
        },
        {
          "output_type": "stream",
          "name": "stdout",
          "text": [
            "\n",
            "\n",
            "Epoch 31\n"
          ]
        },
        {
          "output_type": "stream",
          "name": "stderr",
          "text": [
            "\n",
            "Training: 100%|██████████| 100/100 [00:48<00:00,  2.05it/s, loss=0.6]\n",
            "Validation: 100%|██████████| 20/20 [00:04<00:00,  4.19it/s, accuracy=0.718]"
          ]
        },
        {
          "output_type": "stream",
          "name": "stdout",
          "text": [
            "\n",
            "\n",
            "Epoch 32\n"
          ]
        },
        {
          "output_type": "stream",
          "name": "stderr",
          "text": [
            "\n",
            "Training: 100%|██████████| 100/100 [00:48<00:00,  2.06it/s, loss=0.616]\n",
            "Validation: 100%|██████████| 20/20 [00:04<00:00,  4.19it/s, accuracy=0.732]"
          ]
        },
        {
          "output_type": "stream",
          "name": "stdout",
          "text": [
            "\n",
            "\n",
            "Epoch 33\n"
          ]
        },
        {
          "output_type": "stream",
          "name": "stderr",
          "text": [
            "\n",
            "Training: 100%|██████████| 100/100 [00:48<00:00,  2.04it/s, loss=0.599]\n",
            "Validation: 100%|██████████| 20/20 [00:04<00:00,  4.14it/s, accuracy=0.72]"
          ]
        },
        {
          "output_type": "stream",
          "name": "stdout",
          "text": [
            "\n",
            "\n",
            "Epoch 34\n"
          ]
        },
        {
          "output_type": "stream",
          "name": "stderr",
          "text": [
            "\n",
            "Training: 100%|██████████| 100/100 [00:48<00:00,  2.06it/s, loss=0.579]\n",
            "Validation: 100%|██████████| 20/20 [00:04<00:00,  4.16it/s, accuracy=0.746]"
          ]
        },
        {
          "output_type": "stream",
          "name": "stdout",
          "text": [
            "\n",
            "\n",
            "Epoch 35\n"
          ]
        },
        {
          "output_type": "stream",
          "name": "stderr",
          "text": [
            "\n",
            "Training: 100%|██████████| 100/100 [00:48<00:00,  2.06it/s, loss=0.525]\n",
            "Validation: 100%|██████████| 20/20 [00:04<00:00,  4.03it/s, accuracy=0.744]"
          ]
        },
        {
          "output_type": "stream",
          "name": "stdout",
          "text": [
            "\n",
            "\n",
            "Epoch 36\n"
          ]
        },
        {
          "output_type": "stream",
          "name": "stderr",
          "text": [
            "\n",
            "Training: 100%|██████████| 100/100 [00:48<00:00,  2.06it/s, loss=0.526]\n",
            "Validation: 100%|██████████| 20/20 [00:04<00:00,  4.15it/s, accuracy=0.686]"
          ]
        },
        {
          "output_type": "stream",
          "name": "stdout",
          "text": [
            "\n",
            "\n",
            "Epoch 37\n"
          ]
        },
        {
          "output_type": "stream",
          "name": "stderr",
          "text": [
            "\n",
            "Training: 100%|██████████| 100/100 [00:48<00:00,  2.06it/s, loss=0.542]\n",
            "Validation: 100%|██████████| 20/20 [00:04<00:00,  4.36it/s, accuracy=0.736]"
          ]
        },
        {
          "output_type": "stream",
          "name": "stdout",
          "text": [
            "\n",
            "\n",
            "Epoch 38\n"
          ]
        },
        {
          "output_type": "stream",
          "name": "stderr",
          "text": [
            "\n",
            "Training: 100%|██████████| 100/100 [00:48<00:00,  2.05it/s, loss=0.518]\n",
            "Validation: 100%|██████████| 20/20 [00:04<00:00,  4.13it/s, accuracy=0.72]"
          ]
        },
        {
          "output_type": "stream",
          "name": "stdout",
          "text": [
            "\n",
            "\n",
            "Epoch 39\n"
          ]
        },
        {
          "output_type": "stream",
          "name": "stderr",
          "text": [
            "\n",
            "Training: 100%|██████████| 100/100 [00:48<00:00,  2.06it/s, loss=0.548]\n",
            "Validation: 100%|██████████| 20/20 [00:04<00:00,  4.17it/s, accuracy=0.736]"
          ]
        },
        {
          "output_type": "stream",
          "name": "stdout",
          "text": [
            "\n",
            "\n",
            "Epoch 40\n"
          ]
        },
        {
          "output_type": "stream",
          "name": "stderr",
          "text": [
            "\n",
            "Training: 100%|██████████| 100/100 [00:48<00:00,  2.05it/s, loss=0.543]\n",
            "Validation: 100%|██████████| 20/20 [00:04<00:00,  4.20it/s, accuracy=0.73]"
          ]
        },
        {
          "output_type": "stream",
          "name": "stdout",
          "text": [
            "\n",
            "\n",
            "Epoch 41\n"
          ]
        },
        {
          "output_type": "stream",
          "name": "stderr",
          "text": [
            "\n",
            "Training: 100%|██████████| 100/100 [00:48<00:00,  2.05it/s, loss=0.562]\n",
            "Validation: 100%|██████████| 20/20 [00:04<00:00,  4.21it/s, accuracy=0.704]"
          ]
        },
        {
          "output_type": "stream",
          "name": "stdout",
          "text": [
            "\n",
            "\n",
            "Epoch 42\n"
          ]
        },
        {
          "output_type": "stream",
          "name": "stderr",
          "text": [
            "\n",
            "Training: 100%|██████████| 100/100 [00:48<00:00,  2.05it/s, loss=0.492]\n",
            "Validation: 100%|██████████| 20/20 [00:04<00:00,  4.08it/s, accuracy=0.762]"
          ]
        },
        {
          "output_type": "stream",
          "name": "stdout",
          "text": [
            "\n",
            "\n",
            "Epoch 43\n"
          ]
        },
        {
          "output_type": "stream",
          "name": "stderr",
          "text": [
            "\n",
            "Training: 100%|██████████| 100/100 [00:48<00:00,  2.05it/s, loss=0.43]\n",
            "Validation: 100%|██████████| 20/20 [00:04<00:00,  4.25it/s, accuracy=0.694]"
          ]
        },
        {
          "output_type": "stream",
          "name": "stdout",
          "text": [
            "\n",
            "\n",
            "Epoch 44\n"
          ]
        },
        {
          "output_type": "stream",
          "name": "stderr",
          "text": [
            "\n",
            "Training: 100%|██████████| 100/100 [00:48<00:00,  2.06it/s, loss=0.516]\n",
            "Validation: 100%|██████████| 20/20 [00:04<00:00,  4.23it/s, accuracy=0.76]"
          ]
        },
        {
          "output_type": "stream",
          "name": "stdout",
          "text": [
            "\n",
            "\n",
            "Epoch 45\n"
          ]
        },
        {
          "output_type": "stream",
          "name": "stderr",
          "text": [
            "\n",
            "Training: 100%|██████████| 100/100 [00:48<00:00,  2.05it/s, loss=0.463]\n",
            "Validation: 100%|██████████| 20/20 [00:04<00:00,  4.11it/s, accuracy=0.71]"
          ]
        },
        {
          "output_type": "stream",
          "name": "stdout",
          "text": [
            "\n",
            "\n",
            "Epoch 46\n"
          ]
        },
        {
          "output_type": "stream",
          "name": "stderr",
          "text": [
            "\n",
            "Training: 100%|██████████| 100/100 [00:48<00:00,  2.04it/s, loss=0.46]\n",
            "Validation: 100%|██████████| 20/20 [00:04<00:00,  4.34it/s, accuracy=0.744]"
          ]
        },
        {
          "output_type": "stream",
          "name": "stdout",
          "text": [
            "\n",
            "\n",
            "Epoch 47\n"
          ]
        },
        {
          "output_type": "stream",
          "name": "stderr",
          "text": [
            "\n",
            "Training: 100%|██████████| 100/100 [00:48<00:00,  2.05it/s, loss=0.466]\n",
            "Validation: 100%|██████████| 20/20 [00:04<00:00,  4.05it/s, accuracy=0.682]"
          ]
        },
        {
          "output_type": "stream",
          "name": "stdout",
          "text": [
            "\n",
            "\n",
            "Epoch 48\n"
          ]
        },
        {
          "output_type": "stream",
          "name": "stderr",
          "text": [
            "\n",
            "Training: 100%|██████████| 100/100 [00:48<00:00,  2.05it/s, loss=0.508]\n",
            "Validation: 100%|██████████| 20/20 [00:05<00:00,  3.96it/s, accuracy=0.82]\n"
          ]
        },
        {
          "output_type": "stream",
          "name": "stdout",
          "text": [
            "Best performing model, saving state to /content/drive/MyDrive/prototypical_network_v2\n",
            "\n",
            "Epoch 49\n"
          ]
        },
        {
          "output_type": "stream",
          "name": "stderr",
          "text": [
            "Training: 100%|██████████| 100/100 [00:48<00:00,  2.04it/s, loss=0.427]\n",
            "Validation: 100%|██████████| 20/20 [00:04<00:00,  4.23it/s, accuracy=0.724]"
          ]
        },
        {
          "output_type": "stream",
          "name": "stdout",
          "text": [
            "\n",
            "\n",
            "Epoch 50\n"
          ]
        },
        {
          "output_type": "stream",
          "name": "stderr",
          "text": [
            "\n",
            "Training: 100%|██████████| 100/100 [00:48<00:00,  2.05it/s, loss=0.442]\n",
            "Validation: 100%|██████████| 20/20 [00:04<00:00,  4.16it/s, accuracy=0.768]"
          ]
        },
        {
          "output_type": "stream",
          "name": "stdout",
          "text": [
            "\n",
            "\n",
            "Epoch 51\n"
          ]
        },
        {
          "output_type": "stream",
          "name": "stderr",
          "text": [
            "\n",
            "Training: 100%|██████████| 100/100 [00:48<00:00,  2.05it/s, loss=0.474]\n",
            "Validation: 100%|██████████| 20/20 [00:04<00:00,  4.28it/s, accuracy=0.75]"
          ]
        },
        {
          "output_type": "stream",
          "name": "stdout",
          "text": [
            "\n",
            "\n",
            "Epoch 52\n"
          ]
        },
        {
          "output_type": "stream",
          "name": "stderr",
          "text": [
            "\n",
            "Training: 100%|██████████| 100/100 [00:48<00:00,  2.05it/s, loss=0.443]\n",
            "Validation: 100%|██████████| 20/20 [00:04<00:00,  4.27it/s, accuracy=0.788]"
          ]
        },
        {
          "output_type": "stream",
          "name": "stdout",
          "text": [
            "\n",
            "\n",
            "Epoch 53\n"
          ]
        },
        {
          "output_type": "stream",
          "name": "stderr",
          "text": [
            "\n",
            "Training: 100%|██████████| 100/100 [00:48<00:00,  2.05it/s, loss=0.438]\n",
            "Validation: 100%|██████████| 20/20 [00:04<00:00,  4.02it/s, accuracy=0.746]"
          ]
        },
        {
          "output_type": "stream",
          "name": "stdout",
          "text": [
            "\n",
            "\n",
            "Epoch 54\n"
          ]
        },
        {
          "output_type": "stream",
          "name": "stderr",
          "text": [
            "\n",
            "Training: 100%|██████████| 100/100 [00:48<00:00,  2.06it/s, loss=0.437]\n",
            "Validation: 100%|██████████| 20/20 [00:04<00:00,  4.12it/s, accuracy=0.77]"
          ]
        },
        {
          "output_type": "stream",
          "name": "stdout",
          "text": [
            "\n",
            "\n",
            "Epoch 55\n"
          ]
        },
        {
          "output_type": "stream",
          "name": "stderr",
          "text": [
            "\n",
            "Training: 100%|██████████| 100/100 [00:48<00:00,  2.04it/s, loss=0.411]\n",
            "Validation: 100%|██████████| 20/20 [00:04<00:00,  4.17it/s, accuracy=0.766]"
          ]
        },
        {
          "output_type": "stream",
          "name": "stdout",
          "text": [
            "\n",
            "\n",
            "Epoch 56\n"
          ]
        },
        {
          "output_type": "stream",
          "name": "stderr",
          "text": [
            "\n",
            "Training: 100%|██████████| 100/100 [00:48<00:00,  2.06it/s, loss=0.437]\n",
            "Validation: 100%|██████████| 20/20 [00:04<00:00,  4.24it/s, accuracy=0.806]"
          ]
        },
        {
          "output_type": "stream",
          "name": "stdout",
          "text": [
            "\n",
            "\n",
            "Epoch 57\n"
          ]
        },
        {
          "output_type": "stream",
          "name": "stderr",
          "text": [
            "\n",
            "Training: 100%|██████████| 100/100 [00:48<00:00,  2.06it/s, loss=0.442]\n",
            "Validation: 100%|██████████| 20/20 [00:04<00:00,  4.11it/s, accuracy=0.78]"
          ]
        },
        {
          "output_type": "stream",
          "name": "stdout",
          "text": [
            "\n",
            "\n",
            "Epoch 58\n"
          ]
        },
        {
          "output_type": "stream",
          "name": "stderr",
          "text": [
            "\n",
            "Training: 100%|██████████| 100/100 [00:48<00:00,  2.06it/s, loss=0.459]\n",
            "Validation: 100%|██████████| 20/20 [00:04<00:00,  4.07it/s, accuracy=0.78]"
          ]
        },
        {
          "output_type": "stream",
          "name": "stdout",
          "text": [
            "\n",
            "\n",
            "Epoch 59\n"
          ]
        },
        {
          "output_type": "stream",
          "name": "stderr",
          "text": [
            "\n",
            "Training: 100%|██████████| 100/100 [00:48<00:00,  2.05it/s, loss=0.452]\n",
            "Validation: 100%|██████████| 20/20 [00:04<00:00,  4.12it/s, accuracy=0.76]"
          ]
        },
        {
          "output_type": "stream",
          "name": "stdout",
          "text": [
            "\n",
            "\n",
            "Epoch 60\n"
          ]
        },
        {
          "output_type": "stream",
          "name": "stderr",
          "text": [
            "\n",
            "Training: 100%|██████████| 100/100 [00:48<00:00,  2.05it/s, loss=0.432]\n",
            "Validation: 100%|██████████| 20/20 [00:04<00:00,  4.24it/s, accuracy=0.808]"
          ]
        },
        {
          "output_type": "stream",
          "name": "stdout",
          "text": [
            "\n",
            "\n",
            "Epoch 61\n"
          ]
        },
        {
          "output_type": "stream",
          "name": "stderr",
          "text": [
            "\n",
            "Training: 100%|██████████| 100/100 [00:48<00:00,  2.05it/s, loss=0.387]\n",
            "Validation: 100%|██████████| 20/20 [00:04<00:00,  4.20it/s, accuracy=0.824]\n"
          ]
        },
        {
          "output_type": "stream",
          "name": "stdout",
          "text": [
            "Best performing model, saving state to /content/drive/MyDrive/prototypical_network_v2\n",
            "\n",
            "Epoch 62\n"
          ]
        },
        {
          "output_type": "stream",
          "name": "stderr",
          "text": [
            "Training: 100%|██████████| 100/100 [00:48<00:00,  2.06it/s, loss=0.41]\n",
            "Validation: 100%|██████████| 20/20 [00:04<00:00,  4.21it/s, accuracy=0.778]"
          ]
        },
        {
          "output_type": "stream",
          "name": "stdout",
          "text": [
            "\n",
            "\n",
            "Epoch 63\n"
          ]
        },
        {
          "output_type": "stream",
          "name": "stderr",
          "text": [
            "\n",
            "Training: 100%|██████████| 100/100 [00:48<00:00,  2.05it/s, loss=0.361]\n",
            "Validation: 100%|██████████| 20/20 [00:04<00:00,  4.21it/s, accuracy=0.794]"
          ]
        },
        {
          "output_type": "stream",
          "name": "stdout",
          "text": [
            "\n",
            "\n",
            "Epoch 64\n"
          ]
        },
        {
          "output_type": "stream",
          "name": "stderr",
          "text": [
            "\n",
            "Training: 100%|██████████| 100/100 [00:48<00:00,  2.06it/s, loss=0.362]\n",
            "Validation: 100%|██████████| 20/20 [00:04<00:00,  4.17it/s, accuracy=0.804]"
          ]
        },
        {
          "output_type": "stream",
          "name": "stdout",
          "text": [
            "\n",
            "\n",
            "Epoch 65\n"
          ]
        },
        {
          "output_type": "stream",
          "name": "stderr",
          "text": [
            "\n",
            "Training: 100%|██████████| 100/100 [00:48<00:00,  2.04it/s, loss=0.359]\n",
            "Validation: 100%|██████████| 20/20 [00:04<00:00,  4.23it/s, accuracy=0.778]"
          ]
        },
        {
          "output_type": "stream",
          "name": "stdout",
          "text": [
            "\n",
            "\n",
            "Epoch 66\n"
          ]
        },
        {
          "output_type": "stream",
          "name": "stderr",
          "text": [
            "\n",
            "Training: 100%|██████████| 100/100 [00:48<00:00,  2.05it/s, loss=0.38]\n",
            "Validation: 100%|██████████| 20/20 [00:04<00:00,  4.17it/s, accuracy=0.776]"
          ]
        },
        {
          "output_type": "stream",
          "name": "stdout",
          "text": [
            "\n",
            "\n",
            "Epoch 67\n"
          ]
        },
        {
          "output_type": "stream",
          "name": "stderr",
          "text": [
            "\n",
            "Training: 100%|██████████| 100/100 [00:48<00:00,  2.06it/s, loss=0.392]\n",
            "Validation: 100%|██████████| 20/20 [00:05<00:00,  3.93it/s, accuracy=0.766]"
          ]
        },
        {
          "output_type": "stream",
          "name": "stdout",
          "text": [
            "\n",
            "\n",
            "Epoch 68\n"
          ]
        },
        {
          "output_type": "stream",
          "name": "stderr",
          "text": [
            "\n",
            "Training: 100%|██████████| 100/100 [00:48<00:00,  2.04it/s, loss=0.379]\n",
            "Validation: 100%|██████████| 20/20 [00:04<00:00,  4.19it/s, accuracy=0.802]"
          ]
        },
        {
          "output_type": "stream",
          "name": "stdout",
          "text": [
            "\n",
            "\n",
            "Epoch 69\n"
          ]
        },
        {
          "output_type": "stream",
          "name": "stderr",
          "text": [
            "\n",
            "Training: 100%|██████████| 100/100 [00:48<00:00,  2.05it/s, loss=0.362]\n",
            "Validation: 100%|██████████| 20/20 [00:04<00:00,  4.00it/s, accuracy=0.804]"
          ]
        },
        {
          "output_type": "stream",
          "name": "stdout",
          "text": [
            "\n",
            "\n",
            "Epoch 70\n"
          ]
        },
        {
          "output_type": "stream",
          "name": "stderr",
          "text": [
            "\n",
            "Training: 100%|██████████| 100/100 [00:48<00:00,  2.05it/s, loss=0.313]\n",
            "Validation: 100%|██████████| 20/20 [00:04<00:00,  4.17it/s, accuracy=0.834]\n"
          ]
        },
        {
          "output_type": "stream",
          "name": "stdout",
          "text": [
            "Best performing model, saving state to /content/drive/MyDrive/prototypical_network_v2\n",
            "\n",
            "Epoch 71\n"
          ]
        },
        {
          "output_type": "stream",
          "name": "stderr",
          "text": [
            "Training: 100%|██████████| 100/100 [00:48<00:00,  2.05it/s, loss=0.354]\n",
            "Validation: 100%|██████████| 20/20 [00:04<00:00,  4.22it/s, accuracy=0.796]"
          ]
        },
        {
          "output_type": "stream",
          "name": "stdout",
          "text": [
            "\n",
            "\n",
            "Epoch 72\n"
          ]
        },
        {
          "output_type": "stream",
          "name": "stderr",
          "text": [
            "\n",
            "Training: 100%|██████████| 100/100 [00:48<00:00,  2.05it/s, loss=0.387]\n",
            "Validation: 100%|██████████| 20/20 [00:04<00:00,  4.25it/s, accuracy=0.826]"
          ]
        },
        {
          "output_type": "stream",
          "name": "stdout",
          "text": [
            "\n",
            "\n",
            "Epoch 73\n"
          ]
        },
        {
          "output_type": "stream",
          "name": "stderr",
          "text": [
            "\n",
            "Training: 100%|██████████| 100/100 [00:48<00:00,  2.05it/s, loss=0.342]\n",
            "Validation: 100%|██████████| 20/20 [00:04<00:00,  4.03it/s, accuracy=0.852]\n"
          ]
        },
        {
          "output_type": "stream",
          "name": "stdout",
          "text": [
            "Best performing model, saving state to /content/drive/MyDrive/prototypical_network_v2\n",
            "\n",
            "Epoch 74\n"
          ]
        },
        {
          "output_type": "stream",
          "name": "stderr",
          "text": [
            "Training: 100%|██████████| 100/100 [00:48<00:00,  2.06it/s, loss=0.345]\n",
            "Validation: 100%|██████████| 20/20 [00:05<00:00,  3.72it/s, accuracy=0.836]"
          ]
        },
        {
          "output_type": "stream",
          "name": "stdout",
          "text": [
            "\n",
            "\n",
            "Epoch 75\n"
          ]
        },
        {
          "output_type": "stream",
          "name": "stderr",
          "text": [
            "\n",
            "Training: 100%|██████████| 100/100 [00:48<00:00,  2.05it/s, loss=0.349]\n",
            "Validation: 100%|██████████| 20/20 [00:04<00:00,  4.07it/s, accuracy=0.784]"
          ]
        },
        {
          "output_type": "stream",
          "name": "stdout",
          "text": [
            "\n",
            "\n",
            "Epoch 76\n"
          ]
        },
        {
          "output_type": "stream",
          "name": "stderr",
          "text": [
            "\n",
            "Training: 100%|██████████| 100/100 [00:48<00:00,  2.06it/s, loss=0.341]\n",
            "Validation: 100%|██████████| 20/20 [00:04<00:00,  4.28it/s, accuracy=0.772]"
          ]
        },
        {
          "output_type": "stream",
          "name": "stdout",
          "text": [
            "\n",
            "\n",
            "Epoch 77\n"
          ]
        },
        {
          "output_type": "stream",
          "name": "stderr",
          "text": [
            "\n",
            "Training: 100%|██████████| 100/100 [00:49<00:00,  2.04it/s, loss=0.333]\n",
            "Validation: 100%|██████████| 20/20 [00:04<00:00,  4.15it/s, accuracy=0.81]"
          ]
        },
        {
          "output_type": "stream",
          "name": "stdout",
          "text": [
            "\n",
            "\n",
            "Epoch 78\n"
          ]
        },
        {
          "output_type": "stream",
          "name": "stderr",
          "text": [
            "\n",
            "Training: 100%|██████████| 100/100 [00:48<00:00,  2.05it/s, loss=0.352]\n",
            "Validation: 100%|██████████| 20/20 [00:04<00:00,  4.16it/s, accuracy=0.794]"
          ]
        },
        {
          "output_type": "stream",
          "name": "stdout",
          "text": [
            "\n",
            "\n",
            "Epoch 79\n"
          ]
        },
        {
          "output_type": "stream",
          "name": "stderr",
          "text": [
            "\n",
            "Training: 100%|██████████| 100/100 [00:48<00:00,  2.05it/s, loss=0.347]\n",
            "Validation: 100%|██████████| 20/20 [00:04<00:00,  4.07it/s, accuracy=0.794]"
          ]
        },
        {
          "output_type": "stream",
          "name": "stdout",
          "text": [
            "\n",
            "\n",
            "Epoch 80\n"
          ]
        },
        {
          "output_type": "stream",
          "name": "stderr",
          "text": [
            "\n",
            "Training: 100%|██████████| 100/100 [00:48<00:00,  2.06it/s, loss=0.309]\n",
            "Validation: 100%|██████████| 20/20 [00:04<00:00,  4.11it/s, accuracy=0.798]"
          ]
        },
        {
          "output_type": "stream",
          "name": "stdout",
          "text": [
            "\n",
            "\n",
            "Epoch 81\n"
          ]
        },
        {
          "output_type": "stream",
          "name": "stderr",
          "text": [
            "\n",
            "Training: 100%|██████████| 100/100 [00:48<00:00,  2.05it/s, loss=0.288]\n",
            "Validation: 100%|██████████| 20/20 [00:04<00:00,  4.24it/s, accuracy=0.802]"
          ]
        },
        {
          "output_type": "stream",
          "name": "stdout",
          "text": [
            "\n",
            "\n",
            "Epoch 82\n"
          ]
        },
        {
          "output_type": "stream",
          "name": "stderr",
          "text": [
            "\n",
            "Training: 100%|██████████| 100/100 [00:49<00:00,  2.04it/s, loss=0.306]\n",
            "Validation: 100%|██████████| 20/20 [00:04<00:00,  4.19it/s, accuracy=0.792]"
          ]
        },
        {
          "output_type": "stream",
          "name": "stdout",
          "text": [
            "\n",
            "\n",
            "Epoch 83\n"
          ]
        },
        {
          "output_type": "stream",
          "name": "stderr",
          "text": [
            "\n",
            "Training: 100%|██████████| 100/100 [00:48<00:00,  2.05it/s, loss=0.314]\n",
            "Validation: 100%|██████████| 20/20 [00:04<00:00,  4.22it/s, accuracy=0.828]"
          ]
        },
        {
          "output_type": "stream",
          "name": "stdout",
          "text": [
            "\n",
            "\n",
            "Epoch 84\n"
          ]
        },
        {
          "output_type": "stream",
          "name": "stderr",
          "text": [
            "\n",
            "Training: 100%|██████████| 100/100 [00:48<00:00,  2.05it/s, loss=0.304]\n",
            "Validation: 100%|██████████| 20/20 [00:04<00:00,  4.04it/s, accuracy=0.822]"
          ]
        },
        {
          "output_type": "stream",
          "name": "stdout",
          "text": [
            "\n",
            "\n",
            "Epoch 85\n"
          ]
        },
        {
          "output_type": "stream",
          "name": "stderr",
          "text": [
            "\n",
            "Training: 100%|██████████| 100/100 [00:48<00:00,  2.05it/s, loss=0.311]\n",
            "Validation: 100%|██████████| 20/20 [00:04<00:00,  4.17it/s, accuracy=0.814]"
          ]
        },
        {
          "output_type": "stream",
          "name": "stdout",
          "text": [
            "\n",
            "\n",
            "Epoch 86\n"
          ]
        },
        {
          "output_type": "stream",
          "name": "stderr",
          "text": [
            "\n",
            "Training: 100%|██████████| 100/100 [00:48<00:00,  2.06it/s, loss=0.308]\n",
            "Validation: 100%|██████████| 20/20 [00:04<00:00,  4.10it/s, accuracy=0.822]"
          ]
        },
        {
          "output_type": "stream",
          "name": "stdout",
          "text": [
            "\n",
            "\n",
            "Epoch 87\n"
          ]
        },
        {
          "output_type": "stream",
          "name": "stderr",
          "text": [
            "\n",
            "Training: 100%|██████████| 100/100 [00:48<00:00,  2.05it/s, loss=0.299]\n",
            "Validation: 100%|██████████| 20/20 [00:04<00:00,  4.19it/s, accuracy=0.818]"
          ]
        },
        {
          "output_type": "stream",
          "name": "stdout",
          "text": [
            "\n",
            "\n",
            "Epoch 88\n"
          ]
        },
        {
          "output_type": "stream",
          "name": "stderr",
          "text": [
            "\n",
            "Training: 100%|██████████| 100/100 [00:48<00:00,  2.06it/s, loss=0.29]\n",
            "Validation: 100%|██████████| 20/20 [00:04<00:00,  4.13it/s, accuracy=0.814]"
          ]
        },
        {
          "output_type": "stream",
          "name": "stdout",
          "text": [
            "\n",
            "\n",
            "Epoch 89\n"
          ]
        },
        {
          "output_type": "stream",
          "name": "stderr",
          "text": [
            "\n",
            "Training: 100%|██████████| 100/100 [00:48<00:00,  2.05it/s, loss=0.302]\n",
            "Validation: 100%|██████████| 20/20 [00:04<00:00,  4.29it/s, accuracy=0.866]\n"
          ]
        },
        {
          "output_type": "stream",
          "name": "stdout",
          "text": [
            "Best performing model, saving state to /content/drive/MyDrive/prototypical_network_v2\n",
            "\n",
            "Epoch 90\n"
          ]
        },
        {
          "output_type": "stream",
          "name": "stderr",
          "text": [
            "Training: 100%|██████████| 100/100 [00:48<00:00,  2.06it/s, loss=0.317]\n",
            "Validation: 100%|██████████| 20/20 [00:04<00:00,  4.08it/s, accuracy=0.774]"
          ]
        },
        {
          "output_type": "stream",
          "name": "stdout",
          "text": [
            "\n",
            "\n",
            "Epoch 91\n"
          ]
        },
        {
          "output_type": "stream",
          "name": "stderr",
          "text": [
            "\n",
            "Training: 100%|██████████| 100/100 [00:48<00:00,  2.06it/s, loss=0.317]\n",
            "Validation: 100%|██████████| 20/20 [00:04<00:00,  4.14it/s, accuracy=0.816]"
          ]
        },
        {
          "output_type": "stream",
          "name": "stdout",
          "text": [
            "\n",
            "\n",
            "Epoch 92\n"
          ]
        },
        {
          "output_type": "stream",
          "name": "stderr",
          "text": [
            "\n",
            "Training: 100%|██████████| 100/100 [00:48<00:00,  2.05it/s, loss=0.282]\n",
            "Validation: 100%|██████████| 20/20 [00:04<00:00,  4.08it/s, accuracy=0.816]"
          ]
        },
        {
          "output_type": "stream",
          "name": "stdout",
          "text": [
            "\n",
            "\n",
            "Epoch 93\n"
          ]
        },
        {
          "output_type": "stream",
          "name": "stderr",
          "text": [
            "\n",
            "Training: 100%|██████████| 100/100 [00:48<00:00,  2.05it/s, loss=0.297]\n",
            "Validation: 100%|██████████| 20/20 [00:04<00:00,  4.10it/s, accuracy=0.842]"
          ]
        },
        {
          "output_type": "stream",
          "name": "stdout",
          "text": [
            "\n",
            "\n",
            "Epoch 94\n"
          ]
        },
        {
          "output_type": "stream",
          "name": "stderr",
          "text": [
            "\n",
            "Training: 100%|██████████| 100/100 [00:48<00:00,  2.06it/s, loss=0.272]\n",
            "Validation: 100%|██████████| 20/20 [00:04<00:00,  4.12it/s, accuracy=0.764]"
          ]
        },
        {
          "output_type": "stream",
          "name": "stdout",
          "text": [
            "\n",
            "\n",
            "Epoch 95\n"
          ]
        },
        {
          "output_type": "stream",
          "name": "stderr",
          "text": [
            "\n",
            "Training: 100%|██████████| 100/100 [00:48<00:00,  2.05it/s, loss=0.299]\n",
            "Validation: 100%|██████████| 20/20 [00:04<00:00,  4.09it/s, accuracy=0.826]"
          ]
        },
        {
          "output_type": "stream",
          "name": "stdout",
          "text": [
            "\n",
            "\n",
            "Epoch 96\n"
          ]
        },
        {
          "output_type": "stream",
          "name": "stderr",
          "text": [
            "\n",
            "Training: 100%|██████████| 100/100 [00:48<00:00,  2.06it/s, loss=0.256]\n",
            "Validation: 100%|██████████| 20/20 [00:04<00:00,  4.31it/s, accuracy=0.81]"
          ]
        },
        {
          "output_type": "stream",
          "name": "stdout",
          "text": [
            "\n",
            "\n",
            "Epoch 97\n"
          ]
        },
        {
          "output_type": "stream",
          "name": "stderr",
          "text": [
            "\n",
            "Training: 100%|██████████| 100/100 [00:48<00:00,  2.06it/s, loss=0.266]\n",
            "Validation: 100%|██████████| 20/20 [00:04<00:00,  4.24it/s, accuracy=0.76]"
          ]
        },
        {
          "output_type": "stream",
          "name": "stdout",
          "text": [
            "\n",
            "\n",
            "Epoch 98\n"
          ]
        },
        {
          "output_type": "stream",
          "name": "stderr",
          "text": [
            "\n",
            "Training: 100%|██████████| 100/100 [00:48<00:00,  2.06it/s, loss=0.302]\n",
            "Validation: 100%|██████████| 20/20 [00:04<00:00,  4.12it/s, accuracy=0.826]"
          ]
        },
        {
          "output_type": "stream",
          "name": "stdout",
          "text": [
            "\n",
            "\n",
            "Epoch 99\n"
          ]
        },
        {
          "output_type": "stream",
          "name": "stderr",
          "text": [
            "\n",
            "Training: 100%|██████████| 100/100 [00:48<00:00,  2.05it/s, loss=0.255]\n",
            "Validation: 100%|██████████| 20/20 [00:04<00:00,  4.11it/s, accuracy=0.766]"
          ]
        },
        {
          "output_type": "stream",
          "name": "stdout",
          "text": [
            "\n",
            "\n",
            "Epoch 100\n"
          ]
        },
        {
          "output_type": "stream",
          "name": "stderr",
          "text": [
            "\n",
            "Training: 100%|██████████| 100/100 [00:48<00:00,  2.04it/s, loss=0.269]\n",
            "Validation: 100%|██████████| 20/20 [00:04<00:00,  4.21it/s, accuracy=0.796]"
          ]
        },
        {
          "output_type": "stream",
          "name": "stdout",
          "text": [
            "\n",
            "\n"
          ]
        },
        {
          "output_type": "stream",
          "name": "stderr",
          "text": [
            "\n"
          ]
        }
      ],
      "source": [
        "best_state = few_shot_classifier.state_dict()\n",
        "best_valid_acc = 0.0\n",
        "\n",
        "early_stopping = 10\n",
        "\n",
        "train_losses = []\n",
        "valid_accs = []\n",
        "for epoch in range(n_epochs):\n",
        "    print(f\"Epoch {epoch+1}\")\n",
        "    epoch_loss = training_epoch(few_shot_classifier, train_loader, optimizer, loss_fn)\n",
        "    train_losses += [epoch_loss]\n",
        "\n",
        "    valid_acc = evaluate(\n",
        "        few_shot_classifier, valid_loader, device=device, tqdm_prefix=\"Validation\"\n",
        "    )\n",
        "\n",
        "\n",
        "    if valid_acc > best_valid_acc:\n",
        "        best_valid_acc = valid_acc\n",
        "        best_state = few_shot_classifier.state_dict()\n",
        "        print(\"Best performing model, saving state to /content/drive/MyDrive/prototypical_network_v2\")\n",
        "        torch.save(few_shot_classifier.state_dict, '/content/drive/MyDrive/prototypical_network_v2')\n",
        "    else:\n",
        "      print()\n",
        "\n",
        "    valid_accs += [valid_acc]\n",
        "\n",
        "    # if epoch > early_stopping and np.mean(valid_accs[-(early_stopping+1):]) > valid_acc:\n",
        "    #   print('Early stopping criteria met. Stopping training...')\n",
        "    #   print(np.mean(valid_accs[-(early_stopping+1):]))\n",
        "    #   print(valid_acc)\n",
        "    #   break\n",
        "\n",
        "    # print()\n",
        "\n",
        "    optimizer.step()"
      ]
    },
    {
      "cell_type": "code",
      "execution_count": 155,
      "metadata": {
        "id": "B70fgFuW2E0z"
      },
      "outputs": [],
      "source": [
        "torch.save(few_shot_classifier.state_dict, '/content/prototypical_network_v1')"
      ]
    },
    {
      "cell_type": "code",
      "source": [
        "fig,ax = plt.subplots()\n",
        "\n",
        "plt.title('Prototypical Network Learning Curves')\n",
        "\n",
        "ax.plot(train_losses, color='blue')\n",
        "ax.set_xlabel(\"epochs\")\n",
        "ax.set_ylabel('Training loss')\n",
        "\n",
        "ax2=ax.twinx()\n",
        "ax2.plot(valid_accs, color='orange')\n",
        "ax2.set_ylabel('Validation accuracy')\n",
        "\n",
        "plt.show()\n",
        "fig.savefig('/content/prototypical_network_learning_curves_100epochs.png', format='png')"
      ],
      "metadata": {
        "colab": {
          "base_uri": "https://localhost:8080/",
          "height": 472
        },
        "id": "81cwuq5VcUhv",
        "outputId": "35dabf58-e2bc-45b5-df5d-c5998954dfcd"
      },
      "execution_count": 156,
      "outputs": [
        {
          "output_type": "display_data",
          "data": {
            "text/plain": [
              "<Figure size 640x480 with 2 Axes>"
            ],
            "image/png": "[encoded data removed]"
          },
          "metadata": {}
        }
      ]
    },
    {
      "cell_type": "code",
      "source": [],
      "metadata": {
        "id": "qIDwsOEVcY7b"
      },
      "execution_count": null,
      "outputs": []
    }
  ],
  "metadata": {
    "accelerator": "GPU",
    "colab": {
      "collapsed_sections": [
        "WBD68iPadsti",
        "4EIjDfwjdwoT"
      ],
      "gpuType": "A100",
      "provenance": []
    },
    "kernelspec": {
      "display_name": "Python 3",
      "name": "python3"
    },
    "language_info": {
      "name": "python"
    }
  },
  "nbformat": 4,
  "nbformat_minor": 0
}