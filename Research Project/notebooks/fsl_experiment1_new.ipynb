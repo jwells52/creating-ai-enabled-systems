{
  "cells": [
    {
      "cell_type": "markdown",
      "metadata": {
        "colab_type": "text",
        "id": "view-in-github"
      },
      "source": [
        "<a href=\"https://colab.research.google.com/github/jwells52/creating-ai-enabled-systems/blob/main/Research%20Project/notebooks/fsl_experiment1_v2.ipynb\" target=\"_parent\"><img src=\"https://colab.research.google.com/assets/colab-badge.svg\" alt=\"Open In Colab\"/></a>"
      ]
    },
    {
      "cell_type": "markdown",
      "metadata": {
        "id": "WBD68iPadsti"
      },
      "source": [
        "### Install EasyFSL"
      ]
    },
    {
      "cell_type": "code",
      "execution_count": 1,
      "metadata": {
        "colab": {
          "base_uri": "https://localhost:8080/"
        },
        "id": "hWg5yaDZRPAS",
        "outputId": "32123fb2-3140-431f-da40-85aa1233e391"
      },
      "outputs": [
        {
          "name": "stdout",
          "output_type": "stream",
          "text": [
            "Collecting easyfsl\n",
            "  Downloading easyfsl-1.4.0-py3-none-any.whl (65 kB)\n",
            "\u001b[2K     \u001b[90m━━━━━━━━━━━━━━━━━━━━━━━━━━━━━━━━━━━━━━━━\u001b[0m \u001b[32m65.2/65.2 kB\u001b[0m \u001b[31m1.1 MB/s\u001b[0m eta \u001b[36m0:00:00\u001b[0m\n",
            "\u001b[?25hRequirement already satisfied: matplotlib>=3.0.0 in /usr/local/lib/python3.10/dist-packages (from easyfsl) (3.7.1)\n",
            "Requirement already satisfied: pandas>=1.4.0 in /usr/local/lib/python3.10/dist-packages (from easyfsl) (1.5.3)\n",
            "Requirement already satisfied: torch>=1.4.0 in /usr/local/lib/python3.10/dist-packages (from easyfsl) (2.0.1+cu118)\n",
            "Requirement already satisfied: torchvision>=0.7.0 in /usr/local/lib/python3.10/dist-packages (from easyfsl) (0.15.2+cu118)\n",
            "Requirement already satisfied: tqdm>=4.1.0 in /usr/local/lib/python3.10/dist-packages (from easyfsl) (4.65.0)\n",
            "Requirement already satisfied: contourpy>=1.0.1 in /usr/local/lib/python3.10/dist-packages (from matplotlib>=3.0.0->easyfsl) (1.1.0)\n",
            "Requirement already satisfied: cycler>=0.10 in /usr/local/lib/python3.10/dist-packages (from matplotlib>=3.0.0->easyfsl) (0.11.0)\n",
            "Requirement already satisfied: fonttools>=4.22.0 in /usr/local/lib/python3.10/dist-packages (from matplotlib>=3.0.0->easyfsl) (4.41.1)\n",
            "Requirement already satisfied: kiwisolver>=1.0.1 in /usr/local/lib/python3.10/dist-packages (from matplotlib>=3.0.0->easyfsl) (1.4.4)\n",
            "Requirement already satisfied: numpy>=1.20 in /usr/local/lib/python3.10/dist-packages (from matplotlib>=3.0.0->easyfsl) (1.22.4)\n",
            "Requirement already satisfied: packaging>=20.0 in /usr/local/lib/python3.10/dist-packages (from matplotlib>=3.0.0->easyfsl) (23.1)\n",
            "Requirement already satisfied: pillow>=6.2.0 in /usr/local/lib/python3.10/dist-packages (from matplotlib>=3.0.0->easyfsl) (9.4.0)\n",
            "Requirement already satisfied: pyparsing>=2.3.1 in /usr/local/lib/python3.10/dist-packages (from matplotlib>=3.0.0->easyfsl) (3.1.0)\n",
            "Requirement already satisfied: python-dateutil>=2.7 in /usr/local/lib/python3.10/dist-packages (from matplotlib>=3.0.0->easyfsl) (2.8.2)\n",
            "Requirement already satisfied: pytz>=2020.1 in /usr/local/lib/python3.10/dist-packages (from pandas>=1.4.0->easyfsl) (2022.7.1)\n",
            "Requirement already satisfied: filelock in /usr/local/lib/python3.10/dist-packages (from torch>=1.4.0->easyfsl) (3.12.2)\n",
            "Requirement already satisfied: typing-extensions in /usr/local/lib/python3.10/dist-packages (from torch>=1.4.0->easyfsl) (4.7.1)\n",
            "Requirement already satisfied: sympy in /usr/local/lib/python3.10/dist-packages (from torch>=1.4.0->easyfsl) (1.11.1)\n",
            "Requirement already satisfied: networkx in /usr/local/lib/python3.10/dist-packages (from torch>=1.4.0->easyfsl) (3.1)\n",
            "Requirement already satisfied: jinja2 in /usr/local/lib/python3.10/dist-packages (from torch>=1.4.0->easyfsl) (3.1.2)\n",
            "Requirement already satisfied: triton==2.0.0 in /usr/local/lib/python3.10/dist-packages (from torch>=1.4.0->easyfsl) (2.0.0)\n",
            "Requirement already satisfied: cmake in /usr/local/lib/python3.10/dist-packages (from triton==2.0.0->torch>=1.4.0->easyfsl) (3.25.2)\n",
            "Requirement already satisfied: lit in /usr/local/lib/python3.10/dist-packages (from triton==2.0.0->torch>=1.4.0->easyfsl) (16.0.6)\n",
            "Requirement already satisfied: requests in /usr/local/lib/python3.10/dist-packages (from torchvision>=0.7.0->easyfsl) (2.27.1)\n",
            "Requirement already satisfied: six>=1.5 in /usr/local/lib/python3.10/dist-packages (from python-dateutil>=2.7->matplotlib>=3.0.0->easyfsl) (1.16.0)\n",
            "Requirement already satisfied: MarkupSafe>=2.0 in /usr/local/lib/python3.10/dist-packages (from jinja2->torch>=1.4.0->easyfsl) (2.1.3)\n",
            "Requirement already satisfied: urllib3<1.27,>=1.21.1 in /usr/local/lib/python3.10/dist-packages (from requests->torchvision>=0.7.0->easyfsl) (1.26.16)\n",
            "Requirement already satisfied: certifi>=2017.4.17 in /usr/local/lib/python3.10/dist-packages (from requests->torchvision>=0.7.0->easyfsl) (2023.7.22)\n",
            "Requirement already satisfied: charset-normalizer~=2.0.0 in /usr/local/lib/python3.10/dist-packages (from requests->torchvision>=0.7.0->easyfsl) (2.0.12)\n",
            "Requirement already satisfied: idna<4,>=2.5 in /usr/local/lib/python3.10/dist-packages (from requests->torchvision>=0.7.0->easyfsl) (3.4)\n",
            "Requirement already satisfied: mpmath>=0.19 in /usr/local/lib/python3.10/dist-packages (from sympy->torch>=1.4.0->easyfsl) (1.3.0)\n",
            "Installing collected packages: easyfsl\n",
            "Successfully installed easyfsl-1.4.0\n"
          ]
        }
      ],
      "source": [
        "%pip install easyfsl"
      ]
    },
    {
      "cell_type": "markdown",
      "metadata": {
        "id": "4EIjDfwjdwoT"
      },
      "source": [
        "### Download Humpback Whale Identification dataset"
      ]
    },
    {
      "cell_type": "code",
      "execution_count": 2,
      "metadata": {
        "colab": {
          "base_uri": "https://localhost:8080/"
        },
        "id": "wpFPp8FTD2KY",
        "outputId": "d78a6b60-456b-4fb1-c86c-17be1fcd6f07"
      },
      "outputs": [
        {
          "name": "stdout",
          "output_type": "stream",
          "text": [
            "Mounted at /content/drive\n"
          ]
        }
      ],
      "source": [
        "from google.colab import drive\n",
        "drive.mount('/content/drive')"
      ]
    },
    {
      "cell_type": "code",
      "execution_count": 3,
      "metadata": {
        "colab": {
          "base_uri": "https://localhost:8080/"
        },
        "id": "aaIJSEeFdNK5",
        "outputId": "07442b4d-f38e-4ea4-91de-c2067ba6e692"
      },
      "outputs": [
        {
          "name": "stdout",
          "output_type": "stream",
          "text": [
            "Downloading humpback-whale-identification.zip to /content\n",
            "100% 5.50G/5.51G [04:16<00:00, 20.6MB/s]\n",
            "100% 5.51G/5.51G [04:16<00:00, 23.1MB/s]\n"
          ]
        }
      ],
      "source": [
        "!rm -rf /root/.kaggle && mkdir /root/.kaggle && cp /content/drive/MyDrive/Research-Project/kaggle.json /root/.kaggle/kaggle.json && chmod 600 /root/.kaggle/kaggle.json && kaggle competitions download -c humpback-whale-identification"
      ]
    },
    {
      "cell_type": "code",
      "execution_count": 4,
      "metadata": {
        "id": "EAA7yP2NWQNi"
      },
      "outputs": [],
      "source": [
        "%%capture\n",
        "\n",
        "!unzip humpback-whale-identification.zip"
      ]
    },
    {
      "cell_type": "markdown",
      "metadata": {
        "id": "dtM6ET0hOW5c"
      },
      "source": [
        "### Clone GitHub repo"
      ]
    },
    {
      "cell_type": "code",
      "execution_count": 5,
      "metadata": {
        "colab": {
          "base_uri": "https://localhost:8080/"
        },
        "id": "Ktmxn-nPOZlR",
        "outputId": "1761ef06-c93b-458e-9102-b556aca3ddaa"
      },
      "outputs": [
        {
          "name": "stdout",
          "output_type": "stream",
          "text": [
            "Cloning into 'creating-ai-enabled-systems'...\n",
            "remote: Enumerating objects: 473, done.\u001b[K\n",
            "remote: Counting objects: 100% (286/286), done.\u001b[K\n",
            "remote: Compressing objects: 100% (127/127), done.\u001b[K\n",
            "remote: Total 473 (delta 186), reused 238 (delta 157), pack-reused 187\u001b[K\n",
            "Receiving objects: 100% (473/473), 160.26 MiB | 16.20 MiB/s, done.\n",
            "Resolving deltas: 100% (265/265), done.\n",
            "Updating files: 100% (52/52), done.\n",
            "/content/creating-ai-enabled-systems/Research Project\n"
          ]
        }
      ],
      "source": [
        "import os\n",
        "\n",
        "if os.path.exists('/content/creating-ai-enabled-systems/Research Project') == False:\n",
        "  !git clone https://github.com/jwells52/creating-ai-enabled-systems.git\n",
        "\n",
        "%cd creating-ai-enabled-systems/Research\\ Project"
      ]
    },
    {
      "cell_type": "markdown",
      "metadata": {
        "id": "g_HapNgJd1lq"
      },
      "source": [
        "### Imports"
      ]
    },
    {
      "cell_type": "code",
      "execution_count": 7,
      "metadata": {
        "id": "U2cTdMEld26V"
      },
      "outputs": [],
      "source": [
        "import pandas as pd\n",
        "\n",
        "from easyfsl.methods import RelationNetworks, MatchingNetworks, PrototypicalNetworks\n",
        "from modules.data_utils import HumpbackWhaleDataset, remove_new_whale_class\n",
        "from modules.train import train_network, transform, FeatureExtractor\n"
      ]
    },
    {
      "cell_type": "markdown",
      "metadata": {
        "id": "WBnJZl4dt0co"
      },
      "source": [
        "### Load dataset"
      ]
    },
    {
      "cell_type": "code",
      "execution_count": 8,
      "metadata": {
        "id": "4uF_KyfDueIw"
      },
      "outputs": [],
      "source": [
        "train_df = remove_new_whale_class(\n",
        "  pd.read_csv('/content/creating-ai-enabled-systems/Research Project/data/training_10samples.csv')\n",
        ")"
      ]
    },
    {
      "cell_type": "code",
      "execution_count": 9,
      "metadata": {
        "colab": {
          "base_uri": "https://localhost:8080/"
        },
        "id": "ZrIn13-Zh39T",
        "outputId": "acc4ebd7-d7d1-4111-ee6d-2fc1d9d691fd"
      },
      "outputs": [
        {
          "name": "stdout",
          "output_type": "stream",
          "text": [
            "Min # of samples for a class in data set = 11\n",
            "Max # of samples for a class in data set = 73\n",
            "# of classes in data set = 181\n"
          ]
        }
      ],
      "source": [
        "print(f\"Min # of samples for a class in data set = {train_df['class_count'].min()}\")\n",
        "print(f\"Max # of samples for a class in data set = {train_df['class_count'].max()}\")\n",
        "print(f\"# of classes in data set = {len(train_df['Id'].unique())}\")\n"
      ]
    },
    {
      "cell_type": "code",
      "execution_count": 10,
      "metadata": {
        "id": "3Fj84Tx6xASW"
      },
      "outputs": [],
      "source": [
        "train_dataset = HumpbackWhaleDataset('/content/train', train_df, transform=transform)"
      ]
    },
    {
      "cell_type": "markdown",
      "metadata": {
        "id": "uNMcNst5M2bU"
      },
      "source": [
        "# Train on training set for 1-shot, 5-shot, 5-way, 20-way\n",
        "\n",
        "# The following networks are trained\n",
        "1.  Relation Networks\n",
        "2. Matching Networks\n",
        "3. Prototypical Networks"
      ]
    },
    {
      "cell_type": "code",
      "execution_count": 13,
      "metadata": {
        "id": "IRDculIDQIKW"
      },
      "outputs": [],
      "source": [
        "n_epochs = 10\n",
        "learning_rate = 1e-2\n",
        "\n",
        "# Number of Training Task for each epoch\n",
        "# A training task is a random sample of N shots (images) for M classes\n",
        "n_task_per_epoch = 100\n",
        "\n",
        "n_ways = [5, 20]\n",
        "n_shots = [1, 5]\n",
        "n_query = 5"
      ]
    },
    {
      "cell_type": "markdown",
      "metadata": {
        "id": "qpGzR4OXW7He"
      },
      "source": [
        "### Relation Network"
      ]
    },
    {
      "cell_type": "code",
      "execution_count": 21,
      "metadata": {
        "colab": {
          "base_uri": "https://localhost:8080/"
        },
        "id": "TiMkDUS5DiPO",
        "outputId": "7a90e0e0-8391-4e10-e4f2-e7eef079c66d"
      },
      "outputs": [
        {
          "name": "stdout",
          "output_type": "stream",
          "text": [
            "Training Relation Network\n",
            "Training network under 5-way 1-shot\n",
            "\n",
            "Epoch 1\n"
          ]
        },
        {
          "name": "stderr",
          "output_type": "stream",
          "text": [
            "Training: 100%|██████████| 100/100 [00:10<00:00,  9.77it/s, loss=1.47]"
          ]
        },
        {
          "name": "stdout",
          "output_type": "stream",
          "text": [
            "\n",
            "Epoch 2 "
          ]
        },
        {
          "name": "stderr",
          "output_type": "stream",
          "text": [
            "\n",
            "Training: 100%|██████████| 100/100 [00:10<00:00,  9.79it/s, loss=1.3]"
          ]
        },
        {
          "name": "stdout",
          "output_type": "stream",
          "text": [
            "\n",
            "Epoch 3 "
          ]
        },
        {
          "name": "stderr",
          "output_type": "stream",
          "text": [
            "\n",
            "Training: 100%|██████████| 100/100 [00:10<00:00,  9.96it/s, loss=1.28]\n"
          ]
        },
        {
          "name": "stdout",
          "output_type": "stream",
          "text": [
            "\n",
            "Epoch 4 "
          ]
        },
        {
          "name": "stderr",
          "output_type": "stream",
          "text": [
            "Training: 100%|██████████| 100/100 [00:09<00:00, 10.54it/s, loss=1.27]\n"
          ]
        },
        {
          "name": "stdout",
          "output_type": "stream",
          "text": [
            "\n",
            "Epoch 5 "
          ]
        },
        {
          "name": "stderr",
          "output_type": "stream",
          "text": [
            "Training: 100%|██████████| 100/100 [00:09<00:00, 10.04it/s, loss=1.23]\n"
          ]
        },
        {
          "name": "stdout",
          "output_type": "stream",
          "text": [
            "\n",
            "Epoch 6 "
          ]
        },
        {
          "name": "stderr",
          "output_type": "stream",
          "text": [
            "Training: 100%|██████████| 100/100 [00:10<00:00,  9.84it/s, loss=1.23]"
          ]
        },
        {
          "name": "stdout",
          "output_type": "stream",
          "text": [
            "\n",
            "Epoch 7 "
          ]
        },
        {
          "name": "stderr",
          "output_type": "stream",
          "text": [
            "\n",
            "Training: 100%|██████████| 100/100 [00:10<00:00,  9.94it/s, loss=1.17]"
          ]
        },
        {
          "name": "stdout",
          "output_type": "stream",
          "text": [
            "\n",
            "Epoch 8 "
          ]
        },
        {
          "name": "stderr",
          "output_type": "stream",
          "text": [
            "\n",
            "Training: 100%|██████████| 100/100 [00:09<00:00, 10.19it/s, loss=1.15]"
          ]
        },
        {
          "name": "stdout",
          "output_type": "stream",
          "text": [
            "\n",
            "Epoch 9 "
          ]
        },
        {
          "name": "stderr",
          "output_type": "stream",
          "text": [
            "\n",
            "Training: 100%|██████████| 100/100 [00:09<00:00, 10.20it/s, loss=1.17]\n"
          ]
        },
        {
          "name": "stdout",
          "output_type": "stream",
          "text": [
            "\n",
            "Epoch 10 "
          ]
        },
        {
          "name": "stderr",
          "output_type": "stream",
          "text": [
            "Training: 100%|██████████| 100/100 [00:09<00:00, 10.07it/s, loss=1.12]\n"
          ]
        },
        {
          "name": "stdout",
          "output_type": "stream",
          "text": [
            "Saving state of model checkpoint at last epoch to /content/drive/MyDrive/Research-Project/relation_network_5-way_1-shot_last_epoch\n",
            "Training network under 5-way 5-shot\n",
            "\n",
            "Epoch 1\n"
          ]
        },
        {
          "name": "stderr",
          "output_type": "stream",
          "text": [
            "Training: 100%|██████████| 100/100 [00:14<00:00,  6.97it/s, loss=1.46]"
          ]
        },
        {
          "name": "stdout",
          "output_type": "stream",
          "text": [
            "\n",
            "Epoch 2 "
          ]
        },
        {
          "name": "stderr",
          "output_type": "stream",
          "text": [
            "\n",
            "Training: 100%|██████████| 100/100 [00:14<00:00,  6.99it/s, loss=1.31]"
          ]
        },
        {
          "name": "stdout",
          "output_type": "stream",
          "text": [
            "\n",
            "Epoch 3 "
          ]
        },
        {
          "name": "stderr",
          "output_type": "stream",
          "text": [
            "\n",
            "Training: 100%|██████████| 100/100 [00:14<00:00,  7.00it/s, loss=1.22]"
          ]
        },
        {
          "name": "stdout",
          "output_type": "stream",
          "text": [
            "\n",
            "Epoch 4 "
          ]
        },
        {
          "name": "stderr",
          "output_type": "stream",
          "text": [
            "\n",
            "Training: 100%|██████████| 100/100 [00:14<00:00,  6.93it/s, loss=1.19]"
          ]
        },
        {
          "name": "stdout",
          "output_type": "stream",
          "text": [
            "\n",
            "Epoch 5 "
          ]
        },
        {
          "name": "stderr",
          "output_type": "stream",
          "text": [
            "\n",
            "Training: 100%|██████████| 100/100 [00:14<00:00,  6.92it/s, loss=1.12]"
          ]
        },
        {
          "name": "stdout",
          "output_type": "stream",
          "text": [
            "\n",
            "Epoch 6 "
          ]
        },
        {
          "name": "stderr",
          "output_type": "stream",
          "text": [
            "\n",
            "Training: 100%|██████████| 100/100 [00:14<00:00,  6.98it/s, loss=1.09]"
          ]
        },
        {
          "name": "stdout",
          "output_type": "stream",
          "text": [
            "\n",
            "Epoch 7 "
          ]
        },
        {
          "name": "stderr",
          "output_type": "stream",
          "text": [
            "\n",
            "Training: 100%|██████████| 100/100 [00:14<00:00,  7.03it/s, loss=1.07]"
          ]
        },
        {
          "name": "stdout",
          "output_type": "stream",
          "text": [
            "\n",
            "Epoch 8 "
          ]
        },
        {
          "name": "stderr",
          "output_type": "stream",
          "text": [
            "\n",
            "Training: 100%|██████████| 100/100 [00:14<00:00,  7.02it/s, loss=1.05]"
          ]
        },
        {
          "name": "stdout",
          "output_type": "stream",
          "text": [
            "\n",
            "Epoch 9 "
          ]
        },
        {
          "name": "stderr",
          "output_type": "stream",
          "text": [
            "\n",
            "Training: 100%|██████████| 100/100 [00:14<00:00,  6.97it/s, loss=1.04]"
          ]
        },
        {
          "name": "stdout",
          "output_type": "stream",
          "text": [
            "\n",
            "Epoch 10 "
          ]
        },
        {
          "name": "stderr",
          "output_type": "stream",
          "text": [
            "\n",
            "Training: 100%|██████████| 100/100 [00:14<00:00,  7.07it/s, loss=1.02]\n"
          ]
        },
        {
          "name": "stdout",
          "output_type": "stream",
          "text": [
            "Saving state of model checkpoint at last epoch to /content/drive/MyDrive/Research-Project/relation_network_5-way_5-shot_last_epoch\n",
            "Training network under 20-way 1-shot\n",
            "\n",
            "Epoch 1\n"
          ]
        },
        {
          "name": "stderr",
          "output_type": "stream",
          "text": [
            "Training: 100%|██████████| 100/100 [00:38<00:00,  2.61it/s, loss=2.77]"
          ]
        },
        {
          "name": "stdout",
          "output_type": "stream",
          "text": [
            "\n",
            "Epoch 2 "
          ]
        },
        {
          "name": "stderr",
          "output_type": "stream",
          "text": [
            "\n",
            "Training: 100%|██████████| 100/100 [00:37<00:00,  2.65it/s, loss=2.48]"
          ]
        },
        {
          "name": "stdout",
          "output_type": "stream",
          "text": [
            "\n",
            "Epoch 3 "
          ]
        },
        {
          "name": "stderr",
          "output_type": "stream",
          "text": [
            "\n",
            "Training: 100%|██████████| 100/100 [00:38<00:00,  2.61it/s, loss=2.37]"
          ]
        },
        {
          "name": "stdout",
          "output_type": "stream",
          "text": [
            "\n",
            "Epoch 4 "
          ]
        },
        {
          "name": "stderr",
          "output_type": "stream",
          "text": [
            "\n",
            "Training: 100%|██████████| 100/100 [00:37<00:00,  2.66it/s, loss=2.31]"
          ]
        },
        {
          "name": "stdout",
          "output_type": "stream",
          "text": [
            "\n",
            "Epoch 5 "
          ]
        },
        {
          "name": "stderr",
          "output_type": "stream",
          "text": [
            "\n",
            "Training: 100%|██████████| 100/100 [00:37<00:00,  2.63it/s, loss=2.26]"
          ]
        },
        {
          "name": "stdout",
          "output_type": "stream",
          "text": [
            "\n",
            "Epoch 6 "
          ]
        },
        {
          "name": "stderr",
          "output_type": "stream",
          "text": [
            "\n",
            "Training: 100%|██████████| 100/100 [00:37<00:00,  2.64it/s, loss=2.23]"
          ]
        },
        {
          "name": "stdout",
          "output_type": "stream",
          "text": [
            "\n",
            "Epoch 7 "
          ]
        },
        {
          "name": "stderr",
          "output_type": "stream",
          "text": [
            "\n",
            "Training: 100%|██████████| 100/100 [00:37<00:00,  2.65it/s, loss=2.2]"
          ]
        },
        {
          "name": "stdout",
          "output_type": "stream",
          "text": [
            "\n",
            "Epoch 8 "
          ]
        },
        {
          "name": "stderr",
          "output_type": "stream",
          "text": [
            "\n",
            "Training: 100%|██████████| 100/100 [00:37<00:00,  2.66it/s, loss=2.17]"
          ]
        },
        {
          "name": "stdout",
          "output_type": "stream",
          "text": [
            "\n",
            "Epoch 9 "
          ]
        },
        {
          "name": "stderr",
          "output_type": "stream",
          "text": [
            "\n",
            "Training: 100%|██████████| 100/100 [00:37<00:00,  2.65it/s, loss=2.16]"
          ]
        },
        {
          "name": "stdout",
          "output_type": "stream",
          "text": [
            "\n",
            "Epoch 10 "
          ]
        },
        {
          "name": "stderr",
          "output_type": "stream",
          "text": [
            "\n",
            "Training: 100%|██████████| 100/100 [00:37<00:00,  2.66it/s, loss=2.15]\n"
          ]
        },
        {
          "name": "stdout",
          "output_type": "stream",
          "text": [
            "Saving state of model checkpoint at last epoch to /content/drive/MyDrive/Research-Project/relation_network_20-way_1-shot_last_epoch\n",
            "Training network under 20-way 5-shot\n",
            "\n",
            "Epoch 1\n"
          ]
        },
        {
          "name": "stderr",
          "output_type": "stream",
          "text": [
            "Training: 100%|██████████| 100/100 [01:00<00:00,  1.66it/s, loss=2.7]"
          ]
        },
        {
          "name": "stdout",
          "output_type": "stream",
          "text": [
            "\n",
            "Epoch 2 "
          ]
        },
        {
          "name": "stderr",
          "output_type": "stream",
          "text": [
            "\n",
            "Training: 100%|██████████| 100/100 [00:59<00:00,  1.68it/s, loss=2.29]"
          ]
        },
        {
          "name": "stdout",
          "output_type": "stream",
          "text": [
            "\n",
            "Epoch 3 "
          ]
        },
        {
          "name": "stderr",
          "output_type": "stream",
          "text": [
            "\n",
            "Training: 100%|██████████| 100/100 [00:59<00:00,  1.68it/s, loss=2.2]"
          ]
        },
        {
          "name": "stdout",
          "output_type": "stream",
          "text": [
            "\n",
            "Epoch 4 "
          ]
        },
        {
          "name": "stderr",
          "output_type": "stream",
          "text": [
            "\n",
            "Training: 100%|██████████| 100/100 [00:59<00:00,  1.67it/s, loss=2.15]"
          ]
        },
        {
          "name": "stdout",
          "output_type": "stream",
          "text": [
            "\n",
            "Epoch 5 "
          ]
        },
        {
          "name": "stderr",
          "output_type": "stream",
          "text": [
            "\n",
            "Training: 100%|██████████| 100/100 [00:59<00:00,  1.68it/s, loss=2.13]"
          ]
        },
        {
          "name": "stdout",
          "output_type": "stream",
          "text": [
            "\n",
            "Epoch 6 "
          ]
        },
        {
          "name": "stderr",
          "output_type": "stream",
          "text": [
            "\n",
            "Training: 100%|██████████| 100/100 [00:59<00:00,  1.67it/s, loss=2.11]"
          ]
        },
        {
          "name": "stdout",
          "output_type": "stream",
          "text": [
            "\n",
            "Epoch 7 "
          ]
        },
        {
          "name": "stderr",
          "output_type": "stream",
          "text": [
            "\n",
            "Training: 100%|██████████| 100/100 [00:59<00:00,  1.67it/s, loss=2.11]"
          ]
        },
        {
          "name": "stdout",
          "output_type": "stream",
          "text": [
            "\n",
            "Epoch 8 "
          ]
        },
        {
          "name": "stderr",
          "output_type": "stream",
          "text": [
            "\n",
            "Training: 100%|██████████| 100/100 [00:59<00:00,  1.68it/s, loss=2.1]"
          ]
        },
        {
          "name": "stdout",
          "output_type": "stream",
          "text": [
            "\n",
            "Epoch 9 "
          ]
        },
        {
          "name": "stderr",
          "output_type": "stream",
          "text": [
            "\n",
            "Training: 100%|██████████| 100/100 [00:59<00:00,  1.67it/s, loss=2.1]"
          ]
        },
        {
          "name": "stdout",
          "output_type": "stream",
          "text": [
            "\n",
            "Epoch 10 "
          ]
        },
        {
          "name": "stderr",
          "output_type": "stream",
          "text": [
            "\n",
            "Training: 100%|██████████| 100/100 [01:00<00:00,  1.66it/s, loss=2.1]\n"
          ]
        },
        {
          "name": "stdout",
          "output_type": "stream",
          "text": [
            "Saving state of model checkpoint at last epoch to /content/drive/MyDrive/Research-Project/relation_network_20-way_5-shot_last_epoch\n"
          ]
        }
      ],
      "source": [
        "print('Training Relation Network')\n",
        "rn_losses = train_network(\n",
        "    RelationNetworks,\n",
        "    train_dataset,\n",
        "    n_ways, n_shots, n_query, n_task_per_epoch,\n",
        "    '/content/drive/MyDrive/Research-Project/relation_network',\n",
        "    feature_extractor=True,\n",
        "    feature_dimension=512\n",
        ")"
      ]
    },
    {
      "cell_type": "markdown",
      "metadata": {
        "id": "dR6XED4CW4kK"
      },
      "source": [
        "### Matching Network"
      ]
    },
    {
      "cell_type": "code",
      "execution_count": 42,
      "metadata": {
        "colab": {
          "base_uri": "https://localhost:8080/"
        },
        "id": "wpOdS44Esj2C",
        "outputId": "60a08856-5246-45b3-b058-8fdc65fcbb9d"
      },
      "outputs": [
        {
          "name": "stdout",
          "output_type": "stream",
          "text": [
            "Training Matching Network\n",
            "Training network under 20-way 5-shot\n",
            "\n",
            "Epoch 1\n"
          ]
        },
        {
          "name": "stderr",
          "output_type": "stream",
          "text": [
            "Training: 100%|██████████| 100/100 [00:59<00:00,  1.69it/s, loss=0.584]"
          ]
        },
        {
          "name": "stdout",
          "output_type": "stream",
          "text": [
            "\n",
            "Epoch 2 "
          ]
        },
        {
          "name": "stderr",
          "output_type": "stream",
          "text": [
            "\n",
            "Training: 100%|██████████| 100/100 [00:59<00:00,  1.68it/s, loss=0.318]"
          ]
        },
        {
          "name": "stdout",
          "output_type": "stream",
          "text": [
            "\n",
            "Epoch 3 "
          ]
        },
        {
          "name": "stderr",
          "output_type": "stream",
          "text": [
            "\n",
            "Training: 100%|██████████| 100/100 [01:00<00:00,  1.66it/s, loss=0.185]"
          ]
        },
        {
          "name": "stdout",
          "output_type": "stream",
          "text": [
            "\n",
            "Epoch 4 "
          ]
        },
        {
          "name": "stderr",
          "output_type": "stream",
          "text": [
            "\n",
            "Training: 100%|██████████| 100/100 [00:59<00:00,  1.67it/s, loss=0.0608]"
          ]
        },
        {
          "name": "stdout",
          "output_type": "stream",
          "text": [
            "\n",
            "Epoch 5 "
          ]
        },
        {
          "name": "stderr",
          "output_type": "stream",
          "text": [
            "\n",
            "Training: 100%|██████████| 100/100 [00:59<00:00,  1.68it/s, loss=0.0378]"
          ]
        },
        {
          "name": "stdout",
          "output_type": "stream",
          "text": [
            "\n",
            "Epoch 6 "
          ]
        },
        {
          "name": "stderr",
          "output_type": "stream",
          "text": [
            "\n",
            "Training: 100%|██████████| 100/100 [00:59<00:00,  1.69it/s, loss=0.0225]"
          ]
        },
        {
          "name": "stdout",
          "output_type": "stream",
          "text": [
            "\n",
            "Epoch 7 "
          ]
        },
        {
          "name": "stderr",
          "output_type": "stream",
          "text": [
            "\n",
            "Training: 100%|██████████| 100/100 [00:59<00:00,  1.69it/s, loss=0.0174]"
          ]
        },
        {
          "name": "stdout",
          "output_type": "stream",
          "text": [
            "\n",
            "Epoch 8 "
          ]
        },
        {
          "name": "stderr",
          "output_type": "stream",
          "text": [
            "\n",
            "Training: 100%|██████████| 100/100 [00:58<00:00,  1.70it/s, loss=0.012]"
          ]
        },
        {
          "name": "stdout",
          "output_type": "stream",
          "text": [
            "\n",
            "Epoch 9 "
          ]
        },
        {
          "name": "stderr",
          "output_type": "stream",
          "text": [
            "\n",
            "Training: 100%|██████████| 100/100 [00:59<00:00,  1.67it/s, loss=0.00975]"
          ]
        },
        {
          "name": "stdout",
          "output_type": "stream",
          "text": [
            "\n",
            "Epoch 10 "
          ]
        },
        {
          "name": "stderr",
          "output_type": "stream",
          "text": [
            "\n",
            "Training: 100%|██████████| 100/100 [01:00<00:00,  1.66it/s, loss=0.00905]\n"
          ]
        },
        {
          "name": "stdout",
          "output_type": "stream",
          "text": [
            "Saving state of model checkpoint at last epoch to /content/drive/MyDrive/Research-Project/matching_network_20-way_5-shot_last_epoch\n"
          ]
        }
      ],
      "source": [
        "print('Training Matching Network')\n",
        "mn_losses = train_network(\n",
        "    MatchingNetworks,\n",
        "    train_dataset,\n",
        "    n_ways, n_shots, n_query, n_task_per_epoch,\n",
        "    '/content/drive/MyDrive/Research-Project/matching_network',\n",
        "    feature_extractor=False,\n",
        "    feature_dimension=512\n",
        ")"
      ]
    },
    {
      "cell_type": "markdown",
      "metadata": {
        "id": "dhjYKr0WWzEY"
      },
      "source": [
        "### Prototypical Network"
      ]
    },
    {
      "cell_type": "code",
      "execution_count": 47,
      "metadata": {
        "colab": {
          "base_uri": "https://localhost:8080/"
        },
        "id": "E9-dGHz2I06D",
        "outputId": "f611af98-3757-4169-8852-fd9dae569f9b"
      },
      "outputs": [
        {
          "name": "stdout",
          "output_type": "stream",
          "text": [
            "Training Prototypical Network\n",
            "Training network under 20-way 5-shot\n",
            "\n",
            "Epoch 1\n"
          ]
        },
        {
          "name": "stderr",
          "output_type": "stream",
          "text": [
            "Training: 100%|██████████| 100/100 [00:58<00:00,  1.71it/s, loss=0.397]\n"
          ]
        },
        {
          "name": "stdout",
          "output_type": "stream",
          "text": [
            "\n",
            "Epoch 2 "
          ]
        },
        {
          "name": "stderr",
          "output_type": "stream",
          "text": [
            "Training: 100%|██████████| 100/100 [01:01<00:00,  1.62it/s, loss=0.0615]"
          ]
        },
        {
          "name": "stdout",
          "output_type": "stream",
          "text": [
            "\n",
            "Epoch 3 "
          ]
        },
        {
          "name": "stderr",
          "output_type": "stream",
          "text": [
            "\n",
            "Training: 100%|██████████| 100/100 [00:58<00:00,  1.71it/s, loss=0.0278]"
          ]
        },
        {
          "name": "stdout",
          "output_type": "stream",
          "text": [
            "\n",
            "Epoch 4 "
          ]
        },
        {
          "name": "stderr",
          "output_type": "stream",
          "text": [
            "\n",
            "Training: 100%|██████████| 100/100 [00:58<00:00,  1.70it/s, loss=0.0162]"
          ]
        },
        {
          "name": "stdout",
          "output_type": "stream",
          "text": [
            "\n",
            "Epoch 5 "
          ]
        },
        {
          "name": "stderr",
          "output_type": "stream",
          "text": [
            "\n",
            "Training: 100%|██████████| 100/100 [00:58<00:00,  1.72it/s, loss=0.00995]"
          ]
        },
        {
          "name": "stdout",
          "output_type": "stream",
          "text": [
            "\n",
            "Epoch 6 "
          ]
        },
        {
          "name": "stderr",
          "output_type": "stream",
          "text": [
            "\n",
            "Training: 100%|██████████| 100/100 [00:57<00:00,  1.73it/s, loss=0.00837]"
          ]
        },
        {
          "name": "stdout",
          "output_type": "stream",
          "text": [
            "\n",
            "Epoch 7 "
          ]
        },
        {
          "name": "stderr",
          "output_type": "stream",
          "text": [
            "\n",
            "Training: 100%|██████████| 100/100 [00:59<00:00,  1.69it/s, loss=0.00679]"
          ]
        },
        {
          "name": "stdout",
          "output_type": "stream",
          "text": [
            "\n",
            "Epoch 8 "
          ]
        },
        {
          "name": "stderr",
          "output_type": "stream",
          "text": [
            "\n",
            "Training: 100%|██████████| 100/100 [00:58<00:00,  1.71it/s, loss=0.00591]"
          ]
        },
        {
          "name": "stdout",
          "output_type": "stream",
          "text": [
            "\n",
            "Epoch 9 "
          ]
        },
        {
          "name": "stderr",
          "output_type": "stream",
          "text": [
            "\n",
            "Training: 100%|██████████| 100/100 [00:58<00:00,  1.71it/s, loss=0.00458]\n"
          ]
        },
        {
          "name": "stdout",
          "output_type": "stream",
          "text": [
            "\n",
            "Epoch 10 "
          ]
        },
        {
          "name": "stderr",
          "output_type": "stream",
          "text": [
            "Training: 100%|██████████| 100/100 [00:58<00:00,  1.72it/s, loss=0.00404]\n"
          ]
        },
        {
          "name": "stdout",
          "output_type": "stream",
          "text": [
            "Saving state of model checkpoint at last epoch to /content/drive/MyDrive/Research-Project/prototypical_network_20-way_5-shot_last_epoch\n"
          ]
        }
      ],
      "source": [
        "print('Training Prototypical Network')\n",
        "pt_losses = train_network(\n",
        "    PrototypicalNetworks,\n",
        "    train_dataset,\n",
        "    n_ways, n_shots, n_query, n_task_per_epoch,\n",
        "    '/content/drive/MyDrive/Research-Project/prototypical_network',\n",
        "    feature_extractor=False,\n",
        "    feature_dimension=None\n",
        ")"
      ]
    },
    {
      "cell_type": "markdown",
      "metadata": {},
      "source": [
        "## Evaluating networks on test dataset"
      ]
    },
    {
      "cell_type": "code",
      "execution_count": null,
      "metadata": {},
      "outputs": [],
      "source": [
        "df_test = remove_new_whale_class(\n",
        "    pd.read_csv('/content/creating-ai-enabled-systems/Research Project/data/testing_10samples.csv')\n",
        ")\n",
        "\n",
        "test_dataset = HumpbackWhaleDataset('/content/train', df_test, transform=transform)"
      ]
    },
    {
      "cell_type": "code",
      "execution_count": null,
      "metadata": {},
      "outputs": [],
      "source": [
        "def get_accuracy_table(networks, test_dataset, verbose=True, device=device):\n",
        "    '''\n",
        "    Very hacky way of formatting dataframe that displays the accuracies for each network under different k-ways n-shot learning.\n",
        "    '''\n",
        "    accs = dict()\n",
        "    for network in networks:\n",
        "        accs[network] = dict()\n",
        "        for way in ways:\n",
        "            accs[network][way] = {shot: np.nan for shot in shots}\n",
        "\n",
        "\n",
        "    for network_name in networks.keys():\n",
        "        for n_way in ways:\n",
        "            for n_shot in shots:\n",
        "                if verbose: print(f'Evaluating {network_name} for {n_way}-way {n_shot}-shot:', end=' ')\n",
        "\n",
        "                network = networks[network_name][n_way][n_shot]\n",
        "                loader = create_loader(test_dataset, n_way, n_shot, n_query, 100, num_workers=12)\n",
        "                accs[network_name][n_way][n_shot] = evaluate(network, loader, device=device, use_tqdm=True)\n",
        "                time.sleep(0.1)\n",
        "                if verbose: print()\n",
        "\n",
        "    accs_v2 = dict()\n",
        "    for network in accs.keys():\n",
        "        accs_v2[network] = dict()\n",
        "        for way in accs[network].keys():\n",
        "            accs_v2[network][f'{way}-way'] = [acc for acc in accs[network][way].values()]\n",
        "    accs_df = pd.DataFrame.from_dict(accs_v2).T\n",
        "\n",
        "    accs_dict2 = dict()\n",
        "    for network, row in accs_df.iterrows():\n",
        "        accs_dict2[network] = dict()\n",
        "        for i, way in enumerate(row):\n",
        "            for j, shot in enumerate(way):\n",
        "                accs_dict2[network][f'{ways[i]}-way {shots[j]}-shot'] = shot\n",
        "    accs_df2 = pd.DataFrame.from_dict(accs_dict2).T\n",
        "    multi_columns = [(f'{n_way}-way', f'{n_shot}-shot') for n_way in ways for n_shot in shots]\n",
        "    accs_df2.columns = pd.MultiIndex.from_tuples(multi_columns)\n",
        "\n",
        "    return accs_df2"
      ]
    },
    {
      "cell_type": "code",
      "execution_count": null,
      "metadata": {},
      "outputs": [],
      "source": [
        "# Load pretrained backbones\n",
        "cnn = resnet18()\n",
        "resnet_extractor = create_feature_extractor(cnn, return_nodes=['layer4.1.bn2'])\n",
        "feature_extractor = FeatureExtractor(resnet_extractor, 'layer4.1.bn2')\n",
        "\n",
        "pretrained_networks = {\n",
        "    'Transductive Finetuning': TransductiveFinetuning(pretrained_cnn).to(device),\n",
        "    'Relation Network': RelationNetworks(feature_extractor, feature_dimension=512).to(device),\n",
        "    'Matching Network': MatchingNetworks(pretrained_cnn, feature_dimension=512).to(device),\n",
        "    'Prototypical Network': PrototypicalNetworks(pretrained_cnn).to(device),\n",
        "    'Simple Shot': SimpleShot(pretrained_cnn).to(device)\n",
        "}"
      ]
    },
    {
      "cell_type": "code",
      "execution_count": null,
      "metadata": {},
      "outputs": [],
      "source": [
        "pretained_acc_table = get_accuracy_table(pretrained_networks)"
      ]
    },
    {
      "cell_type": "code",
      "execution_count": null,
      "metadata": {},
      "outputs": [],
      "source": [
        "def load_networks_from_checkpint(key_name, n_ways, n_shots, backbone, network, **kwargs):\n",
        "    network_dict = dict()\n",
        "    for n_way in ways:\n",
        "        network_dict[n_way] = dict()\n",
        "        for n_shot in shots:\n",
        "\n",
        "            fsl_network = network(backbone, **kwargs)\n",
        "            fsl_network.load_state_dict(torch.load(f'/content/drive/MyDrive/Research-Project/{key_name}_{n_way}-way_{n_shot}-shot_last_epoch'))\n",
        "            network_dict[n_way][n_shot] = fsl_network.to(device)\n",
        "\n",
        "    return network_dict"
      ]
    },
    {
      "cell_type": "code",
      "execution_count": null,
      "metadata": {},
      "outputs": [],
      "source": [
        "# Load finetuned networks\n",
        "finetuned_networks = dict()"
      ]
    },
    {
      "cell_type": "code",
      "execution_count": null,
      "metadata": {},
      "outputs": [],
      "source": [
        "# Load Relation Network checkpoints\n",
        "return_layer='layer4.1.bn2'\n",
        "cnn = resnet18()\n",
        "resnet_extractor = create_feature_extractor(cnn, return_nodes=[return_layer])\n",
        "feature_extractor = FeatureExtractor(resnet_extractor, return_layer)\n",
        "\n",
        "finetuned_networks['relation_network'] = load_networks_from_checkpoint('relation_network', n_ways, n_shots, feature_extractor, RelationNetworks, feature_dimension=512)"
      ]
    },
    {
      "cell_type": "code",
      "execution_count": null,
      "metadata": {},
      "outputs": [],
      "source": [
        "# Load Matching Network checkpoints\n",
        "return_layer='layer4.1.bn2'\n",
        "cnn = resnet18()\n",
        "resnet_extractor = create_feature_extractor(cnn, return_nodes=[return_layer])\n",
        "feature_extractor = FeatureExtractor(resnet_extractor, return_layer)\n",
        "\n",
        "finetuned_networks['matching_network'] = load_networks_from_checkpoint('matching_network', n_ways, n_shots, feature_extractor, MatchingNetworks, feature_dimension=512)"
      ]
    },
    {
      "cell_type": "code",
      "execution_count": null,
      "metadata": {},
      "outputs": [],
      "source": [
        "# Load Prototypical Network checkpoints\n",
        "cnn = resnet18()\n",
        "cnn.fc = torch.nn.Flatten()\n",
        "finetuned_networks['matching_network'] = load_networks_from_checkpoint('prototypical_network', n_ways, n_shots, feature_extractor, PrototypicalNetworks)"
      ]
    },
    {
      "cell_type": "code",
      "execution_count": null,
      "metadata": {},
      "outputs": [],
      "source": [
        "finetuned_acc_table = get_accuracy_table(finetuned_networks)\n"
      ]
    }
  ],
  "metadata": {
    "accelerator": "GPU",
    "colab": {
      "collapsed_sections": [
        "WBD68iPadsti",
        "4EIjDfwjdwoT"
      ],
      "gpuType": "A100",
      "include_colab_link": true,
      "provenance": []
    },
    "kernelspec": {
      "display_name": "Python 3",
      "name": "python3"
    },
    "language_info": {
      "name": "python"
    }
  },
  "nbformat": 4,
  "nbformat_minor": 0
}
