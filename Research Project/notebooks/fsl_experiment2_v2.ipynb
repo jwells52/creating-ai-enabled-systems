{
  "nbformat": 4,
  "nbformat_minor": 0,
  "metadata": {
    "colab": {
      "provenance": [],
      "gpuType": "A100",
      "authorship_tag": "ABX9TyNqqshYzeHvDFni2VOgh8qV",
      "include_colab_link": true
    },
    "kernelspec": {
      "name": "python3",
      "display_name": "Python 3"
    },
    "language_info": {
      "name": "python"
    },
    "accelerator": "GPU"
  },
  "cells": [
    {
      "cell_type": "markdown",
      "metadata": {
        "id": "view-in-github",
        "colab_type": "text"
      },
      "source": [
        "<a href=\"https://colab.research.google.com/github/jwells52/creating-ai-enabled-systems/blob/main/Research%20Project/notebooks/fsl_experiment2_v2.ipynb\" target=\"_parent\"><img src=\"https://colab.research.google.com/assets/colab-badge.svg\" alt=\"Open In Colab\"/></a>"
      ]
    },
    {
      "cell_type": "markdown",
      "source": [
        "### Set up notebook"
      ],
      "metadata": {
        "id": "HhJTLXOMAc1Q"
      }
    },
    {
      "cell_type": "markdown",
      "source": [
        "### Install easyfsl"
      ],
      "metadata": {
        "id": "aYljmUwuxno3"
      }
    },
    {
      "cell_type": "code",
      "execution_count": 1,
      "metadata": {
        "id": "sgikhl_o8cz_",
        "outputId": "c32aaf05-17c7-4924-ee9f-23e22c0d6246",
        "colab": {
          "base_uri": "https://localhost:8080/"
        }
      },
      "outputs": [
        {
          "output_type": "stream",
          "name": "stdout",
          "text": [
            "Collecting easyfsl\n",
            "  Downloading easyfsl-1.4.0-py3-none-any.whl (65 kB)\n",
            "\u001b[?25l     \u001b[90m━━━━━━━━━━━━━━━━━━━━━━━━━━━━━━━━━━━━━━━━\u001b[0m \u001b[32m0.0/65.2 kB\u001b[0m \u001b[31m?\u001b[0m eta \u001b[36m-:--:--\u001b[0m\r\u001b[2K     \u001b[91m━━━━━━━━━━━━━━━━━━━━━━━━━\u001b[0m\u001b[90m╺\u001b[0m\u001b[90m━━━━━━━━━━━━━━\u001b[0m \u001b[32m41.0/65.2 kB\u001b[0m \u001b[31m1.1 MB/s\u001b[0m eta \u001b[36m0:00:01\u001b[0m\r\u001b[2K     \u001b[90m━━━━━━━━━━━━━━━━━━━━━━━━━━━━━━━━━━━━━━━━\u001b[0m \u001b[32m65.2/65.2 kB\u001b[0m \u001b[31m1.2 MB/s\u001b[0m eta \u001b[36m0:00:00\u001b[0m\n",
            "\u001b[?25hRequirement already satisfied: matplotlib>=3.0.0 in /usr/local/lib/python3.10/dist-packages (from easyfsl) (3.7.1)\n",
            "Requirement already satisfied: pandas>=1.4.0 in /usr/local/lib/python3.10/dist-packages (from easyfsl) (1.5.3)\n",
            "Requirement already satisfied: torch>=1.4.0 in /usr/local/lib/python3.10/dist-packages (from easyfsl) (2.0.1+cu118)\n",
            "Requirement already satisfied: torchvision>=0.7.0 in /usr/local/lib/python3.10/dist-packages (from easyfsl) (0.15.2+cu118)\n",
            "Requirement already satisfied: tqdm>=4.1.0 in /usr/local/lib/python3.10/dist-packages (from easyfsl) (4.65.0)\n",
            "Requirement already satisfied: contourpy>=1.0.1 in /usr/local/lib/python3.10/dist-packages (from matplotlib>=3.0.0->easyfsl) (1.1.0)\n",
            "Requirement already satisfied: cycler>=0.10 in /usr/local/lib/python3.10/dist-packages (from matplotlib>=3.0.0->easyfsl) (0.11.0)\n",
            "Requirement already satisfied: fonttools>=4.22.0 in /usr/local/lib/python3.10/dist-packages (from matplotlib>=3.0.0->easyfsl) (4.41.1)\n",
            "Requirement already satisfied: kiwisolver>=1.0.1 in /usr/local/lib/python3.10/dist-packages (from matplotlib>=3.0.0->easyfsl) (1.4.4)\n",
            "Requirement already satisfied: numpy>=1.20 in /usr/local/lib/python3.10/dist-packages (from matplotlib>=3.0.0->easyfsl) (1.22.4)\n",
            "Requirement already satisfied: packaging>=20.0 in /usr/local/lib/python3.10/dist-packages (from matplotlib>=3.0.0->easyfsl) (23.1)\n",
            "Requirement already satisfied: pillow>=6.2.0 in /usr/local/lib/python3.10/dist-packages (from matplotlib>=3.0.0->easyfsl) (9.4.0)\n",
            "Requirement already satisfied: pyparsing>=2.3.1 in /usr/local/lib/python3.10/dist-packages (from matplotlib>=3.0.0->easyfsl) (3.1.0)\n",
            "Requirement already satisfied: python-dateutil>=2.7 in /usr/local/lib/python3.10/dist-packages (from matplotlib>=3.0.0->easyfsl) (2.8.2)\n",
            "Requirement already satisfied: pytz>=2020.1 in /usr/local/lib/python3.10/dist-packages (from pandas>=1.4.0->easyfsl) (2022.7.1)\n",
            "Requirement already satisfied: filelock in /usr/local/lib/python3.10/dist-packages (from torch>=1.4.0->easyfsl) (3.12.2)\n",
            "Requirement already satisfied: typing-extensions in /usr/local/lib/python3.10/dist-packages (from torch>=1.4.0->easyfsl) (4.7.1)\n",
            "Requirement already satisfied: sympy in /usr/local/lib/python3.10/dist-packages (from torch>=1.4.0->easyfsl) (1.11.1)\n",
            "Requirement already satisfied: networkx in /usr/local/lib/python3.10/dist-packages (from torch>=1.4.0->easyfsl) (3.1)\n",
            "Requirement already satisfied: jinja2 in /usr/local/lib/python3.10/dist-packages (from torch>=1.4.0->easyfsl) (3.1.2)\n",
            "Requirement already satisfied: triton==2.0.0 in /usr/local/lib/python3.10/dist-packages (from torch>=1.4.0->easyfsl) (2.0.0)\n",
            "Requirement already satisfied: cmake in /usr/local/lib/python3.10/dist-packages (from triton==2.0.0->torch>=1.4.0->easyfsl) (3.25.2)\n",
            "Requirement already satisfied: lit in /usr/local/lib/python3.10/dist-packages (from triton==2.0.0->torch>=1.4.0->easyfsl) (16.0.6)\n",
            "Requirement already satisfied: requests in /usr/local/lib/python3.10/dist-packages (from torchvision>=0.7.0->easyfsl) (2.27.1)\n",
            "Requirement already satisfied: six>=1.5 in /usr/local/lib/python3.10/dist-packages (from python-dateutil>=2.7->matplotlib>=3.0.0->easyfsl) (1.16.0)\n",
            "Requirement already satisfied: MarkupSafe>=2.0 in /usr/local/lib/python3.10/dist-packages (from jinja2->torch>=1.4.0->easyfsl) (2.1.3)\n",
            "Requirement already satisfied: urllib3<1.27,>=1.21.1 in /usr/local/lib/python3.10/dist-packages (from requests->torchvision>=0.7.0->easyfsl) (1.26.16)\n",
            "Requirement already satisfied: certifi>=2017.4.17 in /usr/local/lib/python3.10/dist-packages (from requests->torchvision>=0.7.0->easyfsl) (2023.7.22)\n",
            "Requirement already satisfied: charset-normalizer~=2.0.0 in /usr/local/lib/python3.10/dist-packages (from requests->torchvision>=0.7.0->easyfsl) (2.0.12)\n",
            "Requirement already satisfied: idna<4,>=2.5 in /usr/local/lib/python3.10/dist-packages (from requests->torchvision>=0.7.0->easyfsl) (3.4)\n",
            "Requirement already satisfied: mpmath>=0.19 in /usr/local/lib/python3.10/dist-packages (from sympy->torch>=1.4.0->easyfsl) (1.3.0)\n",
            "Installing collected packages: easyfsl\n",
            "Successfully installed easyfsl-1.4.0\n"
          ]
        }
      ],
      "source": [
        "%pip install easyfsl"
      ]
    },
    {
      "cell_type": "markdown",
      "source": [
        "### Download Humpback Whale identification dataset"
      ],
      "metadata": {
        "id": "OuSJXHCrxpx4"
      }
    },
    {
      "cell_type": "code",
      "source": [
        "from google.colab import drive\n",
        "drive.mount('/content/drive')"
      ],
      "metadata": {
        "id": "P_XKzBwo8qsh",
        "colab": {
          "base_uri": "https://localhost:8080/"
        },
        "outputId": "1a818978-93fc-46d3-dd46-42057fcfb811"
      },
      "execution_count": 3,
      "outputs": [
        {
          "output_type": "stream",
          "name": "stdout",
          "text": [
            "Mounted at /content/drive\n"
          ]
        }
      ]
    },
    {
      "cell_type": "code",
      "source": [
        "!rm -rf /root/.kaggle && mkdir /root/.kaggle && cp /content/drive/MyDrive/Research-Project/kaggle.json /root/.kaggle/kaggle.json && chmod 600 /root/.kaggle/kaggle.json && kaggle competitions download -c humpback-whale-identification\n"
      ],
      "metadata": {
        "colab": {
          "base_uri": "https://localhost:8080/"
        },
        "id": "7pGmJ-4s9G_e",
        "outputId": "874b71b5-0608-4db0-80c6-1d1189633481"
      },
      "execution_count": 4,
      "outputs": [
        {
          "output_type": "stream",
          "name": "stdout",
          "text": [
            "Downloading humpback-whale-identification.zip to /content\n",
            "100% 5.50G/5.51G [04:55<00:00, 18.7MB/s]\n",
            "100% 5.51G/5.51G [04:55<00:00, 20.0MB/s]\n"
          ]
        }
      ]
    },
    {
      "cell_type": "code",
      "source": [
        "%%capture\n",
        "\n",
        "!unzip humpback-whale-identification.zip"
      ],
      "metadata": {
        "id": "66SVav6b9Lhl"
      },
      "execution_count": 6,
      "outputs": []
    },
    {
      "cell_type": "markdown",
      "source": [
        "### Clone GitHub repo"
      ],
      "metadata": {
        "id": "1_V7yOvYxtMc"
      }
    },
    {
      "cell_type": "code",
      "source": [
        "import os\n",
        "\n",
        "if os.path.exists('/content/creating-ai-enabled-systems/Research Project') == False:\n",
        "  !git clone https://github.com/jwells52/creating-ai-enabled-systems.git\n",
        "\n",
        "%cd creating-ai-enabled-systems/Research\\ Project"
      ],
      "metadata": {
        "colab": {
          "base_uri": "https://localhost:8080/"
        },
        "id": "TqJkeIwG_Wy2",
        "outputId": "ae0ede3b-43f4-4314-a10f-2eb142ea7c83"
      },
      "execution_count": 1,
      "outputs": [
        {
          "output_type": "stream",
          "name": "stdout",
          "text": [
            "/content/creating-ai-enabled-systems/Research Project\n"
          ]
        }
      ]
    },
    {
      "cell_type": "markdown",
      "source": [
        "### Experiment 2 - Calculating the similarity between a pretrained FSL and fine-tuned FSL"
      ],
      "metadata": {
        "id": "2yEF12AkAfIC"
      }
    },
    {
      "cell_type": "code",
      "source": [
        "import torch\n",
        "import json\n",
        "\n",
        "import numpy as np\n",
        "import pandas as pd\n",
        "import matplotlib.pyplot as plt\n",
        "\n",
        "from copy import deepcopy\n",
        "from easyfsl.methods import PrototypicalNetworks, FewShotClassifier, SimpleShot\n",
        "from easyfsl.utils import evaluate\n",
        "from easyfsl.samplers import TaskSampler\n",
        "from torch import Tensor, nn\n",
        "from torch.optim import SGD, Optimizer, Adam\n",
        "from torch.utils.data import Dataset, DataLoader\n",
        "from torchvision import transforms\n",
        "from torchvision.models import resnet18\n",
        "from typing import Callable\n",
        "from tqdm import tqdm\n",
        "\n",
        "from modules.data_utils import HumpbackWhaleDataset, remove_new_whale_class, create_loader\n",
        "from modules.train import train_fsl, device, transform\n",
        "from modules.plotting import fsl_plots\n",
        "\n",
        "%load_ext autoreload\n",
        "%autoreload 2"
      ],
      "metadata": {
        "id": "9d1UFT_LAb5r"
      },
      "execution_count": 2,
      "outputs": []
    },
    {
      "cell_type": "code",
      "source": [
        "# Initialize pretained Prototypical Network\n",
        "cnn1 = resnet18(weights='DEFAULT')\n",
        "cnn1.fc = torch.nn.Flatten()\n",
        "proto1 = PrototypicalNetworks(cnn1).to(device)"
      ],
      "metadata": {
        "id": "aivXSJWKAsJ0"
      },
      "execution_count": 3,
      "outputs": []
    },
    {
      "cell_type": "code",
      "source": [
        "# Initialize fine-tuned Prototypical Network\n",
        "cnn2 = resnet18()\n",
        "cnn2.fc = torch.nn.Flatten()\n",
        "proto2 = PrototypicalNetworks(cnn2).to(device)\n",
        "\n",
        "proto2.load_state_dict(\n",
        "  torch.load('/content/drive/MyDrive/prototypical_network_resnet12_last_epoch')()\n",
        ")"
      ],
      "metadata": {
        "colab": {
          "base_uri": "https://localhost:8080/"
        },
        "id": "g-i6T2I2BgUU",
        "outputId": "1d2f9c53-a070-4c8e-c01d-6c9054dc4782"
      },
      "execution_count": 4,
      "outputs": [
        {
          "output_type": "execute_result",
          "data": {
            "text/plain": [
              "<All keys matched successfully>"
            ]
          },
          "metadata": {},
          "execution_count": 4
        }
      ]
    },
    {
      "cell_type": "code",
      "source": [
        "%%capture\n",
        "\n",
        "proto1.eval()\n",
        "proto2.eval()"
      ],
      "metadata": {
        "id": "2oesJ56yIQGi"
      },
      "execution_count": 5,
      "outputs": []
    },
    {
      "cell_type": "code",
      "source": [
        "# Load validation set\n",
        "df = remove_new_whale_class(\n",
        "    pd.read_csv('/content/creating-ai-enabled-systems/Research Project/data/images_and_ids.csv')\n",
        ")\n",
        "\n",
        "\n",
        "df = df[df['class_count'] >= 10]"
      ],
      "metadata": {
        "id": "AbkLojuXCD2a"
      },
      "execution_count": 28,
      "outputs": []
    },
    {
      "cell_type": "code",
      "source": [
        "def kl_divergence(p, q):\n",
        "    return np.sum(np.where(p != 0, p * np.log(p / q), 0))"
      ],
      "metadata": {
        "id": "tMwAn-erGh2F"
      },
      "execution_count": 30,
      "outputs": []
    },
    {
      "cell_type": "code",
      "source": [
        "diffs = []\n",
        "kls = []\n",
        "accs = {'proto_pretrained': [], 'proto_finetuned': []}\n",
        "\n",
        "_df = df.copy()\n",
        "i = 0\n",
        "while True:\n",
        "  whale_ids = list(_df.Id.unique())\n",
        "  n_way = 10 if len(whale_ids) > 10 else len(whale_ids)\n",
        "  print(len(whale_ids))\n",
        "  if len(whale_ids) == 0: break\n",
        "\n",
        "  dataset = HumpbackWhaleDataset('/content/train', _df, transform)\n",
        "  loader = create_loader(dataset, n_way=n_way, n_shot=5, n_query=5, n_tasks=10)\n",
        "\n",
        "  task_acc1, task_acc2 = [], []\n",
        "  task_diffs = []\n",
        "  task_kls = []\n",
        "  for (support_images, support_labels, query_images, query_labels, _) in loader:\n",
        "    support_images = support_images.to(device)\n",
        "    support_labels = support_labels.to(device)\n",
        "    query_images = query_images.to(device)\n",
        "    query_labels = query_labels.to(device)\n",
        "\n",
        "    proto1.process_support_set(support_images, support_labels)\n",
        "    proto2.process_support_set(support_images, support_labels)\n",
        "\n",
        "    scores1 = proto1(query_images)\n",
        "    scores2 = proto2(query_images)\n",
        "\n",
        "    acc1 = (torch.max(scores1, 1)[1] == query_labels).sum().item() / len(query_labels)\n",
        "    acc2 = (torch.max(scores2, 1)[1] == query_labels).sum().item() / len(query_labels)\n",
        "\n",
        "    diff = (torch.max(scores1, 1)[1] != torch.max(scores2, 1)[1]).sum().item()\n",
        "    kl = kl_divergence(scores1.cpu().detach().numpy(), scores2.cpu().detach().numpy())\n",
        "\n",
        "    task_acc1 += [acc1]\n",
        "    task_acc2 += [acc2]\n",
        "    task_diffs += [diff]\n",
        "    task_kls += [kl]\n",
        "\n",
        "  accs['proto_pretrained'] += [np.mean(task_acc1)]\n",
        "  accs['proto_finetuned'] += [np.mean(task_acc2)]\n",
        "  diffs += [np.mean(task_diffs)]\n",
        "  kls += [np.mean(task_kls)]\n",
        "\n",
        "  query_ids = [dataset.id_to_label[id] for id in list(set(query_labels.cpu().detach().numpy()))]\n",
        "  _df = _df[~_df.Id.isin(query_ids)]"
      ],
      "metadata": {
        "id": "E-bvi9AJ8Bpo",
        "outputId": "2117258b-e71c-4e9c-8c00-ae532f76e57d",
        "colab": {
          "base_uri": "https://localhost:8080/"
        }
      },
      "execution_count": 48,
      "outputs": [
        {
          "output_type": "stream",
          "name": "stdout",
          "text": [
            "273\n",
            "263\n",
            "253\n",
            "243\n",
            "233\n",
            "223\n",
            "213\n",
            "203\n",
            "193\n",
            "183\n",
            "173\n",
            "163\n",
            "153\n",
            "143\n",
            "133\n",
            "123\n",
            "113\n",
            "103\n",
            "93\n",
            "83\n",
            "73\n",
            "63\n",
            "53\n",
            "43\n",
            "33\n",
            "23\n",
            "13\n",
            "3\n",
            "0\n"
          ]
        }
      ]
    },
    {
      "cell_type": "code",
      "source": [
        "print(f\"Average 5-shot 5-way accuracy for pretrained model: {np.mean(accs['proto_pretrained']):.3f} {chr(177)} {np.std(accs['proto_pretrained']):.3f}\")\n",
        "print(f\"Average 5-shot 5-way accuracy for fine-tuned model: {np.mean(accs['proto_finetuned']):.3f} {chr(177)} {np.std(accs['proto_finetuned']):.3f}\")\n",
        "\n"
      ],
      "metadata": {
        "id": "UYxIcU0D61XK",
        "outputId": "38b9c3f5-1f33-4a4b-98cc-07fb185f2ff3",
        "colab": {
          "base_uri": "https://localhost:8080/"
        }
      },
      "execution_count": 53,
      "outputs": [
        {
          "output_type": "stream",
          "name": "stdout",
          "text": [
            "Average 5-shot 5-way accuracy for pretrained model: 0.483 ± 0.062\n",
            "Average 5-shot 5-way accuracy for fine-tuned model: 0.975 ± 0.020\n"
          ]
        }
      ]
    },
    {
      "cell_type": "code",
      "source": [
        "print(f'Average difference = {np.mean(diffs)} {chr(177)} {np.std(diffs)}')"
      ],
      "metadata": {
        "colab": {
          "base_uri": "https://localhost:8080/"
        },
        "id": "arSNt-RkYVgC",
        "outputId": "c4b30075-bd1d-456e-9435-c3f69711085d"
      },
      "execution_count": 50,
      "outputs": [
        {
          "output_type": "stream",
          "name": "stdout",
          "text": [
            "Average difference = 25.63214285714286 ± 4.442735126941878\n"
          ]
        }
      ]
    },
    {
      "cell_type": "code",
      "source": [
        "print(f'Average kl divergence = {np.mean(kls)} {chr(177)} {np.std(kls)}')\n"
      ],
      "metadata": {
        "colab": {
          "base_uri": "https://localhost:8080/"
        },
        "id": "HKNGuOcOYWd6",
        "outputId": "4a70c1c5-6d6b-40bc-e425-bd961e7f1a96"
      },
      "execution_count": 51,
      "outputs": [
        {
          "output_type": "stream",
          "name": "stdout",
          "text": [
            "Average kl divergence = 2291.8671875 ± 433.66961669921875\n"
          ]
        }
      ]
    },
    {
      "cell_type": "code",
      "source": [
        "accs['proto_finetuned']"
      ],
      "metadata": {
        "id": "YTr5DZFlbq38",
        "outputId": "e1a9df12-47bb-4652-d820-d488c8c3f619",
        "colab": {
          "base_uri": "https://localhost:8080/"
        }
      },
      "execution_count": 52,
      "outputs": [
        {
          "output_type": "execute_result",
          "data": {
            "text/plain": [
              "[0.998,\n",
              " 1.0,\n",
              " 0.992,\n",
              " 0.992,\n",
              " 0.9960000000000001,\n",
              " 0.9940000000000001,\n",
              " 0.986,\n",
              " 0.992,\n",
              " 0.9739999999999999,\n",
              " 0.9899999999999999,\n",
              " 0.9739999999999999,\n",
              " 0.982,\n",
              " 0.99,\n",
              " 0.984,\n",
              " 0.9879999999999999,\n",
              " 0.9719999999999999,\n",
              " 0.9620000000000001,\n",
              " 0.9719999999999999,\n",
              " 0.962,\n",
              " 0.962,\n",
              " 0.9540000000000001,\n",
              " 0.9399999999999998,\n",
              " 0.95,\n",
              " 0.9339999999999999,\n",
              " 0.9339999999999999,\n",
              " 0.9640000000000001,\n",
              " 0.962,\n",
              " 1.0]"
            ]
          },
          "metadata": {},
          "execution_count": 52
        }
      ]
    },
    {
      "cell_type": "code",
      "source": [
        "accs['proto_pretrained']\n"
      ],
      "metadata": {
        "id": "eMXqmHngK_WR",
        "outputId": "7f9bdbcb-cd45-4453-c959-93535c75b225",
        "colab": {
          "base_uri": "https://localhost:8080/"
        }
      },
      "execution_count": 47,
      "outputs": [
        {
          "output_type": "execute_result",
          "data": {
            "text/plain": [
              "[0.488,\n",
              " 0.472,\n",
              " 0.44800000000000006,\n",
              " 0.45199999999999996,\n",
              " 0.46399999999999997,\n",
              " 0.488,\n",
              " 0.508,\n",
              " 0.476,\n",
              " 0.5,\n",
              " 0.508,\n",
              " 0.41600000000000004,\n",
              " 0.54,\n",
              " 0.516,\n",
              " 0.524,\n",
              " 0.528,\n",
              " 0.44400000000000006,\n",
              " 0.484,\n",
              " 0.42800000000000005,\n",
              " 0.388,\n",
              " 0.46799999999999997,\n",
              " 0.46799999999999997,\n",
              " 0.484,\n",
              " 0.45199999999999996,\n",
              " 0.45999999999999996,\n",
              " 0.44800000000000006,\n",
              " 0.5,\n",
              " 0.44800000000000006,\n",
              " 0.7333333333333333]"
            ]
          },
          "metadata": {},
          "execution_count": 47
        }
      ]
    },
    {
      "cell_type": "code",
      "source": [],
      "metadata": {
        "id": "Uvhao5O5LFvW"
      },
      "execution_count": null,
      "outputs": []
    }
  ]
}