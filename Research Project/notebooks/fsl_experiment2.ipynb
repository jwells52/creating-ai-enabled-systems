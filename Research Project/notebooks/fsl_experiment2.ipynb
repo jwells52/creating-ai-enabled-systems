{
  "nbformat": 4,
  "nbformat_minor": 0,
  "metadata": {
    "colab": {
      "provenance": [],
      "gpuType": "A100",
      "authorship_tag": "ABX9TyMi5Pqag5Lx1ZG13EWYD6Zz",
      "include_colab_link": true
    },
    "kernelspec": {
      "name": "python3",
      "display_name": "Python 3"
    },
    "language_info": {
      "name": "python"
    },
    "accelerator": "GPU"
  },
  "cells": [
    {
      "cell_type": "markdown",
      "metadata": {
        "id": "view-in-github",
        "colab_type": "text"
      },
      "source": [
        "<a href=\"https://colab.research.google.com/github/jwells52/creating-ai-enabled-systems/blob/main/Research%20Project/notebooks/fsl_experiment2.ipynb\" target=\"_parent\"><img src=\"https://colab.research.google.com/assets/colab-badge.svg\" alt=\"Open In Colab\"/></a>"
      ]
    },
    {
      "cell_type": "markdown",
      "source": [
        "### Install easyfsl"
      ],
      "metadata": {
        "id": "1aY-Kk8OaKJ7"
      }
    },
    {
      "cell_type": "code",
      "execution_count": 1,
      "metadata": {
        "colab": {
          "base_uri": "https://localhost:8080/"
        },
        "id": "TDhuvzzpaHRr",
        "outputId": "e74486dc-9146-4c8b-cabf-7fb6d47a7712"
      },
      "outputs": [
        {
          "output_type": "stream",
          "name": "stdout",
          "text": [
            "Collecting easyfsl\n",
            "  Downloading easyfsl-1.4.0-py3-none-any.whl (65 kB)\n",
            "\u001b[?25l     \u001b[90m━━━━━━━━━━━━━━━━━━━━━━━━━━━━━━━━━━━━━━━━\u001b[0m \u001b[32m0.0/65.2 kB\u001b[0m \u001b[31m?\u001b[0m eta \u001b[36m-:--:--\u001b[0m\r\u001b[2K     \u001b[90m━━━━━━━━━━━━━━━━━━━━━━━━━━━━━━━━━━━━━━━━\u001b[0m \u001b[32m65.2/65.2 kB\u001b[0m \u001b[31m1.9 MB/s\u001b[0m eta \u001b[36m0:00:00\u001b[0m\n",
            "\u001b[?25hRequirement already satisfied: matplotlib>=3.0.0 in /usr/local/lib/python3.10/dist-packages (from easyfsl) (3.7.1)\n",
            "Requirement already satisfied: pandas>=1.4.0 in /usr/local/lib/python3.10/dist-packages (from easyfsl) (1.5.3)\n",
            "Requirement already satisfied: torch>=1.4.0 in /usr/local/lib/python3.10/dist-packages (from easyfsl) (2.0.1+cu118)\n",
            "Requirement already satisfied: torchvision>=0.7.0 in /usr/local/lib/python3.10/dist-packages (from easyfsl) (0.15.2+cu118)\n",
            "Requirement already satisfied: tqdm>=4.1.0 in /usr/local/lib/python3.10/dist-packages (from easyfsl) (4.65.0)\n",
            "Requirement already satisfied: contourpy>=1.0.1 in /usr/local/lib/python3.10/dist-packages (from matplotlib>=3.0.0->easyfsl) (1.1.0)\n",
            "Requirement already satisfied: cycler>=0.10 in /usr/local/lib/python3.10/dist-packages (from matplotlib>=3.0.0->easyfsl) (0.11.0)\n",
            "Requirement already satisfied: fonttools>=4.22.0 in /usr/local/lib/python3.10/dist-packages (from matplotlib>=3.0.0->easyfsl) (4.41.0)\n",
            "Requirement already satisfied: kiwisolver>=1.0.1 in /usr/local/lib/python3.10/dist-packages (from matplotlib>=3.0.0->easyfsl) (1.4.4)\n",
            "Requirement already satisfied: numpy>=1.20 in /usr/local/lib/python3.10/dist-packages (from matplotlib>=3.0.0->easyfsl) (1.22.4)\n",
            "Requirement already satisfied: packaging>=20.0 in /usr/local/lib/python3.10/dist-packages (from matplotlib>=3.0.0->easyfsl) (23.1)\n",
            "Requirement already satisfied: pillow>=6.2.0 in /usr/local/lib/python3.10/dist-packages (from matplotlib>=3.0.0->easyfsl) (8.4.0)\n",
            "Requirement already satisfied: pyparsing>=2.3.1 in /usr/local/lib/python3.10/dist-packages (from matplotlib>=3.0.0->easyfsl) (3.1.0)\n",
            "Requirement already satisfied: python-dateutil>=2.7 in /usr/local/lib/python3.10/dist-packages (from matplotlib>=3.0.0->easyfsl) (2.8.2)\n",
            "Requirement already satisfied: pytz>=2020.1 in /usr/local/lib/python3.10/dist-packages (from pandas>=1.4.0->easyfsl) (2022.7.1)\n",
            "Requirement already satisfied: filelock in /usr/local/lib/python3.10/dist-packages (from torch>=1.4.0->easyfsl) (3.12.2)\n",
            "Requirement already satisfied: typing-extensions in /usr/local/lib/python3.10/dist-packages (from torch>=1.4.0->easyfsl) (4.7.1)\n",
            "Requirement already satisfied: sympy in /usr/local/lib/python3.10/dist-packages (from torch>=1.4.0->easyfsl) (1.11.1)\n",
            "Requirement already satisfied: networkx in /usr/local/lib/python3.10/dist-packages (from torch>=1.4.0->easyfsl) (3.1)\n",
            "Requirement already satisfied: jinja2 in /usr/local/lib/python3.10/dist-packages (from torch>=1.4.0->easyfsl) (3.1.2)\n",
            "Requirement already satisfied: triton==2.0.0 in /usr/local/lib/python3.10/dist-packages (from torch>=1.4.0->easyfsl) (2.0.0)\n",
            "Requirement already satisfied: cmake in /usr/local/lib/python3.10/dist-packages (from triton==2.0.0->torch>=1.4.0->easyfsl) (3.25.2)\n",
            "Requirement already satisfied: lit in /usr/local/lib/python3.10/dist-packages (from triton==2.0.0->torch>=1.4.0->easyfsl) (16.0.6)\n",
            "Requirement already satisfied: requests in /usr/local/lib/python3.10/dist-packages (from torchvision>=0.7.0->easyfsl) (2.27.1)\n",
            "Requirement already satisfied: six>=1.5 in /usr/local/lib/python3.10/dist-packages (from python-dateutil>=2.7->matplotlib>=3.0.0->easyfsl) (1.16.0)\n",
            "Requirement already satisfied: MarkupSafe>=2.0 in /usr/local/lib/python3.10/dist-packages (from jinja2->torch>=1.4.0->easyfsl) (2.1.3)\n",
            "Requirement already satisfied: urllib3<1.27,>=1.21.1 in /usr/local/lib/python3.10/dist-packages (from requests->torchvision>=0.7.0->easyfsl) (1.26.16)\n",
            "Requirement already satisfied: certifi>=2017.4.17 in /usr/local/lib/python3.10/dist-packages (from requests->torchvision>=0.7.0->easyfsl) (2023.5.7)\n",
            "Requirement already satisfied: charset-normalizer~=2.0.0 in /usr/local/lib/python3.10/dist-packages (from requests->torchvision>=0.7.0->easyfsl) (2.0.12)\n",
            "Requirement already satisfied: idna<4,>=2.5 in /usr/local/lib/python3.10/dist-packages (from requests->torchvision>=0.7.0->easyfsl) (3.4)\n",
            "Requirement already satisfied: mpmath>=0.19 in /usr/local/lib/python3.10/dist-packages (from sympy->torch>=1.4.0->easyfsl) (1.3.0)\n",
            "Installing collected packages: easyfsl\n",
            "Successfully installed easyfsl-1.4.0\n"
          ]
        }
      ],
      "source": [
        "%pip install easyfsl"
      ]
    },
    {
      "cell_type": "markdown",
      "source": [
        "### Download Humpback Whale Dataset"
      ],
      "metadata": {
        "id": "TxckwzwdaNg7"
      }
    },
    {
      "cell_type": "code",
      "source": [
        "from google.colab import drive\n",
        "drive.mount('/content/drive')"
      ],
      "metadata": {
        "colab": {
          "base_uri": "https://localhost:8080/"
        },
        "id": "p6cH7GbKaO5X",
        "outputId": "2b7fd107-4b26-47df-d54e-3beccbd9c5af"
      },
      "execution_count": 1,
      "outputs": [
        {
          "output_type": "stream",
          "name": "stdout",
          "text": [
            "Mounted at /content/drive\n"
          ]
        }
      ]
    },
    {
      "cell_type": "code",
      "source": [
        "!rm -rf /root/.kaggle && mkdir /root/.kaggle && cp /content/drive/MyDrive/Research-Project/kaggle.json /root/.kaggle/kaggle.json && chmod 600 /root/.kaggle/kaggle.json && kaggle competitions download -c humpback-whale-identification\n",
        "!unzip humpback-whale-identification.zip"
      ],
      "metadata": {
        "id": "IDeyRC_SaRD-"
      },
      "execution_count": null,
      "outputs": []
    },
    {
      "cell_type": "markdown",
      "source": [
        "### Clone GitHub Repo"
      ],
      "metadata": {
        "id": "RFcHZNs5aV4u"
      }
    },
    {
      "cell_type": "code",
      "source": [
        "# !git clone https://github.com/jwells52/creating-ai-enabled-systems.git\n",
        "%cd creating-ai-enabled-systems/Research\\ Project"
      ],
      "metadata": {
        "colab": {
          "base_uri": "https://localhost:8080/"
        },
        "id": "jN_7CpgbaULS",
        "outputId": "c3e4ff6b-1f28-45c5-c93f-f4460587f82b"
      },
      "execution_count": 3,
      "outputs": [
        {
          "output_type": "stream",
          "name": "stdout",
          "text": [
            "/content/creating-ai-enabled-systems/Research Project\n"
          ]
        }
      ]
    },
    {
      "cell_type": "markdown",
      "source": [
        "### Imports"
      ],
      "metadata": {
        "id": "7OZh8KbybBxc"
      }
    },
    {
      "cell_type": "code",
      "source": [
        "import os\n",
        "\n",
        "import torch\n",
        "\n",
        "import numpy as np\n",
        "import pandas as pd\n",
        "import matplotlib.pyplot as plt\n",
        "\n",
        "from tqdm import tqdm\n",
        "\n",
        "from easyfsl.methods import PrototypicalNetworks, FewShotClassifier, SimpleShot\n",
        "from easyfsl.utils import evaluate\n",
        "from easyfsl.samplers import TaskSampler\n",
        "\n",
        "from torch import Tensor, nn\n",
        "from torch.optim import SGD, Optimizer, Adam\n",
        "from torch.utils.data import Dataset, DataLoader\n",
        "from torchvision import transforms\n",
        "from torchvision.models import resnet18, resnet34, resnet152\n",
        "\n",
        "from typing import Callable\n",
        "\n",
        "from modules.data_utils import HumpbackWhaleDataset, remove_new_whale_class, create_loaders\n",
        "from modules.train import train_fsl, device, transform"
      ],
      "metadata": {
        "id": "981jAgVabC1f"
      },
      "execution_count": 4,
      "outputs": []
    },
    {
      "cell_type": "markdown",
      "source": [
        "### Look at classes that have low performance"
      ],
      "metadata": {
        "id": "DIWaIsbfamgW"
      }
    },
    {
      "cell_type": "code",
      "source": [
        "# Load into dataset\n",
        "# For each class, calculate accuracy\n",
        "# Then plot barplot of accuracy for each class\n",
        "# Look at the characteristics of images for the classes that have low performance"
      ],
      "metadata": {
        "id": "ve6THl99amCJ"
      },
      "execution_count": 5,
      "outputs": []
    },
    {
      "cell_type": "code",
      "source": [
        "df = remove_new_whale_class(\n",
        "  pd.read_csv('/content/creating-ai-enabled-systems/Research Project/data/images_and_ids.csv')\n",
        ")\n",
        "\n",
        "\n",
        "df = df[df['class_count'] > 8]"
      ],
      "metadata": {
        "id": "ruB03R5daY3R"
      },
      "execution_count": 6,
      "outputs": []
    },
    {
      "cell_type": "code",
      "source": [
        "cnn = resnet34().to(device)\n",
        "few_shot_classifier = PrototypicalNetworks(cnn).to(device)\n",
        "few_shot_classifier.load_state_dict(\n",
        "  torch.load('/content/creating-ai-enabled-systems/Research Project/models/prototypical_network_resnet34_prod_last_epoch')()\n",
        ")"
      ],
      "metadata": {
        "colab": {
          "base_uri": "https://localhost:8080/"
        },
        "id": "kOJlM1lqlfoP",
        "outputId": "604e6820-6c2d-465e-92e2-ef60deddda71"
      },
      "execution_count": 7,
      "outputs": [
        {
          "output_type": "execute_result",
          "data": {
            "text/plain": [
              "<All keys matched successfully>"
            ]
          },
          "metadata": {},
          "execution_count": 7
        }
      ]
    },
    {
      "cell_type": "code",
      "source": [
        "few_shot_classifier.eval()"
      ],
      "metadata": {
        "id": "Kt-r-5BvmOXJ"
      },
      "execution_count": null,
      "outputs": []
    },
    {
      "cell_type": "code",
      "source": [
        "n_query = 5\n",
        "n_shot  = 3\n",
        "n_way   = 1"
      ],
      "metadata": {
        "id": "M3iYgDO-uTbr"
      },
      "execution_count": 11,
      "outputs": []
    },
    {
      "cell_type": "code",
      "source": [
        "class_performances = dict()\n",
        "for id, df_id in df.groupby('Id'):\n",
        "  dataset_id = HumpbackWhaleDataset('/content/train', df_id, transform=transform)\n",
        "\n",
        "  sampler = TaskSampler(\n",
        "      dataset_id, n_way=n_way, n_shot=n_shot, n_query=n_query, n_tasks=10\n",
        "  )\n",
        "\n",
        "  loader = DataLoader(\n",
        "      dataset_id,\n",
        "      batch_sampler=sampler,\n",
        "      num_workers=12,\n",
        "      pin_memory=True,\n",
        "      collate_fn=sampler.episodic_collate_fn\n",
        "  )\n",
        "\n",
        "  acc = evaluate(\n",
        "    few_shot_classifier, loader, device=device\n",
        "  )\n",
        "\n",
        "  class_performances[id] = acc"
      ],
      "metadata": {
        "id": "UO_NfGLzdbS9",
        "outputId": "0519fdf9-9b4c-4496-94d9-aecd199f5d81",
        "colab": {
          "base_uri": "https://localhost:8080/"
        }
      },
      "execution_count": null,
      "outputs": [
        {
          "output_type": "stream",
          "name": "stderr",
          "text": [
            "/usr/local/lib/python3.10/dist-packages/torch/utils/data/dataloader.py:560: UserWarning: This DataLoader will create 12 worker processes in total. Our suggested max number of worker in current system is 2, which is smaller than what this DataLoader is going to create. Please be aware that excessive worker creation might get DataLoader running slow or even freeze, lower the worker number to avoid potential slowness/freeze if necessary.\n",
            "  warnings.warn(_create_warning_msg(\n",
            "100%|██████████| 10/10 [00:10<00:00,  1.03s/it, accuracy=1]\n",
            "100%|██████████| 10/10 [00:03<00:00,  3.24it/s, accuracy=1]\n",
            "100%|██████████| 10/10 [00:03<00:00,  3.19it/s, accuracy=1]\n",
            "100%|██████████| 10/10 [00:02<00:00,  4.74it/s, accuracy=1]\n",
            "100%|██████████| 10/10 [00:01<00:00,  5.55it/s, accuracy=1]\n",
            "100%|██████████| 10/10 [00:01<00:00,  5.83it/s, accuracy=1]\n",
            "100%|██████████| 10/10 [00:04<00:00,  2.13it/s, accuracy=1]\n",
            "100%|██████████| 10/10 [00:02<00:00,  4.42it/s, accuracy=1]\n",
            "100%|██████████| 10/10 [00:02<00:00,  4.54it/s, accuracy=1]\n",
            "100%|██████████| 10/10 [00:02<00:00,  4.96it/s, accuracy=1]\n",
            "100%|██████████| 10/10 [00:02<00:00,  4.00it/s, accuracy=1]\n",
            "100%|██████████| 10/10 [00:03<00:00,  3.20it/s, accuracy=1]\n",
            "100%|██████████| 10/10 [00:01<00:00,  5.26it/s, accuracy=1]\n",
            "100%|██████████| 10/10 [00:01<00:00,  5.12it/s, accuracy=1]\n",
            "100%|██████████| 10/10 [00:02<00:00,  4.26it/s, accuracy=1]\n",
            "100%|██████████| 10/10 [00:02<00:00,  4.42it/s, accuracy=1]\n",
            "100%|██████████| 10/10 [00:03<00:00,  2.71it/s, accuracy=1]\n",
            "100%|██████████| 10/10 [00:02<00:00,  4.83it/s, accuracy=1]\n",
            "100%|██████████| 10/10 [00:01<00:00,  5.74it/s, accuracy=1]\n",
            "100%|██████████| 10/10 [00:01<00:00,  5.49it/s, accuracy=1]\n",
            "100%|██████████| 10/10 [00:02<00:00,  4.19it/s, accuracy=1]\n",
            "100%|██████████| 10/10 [00:03<00:00,  3.07it/s, accuracy=1]\n",
            "100%|██████████| 10/10 [00:02<00:00,  4.93it/s, accuracy=1]\n",
            "100%|██████████| 10/10 [00:01<00:00,  5.20it/s, accuracy=1]\n",
            "100%|██████████| 10/10 [00:02<00:00,  4.83it/s, accuracy=1]\n"
          ]
        }
      ]
    },
    {
      "cell_type": "code",
      "source": [],
      "metadata": {
        "id": "fKWIL1YgdTnT"
      },
      "execution_count": null,
      "outputs": []
    }
  ]
}